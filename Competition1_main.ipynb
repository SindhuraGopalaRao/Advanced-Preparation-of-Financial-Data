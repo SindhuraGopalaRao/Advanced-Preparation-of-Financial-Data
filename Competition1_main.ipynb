{
  "nbformat": 4,
  "nbformat_minor": 0,
  "metadata": {
    "colab": {
      "provenance": []
    },
    "kernelspec": {
      "name": "python3",
      "display_name": "Python 3"
    },
    "language_info": {
      "name": "python"
    }
  },
  "cells": [
    {
      "cell_type": "markdown",
      "source": [
        "# **DATA 6545 Course Project 1: Advanced Preparation of Financial Data**\n",
        "\n",
        "## **Overview of the Project:** \n",
        "\n",
        "Understanding pricing strategies in the context of the Initial Public Offering (IPO) process has been receiving much attention. Most prior studies have however focused on information sources from post issuance periods, and understanding such strategies from the management’s perspective during the IPO process is still an open research issue. In this study, we analyze the inter-relationships between the management’s confidence (through the proxy of sentiments expressed in textual contents in the Management’s Discussion & Analysis (MD&A) sections in the prospectus) and the pre-/post-IPO valuations.\n",
        "\n",
        "The client is seeking advanced and novel methods to **prepare the collected data, for further predictive analysis of the “underpricing” phenomenon**. You will mainly focus on the data understanding and data preparation phases in the CRISP-DM model. Advanced preparation and modeling techniques will be needed for extra points.\n",
        "\n",
        "\n",
        "\n",
        "### **Research Question:**\n",
        "\n",
        "The overarching research question is **“ How to predict the IPO underpricing phenomena?** ” In this competition, your main purpose is to prepare the data for predictive models answering the overarching research question. You can also come up with additional RQs such as \"what are the determinants of the PO underpricing phenomena?\""
      ],
      "metadata": {
        "id": "SRlrIUeVG_sH"
      }
    },
    {
      "cell_type": "markdown",
      "source": [
        "***State assumptiomns in the code ***"
      ],
      "metadata": {
        "id": "n8unnzUzu4WR"
      }
    },
    {
      "cell_type": "markdown",
      "source": [
        "#**Dataset Overview**\n",
        "\n",
        "Loading data and establishing new column names/values"
      ],
      "metadata": {
        "id": "y6DYoRtiLwxX"
      }
    },
    {
      "cell_type": "code",
      "source": [
        "# importing requried python packages\n",
        "import pandas as pd\n",
        "import numpy as np\n",
        "import matplotlib.pyplot as plt\n",
        "%matplotlib inline\n",
        "from scipy import stats\n",
        "from sklearn.preprocessing import PowerTransformer\n",
        "import scipy\n",
        "import seaborn as sns "
      ],
      "metadata": {
        "id": "_sqST_h-HAMS"
      },
      "execution_count": null,
      "outputs": []
    },
    {
      "cell_type": "code",
      "source": [
        "colnames_dict = {\n",
        "    'P(IPO)':'offer_price',\n",
        "    'P(H)': 'price_range_higher_bound',\n",
        "    'P(L)': 'price_range_lower_bound',\n",
        "    'P(1Day)':'first_day_trading_price',\n",
        "    'C1':'days',\n",
        "    'C2':'top_tier_dummy',\n",
        "    'C3':'earnings_per_share',\n",
        "    'C4':'prior_nasdaq_15day_returns',\n",
        "    'C5':'outstanding_shares',\n",
        "    'C6':'offering_shares',\n",
        "    'C7':'sales',\n",
        "    'T1':'num_of_sentences',\n",
        "    'T2':'num_of_words',\n",
        "    'T3':'num_of_real_words',\n",
        "    'T4':'num_of_long_sentences',\n",
        "    'T5':'num_of_long_words',\n",
        "    'S1':'num_of_positive_words',\n",
        "    'S2':'num_of_negative_words',\n",
        "    'S3':'num_of_uncertain_words',\n",
        "    'I1':'ticker',\n",
        "    'I2':'company_name',\n",
        "    'I3':'std_industry_classifier'\n",
        "  }"
      ],
      "metadata": {
        "id": "U7wXkTrTIaIR"
      },
      "execution_count": null,
      "outputs": []
    },
    {
      "cell_type": "code",
      "source": [
        "# Reads the data from a github repository and stores it in a dataframe.\n",
        "url = \"https://github.com/SindhuraGopalaRao/Advanced-Preparation-of-Financial-Data/blob/main/Competition1_raw_data.xlsx?raw=true\"\n",
        "ipo_df = pd.read_excel(url)\n",
        "\n",
        "ipo_df.rename(columns=colnames_dict,inplace=True)"
      ],
      "metadata": {
        "id": "LYrN5Om0U4-B"
      },
      "execution_count": null,
      "outputs": []
    },
    {
      "cell_type": "code",
      "source": [
        "# Understanding the data and datatypes for the features\n",
        "ipo_df.head()"
      ],
      "metadata": {
        "colab": {
          "base_uri": "https://localhost:8080/",
          "height": 456
        },
        "id": "yjDS3kIIgmlb",
        "outputId": "ab23dde6-d177-4577-c060-9dad39f74ce1"
      },
      "execution_count": null,
      "outputs": [
        {
          "output_type": "execute_result",
          "data": {
            "text/plain": [
              "  ticker                        company_name std_industry_classifier  \\\n",
              "0   AATI  ADVANCED ANALOGIC TECHNOLOGIES INC                  3674.0   \n",
              "1   ABPI     ACCENTIA BIOPHARMACEUTICALS INC                  2834.0   \n",
              "2   ACAD          ACADIA PHARMACEUTICALS INC                  2834.0   \n",
              "3   ACHN       ACHILLION PHARMACEUTICALS INC                  2834.0   \n",
              "4   ACLI     AMERICAN COMMERCIAL LINES INC.                   4492.0   \n",
              "\n",
              "  offer_price price_range_higher_bound price_range_lower_bound  \\\n",
              "0        10.0                      9.5                     8.5   \n",
              "1         8.0                     10.0                     8.0   \n",
              "2         7.0                     14.0                    12.0   \n",
              "3        11.5                     16.0                    14.0   \n",
              "4        21.0                     21.0                    19.0   \n",
              "\n",
              "  first_day_trading_price   days top_tier_dummy earnings_per_share  ...  \\\n",
              "0                   11.87  122.0            1.0               3.43  ...   \n",
              "1                    7.25  259.0            0.0              -1.62  ...   \n",
              "2                     6.7   90.0            1.0              -1.24  ...   \n",
              "3                   12.39  209.0            1.0              -0.91  ...   \n",
              "4               56.599998   80.0            1.0               0.07  ...   \n",
              "\n",
              "  offering_shares    sales num_of_sentences num_of_words num_of_real_words  \\\n",
              "0      10600000.0   51.345            470.0      12719.0           11560.0   \n",
              "1       2400000.0   25.936            791.0      21792.0           19585.0   \n",
              "2       5000000.0    7.378            201.0       5262.0            4785.0   \n",
              "3       4500000.0    8.526            328.0       8259.0            7574.0   \n",
              "4       8250000.0  632.298            572.0      14830.0           13176.0   \n",
              "\n",
              "  num_of_long_sentences num_of_long_words num_of_positive_words  \\\n",
              "0                 301.0             690.0                  62.0   \n",
              "1                 510.0            1120.0                  71.0   \n",
              "2                 128.0             325.0                  61.0   \n",
              "3                 177.0             509.0                  80.0   \n",
              "4                 336.0             720.0                  67.0   \n",
              "\n",
              "  num_of_negative_words num_of_uncertain_words  \n",
              "0                 117.0                  139.0  \n",
              "1                 242.0                  237.0  \n",
              "2                  33.0                   60.0  \n",
              "3                  59.0                  110.0  \n",
              "4                 149.0                  167.0  \n",
              "\n",
              "[5 rows x 22 columns]"
            ],
            "text/html": [
              "\n",
              "  <div id=\"df-c8751dc5-9aa0-48d8-ae6b-99c4b474bb79\">\n",
              "    <div class=\"colab-df-container\">\n",
              "      <div>\n",
              "<style scoped>\n",
              "    .dataframe tbody tr th:only-of-type {\n",
              "        vertical-align: middle;\n",
              "    }\n",
              "\n",
              "    .dataframe tbody tr th {\n",
              "        vertical-align: top;\n",
              "    }\n",
              "\n",
              "    .dataframe thead th {\n",
              "        text-align: right;\n",
              "    }\n",
              "</style>\n",
              "<table border=\"1\" class=\"dataframe\">\n",
              "  <thead>\n",
              "    <tr style=\"text-align: right;\">\n",
              "      <th></th>\n",
              "      <th>ticker</th>\n",
              "      <th>company_name</th>\n",
              "      <th>std_industry_classifier</th>\n",
              "      <th>offer_price</th>\n",
              "      <th>price_range_higher_bound</th>\n",
              "      <th>price_range_lower_bound</th>\n",
              "      <th>first_day_trading_price</th>\n",
              "      <th>days</th>\n",
              "      <th>top_tier_dummy</th>\n",
              "      <th>earnings_per_share</th>\n",
              "      <th>...</th>\n",
              "      <th>offering_shares</th>\n",
              "      <th>sales</th>\n",
              "      <th>num_of_sentences</th>\n",
              "      <th>num_of_words</th>\n",
              "      <th>num_of_real_words</th>\n",
              "      <th>num_of_long_sentences</th>\n",
              "      <th>num_of_long_words</th>\n",
              "      <th>num_of_positive_words</th>\n",
              "      <th>num_of_negative_words</th>\n",
              "      <th>num_of_uncertain_words</th>\n",
              "    </tr>\n",
              "  </thead>\n",
              "  <tbody>\n",
              "    <tr>\n",
              "      <th>0</th>\n",
              "      <td>AATI</td>\n",
              "      <td>ADVANCED ANALOGIC TECHNOLOGIES INC</td>\n",
              "      <td>3674.0</td>\n",
              "      <td>10.0</td>\n",
              "      <td>9.5</td>\n",
              "      <td>8.5</td>\n",
              "      <td>11.87</td>\n",
              "      <td>122.0</td>\n",
              "      <td>1.0</td>\n",
              "      <td>3.43</td>\n",
              "      <td>...</td>\n",
              "      <td>10600000.0</td>\n",
              "      <td>51.345</td>\n",
              "      <td>470.0</td>\n",
              "      <td>12719.0</td>\n",
              "      <td>11560.0</td>\n",
              "      <td>301.0</td>\n",
              "      <td>690.0</td>\n",
              "      <td>62.0</td>\n",
              "      <td>117.0</td>\n",
              "      <td>139.0</td>\n",
              "    </tr>\n",
              "    <tr>\n",
              "      <th>1</th>\n",
              "      <td>ABPI</td>\n",
              "      <td>ACCENTIA BIOPHARMACEUTICALS INC</td>\n",
              "      <td>2834.0</td>\n",
              "      <td>8.0</td>\n",
              "      <td>10.0</td>\n",
              "      <td>8.0</td>\n",
              "      <td>7.25</td>\n",
              "      <td>259.0</td>\n",
              "      <td>0.0</td>\n",
              "      <td>-1.62</td>\n",
              "      <td>...</td>\n",
              "      <td>2400000.0</td>\n",
              "      <td>25.936</td>\n",
              "      <td>791.0</td>\n",
              "      <td>21792.0</td>\n",
              "      <td>19585.0</td>\n",
              "      <td>510.0</td>\n",
              "      <td>1120.0</td>\n",
              "      <td>71.0</td>\n",
              "      <td>242.0</td>\n",
              "      <td>237.0</td>\n",
              "    </tr>\n",
              "    <tr>\n",
              "      <th>2</th>\n",
              "      <td>ACAD</td>\n",
              "      <td>ACADIA PHARMACEUTICALS INC</td>\n",
              "      <td>2834.0</td>\n",
              "      <td>7.0</td>\n",
              "      <td>14.0</td>\n",
              "      <td>12.0</td>\n",
              "      <td>6.7</td>\n",
              "      <td>90.0</td>\n",
              "      <td>1.0</td>\n",
              "      <td>-1.24</td>\n",
              "      <td>...</td>\n",
              "      <td>5000000.0</td>\n",
              "      <td>7.378</td>\n",
              "      <td>201.0</td>\n",
              "      <td>5262.0</td>\n",
              "      <td>4785.0</td>\n",
              "      <td>128.0</td>\n",
              "      <td>325.0</td>\n",
              "      <td>61.0</td>\n",
              "      <td>33.0</td>\n",
              "      <td>60.0</td>\n",
              "    </tr>\n",
              "    <tr>\n",
              "      <th>3</th>\n",
              "      <td>ACHN</td>\n",
              "      <td>ACHILLION PHARMACEUTICALS INC</td>\n",
              "      <td>2834.0</td>\n",
              "      <td>11.5</td>\n",
              "      <td>16.0</td>\n",
              "      <td>14.0</td>\n",
              "      <td>12.39</td>\n",
              "      <td>209.0</td>\n",
              "      <td>1.0</td>\n",
              "      <td>-0.91</td>\n",
              "      <td>...</td>\n",
              "      <td>4500000.0</td>\n",
              "      <td>8.526</td>\n",
              "      <td>328.0</td>\n",
              "      <td>8259.0</td>\n",
              "      <td>7574.0</td>\n",
              "      <td>177.0</td>\n",
              "      <td>509.0</td>\n",
              "      <td>80.0</td>\n",
              "      <td>59.0</td>\n",
              "      <td>110.0</td>\n",
              "    </tr>\n",
              "    <tr>\n",
              "      <th>4</th>\n",
              "      <td>ACLI</td>\n",
              "      <td>AMERICAN COMMERCIAL LINES INC.</td>\n",
              "      <td>4492.0</td>\n",
              "      <td>21.0</td>\n",
              "      <td>21.0</td>\n",
              "      <td>19.0</td>\n",
              "      <td>56.599998</td>\n",
              "      <td>80.0</td>\n",
              "      <td>1.0</td>\n",
              "      <td>0.07</td>\n",
              "      <td>...</td>\n",
              "      <td>8250000.0</td>\n",
              "      <td>632.298</td>\n",
              "      <td>572.0</td>\n",
              "      <td>14830.0</td>\n",
              "      <td>13176.0</td>\n",
              "      <td>336.0</td>\n",
              "      <td>720.0</td>\n",
              "      <td>67.0</td>\n",
              "      <td>149.0</td>\n",
              "      <td>167.0</td>\n",
              "    </tr>\n",
              "  </tbody>\n",
              "</table>\n",
              "<p>5 rows × 22 columns</p>\n",
              "</div>\n",
              "      <button class=\"colab-df-convert\" onclick=\"convertToInteractive('df-c8751dc5-9aa0-48d8-ae6b-99c4b474bb79')\"\n",
              "              title=\"Convert this dataframe to an interactive table.\"\n",
              "              style=\"display:none;\">\n",
              "        \n",
              "  <svg xmlns=\"http://www.w3.org/2000/svg\" height=\"24px\"viewBox=\"0 0 24 24\"\n",
              "       width=\"24px\">\n",
              "    <path d=\"M0 0h24v24H0V0z\" fill=\"none\"/>\n",
              "    <path d=\"M18.56 5.44l.94 2.06.94-2.06 2.06-.94-2.06-.94-.94-2.06-.94 2.06-2.06.94zm-11 1L8.5 8.5l.94-2.06 2.06-.94-2.06-.94L8.5 2.5l-.94 2.06-2.06.94zm10 10l.94 2.06.94-2.06 2.06-.94-2.06-.94-.94-2.06-.94 2.06-2.06.94z\"/><path d=\"M17.41 7.96l-1.37-1.37c-.4-.4-.92-.59-1.43-.59-.52 0-1.04.2-1.43.59L10.3 9.45l-7.72 7.72c-.78.78-.78 2.05 0 2.83L4 21.41c.39.39.9.59 1.41.59.51 0 1.02-.2 1.41-.59l7.78-7.78 2.81-2.81c.8-.78.8-2.07 0-2.86zM5.41 20L4 18.59l7.72-7.72 1.47 1.35L5.41 20z\"/>\n",
              "  </svg>\n",
              "      </button>\n",
              "      \n",
              "  <style>\n",
              "    .colab-df-container {\n",
              "      display:flex;\n",
              "      flex-wrap:wrap;\n",
              "      gap: 12px;\n",
              "    }\n",
              "\n",
              "    .colab-df-convert {\n",
              "      background-color: #E8F0FE;\n",
              "      border: none;\n",
              "      border-radius: 50%;\n",
              "      cursor: pointer;\n",
              "      display: none;\n",
              "      fill: #1967D2;\n",
              "      height: 32px;\n",
              "      padding: 0 0 0 0;\n",
              "      width: 32px;\n",
              "    }\n",
              "\n",
              "    .colab-df-convert:hover {\n",
              "      background-color: #E2EBFA;\n",
              "      box-shadow: 0px 1px 2px rgba(60, 64, 67, 0.3), 0px 1px 3px 1px rgba(60, 64, 67, 0.15);\n",
              "      fill: #174EA6;\n",
              "    }\n",
              "\n",
              "    [theme=dark] .colab-df-convert {\n",
              "      background-color: #3B4455;\n",
              "      fill: #D2E3FC;\n",
              "    }\n",
              "\n",
              "    [theme=dark] .colab-df-convert:hover {\n",
              "      background-color: #434B5C;\n",
              "      box-shadow: 0px 1px 3px 1px rgba(0, 0, 0, 0.15);\n",
              "      filter: drop-shadow(0px 1px 2px rgba(0, 0, 0, 0.3));\n",
              "      fill: #FFFFFF;\n",
              "    }\n",
              "  </style>\n",
              "\n",
              "      <script>\n",
              "        const buttonEl =\n",
              "          document.querySelector('#df-c8751dc5-9aa0-48d8-ae6b-99c4b474bb79 button.colab-df-convert');\n",
              "        buttonEl.style.display =\n",
              "          google.colab.kernel.accessAllowed ? 'block' : 'none';\n",
              "\n",
              "        async function convertToInteractive(key) {\n",
              "          const element = document.querySelector('#df-c8751dc5-9aa0-48d8-ae6b-99c4b474bb79');\n",
              "          const dataTable =\n",
              "            await google.colab.kernel.invokeFunction('convertToInteractive',\n",
              "                                                     [key], {});\n",
              "          if (!dataTable) return;\n",
              "\n",
              "          const docLinkHtml = 'Like what you see? Visit the ' +\n",
              "            '<a target=\"_blank\" href=https://colab.research.google.com/notebooks/data_table.ipynb>data table notebook</a>'\n",
              "            + ' to learn more about interactive tables.';\n",
              "          element.innerHTML = '';\n",
              "          dataTable['output_type'] = 'display_data';\n",
              "          await google.colab.output.renderOutput(dataTable, element);\n",
              "          const docLink = document.createElement('div');\n",
              "          docLink.innerHTML = docLinkHtml;\n",
              "          element.appendChild(docLink);\n",
              "        }\n",
              "      </script>\n",
              "    </div>\n",
              "  </div>\n",
              "  "
            ]
          },
          "metadata": {},
          "execution_count": 4
        }
      ]
    },
    {
      "cell_type": "markdown",
      "source": [
        "#**Converting Data Types 1**\n",
        "\n",
        "Changing the data types of the inital columns in the dataframe"
      ],
      "metadata": {
        "id": "OusqlaJMywpd"
      }
    },
    {
      "cell_type": "code",
      "source": [
        "# convert data types to float\n",
        "to_float = ['offer_price','price_range_higher_bound', 'price_range_lower_bound', 'first_day_trading_price', 'days', 'top_tier_dummy', 'earnings_per_share', 'prior_nasdaq_15day_returns', 'outstanding_shares', 'offering_shares', 'sales', 'num_of_sentences', 'num_of_words', 'num_of_real_words', 'num_of_long_sentences', 'num_of_long_words', 'num_of_positive_words', 'num_of_negative_words', 'num_of_uncertain_words']\n",
        "#Does NOT include Std Industry Classifier \n",
        "for column in to_float:\n",
        "    ipo_df[column]=pd.to_numeric(ipo_df[column], errors='coerce')\n",
        "ipo_df.dtypes"
      ],
      "metadata": {
        "colab": {
          "base_uri": "https://localhost:8080/"
        },
        "id": "J3fKf00JVXbK",
        "outputId": "4f803ae8-a0d9-4315-df37-21841c23aa69"
      },
      "execution_count": null,
      "outputs": [
        {
          "output_type": "execute_result",
          "data": {
            "text/plain": [
              "ticker                         object\n",
              "company_name                   object\n",
              "std_industry_classifier        object\n",
              "offer_price                   float64\n",
              "price_range_higher_bound      float64\n",
              "price_range_lower_bound       float64\n",
              "first_day_trading_price       float64\n",
              "days                          float64\n",
              "top_tier_dummy                float64\n",
              "earnings_per_share            float64\n",
              "prior_nasdaq_15day_returns    float64\n",
              "outstanding_shares            float64\n",
              "offering_shares               float64\n",
              "sales                         float64\n",
              "num_of_sentences              float64\n",
              "num_of_words                  float64\n",
              "num_of_real_words             float64\n",
              "num_of_long_sentences         float64\n",
              "num_of_long_words             float64\n",
              "num_of_positive_words         float64\n",
              "num_of_negative_words         float64\n",
              "num_of_uncertain_words        float64\n",
              "dtype: object"
            ]
          },
          "metadata": {},
          "execution_count": 5
        }
      ]
    },
    {
      "cell_type": "code",
      "source": [
        "# counting how many NaN values in each column\n",
        "ipo_df.isna().sum()"
      ],
      "metadata": {
        "colab": {
          "base_uri": "https://localhost:8080/"
        },
        "id": "h4zA6LQB4Wct",
        "outputId": "2c8043ae-8ebd-4f8c-a736-fc010f515ef9"
      },
      "execution_count": null,
      "outputs": [
        {
          "output_type": "execute_result",
          "data": {
            "text/plain": [
              "ticker                         0\n",
              "company_name                   0\n",
              "std_industry_classifier        0\n",
              "offer_price                    5\n",
              "price_range_higher_bound      10\n",
              "price_range_lower_bound       10\n",
              "first_day_trading_price       22\n",
              "days                          22\n",
              "top_tier_dummy                22\n",
              "earnings_per_share            36\n",
              "prior_nasdaq_15day_returns    22\n",
              "outstanding_shares             6\n",
              "offering_shares                6\n",
              "sales                         72\n",
              "num_of_sentences               1\n",
              "num_of_words                   1\n",
              "num_of_real_words              1\n",
              "num_of_long_sentences          1\n",
              "num_of_long_words              1\n",
              "num_of_positive_words          1\n",
              "num_of_negative_words          1\n",
              "num_of_uncertain_words         1\n",
              "dtype: int64"
            ]
          },
          "metadata": {},
          "execution_count": 6
        }
      ]
    },
    {
      "cell_type": "markdown",
      "source": [
        "#Setting Rules for columns\n",
        "Creating the structure for what each column can or cannot be in there\n",
        "\n",
        "\n",
        "\n",
        "*   Columns that can have no negative values\n",
        "*   Columns that can only be 0 or 1\n",
        "*   Columns that cannot be negative OR 0\n",
        "*   Specific relations to columns (one cannot be greater than the other, etc.)\n",
        "\n",
        "\n",
        "\n"
      ],
      "metadata": {
        "id": "PejPbFub4Iau"
      }
    },
    {
      "cell_type": "code",
      "source": [
        "## T1, T2, C5 - they have to be greater than 0\n",
        "greater_zero = ['num_of_sentences','num_of_words','outstanding_shares']\n",
        "\n",
        "def pos_col_nan(df, col_names):\n",
        "  for col_name in col_names:\n",
        "    df[col_name] = np.where(df[col_name]>0, df[col_name], np.nan) #can be done with 3 functions or do 1 one function with the if criteria\n",
        "  return df\n",
        "\n",
        "ipo_df = pos_col_nan(ipo_df, greater_zero)"
      ],
      "metadata": {
        "id": "08SBkE4njQxr"
      },
      "execution_count": null,
      "outputs": []
    },
    {
      "cell_type": "code",
      "source": [
        "#column names that have rule of no negative/zero values\n",
        "col_names_p =['offer_price','days','offering_shares','sales', 'num_of_real_words','num_of_long_sentences','num_of_long_words','num_of_positive_words','num_of_negative_words','num_of_uncertain_words',] #currently has c values, others would need to be added\n",
        "\n",
        "def pos_col_nan(df, col_names):\n",
        "  for col_name in col_names:\n",
        "    df[col_name] = np.where(df[col_name]>=0, df[col_name], np.nan) #can be done with 3 functions or do 1 one function with the if criteria\n",
        "  return df\n",
        "\n",
        "ipo_df = pos_col_nan(ipo_df, col_names_p)"
      ],
      "metadata": {
        "id": "GGd7T_76FtNt"
      },
      "execution_count": null,
      "outputs": []
    },
    {
      "cell_type": "code",
      "source": [
        "# understanding the basic information of the data\n",
        "\n",
        "def all_about_data(ipo_df):\n",
        "    print(\"Some basic information about the data:\\n\")\n",
        "\n",
        "    #shape of the dataframe\n",
        "    print(\"Number of rows:\",ipo_df.shape[0])\n",
        "    print(\"Number of columns:\",ipo_df.shape[1])\n",
        "\n",
        "    #List column names\n",
        "    print(\"\\nColumn Names:\")\n",
        "    print(ipo_df.columns)\n",
        "\n",
        "    #data types for each column in the dataframe \n",
        "    print(\"\\nDatatype of each columns:\")\n",
        "    print(\"Dataypes:\",ipo_df.dtypes)\n",
        "\n",
        "    #summary stats\n",
        "    print(\"\\nSummary Stats:\")\n",
        "    print(ipo_df.describe())\n",
        "\n",
        "    #missing value inspection \n",
        "    print(\"\\nMissing Values:\")\n",
        "    print(ipo_df.isna().sum())\n",
        "\n",
        "all_about_data(ipo_df)"
      ],
      "metadata": {
        "id": "s-hbVdvr6i9e",
        "outputId": "af097a37-0102-4394-fd5f-01d83467beee",
        "colab": {
          "base_uri": "https://localhost:8080/"
        }
      },
      "execution_count": null,
      "outputs": [
        {
          "output_type": "stream",
          "name": "stdout",
          "text": [
            "Some basic information about the data:\n",
            "\n",
            "Number of rows: 682\n",
            "Number of columns: 22\n",
            "\n",
            "Column Names:\n",
            "Index(['ticker', 'company_name', 'std_industry_classifier', 'offer_price',\n",
            "       'price_range_higher_bound', 'price_range_lower_bound',\n",
            "       'first_day_trading_price', 'days', 'top_tier_dummy',\n",
            "       'earnings_per_share', 'prior_nasdaq_15day_returns',\n",
            "       'outstanding_shares', 'offering_shares', 'sales', 'num_of_sentences',\n",
            "       'num_of_words', 'num_of_real_words', 'num_of_long_sentences',\n",
            "       'num_of_long_words', 'num_of_positive_words', 'num_of_negative_words',\n",
            "       'num_of_uncertain_words'],\n",
            "      dtype='object')\n",
            "\n",
            "Datatype of each columns:\n",
            "Dataypes: ticker                         object\n",
            "company_name                   object\n",
            "std_industry_classifier        object\n",
            "offer_price                   float64\n",
            "price_range_higher_bound      float64\n",
            "price_range_lower_bound       float64\n",
            "first_day_trading_price       float64\n",
            "days                          float64\n",
            "top_tier_dummy                float64\n",
            "earnings_per_share            float64\n",
            "prior_nasdaq_15day_returns    float64\n",
            "outstanding_shares            float64\n",
            "offering_shares               float64\n",
            "sales                         float64\n",
            "num_of_sentences              float64\n",
            "num_of_words                  float64\n",
            "num_of_real_words             float64\n",
            "num_of_long_sentences         float64\n",
            "num_of_long_words             float64\n",
            "num_of_positive_words         float64\n",
            "num_of_negative_words         float64\n",
            "num_of_uncertain_words        float64\n",
            "dtype: object\n",
            "\n",
            "Summary Stats:\n",
            "       offer_price  price_range_higher_bound  price_range_lower_bound  \\\n",
            "count   677.000000                672.000000               672.000000   \n",
            "mean     13.837666                 15.481190                13.515045   \n",
            "std       6.053731                  6.653429                 5.835646   \n",
            "min       3.000000                  0.000000                 3.000000   \n",
            "25%      10.000000                 12.500000                11.000000   \n",
            "50%      13.500000                 15.000000                13.000000   \n",
            "75%      17.000000                 17.000000                15.000000   \n",
            "max      85.000000                135.000000               108.000000   \n",
            "\n",
            "       first_day_trading_price         days  top_tier_dummy  \\\n",
            "count               660.000000   660.000000      660.000000   \n",
            "mean                 25.934766   149.728788        0.859091   \n",
            "std                  73.234948   152.817467        0.348192   \n",
            "min                   0.000000    10.000000        0.000000   \n",
            "25%                  11.000000    85.000000        1.000000   \n",
            "50%                  14.845000   107.000000        1.000000   \n",
            "75%                  20.485000   155.250000        1.000000   \n",
            "max                1159.200562  2087.000000        1.000000   \n",
            "\n",
            "       earnings_per_share  prior_nasdaq_15day_returns  outstanding_shares  \\\n",
            "count          646.000000                  660.000000        6.760000e+02   \n",
            "mean             1.788904                    0.007282        4.935776e+07   \n",
            "std            162.666532                    0.033318        1.043764e+08   \n",
            "min           -786.239000                   -0.162352        3.693227e+06   \n",
            "25%             -0.852500                   -0.013927        1.871417e+07   \n",
            "50%              0.010000                    0.009125        2.740018e+07   \n",
            "75%              0.470000                    0.031571        4.980786e+07   \n",
            "max           3864.500000                    0.092896        2.138085e+09   \n",
            "\n",
            "       offering_shares         sales  num_of_sentences  num_of_words  \\\n",
            "count     6.760000e+02    610.000000        681.000000    679.000000   \n",
            "mean      1.241519e+07    500.459962        465.634361  12796.187040   \n",
            "std       2.512855e+07   1648.337634        175.741647   5413.375602   \n",
            "min       5.250000e+05      0.074000        132.000000    527.000000   \n",
            "25%       5.000000e+06     37.245750        351.000000   9205.500000   \n",
            "50%       7.398704e+06    103.833000        444.000000  12049.000000   \n",
            "75%       1.200000e+07    331.138000        551.000000  15242.500000   \n",
            "max       4.212336e+08  30683.000000       1750.000000  49056.000000   \n",
            "\n",
            "       num_of_real_words  num_of_long_sentences  num_of_long_words  \\\n",
            "count         681.000000             681.000000         680.000000   \n",
            "mean        11395.844347             294.353891         680.220588   \n",
            "std          4839.670179             121.532637         472.540888   \n",
            "min             0.000000               0.000000         167.000000   \n",
            "25%          8162.000000             213.000000         462.750000   \n",
            "50%         10785.000000             279.000000         624.500000   \n",
            "75%         13760.000000             354.000000         795.000000   \n",
            "max         43952.000000            1058.000000       10277.000000   \n",
            "\n",
            "       num_of_positive_words  num_of_negative_words  num_of_uncertain_words  \n",
            "count             680.000000             681.000000              681.000000  \n",
            "mean               68.523529             120.104258              144.759178  \n",
            "std                39.034361              84.828959               69.276285  \n",
            "min                 5.000000              20.000000               26.000000  \n",
            "25%                45.000000              73.000000              100.000000  \n",
            "50%                60.000000             100.000000              134.000000  \n",
            "75%                85.000000             142.000000              173.000000  \n",
            "max               309.000000             944.000000              883.000000  \n",
            "\n",
            "Missing Values:\n",
            "ticker                         0\n",
            "company_name                   0\n",
            "std_industry_classifier        0\n",
            "offer_price                    5\n",
            "price_range_higher_bound      10\n",
            "price_range_lower_bound       10\n",
            "first_day_trading_price       22\n",
            "days                          22\n",
            "top_tier_dummy                22\n",
            "earnings_per_share            36\n",
            "prior_nasdaq_15day_returns    22\n",
            "outstanding_shares             6\n",
            "offering_shares                6\n",
            "sales                         72\n",
            "num_of_sentences               1\n",
            "num_of_words                   3\n",
            "num_of_real_words              1\n",
            "num_of_long_sentences          1\n",
            "num_of_long_words              2\n",
            "num_of_positive_words          2\n",
            "num_of_negative_words          1\n",
            "num_of_uncertain_words         1\n",
            "dtype: int64\n"
          ]
        }
      ]
    },
    {
      "cell_type": "code",
      "source": [
        "# replacing '-' with NaN\n",
        "ipo_df.replace(to_replace=\"-\", value=np.nan, inplace=True)"
      ],
      "metadata": {
        "id": "9nVDe-IT48Nu"
      },
      "execution_count": null,
      "outputs": []
    },
    {
      "cell_type": "code",
      "source": [
        "# visualizing the missing values\n",
        "missing_val = ipo_df.isna().sum()\n",
        "missing_val = missing_val[missing_val > 0]\n",
        "missing_val.sort_values(inplace=True)\n",
        "missing_val.plot.bar()\n",
        "\n",
        "plt.title('Missing Values in the dataset')\n",
        "plt.xlabel('Feature')\n",
        "plt.ylabel('Count of Missing Value')"
      ],
      "metadata": {
        "colab": {
          "base_uri": "https://localhost:8080/",
          "height": 445
        },
        "id": "dwlxIs01hGC1",
        "outputId": "05c7545d-962e-4e4c-e9cb-0fcee454e243"
      },
      "execution_count": null,
      "outputs": [
        {
          "output_type": "execute_result",
          "data": {
            "text/plain": [
              "Text(0, 0.5, 'Count of Missing Value')"
            ]
          },
          "metadata": {},
          "execution_count": 11
        },
        {
          "output_type": "display_data",
          "data": {
            "text/plain": [
              "<Figure size 432x288 with 1 Axes>"
            ],
            "image/png": "[encoded data removed]"
          },
          "metadata": {
            "needs_background": "light"
          }
        }
      ]
    },
    {
      "cell_type": "code",
      "source": [
        "#check data with a row that you know has significant values missing\n",
        "ipo_df.loc[[10]]"
      ],
      "metadata": {
        "id": "pfJ-Bgh55GGU",
        "outputId": "2c38eba5-2ee9-422d-acfa-ac4fa7db917b",
        "colab": {
          "base_uri": "https://localhost:8080/",
          "height": 209
        }
      },
      "execution_count": null,
      "outputs": [
        {
          "output_type": "execute_result",
          "data": {
            "text/plain": [
              "   ticker                company_name std_industry_classifier  offer_price  \\\n",
              "10   ADKU  ADCARE HEALTH SYSTEMS, INC                     NaN          NaN   \n",
              "\n",
              "    price_range_higher_bound  price_range_lower_bound  \\\n",
              "10                       NaN                      NaN   \n",
              "\n",
              "    first_day_trading_price  days  top_tier_dummy  earnings_per_share  ...  \\\n",
              "10                      NaN   NaN             NaN                 NaN  ...   \n",
              "\n",
              "    offering_shares  sales  num_of_sentences  num_of_words  num_of_real_words  \\\n",
              "10              NaN    NaN             332.0        7534.0             6747.0   \n",
              "\n",
              "    num_of_long_sentences  num_of_long_words  num_of_positive_words  \\\n",
              "10                  169.0              263.0                   51.0   \n",
              "\n",
              "    num_of_negative_words  num_of_uncertain_words  \n",
              "10                   65.0                    74.0  \n",
              "\n",
              "[1 rows x 22 columns]"
            ],
            "text/html": [
              "\n",
              "  <div id=\"df-55079af2-ae5a-4dac-901c-9721d4907525\">\n",
              "    <div class=\"colab-df-container\">\n",
              "      <div>\n",
              "<style scoped>\n",
              "    .dataframe tbody tr th:only-of-type {\n",
              "        vertical-align: middle;\n",
              "    }\n",
              "\n",
              "    .dataframe tbody tr th {\n",
              "        vertical-align: top;\n",
              "    }\n",
              "\n",
              "    .dataframe thead th {\n",
              "        text-align: right;\n",
              "    }\n",
              "</style>\n",
              "<table border=\"1\" class=\"dataframe\">\n",
              "  <thead>\n",
              "    <tr style=\"text-align: right;\">\n",
              "      <th></th>\n",
              "      <th>ticker</th>\n",
              "      <th>company_name</th>\n",
              "      <th>std_industry_classifier</th>\n",
              "      <th>offer_price</th>\n",
              "      <th>price_range_higher_bound</th>\n",
              "      <th>price_range_lower_bound</th>\n",
              "      <th>first_day_trading_price</th>\n",
              "      <th>days</th>\n",
              "      <th>top_tier_dummy</th>\n",
              "      <th>earnings_per_share</th>\n",
              "      <th>...</th>\n",
              "      <th>offering_shares</th>\n",
              "      <th>sales</th>\n",
              "      <th>num_of_sentences</th>\n",
              "      <th>num_of_words</th>\n",
              "      <th>num_of_real_words</th>\n",
              "      <th>num_of_long_sentences</th>\n",
              "      <th>num_of_long_words</th>\n",
              "      <th>num_of_positive_words</th>\n",
              "      <th>num_of_negative_words</th>\n",
              "      <th>num_of_uncertain_words</th>\n",
              "    </tr>\n",
              "  </thead>\n",
              "  <tbody>\n",
              "    <tr>\n",
              "      <th>10</th>\n",
              "      <td>ADKU</td>\n",
              "      <td>ADCARE HEALTH SYSTEMS, INC</td>\n",
              "      <td>NaN</td>\n",
              "      <td>NaN</td>\n",
              "      <td>NaN</td>\n",
              "      <td>NaN</td>\n",
              "      <td>NaN</td>\n",
              "      <td>NaN</td>\n",
              "      <td>NaN</td>\n",
              "      <td>NaN</td>\n",
              "      <td>...</td>\n",
              "      <td>NaN</td>\n",
              "      <td>NaN</td>\n",
              "      <td>332.0</td>\n",
              "      <td>7534.0</td>\n",
              "      <td>6747.0</td>\n",
              "      <td>169.0</td>\n",
              "      <td>263.0</td>\n",
              "      <td>51.0</td>\n",
              "      <td>65.0</td>\n",
              "      <td>74.0</td>\n",
              "    </tr>\n",
              "  </tbody>\n",
              "</table>\n",
              "<p>1 rows × 22 columns</p>\n",
              "</div>\n",
              "      <button class=\"colab-df-convert\" onclick=\"convertToInteractive('df-55079af2-ae5a-4dac-901c-9721d4907525')\"\n",
              "              title=\"Convert this dataframe to an interactive table.\"\n",
              "              style=\"display:none;\">\n",
              "        \n",
              "  <svg xmlns=\"http://www.w3.org/2000/svg\" height=\"24px\"viewBox=\"0 0 24 24\"\n",
              "       width=\"24px\">\n",
              "    <path d=\"M0 0h24v24H0V0z\" fill=\"none\"/>\n",
              "    <path d=\"M18.56 5.44l.94 2.06.94-2.06 2.06-.94-2.06-.94-.94-2.06-.94 2.06-2.06.94zm-11 1L8.5 8.5l.94-2.06 2.06-.94-2.06-.94L8.5 2.5l-.94 2.06-2.06.94zm10 10l.94 2.06.94-2.06 2.06-.94-2.06-.94-.94-2.06-.94 2.06-2.06.94z\"/><path d=\"M17.41 7.96l-1.37-1.37c-.4-.4-.92-.59-1.43-.59-.52 0-1.04.2-1.43.59L10.3 9.45l-7.72 7.72c-.78.78-.78 2.05 0 2.83L4 21.41c.39.39.9.59 1.41.59.51 0 1.02-.2 1.41-.59l7.78-7.78 2.81-2.81c.8-.78.8-2.07 0-2.86zM5.41 20L4 18.59l7.72-7.72 1.47 1.35L5.41 20z\"/>\n",
              "  </svg>\n",
              "      </button>\n",
              "      \n",
              "  <style>\n",
              "    .colab-df-container {\n",
              "      display:flex;\n",
              "      flex-wrap:wrap;\n",
              "      gap: 12px;\n",
              "    }\n",
              "\n",
              "    .colab-df-convert {\n",
              "      background-color: #E8F0FE;\n",
              "      border: none;\n",
              "      border-radius: 50%;\n",
              "      cursor: pointer;\n",
              "      display: none;\n",
              "      fill: #1967D2;\n",
              "      height: 32px;\n",
              "      padding: 0 0 0 0;\n",
              "      width: 32px;\n",
              "    }\n",
              "\n",
              "    .colab-df-convert:hover {\n",
              "      background-color: #E2EBFA;\n",
              "      box-shadow: 0px 1px 2px rgba(60, 64, 67, 0.3), 0px 1px 3px 1px rgba(60, 64, 67, 0.15);\n",
              "      fill: #174EA6;\n",
              "    }\n",
              "\n",
              "    [theme=dark] .colab-df-convert {\n",
              "      background-color: #3B4455;\n",
              "      fill: #D2E3FC;\n",
              "    }\n",
              "\n",
              "    [theme=dark] .colab-df-convert:hover {\n",
              "      background-color: #434B5C;\n",
              "      box-shadow: 0px 1px 3px 1px rgba(0, 0, 0, 0.15);\n",
              "      filter: drop-shadow(0px 1px 2px rgba(0, 0, 0, 0.3));\n",
              "      fill: #FFFFFF;\n",
              "    }\n",
              "  </style>\n",
              "\n",
              "      <script>\n",
              "        const buttonEl =\n",
              "          document.querySelector('#df-55079af2-ae5a-4dac-901c-9721d4907525 button.colab-df-convert');\n",
              "        buttonEl.style.display =\n",
              "          google.colab.kernel.accessAllowed ? 'block' : 'none';\n",
              "\n",
              "        async function convertToInteractive(key) {\n",
              "          const element = document.querySelector('#df-55079af2-ae5a-4dac-901c-9721d4907525');\n",
              "          const dataTable =\n",
              "            await google.colab.kernel.invokeFunction('convertToInteractive',\n",
              "                                                     [key], {});\n",
              "          if (!dataTable) return;\n",
              "\n",
              "          const docLinkHtml = 'Like what you see? Visit the ' +\n",
              "            '<a target=\"_blank\" href=https://colab.research.google.com/notebooks/data_table.ipynb>data table notebook</a>'\n",
              "            + ' to learn more about interactive tables.';\n",
              "          element.innerHTML = '';\n",
              "          dataTable['output_type'] = 'display_data';\n",
              "          await google.colab.output.renderOutput(dataTable, element);\n",
              "          const docLink = document.createElement('div');\n",
              "          docLink.innerHTML = docLinkHtml;\n",
              "          element.appendChild(docLink);\n",
              "        }\n",
              "      </script>\n",
              "    </div>\n",
              "  </div>\n",
              "  "
            ]
          },
          "metadata": {},
          "execution_count": 12
        }
      ]
    },
    {
      "cell_type": "markdown",
      "source": [
        "#**Imputation/standardization**\n",
        "*   Choosing which companies to drop for future analysis\n",
        "*   List item\n",
        "\n",
        "*   Replacing all NAN values with Mean or Mode\n",
        "*   Checking skewness and distribution of variables \n",
        "\n",
        "\n",
        "\n",
        "\n",
        "\n",
        "\n"
      ],
      "metadata": {
        "id": "g9-uFVhK518G"
      }
    },
    {
      "cell_type": "code",
      "source": [
        "# drop first_day_trading_price (i.e,P(1Day)) values that has missing data. since this is used for as target variable (no impute on missing data). \n",
        "\n",
        "ipo_df = ipo_df.dropna(subset=['first_day_trading_price'])\n",
        "#Shape of the dataset now (should have dropped 22 rows to now be 660)\n",
        "ipo_df.shape"
      ],
      "metadata": {
        "id": "bSKAE4RK8NoE",
        "colab": {
          "base_uri": "https://localhost:8080/"
        },
        "outputId": "cdefe953-776e-43fa-b018-2a9888568e16"
      },
      "execution_count": null,
      "outputs": [
        {
          "output_type": "execute_result",
          "data": {
            "text/plain": [
              "(660, 22)"
            ]
          },
          "metadata": {},
          "execution_count": 13
        }
      ]
    },
    {
      "cell_type": "code",
      "source": [
        "#median for each column\n",
        "ipo_df.median().round(2)"
      ],
      "metadata": {
        "colab": {
          "base_uri": "https://localhost:8080/"
        },
        "id": "rFIqPsH3UbAu",
        "outputId": "664d2103-94c2-4694-a5a8-5659f342bb04"
      },
      "execution_count": null,
      "outputs": [
        {
          "output_type": "stream",
          "name": "stderr",
          "text": [
            "<ipython-input-14-df4d53a405d1>:2: FutureWarning: Dropping of nuisance columns in DataFrame reductions (with 'numeric_only=None') is deprecated; in a future version this will raise TypeError.  Select only valid columns before calling the reduction.\n",
            "  ipo_df.median().round(2)\n"
          ]
        },
        {
          "output_type": "execute_result",
          "data": {
            "text/plain": [
              "offer_price                         13.75\n",
              "price_range_higher_bound            15.50\n",
              "price_range_lower_bound             13.00\n",
              "first_day_trading_price             14.85\n",
              "days                               107.00\n",
              "top_tier_dummy                       1.00\n",
              "earnings_per_share                   0.00\n",
              "prior_nasdaq_15day_returns           0.01\n",
              "outstanding_shares            27454378.00\n",
              "offering_shares                7500000.00\n",
              "sales                              107.46\n",
              "num_of_sentences                   446.00\n",
              "num_of_words                     12128.00\n",
              "num_of_real_words                10829.50\n",
              "num_of_long_sentences              280.00\n",
              "num_of_long_words                  627.00\n",
              "num_of_positive_words               60.00\n",
              "num_of_negative_words              101.50\n",
              "num_of_uncertain_words             135.00\n",
              "dtype: float64"
            ]
          },
          "metadata": {},
          "execution_count": 14
        }
      ]
    },
    {
      "cell_type": "code",
      "source": [
        "#replacing null values in columns USING MEDIAN AND MODE (will have to be adjusted depending on the decision in \"Added Columns\")\n",
        "#try before the calculations so\n",
        "\n",
        "ipo_df['offer_price'].fillna(ipo_df['offer_price'].median(), inplace=True)\n",
        "ipo_df['price_range_higher_bound'].fillna(ipo_df['price_range_higher_bound'].median(), inplace=True)\n",
        "ipo_df['price_range_lower_bound'].fillna(ipo_df['price_range_lower_bound'].median(), inplace=True)\n",
        "ipo_df['first_day_trading_price'].fillna(ipo_df['first_day_trading_price'].median(), inplace=True)\n",
        "ipo_df['days'].fillna(ipo_df['days'].median(), inplace=True)\n",
        "ipo_df['top_tier_dummy'].fillna(ipo_df['top_tier_dummy'].mode()[0], inplace=True)\n",
        "ipo_df['earnings_per_share'].fillna(ipo_df['earnings_per_share'].median(), inplace=True)\n",
        "ipo_df['prior_nasdaq_15day_returns'].fillna(ipo_df['prior_nasdaq_15day_returns'].median(), inplace=True)\n",
        "ipo_df['outstanding_shares'].fillna(ipo_df['outstanding_shares'].median(), inplace=True)\n",
        "ipo_df['offering_shares'].fillna(ipo_df['offering_shares'].median(), inplace=True)\n",
        "ipo_df['sales'].fillna(ipo_df['sales'].median(), inplace=True)\n",
        "ipo_df['num_of_sentences'].fillna(ipo_df['num_of_sentences'].median(), inplace=True)\n",
        "ipo_df['num_of_words'].fillna(ipo_df['num_of_words'].median(), inplace=True)\n",
        "ipo_df['num_of_real_words'].fillna(ipo_df['num_of_real_words'].median(), inplace=True)\n",
        "ipo_df['num_of_long_sentences'].fillna(ipo_df['num_of_long_sentences'].median(), inplace=True)\n",
        "ipo_df['num_of_long_words'].fillna(ipo_df['num_of_long_words'].median(), inplace=True)\n",
        "ipo_df['num_of_positive_words'].fillna(ipo_df['num_of_positive_words'].median(), inplace=True)\n",
        "ipo_df['num_of_negative_words'].fillna(ipo_df['num_of_negative_words'].median(), inplace=True)\n",
        "ipo_df['num_of_uncertain_words'].fillna(ipo_df['num_of_uncertain_words'].median(), inplace=True)\n"
      ],
      "metadata": {
        "id": "EkDzv8NBNPvp"
      },
      "execution_count": null,
      "outputs": []
    },
    {
      "cell_type": "code",
      "source": [
        "# checking to make sure there are no NaN values\n",
        "ipo_df.isna().sum()"
      ],
      "metadata": {
        "colab": {
          "base_uri": "https://localhost:8080/"
        },
        "id": "lnY1jNtVqoUU",
        "outputId": "da9f4cc1-9407-4832-d7a3-497beb9210a6"
      },
      "execution_count": null,
      "outputs": [
        {
          "output_type": "execute_result",
          "data": {
            "text/plain": [
              "ticker                        0\n",
              "company_name                  0\n",
              "std_industry_classifier       0\n",
              "offer_price                   0\n",
              "price_range_higher_bound      0\n",
              "price_range_lower_bound       0\n",
              "first_day_trading_price       0\n",
              "days                          0\n",
              "top_tier_dummy                0\n",
              "earnings_per_share            0\n",
              "prior_nasdaq_15day_returns    0\n",
              "outstanding_shares            0\n",
              "offering_shares               0\n",
              "sales                         0\n",
              "num_of_sentences              0\n",
              "num_of_words                  0\n",
              "num_of_real_words             0\n",
              "num_of_long_sentences         0\n",
              "num_of_long_words             0\n",
              "num_of_positive_words         0\n",
              "num_of_negative_words         0\n",
              "num_of_uncertain_words        0\n",
              "dtype: int64"
            ]
          },
          "metadata": {},
          "execution_count": 16
        }
      ]
    },
    {
      "cell_type": "markdown",
      "source": [
        "# Binning"
      ],
      "metadata": {
        "id": "B-SN-uF2BRNc"
      }
    },
    {
      "cell_type": "code",
      "source": [
        "#Turning off the warning\n",
        "pd.set_option('mode.chained_assignment', None)"
      ],
      "metadata": {
        "id": "GjnlcslWHIG6"
      },
      "execution_count": null,
      "outputs": []
    },
    {
      "cell_type": "code",
      "source": [
        "# Convert std_industry_classifier to string     \n",
        "ipo_df['std_industry_classifier'] = ipo_df['std_industry_classifier'].astype(str)\n",
        "\n",
        "### Assumption : assuming that the first value in the column for the std_industry_classifier is the one to be considered\n",
        "# Get the first number from the 'std_industry_classifier' column\n",
        "ipo_df['std_industry_classifier'] = ipo_df['std_industry_classifier'].str.split(',').str[0]\n",
        "\n",
        "# Print dataframe\n",
        "ipo_df.head()"
      ],
      "metadata": {
        "colab": {
          "base_uri": "https://localhost:8080/",
          "height": 456
        },
        "id": "wujoJAoODm_K",
        "outputId": "61a6f88e-fb63-46d9-9b36-93990dd32e90"
      },
      "execution_count": null,
      "outputs": [
        {
          "output_type": "execute_result",
          "data": {
            "text/plain": [
              "  ticker                        company_name std_industry_classifier  \\\n",
              "0   AATI  ADVANCED ANALOGIC TECHNOLOGIES INC                  3674.0   \n",
              "1   ABPI     ACCENTIA BIOPHARMACEUTICALS INC                  2834.0   \n",
              "2   ACAD          ACADIA PHARMACEUTICALS INC                  2834.0   \n",
              "3   ACHN       ACHILLION PHARMACEUTICALS INC                  2834.0   \n",
              "4   ACLI     AMERICAN COMMERCIAL LINES INC.                   4492.0   \n",
              "\n",
              "   offer_price  price_range_higher_bound  price_range_lower_bound  \\\n",
              "0         10.0                       9.5                      8.5   \n",
              "1          8.0                      10.0                      8.0   \n",
              "2          7.0                      14.0                     12.0   \n",
              "3         11.5                      16.0                     14.0   \n",
              "4         21.0                      21.0                     19.0   \n",
              "\n",
              "   first_day_trading_price   days  top_tier_dummy  earnings_per_share  ...  \\\n",
              "0                11.870000  122.0             1.0                3.43  ...   \n",
              "1                 7.250000  259.0             0.0               -1.62  ...   \n",
              "2                 6.700000   90.0             1.0               -1.24  ...   \n",
              "3                12.390000  209.0             1.0               -0.91  ...   \n",
              "4                56.599998   80.0             1.0                0.07  ...   \n",
              "\n",
              "   offering_shares    sales  num_of_sentences  num_of_words  \\\n",
              "0       10600000.0   51.345             470.0       12719.0   \n",
              "1        2400000.0   25.936             791.0       21792.0   \n",
              "2        5000000.0    7.378             201.0        5262.0   \n",
              "3        4500000.0    8.526             328.0        8259.0   \n",
              "4        8250000.0  632.298             572.0       14830.0   \n",
              "\n",
              "   num_of_real_words  num_of_long_sentences  num_of_long_words  \\\n",
              "0            11560.0                  301.0              690.0   \n",
              "1            19585.0                  510.0             1120.0   \n",
              "2             4785.0                  128.0              325.0   \n",
              "3             7574.0                  177.0              509.0   \n",
              "4            13176.0                  336.0              720.0   \n",
              "\n",
              "   num_of_positive_words  num_of_negative_words  num_of_uncertain_words  \n",
              "0                   62.0                  117.0                   139.0  \n",
              "1                   71.0                  242.0                   237.0  \n",
              "2                   61.0                   33.0                    60.0  \n",
              "3                   80.0                   59.0                   110.0  \n",
              "4                   67.0                  149.0                   167.0  \n",
              "\n",
              "[5 rows x 22 columns]"
            ],
            "text/html": [
              "\n",
              "  <div id=\"df-06913170-d8cb-4840-a57b-6fd5713c97dc\">\n",
              "    <div class=\"colab-df-container\">\n",
              "      <div>\n",
              "<style scoped>\n",
              "    .dataframe tbody tr th:only-of-type {\n",
              "        vertical-align: middle;\n",
              "    }\n",
              "\n",
              "    .dataframe tbody tr th {\n",
              "        vertical-align: top;\n",
              "    }\n",
              "\n",
              "    .dataframe thead th {\n",
              "        text-align: right;\n",
              "    }\n",
              "</style>\n",
              "<table border=\"1\" class=\"dataframe\">\n",
              "  <thead>\n",
              "    <tr style=\"text-align: right;\">\n",
              "      <th></th>\n",
              "      <th>ticker</th>\n",
              "      <th>company_name</th>\n",
              "      <th>std_industry_classifier</th>\n",
              "      <th>offer_price</th>\n",
              "      <th>price_range_higher_bound</th>\n",
              "      <th>price_range_lower_bound</th>\n",
              "      <th>first_day_trading_price</th>\n",
              "      <th>days</th>\n",
              "      <th>top_tier_dummy</th>\n",
              "      <th>earnings_per_share</th>\n",
              "      <th>...</th>\n",
              "      <th>offering_shares</th>\n",
              "      <th>sales</th>\n",
              "      <th>num_of_sentences</th>\n",
              "      <th>num_of_words</th>\n",
              "      <th>num_of_real_words</th>\n",
              "      <th>num_of_long_sentences</th>\n",
              "      <th>num_of_long_words</th>\n",
              "      <th>num_of_positive_words</th>\n",
              "      <th>num_of_negative_words</th>\n",
              "      <th>num_of_uncertain_words</th>\n",
              "    </tr>\n",
              "  </thead>\n",
              "  <tbody>\n",
              "    <tr>\n",
              "      <th>0</th>\n",
              "      <td>AATI</td>\n",
              "      <td>ADVANCED ANALOGIC TECHNOLOGIES INC</td>\n",
              "      <td>3674.0</td>\n",
              "      <td>10.0</td>\n",
              "      <td>9.5</td>\n",
              "      <td>8.5</td>\n",
              "      <td>11.870000</td>\n",
              "      <td>122.0</td>\n",
              "      <td>1.0</td>\n",
              "      <td>3.43</td>\n",
              "      <td>...</td>\n",
              "      <td>10600000.0</td>\n",
              "      <td>51.345</td>\n",
              "      <td>470.0</td>\n",
              "      <td>12719.0</td>\n",
              "      <td>11560.0</td>\n",
              "      <td>301.0</td>\n",
              "      <td>690.0</td>\n",
              "      <td>62.0</td>\n",
              "      <td>117.0</td>\n",
              "      <td>139.0</td>\n",
              "    </tr>\n",
              "    <tr>\n",
              "      <th>1</th>\n",
              "      <td>ABPI</td>\n",
              "      <td>ACCENTIA BIOPHARMACEUTICALS INC</td>\n",
              "      <td>2834.0</td>\n",
              "      <td>8.0</td>\n",
              "      <td>10.0</td>\n",
              "      <td>8.0</td>\n",
              "      <td>7.250000</td>\n",
              "      <td>259.0</td>\n",
              "      <td>0.0</td>\n",
              "      <td>-1.62</td>\n",
              "      <td>...</td>\n",
              "      <td>2400000.0</td>\n",
              "      <td>25.936</td>\n",
              "      <td>791.0</td>\n",
              "      <td>21792.0</td>\n",
              "      <td>19585.0</td>\n",
              "      <td>510.0</td>\n",
              "      <td>1120.0</td>\n",
              "      <td>71.0</td>\n",
              "      <td>242.0</td>\n",
              "      <td>237.0</td>\n",
              "    </tr>\n",
              "    <tr>\n",
              "      <th>2</th>\n",
              "      <td>ACAD</td>\n",
              "      <td>ACADIA PHARMACEUTICALS INC</td>\n",
              "      <td>2834.0</td>\n",
              "      <td>7.0</td>\n",
              "      <td>14.0</td>\n",
              "      <td>12.0</td>\n",
              "      <td>6.700000</td>\n",
              "      <td>90.0</td>\n",
              "      <td>1.0</td>\n",
              "      <td>-1.24</td>\n",
              "      <td>...</td>\n",
              "      <td>5000000.0</td>\n",
              "      <td>7.378</td>\n",
              "      <td>201.0</td>\n",
              "      <td>5262.0</td>\n",
              "      <td>4785.0</td>\n",
              "      <td>128.0</td>\n",
              "      <td>325.0</td>\n",
              "      <td>61.0</td>\n",
              "      <td>33.0</td>\n",
              "      <td>60.0</td>\n",
              "    </tr>\n",
              "    <tr>\n",
              "      <th>3</th>\n",
              "      <td>ACHN</td>\n",
              "      <td>ACHILLION PHARMACEUTICALS INC</td>\n",
              "      <td>2834.0</td>\n",
              "      <td>11.5</td>\n",
              "      <td>16.0</td>\n",
              "      <td>14.0</td>\n",
              "      <td>12.390000</td>\n",
              "      <td>209.0</td>\n",
              "      <td>1.0</td>\n",
              "      <td>-0.91</td>\n",
              "      <td>...</td>\n",
              "      <td>4500000.0</td>\n",
              "      <td>8.526</td>\n",
              "      <td>328.0</td>\n",
              "      <td>8259.0</td>\n",
              "      <td>7574.0</td>\n",
              "      <td>177.0</td>\n",
              "      <td>509.0</td>\n",
              "      <td>80.0</td>\n",
              "      <td>59.0</td>\n",
              "      <td>110.0</td>\n",
              "    </tr>\n",
              "    <tr>\n",
              "      <th>4</th>\n",
              "      <td>ACLI</td>\n",
              "      <td>AMERICAN COMMERCIAL LINES INC.</td>\n",
              "      <td>4492.0</td>\n",
              "      <td>21.0</td>\n",
              "      <td>21.0</td>\n",
              "      <td>19.0</td>\n",
              "      <td>56.599998</td>\n",
              "      <td>80.0</td>\n",
              "      <td>1.0</td>\n",
              "      <td>0.07</td>\n",
              "      <td>...</td>\n",
              "      <td>8250000.0</td>\n",
              "      <td>632.298</td>\n",
              "      <td>572.0</td>\n",
              "      <td>14830.0</td>\n",
              "      <td>13176.0</td>\n",
              "      <td>336.0</td>\n",
              "      <td>720.0</td>\n",
              "      <td>67.0</td>\n",
              "      <td>149.0</td>\n",
              "      <td>167.0</td>\n",
              "    </tr>\n",
              "  </tbody>\n",
              "</table>\n",
              "<p>5 rows × 22 columns</p>\n",
              "</div>\n",
              "      <button class=\"colab-df-convert\" onclick=\"convertToInteractive('df-06913170-d8cb-4840-a57b-6fd5713c97dc')\"\n",
              "              title=\"Convert this dataframe to an interactive table.\"\n",
              "              style=\"display:none;\">\n",
              "        \n",
              "  <svg xmlns=\"http://www.w3.org/2000/svg\" height=\"24px\"viewBox=\"0 0 24 24\"\n",
              "       width=\"24px\">\n",
              "    <path d=\"M0 0h24v24H0V0z\" fill=\"none\"/>\n",
              "    <path d=\"M18.56 5.44l.94 2.06.94-2.06 2.06-.94-2.06-.94-.94-2.06-.94 2.06-2.06.94zm-11 1L8.5 8.5l.94-2.06 2.06-.94-2.06-.94L8.5 2.5l-.94 2.06-2.06.94zm10 10l.94 2.06.94-2.06 2.06-.94-2.06-.94-.94-2.06-.94 2.06-2.06.94z\"/><path d=\"M17.41 7.96l-1.37-1.37c-.4-.4-.92-.59-1.43-.59-.52 0-1.04.2-1.43.59L10.3 9.45l-7.72 7.72c-.78.78-.78 2.05 0 2.83L4 21.41c.39.39.9.59 1.41.59.51 0 1.02-.2 1.41-.59l7.78-7.78 2.81-2.81c.8-.78.8-2.07 0-2.86zM5.41 20L4 18.59l7.72-7.72 1.47 1.35L5.41 20z\"/>\n",
              "  </svg>\n",
              "      </button>\n",
              "      \n",
              "  <style>\n",
              "    .colab-df-container {\n",
              "      display:flex;\n",
              "      flex-wrap:wrap;\n",
              "      gap: 12px;\n",
              "    }\n",
              "\n",
              "    .colab-df-convert {\n",
              "      background-color: #E8F0FE;\n",
              "      border: none;\n",
              "      border-radius: 50%;\n",
              "      cursor: pointer;\n",
              "      display: none;\n",
              "      fill: #1967D2;\n",
              "      height: 32px;\n",
              "      padding: 0 0 0 0;\n",
              "      width: 32px;\n",
              "    }\n",
              "\n",
              "    .colab-df-convert:hover {\n",
              "      background-color: #E2EBFA;\n",
              "      box-shadow: 0px 1px 2px rgba(60, 64, 67, 0.3), 0px 1px 3px 1px rgba(60, 64, 67, 0.15);\n",
              "      fill: #174EA6;\n",
              "    }\n",
              "\n",
              "    [theme=dark] .colab-df-convert {\n",
              "      background-color: #3B4455;\n",
              "      fill: #D2E3FC;\n",
              "    }\n",
              "\n",
              "    [theme=dark] .colab-df-convert:hover {\n",
              "      background-color: #434B5C;\n",
              "      box-shadow: 0px 1px 3px 1px rgba(0, 0, 0, 0.15);\n",
              "      filter: drop-shadow(0px 1px 2px rgba(0, 0, 0, 0.3));\n",
              "      fill: #FFFFFF;\n",
              "    }\n",
              "  </style>\n",
              "\n",
              "      <script>\n",
              "        const buttonEl =\n",
              "          document.querySelector('#df-06913170-d8cb-4840-a57b-6fd5713c97dc button.colab-df-convert');\n",
              "        buttonEl.style.display =\n",
              "          google.colab.kernel.accessAllowed ? 'block' : 'none';\n",
              "\n",
              "        async function convertToInteractive(key) {\n",
              "          const element = document.querySelector('#df-06913170-d8cb-4840-a57b-6fd5713c97dc');\n",
              "          const dataTable =\n",
              "            await google.colab.kernel.invokeFunction('convertToInteractive',\n",
              "                                                     [key], {});\n",
              "          if (!dataTable) return;\n",
              "\n",
              "          const docLinkHtml = 'Like what you see? Visit the ' +\n",
              "            '<a target=\"_blank\" href=https://colab.research.google.com/notebooks/data_table.ipynb>data table notebook</a>'\n",
              "            + ' to learn more about interactive tables.';\n",
              "          element.innerHTML = '';\n",
              "          dataTable['output_type'] = 'display_data';\n",
              "          await google.colab.output.renderOutput(dataTable, element);\n",
              "          const docLink = document.createElement('div');\n",
              "          docLink.innerHTML = docLinkHtml;\n",
              "          element.appendChild(docLink);\n",
              "        }\n",
              "      </script>\n",
              "    </div>\n",
              "  </div>\n",
              "  "
            ]
          },
          "metadata": {},
          "execution_count": 18
        }
      ]
    },
    {
      "cell_type": "code",
      "source": [
        "# Standard Industry Classifier(I3) classified by SIC code\n",
        "\n",
        "def classification(sic_code):\n",
        "    \n",
        "    if sic_code < 999:\n",
        "        return \"Agriculture,Forestry,Fishing\"\n",
        "    elif sic_code >= 1000 and sic_code <= 1499:\n",
        "        return \"Mining\"\n",
        "    elif sic_code >= 1500 and sic_code <= 1799:\n",
        "        return \"Construction\"\n",
        "    elif sic_code >= 2000 and sic_code <= 3999:\n",
        "        return \"Manufacturing\"\n",
        "    elif sic_code >= 4000 and sic_code <= 4999:\n",
        "        return \"Transportation,Communications,Electric,gas,Sanitary\" \n",
        "    elif sic_code >= 5000 and sic_code <= 5199:\n",
        "        return \"Wholesale Trade\"\n",
        "    elif sic_code >= 5200 and sic_code <= 5999:\n",
        "        return \"Retail Trade\"\n",
        "    elif sic_code >= 6000 and sic_code <= 6799:\n",
        "        return \"Finance,Insurance,RealEstate\"\n",
        "    elif sic_code >= 7000 and sic_code <= 8999:\n",
        "        return \"Services\"\n",
        "    elif sic_code >= 9100 and sic_code <= 9799:\n",
        "        return 'Public Administration'\n",
        "    elif sic_code >= 9800:\n",
        "        return \"Nonclassifiable\""
      ],
      "metadata": {
        "id": "d0gylvXqDp36"
      },
      "execution_count": null,
      "outputs": []
    },
    {
      "cell_type": "code",
      "source": [
        "# converting std_industry_classifier column to float datatype\n",
        "ipo_df['std_industry_classifier'] = ipo_df['std_industry_classifier'].astype(float)"
      ],
      "metadata": {
        "id": "iaRzNc-YDsgA"
      },
      "execution_count": null,
      "outputs": []
    },
    {
      "cell_type": "code",
      "source": [
        "ipo_df['std_industry_classifier'] = ipo_df['std_industry_classifier'].apply(lambda x: classification(x))"
      ],
      "metadata": {
        "id": "0rinqQcpDulO"
      },
      "execution_count": null,
      "outputs": []
    },
    {
      "cell_type": "code",
      "source": [
        "# further group the above classified group into Manufacturing, Services and Others to reduce the number of features.\n",
        "\n",
        "#binning all the values except manufacturing and Services into 'Other'\n",
        "ipo_df['std_industry_classifier'] = ipo_df['std_industry_classifier'].replace(['Transportation,Communications,Electric,gas,Sanitary','Retail Trade','Mining', 'Wholesale Trade', 'Finance,Insurance,RealEstate', \n",
        "                                            'Agriculture,Forestry,Fishing', 'Nonclassifiable','Construction'],'Other')\n",
        "\n"
      ],
      "metadata": {
        "id": "mJfLAFCID1CV"
      },
      "execution_count": null,
      "outputs": []
    },
    {
      "cell_type": "code",
      "source": [
        "#Create 3 bins for std_industry_classifier - Manufacturing = 1, Services=2, and Other=3\n",
        "ipo_df['std_industry_classifier'] = ipo_df['std_industry_classifier'].replace({'Manufacturing': 1, 'Services': 2, 'Other': 3})\n",
        "\n",
        "ipo_df['Manufacturing'] = np.where(ipo_df['std_industry_classifier'] ==1, 1, 0)\n",
        "ipo_df['Services'] = np.where(ipo_df['std_industry_classifier'] ==2, 1, 0)\n",
        "ipo_df['Other'] = np.where(ipo_df['std_industry_classifier'] ==3, 1, 0)\n",
        "\n",
        "ipo_df.head(10)"
      ],
      "metadata": {
        "colab": {
          "base_uri": "https://localhost:8080/",
          "height": 664
        },
        "id": "u7e_Ns3LD20i",
        "outputId": "41d3c769-0116-4625-e86c-8a62d537e7c8"
      },
      "execution_count": null,
      "outputs": [
        {
          "output_type": "execute_result",
          "data": {
            "text/plain": [
              "  ticker                        company_name  std_industry_classifier  \\\n",
              "0   AATI  ADVANCED ANALOGIC TECHNOLOGIES INC                        1   \n",
              "1   ABPI     ACCENTIA BIOPHARMACEUTICALS INC                        1   \n",
              "2   ACAD          ACADIA PHARMACEUTICALS INC                        1   \n",
              "3   ACHN       ACHILLION PHARMACEUTICALS INC                        1   \n",
              "4   ACLI     AMERICAN COMMERCIAL LINES INC.                         3   \n",
              "5   ACOM                  Ancestry.com Inc.                         2   \n",
              "6   ACOR             ACORDA THERAPEUTICS INC                        1   \n",
              "7   ACRX          ACELRX PHARMACEUTICALS INC                        1   \n",
              "8   ACTV                  ACTIVE NETWORK INC                        2   \n",
              "9    ACW                       ACCURIDE CORP                        1   \n",
              "\n",
              "   offer_price  price_range_higher_bound  price_range_lower_bound  \\\n",
              "0         10.0                       9.5                      8.5   \n",
              "1          8.0                      10.0                      8.0   \n",
              "2          7.0                      14.0                     12.0   \n",
              "3         11.5                      16.0                     14.0   \n",
              "4         21.0                      21.0                     19.0   \n",
              "5         13.5                      14.5                     12.5   \n",
              "6          6.0                      13.0                     11.0   \n",
              "7          5.0                      14.0                     12.0   \n",
              "8         15.0                      18.0                     16.0   \n",
              "9          9.0                      19.0                     17.0   \n",
              "\n",
              "   first_day_trading_price   days  top_tier_dummy  earnings_per_share  ...  \\\n",
              "0                11.870000  122.0             1.0                3.43  ...   \n",
              "1                 7.250000  259.0             0.0               -1.62  ...   \n",
              "2                 6.700000   90.0             1.0               -1.24  ...   \n",
              "3                12.390000  209.0             1.0               -0.91  ...   \n",
              "4                56.599998   80.0             1.0                0.07  ...   \n",
              "5                14.200000   94.0             1.0                0.06  ...   \n",
              "6                 6.720000  128.0             1.0               -1.87  ...   \n",
              "7                 4.550000   91.0             0.0               -0.74  ...   \n",
              "8                15.900000  100.0             1.0               -0.51  ...   \n",
              "9                 0.000000  106.0             1.0                1.49  ...   \n",
              "\n",
              "   num_of_words  num_of_real_words  num_of_long_sentences  num_of_long_words  \\\n",
              "0       12719.0            11560.0                  301.0              690.0   \n",
              "1       21792.0            19585.0                  510.0             1120.0   \n",
              "2        5262.0             4785.0                  128.0              325.0   \n",
              "3        8259.0             7574.0                  177.0              509.0   \n",
              "4       14830.0            13176.0                  336.0              720.0   \n",
              "5       17999.0            13934.0                  328.0              815.0   \n",
              "6       15758.0            13953.0                  379.0              698.0   \n",
              "7       11226.0            10056.0                  276.0              627.0   \n",
              "8       14813.0            13463.0                  335.0              917.0   \n",
              "9        9134.0             8107.0                  198.0              459.0   \n",
              "\n",
              "   num_of_positive_words  num_of_negative_words  num_of_uncertain_words  \\\n",
              "0                   62.0                  117.0                   139.0   \n",
              "1                   71.0                  242.0                   237.0   \n",
              "2                   61.0                   33.0                    60.0   \n",
              "3                   80.0                   59.0                   110.0   \n",
              "4                   67.0                  149.0                   167.0   \n",
              "5                   62.0                   96.0                   181.0   \n",
              "6                   82.0                  106.0                   135.0   \n",
              "7                   55.0                  120.0                   122.0   \n",
              "8                   58.0                  124.0                   234.0   \n",
              "9                   81.0                   90.0                   147.0   \n",
              "\n",
              "   Manufacturing  Services  Other  \n",
              "0              1         0      0  \n",
              "1              1         0      0  \n",
              "2              1         0      0  \n",
              "3              1         0      0  \n",
              "4              0         0      1  \n",
              "5              0         1      0  \n",
              "6              1         0      0  \n",
              "7              1         0      0  \n",
              "8              0         1      0  \n",
              "9              1         0      0  \n",
              "\n",
              "[10 rows x 25 columns]"
            ],
            "text/html": [
              "\n",
              "  <div id=\"df-3a2c2693-68b8-47c2-9aab-c33506b1609d\">\n",
              "    <div class=\"colab-df-container\">\n",
              "      <div>\n",
              "<style scoped>\n",
              "    .dataframe tbody tr th:only-of-type {\n",
              "        vertical-align: middle;\n",
              "    }\n",
              "\n",
              "    .dataframe tbody tr th {\n",
              "        vertical-align: top;\n",
              "    }\n",
              "\n",
              "    .dataframe thead th {\n",
              "        text-align: right;\n",
              "    }\n",
              "</style>\n",
              "<table border=\"1\" class=\"dataframe\">\n",
              "  <thead>\n",
              "    <tr style=\"text-align: right;\">\n",
              "      <th></th>\n",
              "      <th>ticker</th>\n",
              "      <th>company_name</th>\n",
              "      <th>std_industry_classifier</th>\n",
              "      <th>offer_price</th>\n",
              "      <th>price_range_higher_bound</th>\n",
              "      <th>price_range_lower_bound</th>\n",
              "      <th>first_day_trading_price</th>\n",
              "      <th>days</th>\n",
              "      <th>top_tier_dummy</th>\n",
              "      <th>earnings_per_share</th>\n",
              "      <th>...</th>\n",
              "      <th>num_of_words</th>\n",
              "      <th>num_of_real_words</th>\n",
              "      <th>num_of_long_sentences</th>\n",
              "      <th>num_of_long_words</th>\n",
              "      <th>num_of_positive_words</th>\n",
              "      <th>num_of_negative_words</th>\n",
              "      <th>num_of_uncertain_words</th>\n",
              "      <th>Manufacturing</th>\n",
              "      <th>Services</th>\n",
              "      <th>Other</th>\n",
              "    </tr>\n",
              "  </thead>\n",
              "  <tbody>\n",
              "    <tr>\n",
              "      <th>0</th>\n",
              "      <td>AATI</td>\n",
              "      <td>ADVANCED ANALOGIC TECHNOLOGIES INC</td>\n",
              "      <td>1</td>\n",
              "      <td>10.0</td>\n",
              "      <td>9.5</td>\n",
              "      <td>8.5</td>\n",
              "      <td>11.870000</td>\n",
              "      <td>122.0</td>\n",
              "      <td>1.0</td>\n",
              "      <td>3.43</td>\n",
              "      <td>...</td>\n",
              "      <td>12719.0</td>\n",
              "      <td>11560.0</td>\n",
              "      <td>301.0</td>\n",
              "      <td>690.0</td>\n",
              "      <td>62.0</td>\n",
              "      <td>117.0</td>\n",
              "      <td>139.0</td>\n",
              "      <td>1</td>\n",
              "      <td>0</td>\n",
              "      <td>0</td>\n",
              "    </tr>\n",
              "    <tr>\n",
              "      <th>1</th>\n",
              "      <td>ABPI</td>\n",
              "      <td>ACCENTIA BIOPHARMACEUTICALS INC</td>\n",
              "      <td>1</td>\n",
              "      <td>8.0</td>\n",
              "      <td>10.0</td>\n",
              "      <td>8.0</td>\n",
              "      <td>7.250000</td>\n",
              "      <td>259.0</td>\n",
              "      <td>0.0</td>\n",
              "      <td>-1.62</td>\n",
              "      <td>...</td>\n",
              "      <td>21792.0</td>\n",
              "      <td>19585.0</td>\n",
              "      <td>510.0</td>\n",
              "      <td>1120.0</td>\n",
              "      <td>71.0</td>\n",
              "      <td>242.0</td>\n",
              "      <td>237.0</td>\n",
              "      <td>1</td>\n",
              "      <td>0</td>\n",
              "      <td>0</td>\n",
              "    </tr>\n",
              "    <tr>\n",
              "      <th>2</th>\n",
              "      <td>ACAD</td>\n",
              "      <td>ACADIA PHARMACEUTICALS INC</td>\n",
              "      <td>1</td>\n",
              "      <td>7.0</td>\n",
              "      <td>14.0</td>\n",
              "      <td>12.0</td>\n",
              "      <td>6.700000</td>\n",
              "      <td>90.0</td>\n",
              "      <td>1.0</td>\n",
              "      <td>-1.24</td>\n",
              "      <td>...</td>\n",
              "      <td>5262.0</td>\n",
              "      <td>4785.0</td>\n",
              "      <td>128.0</td>\n",
              "      <td>325.0</td>\n",
              "      <td>61.0</td>\n",
              "      <td>33.0</td>\n",
              "      <td>60.0</td>\n",
              "      <td>1</td>\n",
              "      <td>0</td>\n",
              "      <td>0</td>\n",
              "    </tr>\n",
              "    <tr>\n",
              "      <th>3</th>\n",
              "      <td>ACHN</td>\n",
              "      <td>ACHILLION PHARMACEUTICALS INC</td>\n",
              "      <td>1</td>\n",
              "      <td>11.5</td>\n",
              "      <td>16.0</td>\n",
              "      <td>14.0</td>\n",
              "      <td>12.390000</td>\n",
              "      <td>209.0</td>\n",
              "      <td>1.0</td>\n",
              "      <td>-0.91</td>\n",
              "      <td>...</td>\n",
              "      <td>8259.0</td>\n",
              "      <td>7574.0</td>\n",
              "      <td>177.0</td>\n",
              "      <td>509.0</td>\n",
              "      <td>80.0</td>\n",
              "      <td>59.0</td>\n",
              "      <td>110.0</td>\n",
              "      <td>1</td>\n",
              "      <td>0</td>\n",
              "      <td>0</td>\n",
              "    </tr>\n",
              "    <tr>\n",
              "      <th>4</th>\n",
              "      <td>ACLI</td>\n",
              "      <td>AMERICAN COMMERCIAL LINES INC.</td>\n",
              "      <td>3</td>\n",
              "      <td>21.0</td>\n",
              "      <td>21.0</td>\n",
              "      <td>19.0</td>\n",
              "      <td>56.599998</td>\n",
              "      <td>80.0</td>\n",
              "      <td>1.0</td>\n",
              "      <td>0.07</td>\n",
              "      <td>...</td>\n",
              "      <td>14830.0</td>\n",
              "      <td>13176.0</td>\n",
              "      <td>336.0</td>\n",
              "      <td>720.0</td>\n",
              "      <td>67.0</td>\n",
              "      <td>149.0</td>\n",
              "      <td>167.0</td>\n",
              "      <td>0</td>\n",
              "      <td>0</td>\n",
              "      <td>1</td>\n",
              "    </tr>\n",
              "    <tr>\n",
              "      <th>5</th>\n",
              "      <td>ACOM</td>\n",
              "      <td>Ancestry.com Inc.</td>\n",
              "      <td>2</td>\n",
              "      <td>13.5</td>\n",
              "      <td>14.5</td>\n",
              "      <td>12.5</td>\n",
              "      <td>14.200000</td>\n",
              "      <td>94.0</td>\n",
              "      <td>1.0</td>\n",
              "      <td>0.06</td>\n",
              "      <td>...</td>\n",
              "      <td>17999.0</td>\n",
              "      <td>13934.0</td>\n",
              "      <td>328.0</td>\n",
              "      <td>815.0</td>\n",
              "      <td>62.0</td>\n",
              "      <td>96.0</td>\n",
              "      <td>181.0</td>\n",
              "      <td>0</td>\n",
              "      <td>1</td>\n",
              "      <td>0</td>\n",
              "    </tr>\n",
              "    <tr>\n",
              "      <th>6</th>\n",
              "      <td>ACOR</td>\n",
              "      <td>ACORDA THERAPEUTICS INC</td>\n",
              "      <td>1</td>\n",
              "      <td>6.0</td>\n",
              "      <td>13.0</td>\n",
              "      <td>11.0</td>\n",
              "      <td>6.720000</td>\n",
              "      <td>128.0</td>\n",
              "      <td>1.0</td>\n",
              "      <td>-1.87</td>\n",
              "      <td>...</td>\n",
              "      <td>15758.0</td>\n",
              "      <td>13953.0</td>\n",
              "      <td>379.0</td>\n",
              "      <td>698.0</td>\n",
              "      <td>82.0</td>\n",
              "      <td>106.0</td>\n",
              "      <td>135.0</td>\n",
              "      <td>1</td>\n",
              "      <td>0</td>\n",
              "      <td>0</td>\n",
              "    </tr>\n",
              "    <tr>\n",
              "      <th>7</th>\n",
              "      <td>ACRX</td>\n",
              "      <td>ACELRX PHARMACEUTICALS INC</td>\n",
              "      <td>1</td>\n",
              "      <td>5.0</td>\n",
              "      <td>14.0</td>\n",
              "      <td>12.0</td>\n",
              "      <td>4.550000</td>\n",
              "      <td>91.0</td>\n",
              "      <td>0.0</td>\n",
              "      <td>-0.74</td>\n",
              "      <td>...</td>\n",
              "      <td>11226.0</td>\n",
              "      <td>10056.0</td>\n",
              "      <td>276.0</td>\n",
              "      <td>627.0</td>\n",
              "      <td>55.0</td>\n",
              "      <td>120.0</td>\n",
              "      <td>122.0</td>\n",
              "      <td>1</td>\n",
              "      <td>0</td>\n",
              "      <td>0</td>\n",
              "    </tr>\n",
              "    <tr>\n",
              "      <th>8</th>\n",
              "      <td>ACTV</td>\n",
              "      <td>ACTIVE NETWORK INC</td>\n",
              "      <td>2</td>\n",
              "      <td>15.0</td>\n",
              "      <td>18.0</td>\n",
              "      <td>16.0</td>\n",
              "      <td>15.900000</td>\n",
              "      <td>100.0</td>\n",
              "      <td>1.0</td>\n",
              "      <td>-0.51</td>\n",
              "      <td>...</td>\n",
              "      <td>14813.0</td>\n",
              "      <td>13463.0</td>\n",
              "      <td>335.0</td>\n",
              "      <td>917.0</td>\n",
              "      <td>58.0</td>\n",
              "      <td>124.0</td>\n",
              "      <td>234.0</td>\n",
              "      <td>0</td>\n",
              "      <td>1</td>\n",
              "      <td>0</td>\n",
              "    </tr>\n",
              "    <tr>\n",
              "      <th>9</th>\n",
              "      <td>ACW</td>\n",
              "      <td>ACCURIDE CORP</td>\n",
              "      <td>1</td>\n",
              "      <td>9.0</td>\n",
              "      <td>19.0</td>\n",
              "      <td>17.0</td>\n",
              "      <td>0.000000</td>\n",
              "      <td>106.0</td>\n",
              "      <td>1.0</td>\n",
              "      <td>1.49</td>\n",
              "      <td>...</td>\n",
              "      <td>9134.0</td>\n",
              "      <td>8107.0</td>\n",
              "      <td>198.0</td>\n",
              "      <td>459.0</td>\n",
              "      <td>81.0</td>\n",
              "      <td>90.0</td>\n",
              "      <td>147.0</td>\n",
              "      <td>1</td>\n",
              "      <td>0</td>\n",
              "      <td>0</td>\n",
              "    </tr>\n",
              "  </tbody>\n",
              "</table>\n",
              "<p>10 rows × 25 columns</p>\n",
              "</div>\n",
              "      <button class=\"colab-df-convert\" onclick=\"convertToInteractive('df-3a2c2693-68b8-47c2-9aab-c33506b1609d')\"\n",
              "              title=\"Convert this dataframe to an interactive table.\"\n",
              "              style=\"display:none;\">\n",
              "        \n",
              "  <svg xmlns=\"http://www.w3.org/2000/svg\" height=\"24px\"viewBox=\"0 0 24 24\"\n",
              "       width=\"24px\">\n",
              "    <path d=\"M0 0h24v24H0V0z\" fill=\"none\"/>\n",
              "    <path d=\"M18.56 5.44l.94 2.06.94-2.06 2.06-.94-2.06-.94-.94-2.06-.94 2.06-2.06.94zm-11 1L8.5 8.5l.94-2.06 2.06-.94-2.06-.94L8.5 2.5l-.94 2.06-2.06.94zm10 10l.94 2.06.94-2.06 2.06-.94-2.06-.94-.94-2.06-.94 2.06-2.06.94z\"/><path d=\"M17.41 7.96l-1.37-1.37c-.4-.4-.92-.59-1.43-.59-.52 0-1.04.2-1.43.59L10.3 9.45l-7.72 7.72c-.78.78-.78 2.05 0 2.83L4 21.41c.39.39.9.59 1.41.59.51 0 1.02-.2 1.41-.59l7.78-7.78 2.81-2.81c.8-.78.8-2.07 0-2.86zM5.41 20L4 18.59l7.72-7.72 1.47 1.35L5.41 20z\"/>\n",
              "  </svg>\n",
              "      </button>\n",
              "      \n",
              "  <style>\n",
              "    .colab-df-container {\n",
              "      display:flex;\n",
              "      flex-wrap:wrap;\n",
              "      gap: 12px;\n",
              "    }\n",
              "\n",
              "    .colab-df-convert {\n",
              "      background-color: #E8F0FE;\n",
              "      border: none;\n",
              "      border-radius: 50%;\n",
              "      cursor: pointer;\n",
              "      display: none;\n",
              "      fill: #1967D2;\n",
              "      height: 32px;\n",
              "      padding: 0 0 0 0;\n",
              "      width: 32px;\n",
              "    }\n",
              "\n",
              "    .colab-df-convert:hover {\n",
              "      background-color: #E2EBFA;\n",
              "      box-shadow: 0px 1px 2px rgba(60, 64, 67, 0.3), 0px 1px 3px 1px rgba(60, 64, 67, 0.15);\n",
              "      fill: #174EA6;\n",
              "    }\n",
              "\n",
              "    [theme=dark] .colab-df-convert {\n",
              "      background-color: #3B4455;\n",
              "      fill: #D2E3FC;\n",
              "    }\n",
              "\n",
              "    [theme=dark] .colab-df-convert:hover {\n",
              "      background-color: #434B5C;\n",
              "      box-shadow: 0px 1px 3px 1px rgba(0, 0, 0, 0.15);\n",
              "      filter: drop-shadow(0px 1px 2px rgba(0, 0, 0, 0.3));\n",
              "      fill: #FFFFFF;\n",
              "    }\n",
              "  </style>\n",
              "\n",
              "      <script>\n",
              "        const buttonEl =\n",
              "          document.querySelector('#df-3a2c2693-68b8-47c2-9aab-c33506b1609d button.colab-df-convert');\n",
              "        buttonEl.style.display =\n",
              "          google.colab.kernel.accessAllowed ? 'block' : 'none';\n",
              "\n",
              "        async function convertToInteractive(key) {\n",
              "          const element = document.querySelector('#df-3a2c2693-68b8-47c2-9aab-c33506b1609d');\n",
              "          const dataTable =\n",
              "            await google.colab.kernel.invokeFunction('convertToInteractive',\n",
              "                                                     [key], {});\n",
              "          if (!dataTable) return;\n",
              "\n",
              "          const docLinkHtml = 'Like what you see? Visit the ' +\n",
              "            '<a target=\"_blank\" href=https://colab.research.google.com/notebooks/data_table.ipynb>data table notebook</a>'\n",
              "            + ' to learn more about interactive tables.';\n",
              "          element.innerHTML = '';\n",
              "          dataTable['output_type'] = 'display_data';\n",
              "          await google.colab.output.renderOutput(dataTable, element);\n",
              "          const docLink = document.createElement('div');\n",
              "          docLink.innerHTML = docLinkHtml;\n",
              "          element.appendChild(docLink);\n",
              "        }\n",
              "      </script>\n",
              "    </div>\n",
              "  </div>\n",
              "  "
            ]
          },
          "metadata": {},
          "execution_count": 23
        }
      ]
    },
    {
      "cell_type": "code",
      "source": [
        "# visualizing the distribution of stdandard industry classifier \n",
        "ipo_df['std_industry_classifier'].hist()\n",
        "plt.title(\"Distribution of Standard Industry Classifier\")\n",
        "plt.xlabel(\"Industry Classifier\")\n",
        "plt.ylabel(\"Count\")"
      ],
      "metadata": {
        "colab": {
          "base_uri": "https://localhost:8080/",
          "height": 313
        },
        "id": "e0e35WMvD47l",
        "outputId": "cb3a7243-fdfb-4cf8-f792-40b4e17feb4c"
      },
      "execution_count": null,
      "outputs": [
        {
          "output_type": "execute_result",
          "data": {
            "text/plain": [
              "Text(0, 0.5, 'Count')"
            ]
          },
          "metadata": {},
          "execution_count": 24
        },
        {
          "output_type": "display_data",
          "data": {
            "text/plain": [
              "<Figure size 432x288 with 1 Axes>"
            ],
            "image/png": "[encoded data removed]"
          },
          "metadata": {
            "needs_background": "light"
          }
        }
      ]
    },
    {
      "cell_type": "code",
      "source": [
        "#export SIC binning to csv file\n",
        "ipo_df.to_csv('SIC_Binning', ',')"
      ],
      "metadata": {
        "id": "gFNr4m0gD7Zd"
      },
      "execution_count": null,
      "outputs": []
    },
    {
      "cell_type": "markdown",
      "source": [
        "#**Adding Columns**\n",
        "\n",
        "Adding new columns and calculations. \n",
        "\n",
        "\n"
      ],
      "metadata": {
        "id": "XNGdMJOywRam"
      }
    },
    {
      "cell_type": "code",
      "source": [
        "#creating target variables\n",
        "\n",
        "ipo_df['Avg_Price'] = (ipo_df['price_range_higher_bound'] + ipo_df['price_range_lower_bound']) / 2\n",
        "\n",
        "#calculating Y1 - Set to 1 if P(IPO) < P(mid), where P(mid) = (P(H)+P(L))/2, otherwise 0\n",
        "ipo_df['Pre_IPO_Price_Revision'] = np.where(ipo_df['offer_price'] < ipo_df['Avg_Price'],1,0)\n",
        "\n",
        "#calculating Y2 - Set to 1 if P(IPO) < P(1Day), otherwise 0\n",
        "ipo_df['Post_IPO_Initial_Return'] = np.where(ipo_df['offer_price'] < ipo_df['first_day_trading_price'],1,0)\n",
        "\n",
        "#calculating C3' - Dummy variable set to 1 if C3 is positive at the time of the IPO, otherwise 0\n",
        "ipo_df[\"Positive_EPS_Dummy\"] = np.where(ipo_df['earnings_per_share'] > 0, 1, 0)\n",
        "\n",
        "#calculating C5' - C5’ = C5/C6 \n",
        "ipo_df[\"Share_Overhang\"] = ipo_df['outstanding_shares'] / ipo_df['offering_shares']\n",
        "\n",
        "#calculating C6 - Set to (P(IPO) – P(mid))/P(mid) x 100%, if P(IPO) > P(mid), otherwise 0 \n",
        "ipo_df[\"Up_Revision\"] = np.where(ipo_df['offer_price'] > ipo_df['Avg_Price'], ((ipo_df['offer_price'] - ipo_df['Avg_Price']) / ipo_df['Avg_Price']) * 100,0)"
      ],
      "metadata": {
        "id": "15PXDMLkSVfB"
      },
      "execution_count": null,
      "outputs": []
    },
    {
      "cell_type": "code",
      "source": [
        "# ratio of long sentences - T4/T1 as T1_prime\n",
        "ipo_df['T1_prime'] = ipo_df['num_of_long_sentences'] / ipo_df['num_of_sentences']\n",
        "\n",
        "# ratio of long words - T2_prime\n",
        "ipo_df['T2_prime'] = ipo_df['num_of_long_words'] / ipo_df['num_of_words']\n",
        "\n",
        "# ratio of real words - T3_prime\n",
        "ipo_df['T3_prime'] = ipo_df['num_of_real_words'] / ipo_df['num_of_words']\n",
        "\n",
        "# ratio of positive words - S1/T2 as S1_prime\n",
        "ipo_df['S1_prime'] = ipo_df['num_of_positive_words'] / ipo_df['num_of_words']\n",
        "\n",
        "# ratio of negative words - S2_prime\n",
        "ipo_df['S2_prime'] = ipo_df['num_of_negative_words'] / ipo_df['num_of_words']\n",
        "\n",
        "# ratio of uncertain words - S3_prime\n",
        "ipo_df['S3_prime'] = ipo_df['num_of_uncertain_words'] / ipo_df['num_of_words']\n",
        "\n",
        "print(ipo_df[['T1_prime', 'T2_prime', 'T3_prime', 'S1_prime', 'S2_prime','S3_prime']])"
      ],
      "metadata": {
        "colab": {
          "base_uri": "https://localhost:8080/"
        },
        "id": "XJBIkl066VSo",
        "outputId": "b81e97b4-3823-410b-8a77-ec145626164d"
      },
      "execution_count": null,
      "outputs": [
        {
          "output_type": "stream",
          "name": "stdout",
          "text": [
            "     T1_prime  T2_prime  T3_prime  S1_prime  S2_prime  S3_prime\n",
            "0    0.640426  0.054250  0.908876  0.004875  0.009199  0.010929\n",
            "1    0.644753  0.051395  0.898724  0.003258  0.011105  0.010876\n",
            "2    0.636816  0.061764  0.909350  0.011593  0.006271  0.011403\n",
            "3    0.539634  0.061630  0.917060  0.009686  0.007144  0.013319\n",
            "4    0.587413  0.048550  0.888469  0.004518  0.010047  0.011261\n",
            "..        ...       ...       ...       ...       ...       ...\n",
            "677  0.612663  0.050603  0.920952  0.006512  0.007935  0.012950\n",
            "678  0.647177  0.056770  0.906227  0.005069  0.009124  0.012527\n",
            "679  0.647761  0.047976  0.889600  0.004191  0.009044  0.009926\n",
            "680  0.710938  0.043178  0.909412  0.006773  0.005362  0.014110\n",
            "681  0.670702  0.054545  0.904288  0.008062  0.008834  0.013551\n",
            "\n",
            "[660 rows x 6 columns]\n"
          ]
        }
      ]
    },
    {
      "cell_type": "code",
      "source": [
        "ipo_df.columns"
      ],
      "metadata": {
        "id": "5r2ahFADYARr",
        "colab": {
          "base_uri": "https://localhost:8080/"
        },
        "outputId": "c0fefae6-6307-445f-dd07-85de12f5c521"
      },
      "execution_count": null,
      "outputs": [
        {
          "output_type": "execute_result",
          "data": {
            "text/plain": [
              "Index(['ticker', 'company_name', 'std_industry_classifier', 'offer_price',\n",
              "       'price_range_higher_bound', 'price_range_lower_bound',\n",
              "       'first_day_trading_price', 'days', 'top_tier_dummy',\n",
              "       'earnings_per_share', 'prior_nasdaq_15day_returns',\n",
              "       'outstanding_shares', 'offering_shares', 'sales', 'num_of_sentences',\n",
              "       'num_of_words', 'num_of_real_words', 'num_of_long_sentences',\n",
              "       'num_of_long_words', 'num_of_positive_words', 'num_of_negative_words',\n",
              "       'num_of_uncertain_words', 'Manufacturing', 'Services', 'Other',\n",
              "       'Avg_Price', 'Pre_IPO_Price_Revision', 'Post_IPO_Initial_Return',\n",
              "       'Positive_EPS_Dummy', 'Share_Overhang', 'Up_Revision', 'T1_prime',\n",
              "       'T2_prime', 'T3_prime', 'S1_prime', 'S2_prime', 'S3_prime'],\n",
              "      dtype='object')"
            ]
          },
          "metadata": {},
          "execution_count": 28
        }
      ]
    },
    {
      "cell_type": "code",
      "source": [
        "ipo_df= ipo_df.drop(['offer_price',\n",
        "       'price_range_higher_bound', 'price_range_lower_bound',\n",
        "       'first_day_trading_price','Avg_Price', 'earnings_per_share', 'outstanding_shares', 'offering_shares','num_of_sentences',\n",
        "       'num_of_words', 'num_of_real_words', 'num_of_long_sentences',\n",
        "       'num_of_long_words', 'num_of_positive_words', 'num_of_negative_words',\n",
        "       'num_of_uncertain_words' ],axis=1)"
      ],
      "metadata": {
        "id": "L-QH5fWJZ_Lm"
      },
      "execution_count": null,
      "outputs": []
    },
    {
      "cell_type": "markdown",
      "source": [
        "# Creation of Different Variables (Cont., Cat., Target) and Graphs"
      ],
      "metadata": {
        "id": "Dhsd3pjHKJ72"
      }
    },
    {
      "cell_type": "code",
      "source": [
        "num_cols = ['days', 'prior_nasdaq_15day_returns', 'sales', 'Share_Overhang', 'Up_Revision', 'T1_prime', 'T2_prime', 'T3_prime', 'S1_prime', 'S2_prime', 'S3_prime']"
      ],
      "metadata": {
        "id": "Hggj0j_b6e3U"
      },
      "execution_count": null,
      "outputs": []
    },
    {
      "cell_type": "code",
      "source": [
        "ipo_df_cont = ipo_df.loc[:, num_cols]\n",
        "ipo_df_cont.head()"
      ],
      "metadata": {
        "colab": {
          "base_uri": "https://localhost:8080/",
          "height": 270
        },
        "id": "bK_wM9K0qA6X",
        "outputId": "a474ea88-757b-4733-b4a8-e5beed1b3391"
      },
      "execution_count": null,
      "outputs": [
        {
          "output_type": "execute_result",
          "data": {
            "text/plain": [
              "    days  prior_nasdaq_15day_returns    sales  Share_Overhang  Up_Revision  \\\n",
              "0  122.0                    0.029074   51.345        3.864345    11.111111   \n",
              "1  259.0                   -0.013352   25.936       12.028832     0.000000   \n",
              "2   90.0                    0.020715    7.378        3.369134     0.000000   \n",
              "3  209.0                    0.020023    8.526        3.299697     0.000000   \n",
              "4   80.0                   -0.034895  632.298        3.726269     5.000000   \n",
              "\n",
              "   T1_prime  T2_prime  T3_prime  S1_prime  S2_prime  S3_prime  \n",
              "0  0.640426  0.054250  0.908876  0.004875  0.009199  0.010929  \n",
              "1  0.644753  0.051395  0.898724  0.003258  0.011105  0.010876  \n",
              "2  0.636816  0.061764  0.909350  0.011593  0.006271  0.011403  \n",
              "3  0.539634  0.061630  0.917060  0.009686  0.007144  0.013319  \n",
              "4  0.587413  0.048550  0.888469  0.004518  0.010047  0.011261  "
            ],
            "text/html": [
              "\n",
              "  <div id=\"df-6e4dbbfb-efe4-42a6-9d06-9d068d273b02\">\n",
              "    <div class=\"colab-df-container\">\n",
              "      <div>\n",
              "<style scoped>\n",
              "    .dataframe tbody tr th:only-of-type {\n",
              "        vertical-align: middle;\n",
              "    }\n",
              "\n",
              "    .dataframe tbody tr th {\n",
              "        vertical-align: top;\n",
              "    }\n",
              "\n",
              "    .dataframe thead th {\n",
              "        text-align: right;\n",
              "    }\n",
              "</style>\n",
              "<table border=\"1\" class=\"dataframe\">\n",
              "  <thead>\n",
              "    <tr style=\"text-align: right;\">\n",
              "      <th></th>\n",
              "      <th>days</th>\n",
              "      <th>prior_nasdaq_15day_returns</th>\n",
              "      <th>sales</th>\n",
              "      <th>Share_Overhang</th>\n",
              "      <th>Up_Revision</th>\n",
              "      <th>T1_prime</th>\n",
              "      <th>T2_prime</th>\n",
              "      <th>T3_prime</th>\n",
              "      <th>S1_prime</th>\n",
              "      <th>S2_prime</th>\n",
              "      <th>S3_prime</th>\n",
              "    </tr>\n",
              "  </thead>\n",
              "  <tbody>\n",
              "    <tr>\n",
              "      <th>0</th>\n",
              "      <td>122.0</td>\n",
              "      <td>0.029074</td>\n",
              "      <td>51.345</td>\n",
              "      <td>3.864345</td>\n",
              "      <td>11.111111</td>\n",
              "      <td>0.640426</td>\n",
              "      <td>0.054250</td>\n",
              "      <td>0.908876</td>\n",
              "      <td>0.004875</td>\n",
              "      <td>0.009199</td>\n",
              "      <td>0.010929</td>\n",
              "    </tr>\n",
              "    <tr>\n",
              "      <th>1</th>\n",
              "      <td>259.0</td>\n",
              "      <td>-0.013352</td>\n",
              "      <td>25.936</td>\n",
              "      <td>12.028832</td>\n",
              "      <td>0.000000</td>\n",
              "      <td>0.644753</td>\n",
              "      <td>0.051395</td>\n",
              "      <td>0.898724</td>\n",
              "      <td>0.003258</td>\n",
              "      <td>0.011105</td>\n",
              "      <td>0.010876</td>\n",
              "    </tr>\n",
              "    <tr>\n",
              "      <th>2</th>\n",
              "      <td>90.0</td>\n",
              "      <td>0.020715</td>\n",
              "      <td>7.378</td>\n",
              "      <td>3.369134</td>\n",
              "      <td>0.000000</td>\n",
              "      <td>0.636816</td>\n",
              "      <td>0.061764</td>\n",
              "      <td>0.909350</td>\n",
              "      <td>0.011593</td>\n",
              "      <td>0.006271</td>\n",
              "      <td>0.011403</td>\n",
              "    </tr>\n",
              "    <tr>\n",
              "      <th>3</th>\n",
              "      <td>209.0</td>\n",
              "      <td>0.020023</td>\n",
              "      <td>8.526</td>\n",
              "      <td>3.299697</td>\n",
              "      <td>0.000000</td>\n",
              "      <td>0.539634</td>\n",
              "      <td>0.061630</td>\n",
              "      <td>0.917060</td>\n",
              "      <td>0.009686</td>\n",
              "      <td>0.007144</td>\n",
              "      <td>0.013319</td>\n",
              "    </tr>\n",
              "    <tr>\n",
              "      <th>4</th>\n",
              "      <td>80.0</td>\n",
              "      <td>-0.034895</td>\n",
              "      <td>632.298</td>\n",
              "      <td>3.726269</td>\n",
              "      <td>5.000000</td>\n",
              "      <td>0.587413</td>\n",
              "      <td>0.048550</td>\n",
              "      <td>0.888469</td>\n",
              "      <td>0.004518</td>\n",
              "      <td>0.010047</td>\n",
              "      <td>0.011261</td>\n",
              "    </tr>\n",
              "  </tbody>\n",
              "</table>\n",
              "</div>\n",
              "      <button class=\"colab-df-convert\" onclick=\"convertToInteractive('df-6e4dbbfb-efe4-42a6-9d06-9d068d273b02')\"\n",
              "              title=\"Convert this dataframe to an interactive table.\"\n",
              "              style=\"display:none;\">\n",
              "        \n",
              "  <svg xmlns=\"http://www.w3.org/2000/svg\" height=\"24px\"viewBox=\"0 0 24 24\"\n",
              "       width=\"24px\">\n",
              "    <path d=\"M0 0h24v24H0V0z\" fill=\"none\"/>\n",
              "    <path d=\"M18.56 5.44l.94 2.06.94-2.06 2.06-.94-2.06-.94-.94-2.06-.94 2.06-2.06.94zm-11 1L8.5 8.5l.94-2.06 2.06-.94-2.06-.94L8.5 2.5l-.94 2.06-2.06.94zm10 10l.94 2.06.94-2.06 2.06-.94-2.06-.94-.94-2.06-.94 2.06-2.06.94z\"/><path d=\"M17.41 7.96l-1.37-1.37c-.4-.4-.92-.59-1.43-.59-.52 0-1.04.2-1.43.59L10.3 9.45l-7.72 7.72c-.78.78-.78 2.05 0 2.83L4 21.41c.39.39.9.59 1.41.59.51 0 1.02-.2 1.41-.59l7.78-7.78 2.81-2.81c.8-.78.8-2.07 0-2.86zM5.41 20L4 18.59l7.72-7.72 1.47 1.35L5.41 20z\"/>\n",
              "  </svg>\n",
              "      </button>\n",
              "      \n",
              "  <style>\n",
              "    .colab-df-container {\n",
              "      display:flex;\n",
              "      flex-wrap:wrap;\n",
              "      gap: 12px;\n",
              "    }\n",
              "\n",
              "    .colab-df-convert {\n",
              "      background-color: #E8F0FE;\n",
              "      border: none;\n",
              "      border-radius: 50%;\n",
              "      cursor: pointer;\n",
              "      display: none;\n",
              "      fill: #1967D2;\n",
              "      height: 32px;\n",
              "      padding: 0 0 0 0;\n",
              "      width: 32px;\n",
              "    }\n",
              "\n",
              "    .colab-df-convert:hover {\n",
              "      background-color: #E2EBFA;\n",
              "      box-shadow: 0px 1px 2px rgba(60, 64, 67, 0.3), 0px 1px 3px 1px rgba(60, 64, 67, 0.15);\n",
              "      fill: #174EA6;\n",
              "    }\n",
              "\n",
              "    [theme=dark] .colab-df-convert {\n",
              "      background-color: #3B4455;\n",
              "      fill: #D2E3FC;\n",
              "    }\n",
              "\n",
              "    [theme=dark] .colab-df-convert:hover {\n",
              "      background-color: #434B5C;\n",
              "      box-shadow: 0px 1px 3px 1px rgba(0, 0, 0, 0.15);\n",
              "      filter: drop-shadow(0px 1px 2px rgba(0, 0, 0, 0.3));\n",
              "      fill: #FFFFFF;\n",
              "    }\n",
              "  </style>\n",
              "\n",
              "      <script>\n",
              "        const buttonEl =\n",
              "          document.querySelector('#df-6e4dbbfb-efe4-42a6-9d06-9d068d273b02 button.colab-df-convert');\n",
              "        buttonEl.style.display =\n",
              "          google.colab.kernel.accessAllowed ? 'block' : 'none';\n",
              "\n",
              "        async function convertToInteractive(key) {\n",
              "          const element = document.querySelector('#df-6e4dbbfb-efe4-42a6-9d06-9d068d273b02');\n",
              "          const dataTable =\n",
              "            await google.colab.kernel.invokeFunction('convertToInteractive',\n",
              "                                                     [key], {});\n",
              "          if (!dataTable) return;\n",
              "\n",
              "          const docLinkHtml = 'Like what you see? Visit the ' +\n",
              "            '<a target=\"_blank\" href=https://colab.research.google.com/notebooks/data_table.ipynb>data table notebook</a>'\n",
              "            + ' to learn more about interactive tables.';\n",
              "          element.innerHTML = '';\n",
              "          dataTable['output_type'] = 'display_data';\n",
              "          await google.colab.output.renderOutput(dataTable, element);\n",
              "          const docLink = document.createElement('div');\n",
              "          docLink.innerHTML = docLinkHtml;\n",
              "          element.appendChild(docLink);\n",
              "        }\n",
              "      </script>\n",
              "    </div>\n",
              "  </div>\n",
              "  "
            ]
          },
          "metadata": {},
          "execution_count": 31
        }
      ]
    },
    {
      "cell_type": "code",
      "source": [
        "ipo_df_cont.boxplot(column = 'sales')"
      ],
      "metadata": {
        "colab": {
          "base_uri": "https://localhost:8080/",
          "height": 283
        },
        "id": "R6bUBf5Y0V16",
        "outputId": "82c02eb2-1a40-4165-80e0-d3560b89fb7d"
      },
      "execution_count": null,
      "outputs": [
        {
          "output_type": "execute_result",
          "data": {
            "text/plain": [
              "<AxesSubplot:>"
            ]
          },
          "metadata": {},
          "execution_count": 32
        },
        {
          "output_type": "display_data",
          "data": {
            "text/plain": [
              "<Figure size 432x288 with 1 Axes>"
            ],
            "image/png": "[encoded data removed]"
          },
          "metadata": {
            "needs_background": "light"
          }
        }
      ]
    },
    {
      "cell_type": "code",
      "source": [
        "ipo_df_cont.boxplot(column = 'prior_nasdaq_15day_returns')"
      ],
      "metadata": {
        "colab": {
          "base_uri": "https://localhost:8080/",
          "height": 284
        },
        "id": "pZUki1wXH_Me",
        "outputId": "20028ad7-b033-499f-b7e9-8ddc70a94600"
      },
      "execution_count": null,
      "outputs": [
        {
          "output_type": "execute_result",
          "data": {
            "text/plain": [
              "<AxesSubplot:>"
            ]
          },
          "metadata": {},
          "execution_count": 33
        },
        {
          "output_type": "display_data",
          "data": {
            "text/plain": [
              "<Figure size 432x288 with 1 Axes>"
            ],
            "image/png": "[encoded data removed]"
          },
          "metadata": {
            "needs_background": "light"
          }
        }
      ]
    },
    {
      "cell_type": "code",
      "source": [
        "ipo_df_cont.boxplot(column = ['Share_Overhang', 'Up_Revision'])"
      ],
      "metadata": {
        "colab": {
          "base_uri": "https://localhost:8080/",
          "height": 284
        },
        "id": "edelrSJhzzZp",
        "outputId": "77e2f6f6-9a2a-4a9b-de83-3272390f5766"
      },
      "execution_count": null,
      "outputs": [
        {
          "output_type": "execute_result",
          "data": {
            "text/plain": [
              "<AxesSubplot:>"
            ]
          },
          "metadata": {},
          "execution_count": 34
        },
        {
          "output_type": "display_data",
          "data": {
            "text/plain": [
              "<Figure size 432x288 with 1 Axes>"
            ],
            "image/png": "[encoded data removed]"
          },
          "metadata": {
            "needs_background": "light"
          }
        }
      ]
    },
    {
      "cell_type": "code",
      "source": [
        "ipo_df_cont.boxplot(column = ['T1_prime', 'T2_prime', 'T3_prime'])"
      ],
      "metadata": {
        "colab": {
          "base_uri": "https://localhost:8080/",
          "height": 284
        },
        "id": "n2QCSYTyzuy2",
        "outputId": "6249e5bc-aeab-4318-dcef-218a00ae191f"
      },
      "execution_count": null,
      "outputs": [
        {
          "output_type": "execute_result",
          "data": {
            "text/plain": [
              "<AxesSubplot:>"
            ]
          },
          "metadata": {},
          "execution_count": 35
        },
        {
          "output_type": "display_data",
          "data": {
            "text/plain": [
              "<Figure size 432x288 with 1 Axes>"
            ],
            "image/png": "[encoded data removed]"
          },
          "metadata": {
            "needs_background": "light"
          }
        }
      ]
    },
    {
      "cell_type": "code",
      "source": [
        "ipo_df_cont.boxplot(column = ['S1_prime', 'S2_prime', 'S3_prime'])"
      ],
      "metadata": {
        "colab": {
          "base_uri": "https://localhost:8080/",
          "height": 284
        },
        "id": "CpCUfDbMzH8_",
        "outputId": "267c1561-9b32-48e7-f0ff-46f48329388d"
      },
      "execution_count": null,
      "outputs": [
        {
          "output_type": "execute_result",
          "data": {
            "text/plain": [
              "<AxesSubplot:>"
            ]
          },
          "metadata": {},
          "execution_count": 36
        },
        {
          "output_type": "display_data",
          "data": {
            "text/plain": [
              "<Figure size 432x288 with 1 Axes>"
            ],
            "image/png": "[encoded data removed]"
          },
          "metadata": {
            "needs_background": "light"
          }
        }
      ]
    },
    {
      "cell_type": "code",
      "source": [
        "ipo_df_cat = ipo_df.loc[:, ipo_df.columns[~ipo_df.columns.isin(num_cols)]]\n",
        "ipo_df_cat.head()"
      ],
      "metadata": {
        "colab": {
          "base_uri": "https://localhost:8080/",
          "height": 426
        },
        "id": "40DJ6Zchqlwn",
        "outputId": "9a6add75-a5d5-45f5-e0c9-d41bd9f835d1"
      },
      "execution_count": null,
      "outputs": [
        {
          "output_type": "execute_result",
          "data": {
            "text/plain": [
              "  ticker                        company_name  std_industry_classifier  \\\n",
              "0   AATI  ADVANCED ANALOGIC TECHNOLOGIES INC                        1   \n",
              "1   ABPI     ACCENTIA BIOPHARMACEUTICALS INC                        1   \n",
              "2   ACAD          ACADIA PHARMACEUTICALS INC                        1   \n",
              "3   ACHN       ACHILLION PHARMACEUTICALS INC                        1   \n",
              "4   ACLI     AMERICAN COMMERCIAL LINES INC.                         3   \n",
              "\n",
              "   top_tier_dummy  Manufacturing  Services  Other  Pre_IPO_Price_Revision  \\\n",
              "0             1.0              1         0      0                       0   \n",
              "1             0.0              1         0      0                       1   \n",
              "2             1.0              1         0      0                       1   \n",
              "3             1.0              1         0      0                       1   \n",
              "4             1.0              0         0      1                       0   \n",
              "\n",
              "   Post_IPO_Initial_Return  Positive_EPS_Dummy  \n",
              "0                        1                   1  \n",
              "1                        0                   0  \n",
              "2                        0                   0  \n",
              "3                        1                   0  \n",
              "4                        1                   1  "
            ],
            "text/html": [
              "\n",
              "  <div id=\"df-24c83037-022f-47ad-9bf8-afbb6e740f37\">\n",
              "    <div class=\"colab-df-container\">\n",
              "      <div>\n",
              "<style scoped>\n",
              "    .dataframe tbody tr th:only-of-type {\n",
              "        vertical-align: middle;\n",
              "    }\n",
              "\n",
              "    .dataframe tbody tr th {\n",
              "        vertical-align: top;\n",
              "    }\n",
              "\n",
              "    .dataframe thead th {\n",
              "        text-align: right;\n",
              "    }\n",
              "</style>\n",
              "<table border=\"1\" class=\"dataframe\">\n",
              "  <thead>\n",
              "    <tr style=\"text-align: right;\">\n",
              "      <th></th>\n",
              "      <th>ticker</th>\n",
              "      <th>company_name</th>\n",
              "      <th>std_industry_classifier</th>\n",
              "      <th>top_tier_dummy</th>\n",
              "      <th>Manufacturing</th>\n",
              "      <th>Services</th>\n",
              "      <th>Other</th>\n",
              "      <th>Pre_IPO_Price_Revision</th>\n",
              "      <th>Post_IPO_Initial_Return</th>\n",
              "      <th>Positive_EPS_Dummy</th>\n",
              "    </tr>\n",
              "  </thead>\n",
              "  <tbody>\n",
              "    <tr>\n",
              "      <th>0</th>\n",
              "      <td>AATI</td>\n",
              "      <td>ADVANCED ANALOGIC TECHNOLOGIES INC</td>\n",
              "      <td>1</td>\n",
              "      <td>1.0</td>\n",
              "      <td>1</td>\n",
              "      <td>0</td>\n",
              "      <td>0</td>\n",
              "      <td>0</td>\n",
              "      <td>1</td>\n",
              "      <td>1</td>\n",
              "    </tr>\n",
              "    <tr>\n",
              "      <th>1</th>\n",
              "      <td>ABPI</td>\n",
              "      <td>ACCENTIA BIOPHARMACEUTICALS INC</td>\n",
              "      <td>1</td>\n",
              "      <td>0.0</td>\n",
              "      <td>1</td>\n",
              "      <td>0</td>\n",
              "      <td>0</td>\n",
              "      <td>1</td>\n",
              "      <td>0</td>\n",
              "      <td>0</td>\n",
              "    </tr>\n",
              "    <tr>\n",
              "      <th>2</th>\n",
              "      <td>ACAD</td>\n",
              "      <td>ACADIA PHARMACEUTICALS INC</td>\n",
              "      <td>1</td>\n",
              "      <td>1.0</td>\n",
              "      <td>1</td>\n",
              "      <td>0</td>\n",
              "      <td>0</td>\n",
              "      <td>1</td>\n",
              "      <td>0</td>\n",
              "      <td>0</td>\n",
              "    </tr>\n",
              "    <tr>\n",
              "      <th>3</th>\n",
              "      <td>ACHN</td>\n",
              "      <td>ACHILLION PHARMACEUTICALS INC</td>\n",
              "      <td>1</td>\n",
              "      <td>1.0</td>\n",
              "      <td>1</td>\n",
              "      <td>0</td>\n",
              "      <td>0</td>\n",
              "      <td>1</td>\n",
              "      <td>1</td>\n",
              "      <td>0</td>\n",
              "    </tr>\n",
              "    <tr>\n",
              "      <th>4</th>\n",
              "      <td>ACLI</td>\n",
              "      <td>AMERICAN COMMERCIAL LINES INC.</td>\n",
              "      <td>3</td>\n",
              "      <td>1.0</td>\n",
              "      <td>0</td>\n",
              "      <td>0</td>\n",
              "      <td>1</td>\n",
              "      <td>0</td>\n",
              "      <td>1</td>\n",
              "      <td>1</td>\n",
              "    </tr>\n",
              "  </tbody>\n",
              "</table>\n",
              "</div>\n",
              "      <button class=\"colab-df-convert\" onclick=\"convertToInteractive('df-24c83037-022f-47ad-9bf8-afbb6e740f37')\"\n",
              "              title=\"Convert this dataframe to an interactive table.\"\n",
              "              style=\"display:none;\">\n",
              "        \n",
              "  <svg xmlns=\"http://www.w3.org/2000/svg\" height=\"24px\"viewBox=\"0 0 24 24\"\n",
              "       width=\"24px\">\n",
              "    <path d=\"M0 0h24v24H0V0z\" fill=\"none\"/>\n",
              "    <path d=\"M18.56 5.44l.94 2.06.94-2.06 2.06-.94-2.06-.94-.94-2.06-.94 2.06-2.06.94zm-11 1L8.5 8.5l.94-2.06 2.06-.94-2.06-.94L8.5 2.5l-.94 2.06-2.06.94zm10 10l.94 2.06.94-2.06 2.06-.94-2.06-.94-.94-2.06-.94 2.06-2.06.94z\"/><path d=\"M17.41 7.96l-1.37-1.37c-.4-.4-.92-.59-1.43-.59-.52 0-1.04.2-1.43.59L10.3 9.45l-7.72 7.72c-.78.78-.78 2.05 0 2.83L4 21.41c.39.39.9.59 1.41.59.51 0 1.02-.2 1.41-.59l7.78-7.78 2.81-2.81c.8-.78.8-2.07 0-2.86zM5.41 20L4 18.59l7.72-7.72 1.47 1.35L5.41 20z\"/>\n",
              "  </svg>\n",
              "      </button>\n",
              "      \n",
              "  <style>\n",
              "    .colab-df-container {\n",
              "      display:flex;\n",
              "      flex-wrap:wrap;\n",
              "      gap: 12px;\n",
              "    }\n",
              "\n",
              "    .colab-df-convert {\n",
              "      background-color: #E8F0FE;\n",
              "      border: none;\n",
              "      border-radius: 50%;\n",
              "      cursor: pointer;\n",
              "      display: none;\n",
              "      fill: #1967D2;\n",
              "      height: 32px;\n",
              "      padding: 0 0 0 0;\n",
              "      width: 32px;\n",
              "    }\n",
              "\n",
              "    .colab-df-convert:hover {\n",
              "      background-color: #E2EBFA;\n",
              "      box-shadow: 0px 1px 2px rgba(60, 64, 67, 0.3), 0px 1px 3px 1px rgba(60, 64, 67, 0.15);\n",
              "      fill: #174EA6;\n",
              "    }\n",
              "\n",
              "    [theme=dark] .colab-df-convert {\n",
              "      background-color: #3B4455;\n",
              "      fill: #D2E3FC;\n",
              "    }\n",
              "\n",
              "    [theme=dark] .colab-df-convert:hover {\n",
              "      background-color: #434B5C;\n",
              "      box-shadow: 0px 1px 3px 1px rgba(0, 0, 0, 0.15);\n",
              "      filter: drop-shadow(0px 1px 2px rgba(0, 0, 0, 0.3));\n",
              "      fill: #FFFFFF;\n",
              "    }\n",
              "  </style>\n",
              "\n",
              "      <script>\n",
              "        const buttonEl =\n",
              "          document.querySelector('#df-24c83037-022f-47ad-9bf8-afbb6e740f37 button.colab-df-convert');\n",
              "        buttonEl.style.display =\n",
              "          google.colab.kernel.accessAllowed ? 'block' : 'none';\n",
              "\n",
              "        async function convertToInteractive(key) {\n",
              "          const element = document.querySelector('#df-24c83037-022f-47ad-9bf8-afbb6e740f37');\n",
              "          const dataTable =\n",
              "            await google.colab.kernel.invokeFunction('convertToInteractive',\n",
              "                                                     [key], {});\n",
              "          if (!dataTable) return;\n",
              "\n",
              "          const docLinkHtml = 'Like what you see? Visit the ' +\n",
              "            '<a target=\"_blank\" href=https://colab.research.google.com/notebooks/data_table.ipynb>data table notebook</a>'\n",
              "            + ' to learn more about interactive tables.';\n",
              "          element.innerHTML = '';\n",
              "          dataTable['output_type'] = 'display_data';\n",
              "          await google.colab.output.renderOutput(dataTable, element);\n",
              "          const docLink = document.createElement('div');\n",
              "          docLink.innerHTML = docLinkHtml;\n",
              "          element.appendChild(docLink);\n",
              "        }\n",
              "      </script>\n",
              "    </div>\n",
              "  </div>\n",
              "  "
            ]
          },
          "metadata": {},
          "execution_count": 37
        }
      ]
    },
    {
      "cell_type": "code",
      "source": [
        "ipo_df_cat.hist()"
      ],
      "metadata": {
        "colab": {
          "base_uri": "https://localhost:8080/",
          "height": 447
        },
        "id": "qg2D0T0nzAvi",
        "outputId": "f06ab1f9-b68b-4437-ad10-9ff4fab405ba"
      },
      "execution_count": null,
      "outputs": [
        {
          "output_type": "execute_result",
          "data": {
            "text/plain": [
              "array([[<AxesSubplot:title={'center':'std_industry_classifier'}>,\n",
              "        <AxesSubplot:title={'center':'top_tier_dummy'}>,\n",
              "        <AxesSubplot:title={'center':'Manufacturing'}>],\n",
              "       [<AxesSubplot:title={'center':'Services'}>,\n",
              "        <AxesSubplot:title={'center':'Other'}>,\n",
              "        <AxesSubplot:title={'center':'Pre_IPO_Price_Revision'}>],\n",
              "       [<AxesSubplot:title={'center':'Post_IPO_Initial_Return'}>,\n",
              "        <AxesSubplot:title={'center':'Positive_EPS_Dummy'}>,\n",
              "        <AxesSubplot:>]], dtype=object)"
            ]
          },
          "metadata": {},
          "execution_count": 38
        },
        {
          "output_type": "display_data",
          "data": {
            "text/plain": [
              "<Figure size 432x288 with 9 Axes>"
            ],
            "image/png": "[encoded data removed]"
          },
          "metadata": {
            "needs_background": "light"
          }
        }
      ]
    },
    {
      "cell_type": "code",
      "source": [
        "ipo_df_target = ipo_df.loc[:, ['Pre_IPO_Price_Revision','Post_IPO_Initial_Return']]\n",
        "ipo_df_target.head()"
      ],
      "metadata": {
        "colab": {
          "base_uri": "https://localhost:8080/",
          "height": 206
        },
        "id": "JmML7onUt1Sf",
        "outputId": "2b8e2935-2093-43c0-c133-c17a5ee2356c"
      },
      "execution_count": null,
      "outputs": [
        {
          "output_type": "execute_result",
          "data": {
            "text/plain": [
              "   Pre_IPO_Price_Revision  Post_IPO_Initial_Return\n",
              "0                       0                        1\n",
              "1                       1                        0\n",
              "2                       1                        0\n",
              "3                       1                        1\n",
              "4                       0                        1"
            ],
            "text/html": [
              "\n",
              "  <div id=\"df-6d671787-4ee8-4db5-bf27-5dc2c2522a49\">\n",
              "    <div class=\"colab-df-container\">\n",
              "      <div>\n",
              "<style scoped>\n",
              "    .dataframe tbody tr th:only-of-type {\n",
              "        vertical-align: middle;\n",
              "    }\n",
              "\n",
              "    .dataframe tbody tr th {\n",
              "        vertical-align: top;\n",
              "    }\n",
              "\n",
              "    .dataframe thead th {\n",
              "        text-align: right;\n",
              "    }\n",
              "</style>\n",
              "<table border=\"1\" class=\"dataframe\">\n",
              "  <thead>\n",
              "    <tr style=\"text-align: right;\">\n",
              "      <th></th>\n",
              "      <th>Pre_IPO_Price_Revision</th>\n",
              "      <th>Post_IPO_Initial_Return</th>\n",
              "    </tr>\n",
              "  </thead>\n",
              "  <tbody>\n",
              "    <tr>\n",
              "      <th>0</th>\n",
              "      <td>0</td>\n",
              "      <td>1</td>\n",
              "    </tr>\n",
              "    <tr>\n",
              "      <th>1</th>\n",
              "      <td>1</td>\n",
              "      <td>0</td>\n",
              "    </tr>\n",
              "    <tr>\n",
              "      <th>2</th>\n",
              "      <td>1</td>\n",
              "      <td>0</td>\n",
              "    </tr>\n",
              "    <tr>\n",
              "      <th>3</th>\n",
              "      <td>1</td>\n",
              "      <td>1</td>\n",
              "    </tr>\n",
              "    <tr>\n",
              "      <th>4</th>\n",
              "      <td>0</td>\n",
              "      <td>1</td>\n",
              "    </tr>\n",
              "  </tbody>\n",
              "</table>\n",
              "</div>\n",
              "      <button class=\"colab-df-convert\" onclick=\"convertToInteractive('df-6d671787-4ee8-4db5-bf27-5dc2c2522a49')\"\n",
              "              title=\"Convert this dataframe to an interactive table.\"\n",
              "              style=\"display:none;\">\n",
              "        \n",
              "  <svg xmlns=\"http://www.w3.org/2000/svg\" height=\"24px\"viewBox=\"0 0 24 24\"\n",
              "       width=\"24px\">\n",
              "    <path d=\"M0 0h24v24H0V0z\" fill=\"none\"/>\n",
              "    <path d=\"M18.56 5.44l.94 2.06.94-2.06 2.06-.94-2.06-.94-.94-2.06-.94 2.06-2.06.94zm-11 1L8.5 8.5l.94-2.06 2.06-.94-2.06-.94L8.5 2.5l-.94 2.06-2.06.94zm10 10l.94 2.06.94-2.06 2.06-.94-2.06-.94-.94-2.06-.94 2.06-2.06.94z\"/><path d=\"M17.41 7.96l-1.37-1.37c-.4-.4-.92-.59-1.43-.59-.52 0-1.04.2-1.43.59L10.3 9.45l-7.72 7.72c-.78.78-.78 2.05 0 2.83L4 21.41c.39.39.9.59 1.41.59.51 0 1.02-.2 1.41-.59l7.78-7.78 2.81-2.81c.8-.78.8-2.07 0-2.86zM5.41 20L4 18.59l7.72-7.72 1.47 1.35L5.41 20z\"/>\n",
              "  </svg>\n",
              "      </button>\n",
              "      \n",
              "  <style>\n",
              "    .colab-df-container {\n",
              "      display:flex;\n",
              "      flex-wrap:wrap;\n",
              "      gap: 12px;\n",
              "    }\n",
              "\n",
              "    .colab-df-convert {\n",
              "      background-color: #E8F0FE;\n",
              "      border: none;\n",
              "      border-radius: 50%;\n",
              "      cursor: pointer;\n",
              "      display: none;\n",
              "      fill: #1967D2;\n",
              "      height: 32px;\n",
              "      padding: 0 0 0 0;\n",
              "      width: 32px;\n",
              "    }\n",
              "\n",
              "    .colab-df-convert:hover {\n",
              "      background-color: #E2EBFA;\n",
              "      box-shadow: 0px 1px 2px rgba(60, 64, 67, 0.3), 0px 1px 3px 1px rgba(60, 64, 67, 0.15);\n",
              "      fill: #174EA6;\n",
              "    }\n",
              "\n",
              "    [theme=dark] .colab-df-convert {\n",
              "      background-color: #3B4455;\n",
              "      fill: #D2E3FC;\n",
              "    }\n",
              "\n",
              "    [theme=dark] .colab-df-convert:hover {\n",
              "      background-color: #434B5C;\n",
              "      box-shadow: 0px 1px 3px 1px rgba(0, 0, 0, 0.15);\n",
              "      filter: drop-shadow(0px 1px 2px rgba(0, 0, 0, 0.3));\n",
              "      fill: #FFFFFF;\n",
              "    }\n",
              "  </style>\n",
              "\n",
              "      <script>\n",
              "        const buttonEl =\n",
              "          document.querySelector('#df-6d671787-4ee8-4db5-bf27-5dc2c2522a49 button.colab-df-convert');\n",
              "        buttonEl.style.display =\n",
              "          google.colab.kernel.accessAllowed ? 'block' : 'none';\n",
              "\n",
              "        async function convertToInteractive(key) {\n",
              "          const element = document.querySelector('#df-6d671787-4ee8-4db5-bf27-5dc2c2522a49');\n",
              "          const dataTable =\n",
              "            await google.colab.kernel.invokeFunction('convertToInteractive',\n",
              "                                                     [key], {});\n",
              "          if (!dataTable) return;\n",
              "\n",
              "          const docLinkHtml = 'Like what you see? Visit the ' +\n",
              "            '<a target=\"_blank\" href=https://colab.research.google.com/notebooks/data_table.ipynb>data table notebook</a>'\n",
              "            + ' to learn more about interactive tables.';\n",
              "          element.innerHTML = '';\n",
              "          dataTable['output_type'] = 'display_data';\n",
              "          await google.colab.output.renderOutput(dataTable, element);\n",
              "          const docLink = document.createElement('div');\n",
              "          docLink.innerHTML = docLinkHtml;\n",
              "          element.appendChild(docLink);\n",
              "        }\n",
              "      </script>\n",
              "    </div>\n",
              "  </div>\n",
              "  "
            ]
          },
          "metadata": {},
          "execution_count": 39
        }
      ]
    },
    {
      "cell_type": "code",
      "source": [
        "ipo_df_target.boxplot(column = 'Pre_IPO_Price_Revision')"
      ],
      "metadata": {
        "colab": {
          "base_uri": "https://localhost:8080/",
          "height": 284
        },
        "id": "KhFclpKjIJ27",
        "outputId": "f7e688ba-b0d6-4013-d4b0-9c61f29c967a"
      },
      "execution_count": null,
      "outputs": [
        {
          "output_type": "execute_result",
          "data": {
            "text/plain": [
              "<AxesSubplot:>"
            ]
          },
          "metadata": {},
          "execution_count": 40
        },
        {
          "output_type": "display_data",
          "data": {
            "text/plain": [
              "<Figure size 432x288 with 1 Axes>"
            ],
            "image/png": "[encoded data removed]"
          },
          "metadata": {
            "needs_background": "light"
          }
        }
      ]
    },
    {
      "cell_type": "code",
      "source": [
        "ipo_df_target.boxplot(column = 'Post_IPO_Initial_Return')"
      ],
      "metadata": {
        "colab": {
          "base_uri": "https://localhost:8080/",
          "height": 284
        },
        "id": "eAgbhbYkIdGH",
        "outputId": "f6884ca6-9fc3-4bd0-e653-30816464d740"
      },
      "execution_count": null,
      "outputs": [
        {
          "output_type": "execute_result",
          "data": {
            "text/plain": [
              "<AxesSubplot:>"
            ]
          },
          "metadata": {},
          "execution_count": 41
        },
        {
          "output_type": "display_data",
          "data": {
            "text/plain": [
              "<Figure size 432x288 with 1 Axes>"
            ],
            "image/png": "[encoded data removed]"
          },
          "metadata": {
            "needs_background": "light"
          }
        }
      ]
    },
    {
      "cell_type": "code",
      "source": [
        "ipo_df_cat = ipo_df_cat.drop(['Pre_IPO_Price_Revision','Post_IPO_Initial_Return', 'ticker', 'company_name'], axis=1)\n",
        "ipo_df_cat.head()"
      ],
      "metadata": {
        "colab": {
          "base_uri": "https://localhost:8080/",
          "height": 270
        },
        "id": "6KGF179_uOM8",
        "outputId": "b269fad3-9de9-48af-96a8-1e27aec23167"
      },
      "execution_count": null,
      "outputs": [
        {
          "output_type": "execute_result",
          "data": {
            "text/plain": [
              "   std_industry_classifier  top_tier_dummy  Manufacturing  Services  Other  \\\n",
              "0                        1             1.0              1         0      0   \n",
              "1                        1             0.0              1         0      0   \n",
              "2                        1             1.0              1         0      0   \n",
              "3                        1             1.0              1         0      0   \n",
              "4                        3             1.0              0         0      1   \n",
              "\n",
              "   Positive_EPS_Dummy  \n",
              "0                   1  \n",
              "1                   0  \n",
              "2                   0  \n",
              "3                   0  \n",
              "4                   1  "
            ],
            "text/html": [
              "\n",
              "  <div id=\"df-fcb0018b-c845-42c0-a06f-75ab034b522d\">\n",
              "    <div class=\"colab-df-container\">\n",
              "      <div>\n",
              "<style scoped>\n",
              "    .dataframe tbody tr th:only-of-type {\n",
              "        vertical-align: middle;\n",
              "    }\n",
              "\n",
              "    .dataframe tbody tr th {\n",
              "        vertical-align: top;\n",
              "    }\n",
              "\n",
              "    .dataframe thead th {\n",
              "        text-align: right;\n",
              "    }\n",
              "</style>\n",
              "<table border=\"1\" class=\"dataframe\">\n",
              "  <thead>\n",
              "    <tr style=\"text-align: right;\">\n",
              "      <th></th>\n",
              "      <th>std_industry_classifier</th>\n",
              "      <th>top_tier_dummy</th>\n",
              "      <th>Manufacturing</th>\n",
              "      <th>Services</th>\n",
              "      <th>Other</th>\n",
              "      <th>Positive_EPS_Dummy</th>\n",
              "    </tr>\n",
              "  </thead>\n",
              "  <tbody>\n",
              "    <tr>\n",
              "      <th>0</th>\n",
              "      <td>1</td>\n",
              "      <td>1.0</td>\n",
              "      <td>1</td>\n",
              "      <td>0</td>\n",
              "      <td>0</td>\n",
              "      <td>1</td>\n",
              "    </tr>\n",
              "    <tr>\n",
              "      <th>1</th>\n",
              "      <td>1</td>\n",
              "      <td>0.0</td>\n",
              "      <td>1</td>\n",
              "      <td>0</td>\n",
              "      <td>0</td>\n",
              "      <td>0</td>\n",
              "    </tr>\n",
              "    <tr>\n",
              "      <th>2</th>\n",
              "      <td>1</td>\n",
              "      <td>1.0</td>\n",
              "      <td>1</td>\n",
              "      <td>0</td>\n",
              "      <td>0</td>\n",
              "      <td>0</td>\n",
              "    </tr>\n",
              "    <tr>\n",
              "      <th>3</th>\n",
              "      <td>1</td>\n",
              "      <td>1.0</td>\n",
              "      <td>1</td>\n",
              "      <td>0</td>\n",
              "      <td>0</td>\n",
              "      <td>0</td>\n",
              "    </tr>\n",
              "    <tr>\n",
              "      <th>4</th>\n",
              "      <td>3</td>\n",
              "      <td>1.0</td>\n",
              "      <td>0</td>\n",
              "      <td>0</td>\n",
              "      <td>1</td>\n",
              "      <td>1</td>\n",
              "    </tr>\n",
              "  </tbody>\n",
              "</table>\n",
              "</div>\n",
              "      <button class=\"colab-df-convert\" onclick=\"convertToInteractive('df-fcb0018b-c845-42c0-a06f-75ab034b522d')\"\n",
              "              title=\"Convert this dataframe to an interactive table.\"\n",
              "              style=\"display:none;\">\n",
              "        \n",
              "  <svg xmlns=\"http://www.w3.org/2000/svg\" height=\"24px\"viewBox=\"0 0 24 24\"\n",
              "       width=\"24px\">\n",
              "    <path d=\"M0 0h24v24H0V0z\" fill=\"none\"/>\n",
              "    <path d=\"M18.56 5.44l.94 2.06.94-2.06 2.06-.94-2.06-.94-.94-2.06-.94 2.06-2.06.94zm-11 1L8.5 8.5l.94-2.06 2.06-.94-2.06-.94L8.5 2.5l-.94 2.06-2.06.94zm10 10l.94 2.06.94-2.06 2.06-.94-2.06-.94-.94-2.06-.94 2.06-2.06.94z\"/><path d=\"M17.41 7.96l-1.37-1.37c-.4-.4-.92-.59-1.43-.59-.52 0-1.04.2-1.43.59L10.3 9.45l-7.72 7.72c-.78.78-.78 2.05 0 2.83L4 21.41c.39.39.9.59 1.41.59.51 0 1.02-.2 1.41-.59l7.78-7.78 2.81-2.81c.8-.78.8-2.07 0-2.86zM5.41 20L4 18.59l7.72-7.72 1.47 1.35L5.41 20z\"/>\n",
              "  </svg>\n",
              "      </button>\n",
              "      \n",
              "  <style>\n",
              "    .colab-df-container {\n",
              "      display:flex;\n",
              "      flex-wrap:wrap;\n",
              "      gap: 12px;\n",
              "    }\n",
              "\n",
              "    .colab-df-convert {\n",
              "      background-color: #E8F0FE;\n",
              "      border: none;\n",
              "      border-radius: 50%;\n",
              "      cursor: pointer;\n",
              "      display: none;\n",
              "      fill: #1967D2;\n",
              "      height: 32px;\n",
              "      padding: 0 0 0 0;\n",
              "      width: 32px;\n",
              "    }\n",
              "\n",
              "    .colab-df-convert:hover {\n",
              "      background-color: #E2EBFA;\n",
              "      box-shadow: 0px 1px 2px rgba(60, 64, 67, 0.3), 0px 1px 3px 1px rgba(60, 64, 67, 0.15);\n",
              "      fill: #174EA6;\n",
              "    }\n",
              "\n",
              "    [theme=dark] .colab-df-convert {\n",
              "      background-color: #3B4455;\n",
              "      fill: #D2E3FC;\n",
              "    }\n",
              "\n",
              "    [theme=dark] .colab-df-convert:hover {\n",
              "      background-color: #434B5C;\n",
              "      box-shadow: 0px 1px 3px 1px rgba(0, 0, 0, 0.15);\n",
              "      filter: drop-shadow(0px 1px 2px rgba(0, 0, 0, 0.3));\n",
              "      fill: #FFFFFF;\n",
              "    }\n",
              "  </style>\n",
              "\n",
              "      <script>\n",
              "        const buttonEl =\n",
              "          document.querySelector('#df-fcb0018b-c845-42c0-a06f-75ab034b522d button.colab-df-convert');\n",
              "        buttonEl.style.display =\n",
              "          google.colab.kernel.accessAllowed ? 'block' : 'none';\n",
              "\n",
              "        async function convertToInteractive(key) {\n",
              "          const element = document.querySelector('#df-fcb0018b-c845-42c0-a06f-75ab034b522d');\n",
              "          const dataTable =\n",
              "            await google.colab.kernel.invokeFunction('convertToInteractive',\n",
              "                                                     [key], {});\n",
              "          if (!dataTable) return;\n",
              "\n",
              "          const docLinkHtml = 'Like what you see? Visit the ' +\n",
              "            '<a target=\"_blank\" href=https://colab.research.google.com/notebooks/data_table.ipynb>data table notebook</a>'\n",
              "            + ' to learn more about interactive tables.';\n",
              "          element.innerHTML = '';\n",
              "          dataTable['output_type'] = 'display_data';\n",
              "          await google.colab.output.renderOutput(dataTable, element);\n",
              "          const docLink = document.createElement('div');\n",
              "          docLink.innerHTML = docLinkHtml;\n",
              "          element.appendChild(docLink);\n",
              "        }\n",
              "      </script>\n",
              "    </div>\n",
              "  </div>\n",
              "  "
            ]
          },
          "metadata": {},
          "execution_count": 42
        }
      ]
    },
    {
      "cell_type": "markdown",
      "source": [
        "# Process Work\n",
        "1. Left Skewed/Right Skewed\n",
        "2. x_bar +- 3 * std\n",
        "3. Z-score\n",
        "4. Min/Max\n",
        "5. IQR"
      ],
      "metadata": {
        "id": "2rvFqqxA6byd"
      }
    },
    {
      "cell_type": "code",
      "source": [
        "### left-skewed \n",
        "  ### mean < median \n",
        "### right-skewed\n",
        "  ### mean > median\n",
        "def skew(df):\n",
        "  for col in df:\n",
        "    if df[col].mean() > df[col].median():\n",
        "      print(col,': right-skewed')\n",
        "    else:\n",
        "      print(col,': left-skewed')\n",
        "\n",
        "left_right = skew(ipo_df_cont)"
      ],
      "metadata": {
        "id": "0WOcZ83b6kOR",
        "outputId": "3b81a951-78c7-44e2-8bea-e77fa189d9b4",
        "colab": {
          "base_uri": "https://localhost:8080/"
        }
      },
      "execution_count": null,
      "outputs": [
        {
          "output_type": "stream",
          "name": "stdout",
          "text": [
            "days : right-skewed\n",
            "prior_nasdaq_15day_returns : left-skewed\n",
            "sales : right-skewed\n",
            "Share_Overhang : right-skewed\n",
            "Up_Revision : right-skewed\n",
            "T1_prime : left-skewed\n",
            "T2_prime : right-skewed\n",
            "T3_prime : left-skewed\n",
            "S1_prime : right-skewed\n",
            "S2_prime : right-skewed\n",
            "S3_prime : right-skewed\n"
          ]
        }
      ]
    },
    {
      "cell_type": "code",
      "source": [
        "### x_bar +/- 3 * std\n",
        "upper = ipo_df_cont.mean() + 3 * ipo_df_cont.std()\n",
        "lower = ipo_df_cont.mean() - 3 * ipo_df_cont.std()\n",
        "upper, lower"
      ],
      "metadata": {
        "id": "3IquX8Qrf74d",
        "outputId": "3380c739-d85b-4477-da44-4ea4718ec06c",
        "colab": {
          "base_uri": "https://localhost:8080/"
        }
      },
      "execution_count": null,
      "outputs": [
        {
          "output_type": "execute_result",
          "data": {
            "text/plain": [
              "(days                           608.181189\n",
              " prior_nasdaq_15day_returns       0.107235\n",
              " sales                         5234.036924\n",
              " Share_Overhang                  19.817865\n",
              " Up_Revision                     38.037351\n",
              " T1_prime                         0.859777\n",
              " T2_prime                         0.073703\n",
              " T3_prime                         1.113325\n",
              " S1_prime                         0.010551\n",
              " S2_prime                         0.018058\n",
              " S3_prime                         0.020072\n",
              " dtype: float64, days                          -308.723613\n",
              " prior_nasdaq_15day_returns      -0.092671\n",
              " sales                        -4292.774188\n",
              " Share_Overhang                 -10.983354\n",
              " Up_Revision                    -27.228060\n",
              " T1_prime                         0.393663\n",
              " T2_prime                         0.030839\n",
              " T3_prime                         0.670207\n",
              " S1_prime                         0.000086\n",
              " S2_prime                         0.000059\n",
              " S3_prime                         0.002966\n",
              " dtype: float64)"
            ]
          },
          "metadata": {},
          "execution_count": 44
        }
      ]
    },
    {
      "cell_type": "code",
      "source": [
        "### z-score\n",
        "  ### (value-mean)/std\n",
        "\n",
        "def zscore(df):\n",
        "  for col in df:\n",
        "    eq = (df[col]-df[col].mean())/df[col].std()\n",
        "    print(eq)\n",
        "\n",
        "z_score = zscore(ipo_df_cont)\n",
        "z_score"
      ],
      "metadata": {
        "id": "6lOlLWA86zpR",
        "outputId": "918e9410-4d0b-40e4-80c2-0f5d6480b2b3",
        "colab": {
          "base_uri": "https://localhost:8080/"
        }
      },
      "execution_count": null,
      "outputs": [
        {
          "output_type": "stream",
          "name": "stdout",
          "text": [
            "0     -0.181450\n",
            "1      0.715044\n",
            "2     -0.390851\n",
            "3      0.387856\n",
            "4     -0.456288\n",
            "         ...   \n",
            "677    1.094582\n",
            "678   -0.338500\n",
            "679   -0.246888\n",
            "680   -0.469376\n",
            "681    0.859007\n",
            "Name: days, Length: 660, dtype: float64\n",
            "0      0.654070\n",
            "1     -0.619307\n",
            "2      0.403174\n",
            "3      0.382408\n",
            "4     -1.265903\n",
            "         ...   \n",
            "677   -0.078414\n",
            "678    1.542927\n",
            "679    0.694620\n",
            "680    0.750416\n",
            "681    0.522400\n",
            "Name: prior_nasdaq_15day_returns, Length: 660, dtype: float64\n",
            "0     -0.264067\n",
            "1     -0.280070\n",
            "2     -0.291758\n",
            "3     -0.291035\n",
            "4      0.101818\n",
            "         ...   \n",
            "677   -0.179198\n",
            "678   -0.280369\n",
            "679   -0.261494\n",
            "680   -0.222178\n",
            "681    0.629136\n",
            "Name: sales, Length: 660, dtype: float64\n",
            "0     -0.107706\n",
            "1      1.482716\n",
            "2     -0.204171\n",
            "3     -0.217698\n",
            "4     -0.134602\n",
            "         ...   \n",
            "677   -0.088318\n",
            "678    0.051129\n",
            "679   -0.144873\n",
            "680   -0.038876\n",
            "681   -0.229228\n",
            "Name: Share_Overhang, Length: 660, dtype: float64\n",
            "0      0.524609\n",
            "1     -0.496862\n",
            "2     -0.496862\n",
            "3     -0.496862\n",
            "4     -0.037200\n",
            "         ...   \n",
            "677    1.341785\n",
            "678   -0.496862\n",
            "679   -0.496862\n",
            "680    1.226869\n",
            "681    0.116021\n",
            "Name: Up_Revision, Length: 660, dtype: float64\n",
            "0      0.176420\n",
            "1      0.232131\n",
            "2      0.129956\n",
            "3     -1.121006\n",
            "4     -0.505983\n",
            "         ...   \n",
            "677   -0.180951\n",
            "678    0.263333\n",
            "679    0.270847\n",
            "680    1.084077\n",
            "681    0.566153\n",
            "Name: T1_prime, Length: 660, dtype: float64\n",
            "0      0.276916\n",
            "1     -0.122651\n",
            "2      1.328703\n",
            "3      1.309967\n",
            "4     -0.520851\n",
            "         ...   \n",
            "677   -0.233571\n",
            "678    0.629783\n",
            "679   -0.601206\n",
            "680   -1.272885\n",
            "681    0.318336\n",
            "Name: T2_prime, Length: 660, dtype: float64\n",
            "0      0.231682\n",
            "1      0.094218\n",
            "2      0.238095\n",
            "3      0.342493\n",
            "4     -0.044639\n",
            "         ...   \n",
            "677    0.395192\n",
            "678    0.195812\n",
            "679   -0.029334\n",
            "680    0.238928\n",
            "681    0.169555\n",
            "Name: T3_prime, Length: 660, dtype: float64\n",
            "0     -0.254382\n",
            "1     -1.181226\n",
            "2      3.597406\n",
            "3      2.504502\n",
            "4     -0.458914\n",
            "         ...   \n",
            "677    0.684701\n",
            "678   -0.143039\n",
            "679   -0.646314\n",
            "680    0.834061\n",
            "681    1.572996\n",
            "Name: S1_prime, Length: 660, dtype: float64\n",
            "0      0.046734\n",
            "1      0.682156\n",
            "2     -0.929141\n",
            "3     -0.638344\n",
            "4      0.329539\n",
            "         ...   \n",
            "677   -0.374661\n",
            "678    0.021728\n",
            "679   -0.004953\n",
            "680   -1.232308\n",
            "681   -0.075012\n",
            "Name: S2_prime, Length: 660, dtype: float64\n",
            "0     -0.207103\n",
            "1     -0.225688\n",
            "2     -0.040846\n",
            "3      0.631338\n",
            "4     -0.090498\n",
            "         ...   \n",
            "677    0.501996\n",
            "678    0.353649\n",
            "679   -0.558727\n",
            "680    0.908988\n",
            "681    0.712645\n",
            "Name: S3_prime, Length: 660, dtype: float64\n"
          ]
        }
      ]
    },
    {
      "cell_type": "code",
      "source": [
        "###Min-max normalization is a technique used to transform data values into a range between 0 and 1\n",
        "\n",
        "from sklearn.preprocessing import MinMaxScaler\n",
        "\n",
        "def minmax(df):\n",
        "    num_cols = [col for col in df if df[col].dtype != object]\n",
        "    #df = df[num_cols].replace([np.inf, -np.inf], np.nan).dropna(axis=1)\n",
        "    # create scaler\n",
        "    scaler = MinMaxScaler()\n",
        "    df_scaled = scaler.fit_transform(df)\n",
        "    df_scaled = pd.DataFrame(df_scaled, columns=df.columns)\n",
        "    return df_scaled\n",
        "\n",
        "min_max = minmax(ipo_df_cont)\n",
        "min_max"
      ],
      "metadata": {
        "id": "QZhEy300G1Fu",
        "outputId": "e26bf51c-a9ba-45ca-b097-1e2dc48f5c9c",
        "colab": {
          "base_uri": "https://localhost:8080/",
          "height": 487
        }
      },
      "execution_count": null,
      "outputs": [
        {
          "output_type": "execute_result",
          "data": {
            "text/plain": [
              "         days  prior_nasdaq_15day_returns     sales  Share_Overhang  \\\n",
              "0    0.053924                    0.749962  0.001671        0.035990   \n",
              "1    0.119884                    0.583748  0.000843        0.118042   \n",
              "2    0.038517                    0.717213  0.000238        0.031013   \n",
              "3    0.095811                    0.714502  0.000275        0.030315   \n",
              "4    0.033702                    0.499347  0.020605        0.034602   \n",
              "..        ...                         ...       ...             ...   \n",
              "655  0.147809                    0.654351  0.006063        0.036990   \n",
              "656  0.042369                    0.865985  0.000827        0.044184   \n",
              "657  0.049109                    0.755255  0.001804        0.034072   \n",
              "658  0.032740                    0.762539  0.003839        0.039541   \n",
              "659  0.130477                    0.732776  0.047893        0.029720   \n",
              "\n",
              "     Up_Revision  T1_prime  T2_prime  T3_prime  S1_prime  S2_prime  S3_prime  \n",
              "0       0.111111  0.775008  0.365450  0.575516  0.291209  0.313837  0.232749  \n",
              "1       0.000000  0.780245  0.319402  0.569087  0.147348  0.398734  0.230548  \n",
              "2       0.000000  0.770640  0.486665  0.575816  0.889070  0.183452  0.252440  \n",
              "3       0.000000  0.653036  0.484505  0.580698  0.719433  0.222305  0.332049  \n",
              "4       0.050000  0.710854  0.273510  0.562594  0.259462  0.351622  0.246559  \n",
              "..           ...       ...       ...       ...       ...       ...       ...  \n",
              "655     0.200000  0.741411  0.306618  0.583162  0.436970  0.257535  0.316731  \n",
              "656     0.000000  0.783178  0.406117  0.573838  0.308491  0.310496  0.299162  \n",
              "657     0.000000  0.783885  0.264250  0.563309  0.230375  0.306931  0.191105  \n",
              "658     0.187500  0.860337  0.186841  0.575855  0.460154  0.142947  0.364933  \n",
              "659     0.066667  0.811647  0.370224  0.572610  0.574848  0.297571  0.341679  \n",
              "\n",
              "[660 rows x 11 columns]"
            ],
            "text/html": [
              "\n",
              "  <div id=\"df-6198b4f6-8198-40ab-a0fa-a1ce776dc408\">\n",
              "    <div class=\"colab-df-container\">\n",
              "      <div>\n",
              "<style scoped>\n",
              "    .dataframe tbody tr th:only-of-type {\n",
              "        vertical-align: middle;\n",
              "    }\n",
              "\n",
              "    .dataframe tbody tr th {\n",
              "        vertical-align: top;\n",
              "    }\n",
              "\n",
              "    .dataframe thead th {\n",
              "        text-align: right;\n",
              "    }\n",
              "</style>\n",
              "<table border=\"1\" class=\"dataframe\">\n",
              "  <thead>\n",
              "    <tr style=\"text-align: right;\">\n",
              "      <th></th>\n",
              "      <th>days</th>\n",
              "      <th>prior_nasdaq_15day_returns</th>\n",
              "      <th>sales</th>\n",
              "      <th>Share_Overhang</th>\n",
              "      <th>Up_Revision</th>\n",
              "      <th>T1_prime</th>\n",
              "      <th>T2_prime</th>\n",
              "      <th>T3_prime</th>\n",
              "      <th>S1_prime</th>\n",
              "      <th>S2_prime</th>\n",
              "      <th>S3_prime</th>\n",
              "    </tr>\n",
              "  </thead>\n",
              "  <tbody>\n",
              "    <tr>\n",
              "      <th>0</th>\n",
              "      <td>0.053924</td>\n",
              "      <td>0.749962</td>\n",
              "      <td>0.001671</td>\n",
              "      <td>0.035990</td>\n",
              "      <td>0.111111</td>\n",
              "      <td>0.775008</td>\n",
              "      <td>0.365450</td>\n",
              "      <td>0.575516</td>\n",
              "      <td>0.291209</td>\n",
              "      <td>0.313837</td>\n",
              "      <td>0.232749</td>\n",
              "    </tr>\n",
              "    <tr>\n",
              "      <th>1</th>\n",
              "      <td>0.119884</td>\n",
              "      <td>0.583748</td>\n",
              "      <td>0.000843</td>\n",
              "      <td>0.118042</td>\n",
              "      <td>0.000000</td>\n",
              "      <td>0.780245</td>\n",
              "      <td>0.319402</td>\n",
              "      <td>0.569087</td>\n",
              "      <td>0.147348</td>\n",
              "      <td>0.398734</td>\n",
              "      <td>0.230548</td>\n",
              "    </tr>\n",
              "    <tr>\n",
              "      <th>2</th>\n",
              "      <td>0.038517</td>\n",
              "      <td>0.717213</td>\n",
              "      <td>0.000238</td>\n",
              "      <td>0.031013</td>\n",
              "      <td>0.000000</td>\n",
              "      <td>0.770640</td>\n",
              "      <td>0.486665</td>\n",
              "      <td>0.575816</td>\n",
              "      <td>0.889070</td>\n",
              "      <td>0.183452</td>\n",
              "      <td>0.252440</td>\n",
              "    </tr>\n",
              "    <tr>\n",
              "      <th>3</th>\n",
              "      <td>0.095811</td>\n",
              "      <td>0.714502</td>\n",
              "      <td>0.000275</td>\n",
              "      <td>0.030315</td>\n",
              "      <td>0.000000</td>\n",
              "      <td>0.653036</td>\n",
              "      <td>0.484505</td>\n",
              "      <td>0.580698</td>\n",
              "      <td>0.719433</td>\n",
              "      <td>0.222305</td>\n",
              "      <td>0.332049</td>\n",
              "    </tr>\n",
              "    <tr>\n",
              "      <th>4</th>\n",
              "      <td>0.033702</td>\n",
              "      <td>0.499347</td>\n",
              "      <td>0.020605</td>\n",
              "      <td>0.034602</td>\n",
              "      <td>0.050000</td>\n",
              "      <td>0.710854</td>\n",
              "      <td>0.273510</td>\n",
              "      <td>0.562594</td>\n",
              "      <td>0.259462</td>\n",
              "      <td>0.351622</td>\n",
              "      <td>0.246559</td>\n",
              "    </tr>\n",
              "    <tr>\n",
              "      <th>...</th>\n",
              "      <td>...</td>\n",
              "      <td>...</td>\n",
              "      <td>...</td>\n",
              "      <td>...</td>\n",
              "      <td>...</td>\n",
              "      <td>...</td>\n",
              "      <td>...</td>\n",
              "      <td>...</td>\n",
              "      <td>...</td>\n",
              "      <td>...</td>\n",
              "      <td>...</td>\n",
              "    </tr>\n",
              "    <tr>\n",
              "      <th>655</th>\n",
              "      <td>0.147809</td>\n",
              "      <td>0.654351</td>\n",
              "      <td>0.006063</td>\n",
              "      <td>0.036990</td>\n",
              "      <td>0.200000</td>\n",
              "      <td>0.741411</td>\n",
              "      <td>0.306618</td>\n",
              "      <td>0.583162</td>\n",
              "      <td>0.436970</td>\n",
              "      <td>0.257535</td>\n",
              "      <td>0.316731</td>\n",
              "    </tr>\n",
              "    <tr>\n",
              "      <th>656</th>\n",
              "      <td>0.042369</td>\n",
              "      <td>0.865985</td>\n",
              "      <td>0.000827</td>\n",
              "      <td>0.044184</td>\n",
              "      <td>0.000000</td>\n",
              "      <td>0.783178</td>\n",
              "      <td>0.406117</td>\n",
              "      <td>0.573838</td>\n",
              "      <td>0.308491</td>\n",
              "      <td>0.310496</td>\n",
              "      <td>0.299162</td>\n",
              "    </tr>\n",
              "    <tr>\n",
              "      <th>657</th>\n",
              "      <td>0.049109</td>\n",
              "      <td>0.755255</td>\n",
              "      <td>0.001804</td>\n",
              "      <td>0.034072</td>\n",
              "      <td>0.000000</td>\n",
              "      <td>0.783885</td>\n",
              "      <td>0.264250</td>\n",
              "      <td>0.563309</td>\n",
              "      <td>0.230375</td>\n",
              "      <td>0.306931</td>\n",
              "      <td>0.191105</td>\n",
              "    </tr>\n",
              "    <tr>\n",
              "      <th>658</th>\n",
              "      <td>0.032740</td>\n",
              "      <td>0.762539</td>\n",
              "      <td>0.003839</td>\n",
              "      <td>0.039541</td>\n",
              "      <td>0.187500</td>\n",
              "      <td>0.860337</td>\n",
              "      <td>0.186841</td>\n",
              "      <td>0.575855</td>\n",
              "      <td>0.460154</td>\n",
              "      <td>0.142947</td>\n",
              "      <td>0.364933</td>\n",
              "    </tr>\n",
              "    <tr>\n",
              "      <th>659</th>\n",
              "      <td>0.130477</td>\n",
              "      <td>0.732776</td>\n",
              "      <td>0.047893</td>\n",
              "      <td>0.029720</td>\n",
              "      <td>0.066667</td>\n",
              "      <td>0.811647</td>\n",
              "      <td>0.370224</td>\n",
              "      <td>0.572610</td>\n",
              "      <td>0.574848</td>\n",
              "      <td>0.297571</td>\n",
              "      <td>0.341679</td>\n",
              "    </tr>\n",
              "  </tbody>\n",
              "</table>\n",
              "<p>660 rows × 11 columns</p>\n",
              "</div>\n",
              "      <button class=\"colab-df-convert\" onclick=\"convertToInteractive('df-6198b4f6-8198-40ab-a0fa-a1ce776dc408')\"\n",
              "              title=\"Convert this dataframe to an interactive table.\"\n",
              "              style=\"display:none;\">\n",
              "        \n",
              "  <svg xmlns=\"http://www.w3.org/2000/svg\" height=\"24px\"viewBox=\"0 0 24 24\"\n",
              "       width=\"24px\">\n",
              "    <path d=\"M0 0h24v24H0V0z\" fill=\"none\"/>\n",
              "    <path d=\"M18.56 5.44l.94 2.06.94-2.06 2.06-.94-2.06-.94-.94-2.06-.94 2.06-2.06.94zm-11 1L8.5 8.5l.94-2.06 2.06-.94-2.06-.94L8.5 2.5l-.94 2.06-2.06.94zm10 10l.94 2.06.94-2.06 2.06-.94-2.06-.94-.94-2.06-.94 2.06-2.06.94z\"/><path d=\"M17.41 7.96l-1.37-1.37c-.4-.4-.92-.59-1.43-.59-.52 0-1.04.2-1.43.59L10.3 9.45l-7.72 7.72c-.78.78-.78 2.05 0 2.83L4 21.41c.39.39.9.59 1.41.59.51 0 1.02-.2 1.41-.59l7.78-7.78 2.81-2.81c.8-.78.8-2.07 0-2.86zM5.41 20L4 18.59l7.72-7.72 1.47 1.35L5.41 20z\"/>\n",
              "  </svg>\n",
              "      </button>\n",
              "      \n",
              "  <style>\n",
              "    .colab-df-container {\n",
              "      display:flex;\n",
              "      flex-wrap:wrap;\n",
              "      gap: 12px;\n",
              "    }\n",
              "\n",
              "    .colab-df-convert {\n",
              "      background-color: #E8F0FE;\n",
              "      border: none;\n",
              "      border-radius: 50%;\n",
              "      cursor: pointer;\n",
              "      display: none;\n",
              "      fill: #1967D2;\n",
              "      height: 32px;\n",
              "      padding: 0 0 0 0;\n",
              "      width: 32px;\n",
              "    }\n",
              "\n",
              "    .colab-df-convert:hover {\n",
              "      background-color: #E2EBFA;\n",
              "      box-shadow: 0px 1px 2px rgba(60, 64, 67, 0.3), 0px 1px 3px 1px rgba(60, 64, 67, 0.15);\n",
              "      fill: #174EA6;\n",
              "    }\n",
              "\n",
              "    [theme=dark] .colab-df-convert {\n",
              "      background-color: #3B4455;\n",
              "      fill: #D2E3FC;\n",
              "    }\n",
              "\n",
              "    [theme=dark] .colab-df-convert:hover {\n",
              "      background-color: #434B5C;\n",
              "      box-shadow: 0px 1px 3px 1px rgba(0, 0, 0, 0.15);\n",
              "      filter: drop-shadow(0px 1px 2px rgba(0, 0, 0, 0.3));\n",
              "      fill: #FFFFFF;\n",
              "    }\n",
              "  </style>\n",
              "\n",
              "      <script>\n",
              "        const buttonEl =\n",
              "          document.querySelector('#df-6198b4f6-8198-40ab-a0fa-a1ce776dc408 button.colab-df-convert');\n",
              "        buttonEl.style.display =\n",
              "          google.colab.kernel.accessAllowed ? 'block' : 'none';\n",
              "\n",
              "        async function convertToInteractive(key) {\n",
              "          const element = document.querySelector('#df-6198b4f6-8198-40ab-a0fa-a1ce776dc408');\n",
              "          const dataTable =\n",
              "            await google.colab.kernel.invokeFunction('convertToInteractive',\n",
              "                                                     [key], {});\n",
              "          if (!dataTable) return;\n",
              "\n",
              "          const docLinkHtml = 'Like what you see? Visit the ' +\n",
              "            '<a target=\"_blank\" href=https://colab.research.google.com/notebooks/data_table.ipynb>data table notebook</a>'\n",
              "            + ' to learn more about interactive tables.';\n",
              "          element.innerHTML = '';\n",
              "          dataTable['output_type'] = 'display_data';\n",
              "          await google.colab.output.renderOutput(dataTable, element);\n",
              "          const docLink = document.createElement('div');\n",
              "          docLink.innerHTML = docLinkHtml;\n",
              "          element.appendChild(docLink);\n",
              "        }\n",
              "      </script>\n",
              "    </div>\n",
              "  </div>\n",
              "  "
            ]
          },
          "metadata": {},
          "execution_count": 46
        }
      ]
    },
    {
      "cell_type": "code",
      "source": [
        "def iqr(df):\n",
        "    for col in df.columns:\n",
        "        Q1 = df[col].quantile(0.25)\n",
        "        Q3 = df[col].quantile(0.75)\n",
        "        IQR = Q3 - Q1\n",
        "        S = 1.5*IQR\n",
        "        LB = Q1 - S\n",
        "        UB = Q3 + S\n",
        "        df.loc[df[col] > UB,col] = UB\n",
        "        df.loc[df[col] < LB,col] = LB\n",
        "        print(IQR)\n",
        "    return df\n",
        "\n",
        "iqr = iqr(ipo_df_cont)"
      ],
      "metadata": {
        "id": "1Hfd8D7o_SGw",
        "colab": {
          "base_uri": "https://localhost:8080/"
        },
        "outputId": "e4ecf321-2c40-492d-fd44-ef916581b3e9"
      },
      "execution_count": null,
      "outputs": [
        {
          "output_type": "stream",
          "name": "stdout",
          "text": [
            "70.25\n",
            "0.045497759459585375\n",
            "259.30600000000004\n",
            "2.0072816467802106\n",
            "7.6923076923076925\n",
            "0.09413142722907841\n",
            "0.008927834879127343\n",
            "0.026275949727473935\n",
            "0.0021222036137135214\n",
            "0.0035551764241401043\n",
            "0.0032689900306991197\n"
          ]
        }
      ]
    },
    {
      "cell_type": "markdown",
      "source": [
        "# Skewness Transformation and Post Graphs"
      ],
      "metadata": {
        "id": "2udLdrPhJ_3h"
      }
    },
    {
      "cell_type": "code",
      "source": [
        "# save this as a new variable \n",
        "pt = PowerTransformer()\n",
        "skew_cont = pt.fit_transform(ipo_df_cont)\n",
        "skew_cont"
      ],
      "metadata": {
        "id": "HEwznsMYIhKD",
        "colab": {
          "base_uri": "https://localhost:8080/"
        },
        "outputId": "447251f0-a257-46a6-c3bd-ca7badefd7f9"
      },
      "execution_count": null,
      "outputs": [
        {
          "output_type": "execute_result",
          "data": {
            "text/plain": [
              "array([[ 0.0751656 ,  0.63452193, -0.54397101, ..., -0.15015278,\n",
              "         0.22031437, -0.11830048],\n",
              "       [ 1.78457188, -0.67774386, -0.92284592, ..., -1.35843738,\n",
              "         0.86793412, -0.14051452],\n",
              "       [-0.48264754,  0.35925121, -1.47258382, ...,  2.08689537,\n",
              "        -1.04773943,  0.07688852],\n",
              "       ...,\n",
              "       [-0.08856698,  0.67981338, -0.49766435, ..., -0.6275518 ,\n",
              "         0.16203007, -0.55255537],\n",
              "       [-0.7224394 ,  0.74250187,  0.00329729, ...,  0.95708529,\n",
              "        -1.52331258,  1.07856781],\n",
              "       [ 1.80102407,  0.48900103,  1.55253744, ...,  1.55616882,\n",
              "         0.08157676,  0.88640415]])"
            ]
          },
          "metadata": {},
          "execution_count": 48
        }
      ]
    },
    {
      "cell_type": "markdown",
      "source": [
        "***For the `.skew()` method, if:***\n",
        "\n",
        "-**If the skewness is between -0.5 and 0.5, the data are fairly symmetrical;**\n",
        "\n",
        "\n",
        "**- If the skewness is between -1 and — 0.5 or between 0.5 and 1, the data are** **moderately skewed**\n",
        "\n",
        "\n",
        "**-If the skewness is less than -1 or greater than 1, the data are highly skewed**"
      ],
      "metadata": {
        "id": "I-GFwnisxNnE"
      }
    },
    {
      "cell_type": "code",
      "source": [
        "ipo_df_cont.skew()"
      ],
      "metadata": {
        "colab": {
          "base_uri": "https://localhost:8080/"
        },
        "id": "RZlw63szw2Cq",
        "outputId": "f723c115-fbce-4346-b011-e19274c47a91"
      },
      "execution_count": null,
      "outputs": [
        {
          "output_type": "execute_result",
          "data": {
            "text/plain": [
              "days                          0.836620\n",
              "prior_nasdaq_15day_returns   -0.314465\n",
              "sales                         1.177072\n",
              "Share_Overhang                0.724354\n",
              "Up_Revision                   1.201653\n",
              "T1_prime                     -0.073967\n",
              "T2_prime                      0.108610\n",
              "T3_prime                     -0.545971\n",
              "S1_prime                      0.611473\n",
              "S2_prime                      0.694781\n",
              "S3_prime                      0.480411\n",
              "dtype: float64"
            ]
          },
          "metadata": {},
          "execution_count": 49
        }
      ]
    },
    {
      "cell_type": "code",
      "source": [
        "ipo_df_cont.boxplot(column = 'sales')"
      ],
      "metadata": {
        "colab": {
          "base_uri": "https://localhost:8080/",
          "height": 283
        },
        "id": "qaOi4aPs0OzE",
        "outputId": "690068f6-04e0-42c6-faf5-c0564c057212"
      },
      "execution_count": null,
      "outputs": [
        {
          "output_type": "execute_result",
          "data": {
            "text/plain": [
              "<AxesSubplot:>"
            ]
          },
          "metadata": {},
          "execution_count": 50
        },
        {
          "output_type": "display_data",
          "data": {
            "text/plain": [
              "<Figure size 432x288 with 1 Axes>"
            ],
            "image/png": "[encoded data removed]"
          },
          "metadata": {
            "needs_background": "light"
          }
        }
      ]
    },
    {
      "cell_type": "code",
      "source": [
        "ipo_df_cont.boxplot(column = 'prior_nasdaq_15day_returns')"
      ],
      "metadata": {
        "colab": {
          "base_uri": "https://localhost:8080/",
          "height": 286
        },
        "id": "0xMXFi36I4gx",
        "outputId": "f60f9d9c-d713-4622-97c6-db43a64add8a"
      },
      "execution_count": null,
      "outputs": [
        {
          "output_type": "execute_result",
          "data": {
            "text/plain": [
              "<AxesSubplot:>"
            ]
          },
          "metadata": {},
          "execution_count": 51
        },
        {
          "output_type": "display_data",
          "data": {
            "text/plain": [
              "<Figure size 432x288 with 1 Axes>"
            ],
            "image/png": "[encoded data removed]"
          },
          "metadata": {
            "needs_background": "light"
          }
        }
      ]
    },
    {
      "cell_type": "code",
      "source": [
        "ipo_df_cont.boxplot(column = [ 'Share_Overhang', 'Up_Revision'])"
      ],
      "metadata": {
        "colab": {
          "base_uri": "https://localhost:8080/",
          "height": 286
        },
        "id": "a-8Fcxwo0FEe",
        "outputId": "cde1609d-29e3-4b18-fc1f-d34fea3d7de5"
      },
      "execution_count": null,
      "outputs": [
        {
          "output_type": "execute_result",
          "data": {
            "text/plain": [
              "<AxesSubplot:>"
            ]
          },
          "metadata": {},
          "execution_count": 52
        },
        {
          "output_type": "display_data",
          "data": {
            "text/plain": [
              "<Figure size 432x288 with 1 Axes>"
            ],
            "image/png": "[encoded data removed]"
          },
          "metadata": {
            "needs_background": "light"
          }
        }
      ]
    },
    {
      "cell_type": "code",
      "source": [
        "ipo_df_cont.boxplot(column = ['T1_prime', 'T2_prime', 'T3_prime'])"
      ],
      "metadata": {
        "colab": {
          "base_uri": "https://localhost:8080/",
          "height": 284
        },
        "id": "NwoYeBMQJQ3I",
        "outputId": "8d093c4a-9456-408a-e77a-5bf7b207282d"
      },
      "execution_count": null,
      "outputs": [
        {
          "output_type": "execute_result",
          "data": {
            "text/plain": [
              "<AxesSubplot:>"
            ]
          },
          "metadata": {},
          "execution_count": 53
        },
        {
          "output_type": "display_data",
          "data": {
            "text/plain": [
              "<Figure size 432x288 with 1 Axes>"
            ],
            "image/png": "[encoded data removed]"
          },
          "metadata": {
            "needs_background": "light"
          }
        }
      ]
    },
    {
      "cell_type": "code",
      "source": [
        "ipo_df_cont.boxplot(column = ['S1_prime', 'S2_prime', 'S3_prime'])"
      ],
      "metadata": {
        "colab": {
          "base_uri": "https://localhost:8080/",
          "height": 284
        },
        "id": "0NNsvxQYJRYF",
        "outputId": "3863db69-84ec-4735-b307-530865b8d7a5"
      },
      "execution_count": null,
      "outputs": [
        {
          "output_type": "execute_result",
          "data": {
            "text/plain": [
              "<AxesSubplot:>"
            ]
          },
          "metadata": {},
          "execution_count": 54
        },
        {
          "output_type": "display_data",
          "data": {
            "text/plain": [
              "<Figure size 432x288 with 1 Axes>"
            ],
            "image/png": "[encoded data removed]"
          },
          "metadata": {
            "needs_background": "light"
          }
        }
      ]
    },
    {
      "cell_type": "code",
      "source": [
        "ipo_df_cat.hist()"
      ],
      "metadata": {
        "colab": {
          "base_uri": "https://localhost:8080/",
          "height": 410
        },
        "id": "Buu4Hr1qJaBV",
        "outputId": "b3c6d743-648f-4432-c5d1-caf59c34bc4c"
      },
      "execution_count": null,
      "outputs": [
        {
          "output_type": "execute_result",
          "data": {
            "text/plain": [
              "array([[<AxesSubplot:title={'center':'std_industry_classifier'}>,\n",
              "        <AxesSubplot:title={'center':'top_tier_dummy'}>],\n",
              "       [<AxesSubplot:title={'center':'Manufacturing'}>,\n",
              "        <AxesSubplot:title={'center':'Services'}>],\n",
              "       [<AxesSubplot:title={'center':'Other'}>,\n",
              "        <AxesSubplot:title={'center':'Positive_EPS_Dummy'}>]],\n",
              "      dtype=object)"
            ]
          },
          "metadata": {},
          "execution_count": 55
        },
        {
          "output_type": "display_data",
          "data": {
            "text/plain": [
              "<Figure size 432x288 with 6 Axes>"
            ],
            "image/png": "[encoded data removed]"
          },
          "metadata": {
            "needs_background": "light"
          }
        }
      ]
    },
    {
      "cell_type": "code",
      "source": [
        "ipo_df_target.boxplot(column = 'Pre_IPO_Price_Revision')"
      ],
      "metadata": {
        "colab": {
          "base_uri": "https://localhost:8080/",
          "height": 284
        },
        "id": "tfGyUI2SJUQV",
        "outputId": "121f1b33-9d22-4eb4-8e5a-969172bd67c0"
      },
      "execution_count": null,
      "outputs": [
        {
          "output_type": "execute_result",
          "data": {
            "text/plain": [
              "<AxesSubplot:>"
            ]
          },
          "metadata": {},
          "execution_count": 56
        },
        {
          "output_type": "display_data",
          "data": {
            "text/plain": [
              "<Figure size 432x288 with 1 Axes>"
            ],
            "image/png": "[encoded data removed]"
          },
          "metadata": {
            "needs_background": "light"
          }
        }
      ]
    },
    {
      "cell_type": "code",
      "source": [
        "ipo_df_target.boxplot(column = 'Post_IPO_Initial_Return')"
      ],
      "metadata": {
        "colab": {
          "base_uri": "https://localhost:8080/",
          "height": 284
        },
        "id": "6H9k0CBIJXo_",
        "outputId": "f7d4f216-81ed-475c-e0b2-a5e5940e7196"
      },
      "execution_count": null,
      "outputs": [
        {
          "output_type": "execute_result",
          "data": {
            "text/plain": [
              "<AxesSubplot:>"
            ]
          },
          "metadata": {},
          "execution_count": 57
        },
        {
          "output_type": "display_data",
          "data": {
            "text/plain": [
              "<Figure size 432x288 with 1 Axes>"
            ],
            "image/png": "[encoded data removed]"
          },
          "metadata": {
            "needs_background": "light"
          }
        }
      ]
    },
    {
      "cell_type": "code",
      "source": [
        "# take log of days\n",
        "# sales you have to add the abs value of .min() +1  - to move to positive \n",
        "  # then do log \n",
        "# C6 prime - just add 1 to all values and then take the log \n",
        "\n",
        "\n",
        "# reading data, imputation, calculation, split data, process, merge OHE and processes together (need both for feature selection), feature selection\n",
        "# box plots for cont\n",
        "# bar chart for cat.\n",
        "# have first round of EDA before processes and after \n",
        "\n",
        "# run feature selection 6 times\n",
        "# save it as a csv and then run the csv in evaluation code\n",
        "# Y1 and Y2 two right most columns \n",
        "\n",
        "# feature selection - cannot guarantee the same features for Y1 and Y2 \n",
        "  # select a join for both \n",
        "  # x for the final data set \n",
        "\n",
        "# whatever we submit just lay out which ones we are selecting \n",
        "# dont have to have same number of features for Y1 and Y2\n",
        "\n",
        "# layout all processes and label which one we chose\n",
        "  # include evaluation result in our note"
      ],
      "metadata": {
        "id": "09HptgbSwsPm"
      },
      "execution_count": null,
      "outputs": []
    },
    {
      "cell_type": "code",
      "source": [
        "## skewness removal"
      ],
      "metadata": {
        "id": "60YItUXB9eM7"
      },
      "execution_count": null,
      "outputs": []
    },
    {
      "cell_type": "code",
      "source": [
        "# Log transformation of 'days'\n",
        "days_log = np.log(ipo_df['days'])\n",
        "days_log.skew()"
      ],
      "metadata": {
        "colab": {
          "base_uri": "https://localhost:8080/"
        },
        "id": "bd5qqoM_Kb_k",
        "outputId": "05e2fdd2-66d7-4ce4-abce-d1a91b2d5458"
      },
      "execution_count": null,
      "outputs": [
        {
          "output_type": "execute_result",
          "data": {
            "text/plain": [
              "0.13206924296483574"
            ]
          },
          "metadata": {},
          "execution_count": 60
        }
      ]
    },
    {
      "cell_type": "code",
      "source": [
        "# Log Transformation of 'sales'\n",
        "sales_abs = ipo_df_cont['sales'] + abs(ipo_df_cont['sales'].min()) +1\n",
        "sales_log = np.log(sales_abs)\n",
        "sales_log.skew()"
      ],
      "metadata": {
        "colab": {
          "base_uri": "https://localhost:8080/"
        },
        "id": "-S5dIw15K9Oa",
        "outputId": "0b7b1e3f-9b99-46dd-c4f4-3c1923901eda"
      },
      "execution_count": null,
      "outputs": [
        {
          "output_type": "execute_result",
          "data": {
            "text/plain": [
              "-0.8044187468055405"
            ]
          },
          "metadata": {},
          "execution_count": 61
        }
      ]
    },
    {
      "cell_type": "code",
      "source": [
        "# Log Transformation of C6 prime - 'Up_Revision'\n",
        "up_one = ipo_df_cont['Up_Revision'] + 1\n",
        "up_log = np.log(up_one)\n",
        "up_log.skew()"
      ],
      "metadata": {
        "colab": {
          "base_uri": "https://localhost:8080/"
        },
        "id": "6GQ9SM0RLtK0",
        "outputId": "d37b444b-037d-49d8-b505-b9c1dcff7c15"
      },
      "execution_count": null,
      "outputs": [
        {
          "output_type": "execute_result",
          "data": {
            "text/plain": [
              "0.6436265932144004"
            ]
          },
          "metadata": {},
          "execution_count": 62
        }
      ]
    },
    {
      "cell_type": "code",
      "source": [
        "# to merge OHE and Process\n",
        "ipo_df_merge = pd.concat([ipo_df_target, ipo_df_cat, ipo_df_cont], axis =1) \n",
        "ipo_df_merge.head()"
      ],
      "metadata": {
        "colab": {
          "base_uri": "https://localhost:8080/",
          "height": 270
        },
        "id": "WpjgSDoRPg1r",
        "outputId": "9a579aa9-41e2-42da-b172-0511bd47d25e"
      },
      "execution_count": null,
      "outputs": [
        {
          "output_type": "execute_result",
          "data": {
            "text/plain": [
              "   Pre_IPO_Price_Revision  Post_IPO_Initial_Return  std_industry_classifier  \\\n",
              "0                       0                        1                        1   \n",
              "1                       1                        0                        1   \n",
              "2                       1                        0                        1   \n",
              "3                       1                        1                        1   \n",
              "4                       0                        1                        3   \n",
              "\n",
              "   top_tier_dummy  Manufacturing  Services  Other  Positive_EPS_Dummy   days  \\\n",
              "0             1.0              1         0      0                   1  122.0   \n",
              "1             0.0              1         0      0                   0  259.0   \n",
              "2             1.0              1         0      0                   0   90.0   \n",
              "3             1.0              1         0      0                   0  209.0   \n",
              "4             1.0              0         0      1                   1   80.0   \n",
              "\n",
              "   prior_nasdaq_15day_returns    sales  Share_Overhang  Up_Revision  T1_prime  \\\n",
              "0                    0.029074   51.345        3.864345    11.111111  0.640426   \n",
              "1                   -0.013352   25.936        7.868826     0.000000  0.644753   \n",
              "2                    0.020715    7.378        3.369134     0.000000  0.636816   \n",
              "3                    0.020023    8.526        3.299697     0.000000  0.539634   \n",
              "4                   -0.034895  632.298        3.726269     5.000000  0.587413   \n",
              "\n",
              "   T2_prime  T3_prime  S1_prime  S2_prime  S3_prime  \n",
              "0  0.054250  0.908876  0.004875  0.009199  0.010929  \n",
              "1  0.051395  0.898724  0.003258  0.011105  0.010876  \n",
              "2  0.061764  0.909350  0.009440  0.006271  0.011403  \n",
              "3  0.061630  0.917060  0.009440  0.007144  0.013319  \n",
              "4  0.048550  0.888469  0.004518  0.010047  0.011261  "
            ],
            "text/html": [
              "\n",
              "  <div id=\"df-0f070afb-5bcd-404c-8dd2-527a1b1911d6\">\n",
              "    <div class=\"colab-df-container\">\n",
              "      <div>\n",
              "<style scoped>\n",
              "    .dataframe tbody tr th:only-of-type {\n",
              "        vertical-align: middle;\n",
              "    }\n",
              "\n",
              "    .dataframe tbody tr th {\n",
              "        vertical-align: top;\n",
              "    }\n",
              "\n",
              "    .dataframe thead th {\n",
              "        text-align: right;\n",
              "    }\n",
              "</style>\n",
              "<table border=\"1\" class=\"dataframe\">\n",
              "  <thead>\n",
              "    <tr style=\"text-align: right;\">\n",
              "      <th></th>\n",
              "      <th>Pre_IPO_Price_Revision</th>\n",
              "      <th>Post_IPO_Initial_Return</th>\n",
              "      <th>std_industry_classifier</th>\n",
              "      <th>top_tier_dummy</th>\n",
              "      <th>Manufacturing</th>\n",
              "      <th>Services</th>\n",
              "      <th>Other</th>\n",
              "      <th>Positive_EPS_Dummy</th>\n",
              "      <th>days</th>\n",
              "      <th>prior_nasdaq_15day_returns</th>\n",
              "      <th>sales</th>\n",
              "      <th>Share_Overhang</th>\n",
              "      <th>Up_Revision</th>\n",
              "      <th>T1_prime</th>\n",
              "      <th>T2_prime</th>\n",
              "      <th>T3_prime</th>\n",
              "      <th>S1_prime</th>\n",
              "      <th>S2_prime</th>\n",
              "      <th>S3_prime</th>\n",
              "    </tr>\n",
              "  </thead>\n",
              "  <tbody>\n",
              "    <tr>\n",
              "      <th>0</th>\n",
              "      <td>0</td>\n",
              "      <td>1</td>\n",
              "      <td>1</td>\n",
              "      <td>1.0</td>\n",
              "      <td>1</td>\n",
              "      <td>0</td>\n",
              "      <td>0</td>\n",
              "      <td>1</td>\n",
              "      <td>122.0</td>\n",
              "      <td>0.029074</td>\n",
              "      <td>51.345</td>\n",
              "      <td>3.864345</td>\n",
              "      <td>11.111111</td>\n",
              "      <td>0.640426</td>\n",
              "      <td>0.054250</td>\n",
              "      <td>0.908876</td>\n",
              "      <td>0.004875</td>\n",
              "      <td>0.009199</td>\n",
              "      <td>0.010929</td>\n",
              "    </tr>\n",
              "    <tr>\n",
              "      <th>1</th>\n",
              "      <td>1</td>\n",
              "      <td>0</td>\n",
              "      <td>1</td>\n",
              "      <td>0.0</td>\n",
              "      <td>1</td>\n",
              "      <td>0</td>\n",
              "      <td>0</td>\n",
              "      <td>0</td>\n",
              "      <td>259.0</td>\n",
              "      <td>-0.013352</td>\n",
              "      <td>25.936</td>\n",
              "      <td>7.868826</td>\n",
              "      <td>0.000000</td>\n",
              "      <td>0.644753</td>\n",
              "      <td>0.051395</td>\n",
              "      <td>0.898724</td>\n",
              "      <td>0.003258</td>\n",
              "      <td>0.011105</td>\n",
              "      <td>0.010876</td>\n",
              "    </tr>\n",
              "    <tr>\n",
              "      <th>2</th>\n",
              "      <td>1</td>\n",
              "      <td>0</td>\n",
              "      <td>1</td>\n",
              "      <td>1.0</td>\n",
              "      <td>1</td>\n",
              "      <td>0</td>\n",
              "      <td>0</td>\n",
              "      <td>0</td>\n",
              "      <td>90.0</td>\n",
              "      <td>0.020715</td>\n",
              "      <td>7.378</td>\n",
              "      <td>3.369134</td>\n",
              "      <td>0.000000</td>\n",
              "      <td>0.636816</td>\n",
              "      <td>0.061764</td>\n",
              "      <td>0.909350</td>\n",
              "      <td>0.009440</td>\n",
              "      <td>0.006271</td>\n",
              "      <td>0.011403</td>\n",
              "    </tr>\n",
              "    <tr>\n",
              "      <th>3</th>\n",
              "      <td>1</td>\n",
              "      <td>1</td>\n",
              "      <td>1</td>\n",
              "      <td>1.0</td>\n",
              "      <td>1</td>\n",
              "      <td>0</td>\n",
              "      <td>0</td>\n",
              "      <td>0</td>\n",
              "      <td>209.0</td>\n",
              "      <td>0.020023</td>\n",
              "      <td>8.526</td>\n",
              "      <td>3.299697</td>\n",
              "      <td>0.000000</td>\n",
              "      <td>0.539634</td>\n",
              "      <td>0.061630</td>\n",
              "      <td>0.917060</td>\n",
              "      <td>0.009440</td>\n",
              "      <td>0.007144</td>\n",
              "      <td>0.013319</td>\n",
              "    </tr>\n",
              "    <tr>\n",
              "      <th>4</th>\n",
              "      <td>0</td>\n",
              "      <td>1</td>\n",
              "      <td>3</td>\n",
              "      <td>1.0</td>\n",
              "      <td>0</td>\n",
              "      <td>0</td>\n",
              "      <td>1</td>\n",
              "      <td>1</td>\n",
              "      <td>80.0</td>\n",
              "      <td>-0.034895</td>\n",
              "      <td>632.298</td>\n",
              "      <td>3.726269</td>\n",
              "      <td>5.000000</td>\n",
              "      <td>0.587413</td>\n",
              "      <td>0.048550</td>\n",
              "      <td>0.888469</td>\n",
              "      <td>0.004518</td>\n",
              "      <td>0.010047</td>\n",
              "      <td>0.011261</td>\n",
              "    </tr>\n",
              "  </tbody>\n",
              "</table>\n",
              "</div>\n",
              "      <button class=\"colab-df-convert\" onclick=\"convertToInteractive('df-0f070afb-5bcd-404c-8dd2-527a1b1911d6')\"\n",
              "              title=\"Convert this dataframe to an interactive table.\"\n",
              "              style=\"display:none;\">\n",
              "        \n",
              "  <svg xmlns=\"http://www.w3.org/2000/svg\" height=\"24px\"viewBox=\"0 0 24 24\"\n",
              "       width=\"24px\">\n",
              "    <path d=\"M0 0h24v24H0V0z\" fill=\"none\"/>\n",
              "    <path d=\"M18.56 5.44l.94 2.06.94-2.06 2.06-.94-2.06-.94-.94-2.06-.94 2.06-2.06.94zm-11 1L8.5 8.5l.94-2.06 2.06-.94-2.06-.94L8.5 2.5l-.94 2.06-2.06.94zm10 10l.94 2.06.94-2.06 2.06-.94-2.06-.94-.94-2.06-.94 2.06-2.06.94z\"/><path d=\"M17.41 7.96l-1.37-1.37c-.4-.4-.92-.59-1.43-.59-.52 0-1.04.2-1.43.59L10.3 9.45l-7.72 7.72c-.78.78-.78 2.05 0 2.83L4 21.41c.39.39.9.59 1.41.59.51 0 1.02-.2 1.41-.59l7.78-7.78 2.81-2.81c.8-.78.8-2.07 0-2.86zM5.41 20L4 18.59l7.72-7.72 1.47 1.35L5.41 20z\"/>\n",
              "  </svg>\n",
              "      </button>\n",
              "      \n",
              "  <style>\n",
              "    .colab-df-container {\n",
              "      display:flex;\n",
              "      flex-wrap:wrap;\n",
              "      gap: 12px;\n",
              "    }\n",
              "\n",
              "    .colab-df-convert {\n",
              "      background-color: #E8F0FE;\n",
              "      border: none;\n",
              "      border-radius: 50%;\n",
              "      cursor: pointer;\n",
              "      display: none;\n",
              "      fill: #1967D2;\n",
              "      height: 32px;\n",
              "      padding: 0 0 0 0;\n",
              "      width: 32px;\n",
              "    }\n",
              "\n",
              "    .colab-df-convert:hover {\n",
              "      background-color: #E2EBFA;\n",
              "      box-shadow: 0px 1px 2px rgba(60, 64, 67, 0.3), 0px 1px 3px 1px rgba(60, 64, 67, 0.15);\n",
              "      fill: #174EA6;\n",
              "    }\n",
              "\n",
              "    [theme=dark] .colab-df-convert {\n",
              "      background-color: #3B4455;\n",
              "      fill: #D2E3FC;\n",
              "    }\n",
              "\n",
              "    [theme=dark] .colab-df-convert:hover {\n",
              "      background-color: #434B5C;\n",
              "      box-shadow: 0px 1px 3px 1px rgba(0, 0, 0, 0.15);\n",
              "      filter: drop-shadow(0px 1px 2px rgba(0, 0, 0, 0.3));\n",
              "      fill: #FFFFFF;\n",
              "    }\n",
              "  </style>\n",
              "\n",
              "      <script>\n",
              "        const buttonEl =\n",
              "          document.querySelector('#df-0f070afb-5bcd-404c-8dd2-527a1b1911d6 button.colab-df-convert');\n",
              "        buttonEl.style.display =\n",
              "          google.colab.kernel.accessAllowed ? 'block' : 'none';\n",
              "\n",
              "        async function convertToInteractive(key) {\n",
              "          const element = document.querySelector('#df-0f070afb-5bcd-404c-8dd2-527a1b1911d6');\n",
              "          const dataTable =\n",
              "            await google.colab.kernel.invokeFunction('convertToInteractive',\n",
              "                                                     [key], {});\n",
              "          if (!dataTable) return;\n",
              "\n",
              "          const docLinkHtml = 'Like what you see? Visit the ' +\n",
              "            '<a target=\"_blank\" href=https://colab.research.google.com/notebooks/data_table.ipynb>data table notebook</a>'\n",
              "            + ' to learn more about interactive tables.';\n",
              "          element.innerHTML = '';\n",
              "          dataTable['output_type'] = 'display_data';\n",
              "          await google.colab.output.renderOutput(dataTable, element);\n",
              "          const docLink = document.createElement('div');\n",
              "          docLink.innerHTML = docLinkHtml;\n",
              "          element.appendChild(docLink);\n",
              "        }\n",
              "      </script>\n",
              "    </div>\n",
              "  </div>\n",
              "  "
            ]
          },
          "metadata": {},
          "execution_count": 63
        }
      ]
    },
    {
      "cell_type": "code",
      "source": [
        "ipo_df_merge.shape"
      ],
      "metadata": {
        "colab": {
          "base_uri": "https://localhost:8080/"
        },
        "id": "JldweZ3JgxA8",
        "outputId": "ce021052-38a7-47a3-cb93-c1d25ed5f181"
      },
      "execution_count": null,
      "outputs": [
        {
          "output_type": "execute_result",
          "data": {
            "text/plain": [
              "(660, 19)"
            ]
          },
          "metadata": {},
          "execution_count": 64
        }
      ]
    },
    {
      "cell_type": "markdown",
      "source": [
        "# Feature Selection"
      ],
      "metadata": {
        "id": "6PN5MX7IdA64"
      }
    },
    {
      "cell_type": "code",
      "source": [
        "X = pd.concat([ipo_df_cont, ipo_df_cat], axis =1).values"
      ],
      "metadata": {
        "id": "_WVWjKLG9VwU"
      },
      "execution_count": null,
      "outputs": []
    },
    {
      "cell_type": "code",
      "source": [
        "y = ipo_df_target['Pre_IPO_Price_Revision'].values"
      ],
      "metadata": {
        "id": "zrNRZSSrAkEk"
      },
      "execution_count": null,
      "outputs": []
    },
    {
      "cell_type": "code",
      "source": [
        "y2 = ipo_df_target['Post_IPO_Initial_Return'].values"
      ],
      "metadata": {
        "id": "DDOcTTrPAqa6"
      },
      "execution_count": null,
      "outputs": []
    },
    {
      "cell_type": "code",
      "source": [
        "# Import the necessary libraries first\n",
        "#### Correlation method - for classification chi2 only\n",
        "from sklearn.feature_selection import SelectKBest\n",
        "from sklearn.feature_selection import chi2, f_classif\n",
        "#### RFE method - replace the model with the model you plan to use\n",
        "from sklearn.feature_selection import RFE\n",
        "# from sklearn.linear_model import LogisticRegression\n",
        "#### feature importance method\n",
        "#### this method can be used for both topK and cut-off\n",
        "from sklearn.linear_model import Ridge\n",
        "#### specifically tree-based feature importance method\n",
        "from sklearn.ensemble import RandomForestClassifier, ExtraTreesClassifier\n",
        "#### for voting\n",
        "from collections import Counter\n",
        "#### for ANOVA\n",
        "import statsmodels.formula.api as smf\n",
        "import statsmodels.stats.api as sms"
      ],
      "metadata": {
        "id": "O5aypXYpokBl"
      },
      "execution_count": null,
      "outputs": []
    },
    {
      "cell_type": "code",
      "source": [
        "names = list(pd.concat([ipo_df_cont, ipo_df_cat], axis =1).columns)\n",
        "names"
      ],
      "metadata": {
        "colab": {
          "base_uri": "https://localhost:8080/"
        },
        "id": "qHJlbMx3MrUn",
        "outputId": "4c04f905-4a26-4f91-b947-237a5280a3e4"
      },
      "execution_count": null,
      "outputs": [
        {
          "output_type": "execute_result",
          "data": {
            "text/plain": [
              "['days',\n",
              " 'prior_nasdaq_15day_returns',\n",
              " 'sales',\n",
              " 'Share_Overhang',\n",
              " 'Up_Revision',\n",
              " 'T1_prime',\n",
              " 'T2_prime',\n",
              " 'T3_prime',\n",
              " 'S1_prime',\n",
              " 'S2_prime',\n",
              " 'S3_prime',\n",
              " 'std_industry_classifier',\n",
              " 'top_tier_dummy',\n",
              " 'Manufacturing',\n",
              " 'Services',\n",
              " 'Other',\n",
              " 'Positive_EPS_Dummy']"
            ]
          },
          "metadata": {},
          "execution_count": 69
        }
      ]
    },
    {
      "cell_type": "code",
      "source": [
        "def feature_selector(X, y, model, names, _method=\"topk\", n=int(8), fit_X=False, thres = 0.1):\n",
        "  \"\"\"voting based feature selector\n",
        "  - _method: \"topk\" for top-K method (default), \"cutoff\" for cut-off based method\n",
        "  - n: number of features to be selected. only available for top-K method - default half of the total features\n",
        "  - thres: cut-off threshold (default 0.1), only availabel for cutoff method\n",
        "  - fit_X: fit_transform X or just return indices\n",
        "  TODO: include support for regression problems\n",
        "  \"\"\"\n",
        "  #### Placeholder for tests\n",
        "  # X.shape[0] == y.shape[0]\n",
        "  if names: # if given feature names\n",
        "    feature_names = np.array(names)\n",
        "  else: # otherwise use location\n",
        "    feature_names = np.array([\"X%s\" % x for x in range(len(X.shape[0]))])\n",
        "  if _method == 'topk':\n",
        "    #### np.argpartition gets the indices of the largest n element from the array in ascending order\n",
        "    #### [::-1] reverse the order\n",
        "    ############################################################################\n",
        "    #### IMPORTANT: \n",
        "    #### use `chi2` as the `score_func` when doing categorical features - values has to be non-negative\n",
        "    #### use `f_classif` as the `score_func` when doing categorical and continuous feautures\n",
        "    #### use `f_regression` as the `score_func` when doing continuous feautures\n",
        "    ############################################################################\n",
        "    corr_features = list(np.argpartition(SelectKBest(score_func=f_classif, k=n).fit(X,y).scores_, -n)[-n:][::-1])\n",
        "    #### binary masking on features, use np.where() to get the indices of selected\n",
        "    rfe_features = list(np.where(RFE(model, n_features_to_select=n, step=1).fit(X, y).support_)[0])\n",
        "    #### argsort get sorted indices by values, ::-1] reverse the asceding order\n",
        "    ridge_features = list(np.argsort(Ridge(alpha=1.0).fit(X, y).coef_)[-n:][::-1])\n",
        "    #### using ExtraTree\n",
        "    extratree_features = list(np.argsort(ExtraTreesClassifier().fit(X, y).feature_importances_)[-n:][::-1])\n",
        "    ### using Random Forest:\n",
        "    rf_features = list(np.argsort(RandomForestClassifier().fit(X, y).feature_importances_)[-n:][::-1])\n",
        "    print(\"Using the Top-K method: \")\n",
        "    print(\"Selected features by correlation: \", feature_names[corr_features])\n",
        "    print(\"Selected features by RFE: \", feature_names[rfe_features])\n",
        "    print(\"Selected features by Ridge coefficients: \", feature_names[ridge_features])\n",
        "    print(\"Selected features by Extra Tree feature importance: \", feature_names[extratree_features])\n",
        "    print(\"Selected features by Random Forest feature importance: \", feature_names[rf_features])\n",
        "\n",
        "  elif _method == 'cutoff':\n",
        "    corr_features, rfe_features = list(), list() #### N/A\n",
        "    ridge_features = list(np.where(Ridge(alpha=1.0).fit(X, y).coef_ > thres)[0])\n",
        "    extratree_features = list(np.where(ExtraTreesClassifier().fit(X, y).feature_importances_ > thres)[0])\n",
        "    rf_features = list(np.where(RandomForestClassifier().fit(X, y).feature_importances_ > thres)[0])\n",
        "    print(\"Using the Cutoff method: \")\n",
        "    # print(\"Selected features by correlation: \", feature_names[corr_features])\n",
        "    # print(\"Selected features by RFE: \", feature_names[rfe_features])\n",
        "    print(\"Selected features by Ridge coefficients: \", feature_names[ridge_features])\n",
        "    print(\"Selected features by Extra Tree feature importance: \", feature_names[extratree_features])\n",
        "    print(\"Selected features by Random Forest feature importance: \", feature_names[rf_features])\n",
        "  else:\n",
        "    return(\"Only Top-K and Cutoff methods are currently supported!\")\n",
        "\n",
        "  ######################################\n",
        "  #### combine results using voting ####\n",
        "  ######################################\n",
        "  counted = Counter(np.concatenate((corr_features, rfe_features, ridge_features, extratree_features, rf_features), axis=None)).most_common(n)\n",
        "\n",
        "  #### list of tuples (feature_index, votes)\n",
        "  counted.sort(key = lambda x: x[1], reverse=True)\n",
        "  final_select_series = pd.Series({feature_names[f]:c for f,c in counted}).sort_values(ascending=False)\n",
        "  selected_idx = sorted([f for f,c in counted])\n",
        "  assert len(selected_idx) == n\n",
        "  print(final_select_series)\n",
        "  if fit_X:\n",
        "    return(X[:,selected_idx])\n",
        "  else:\n",
        "    return(feature_names[selected_idx])"
      ],
      "metadata": {
        "id": "lGnkQV7XfCJA"
      },
      "execution_count": null,
      "outputs": []
    },
    {
      "cell_type": "code",
      "source": [
        "#exclude up Up_Revision with Y1 but include with Y2"
      ],
      "metadata": {
        "id": "uLrBt-93NMof"
      },
      "execution_count": null,
      "outputs": []
    },
    {
      "cell_type": "code",
      "source": [
        "selected_features1 = feature_selector(X, y, model=RandomForestClassifier(), names=names, fit_X=False)\n",
        "selected_features1"
      ],
      "metadata": {
        "colab": {
          "base_uri": "https://localhost:8080/"
        },
        "id": "EKm93iph9R47",
        "outputId": "532c3410-ba11-47f0-b115-14a6fc290edd"
      },
      "execution_count": null,
      "outputs": [
        {
          "output_type": "stream",
          "name": "stdout",
          "text": [
            "Using the Top-K method: \n",
            "Selected features by correlation:  ['Positive_EPS_Dummy' 'Up_Revision' 'T2_prime' 'T3_prime' 'S2_prime'\n",
            " 'S1_prime' 'prior_nasdaq_15day_returns' 'top_tier_dummy']\n",
            "Selected features by RFE:  ['prior_nasdaq_15day_returns' 'sales' 'Share_Overhang' 'Up_Revision'\n",
            " 'T2_prime' 'T3_prime' 'S1_prime' 'S2_prime']\n",
            "Selected features by Ridge coefficients:  ['T3_prime' 'T1_prime' 'T2_prime' 'S2_prime' 'S1_prime' 'S3_prime'\n",
            " 'Share_Overhang' 'Manufacturing']\n",
            "Selected features by Extra Tree feature importance:  ['Up_Revision' 'S2_prime' 'T2_prime' 'Share_Overhang' 'S1_prime'\n",
            " 'prior_nasdaq_15day_returns' 'T3_prime' 'T1_prime']\n",
            "Selected features by Random Forest feature importance:  ['Up_Revision' 'S2_prime' 'sales' 'T2_prime' 'T3_prime' 'S1_prime'\n",
            " 'prior_nasdaq_15day_returns' 'T1_prime']\n",
            "T2_prime                      5\n",
            "T3_prime                      5\n",
            "S2_prime                      5\n",
            "S1_prime                      5\n",
            "Up_Revision                   4\n",
            "prior_nasdaq_15day_returns    4\n",
            "Share_Overhang                3\n",
            "T1_prime                      3\n",
            "dtype: int64\n"
          ]
        },
        {
          "output_type": "execute_result",
          "data": {
            "text/plain": [
              "array(['prior_nasdaq_15day_returns', 'Share_Overhang', 'Up_Revision',\n",
              "       'T1_prime', 'T2_prime', 'T3_prime', 'S1_prime', 'S2_prime'],\n",
              "      dtype='<U26')"
            ]
          },
          "metadata": {},
          "execution_count": 72
        }
      ]
    },
    {
      "cell_type": "code",
      "source": [
        "#alixing of df to import into the evaluation code - on column names "
      ],
      "metadata": {
        "id": "iA6iF6QnNe1Y"
      },
      "execution_count": null,
      "outputs": []
    },
    {
      "cell_type": "code",
      "source": [
        "savetxt('Features1')"
      ],
      "metadata": {
        "colab": {
          "base_uri": "https://localhost:8080/",
          "height": 210
        },
        "id": "ouMt_M5TT8-b",
        "outputId": "a9bdc7a0-bd3c-4400-a472-cf941cac7ce0"
      },
      "execution_count": null,
      "outputs": [
        {
          "output_type": "error",
          "ename": "NameError",
          "evalue": "ignored",
          "traceback": [
            "\u001b[0;31m---------------------------------------------------------------------------\u001b[0m",
            "\u001b[0;31mNameError\u001b[0m                                 Traceback (most recent call last)",
            "\u001b[0;32m<ipython-input-74-2c07a1c43607>\u001b[0m in \u001b[0;36m<module>\u001b[0;34m\u001b[0m\n\u001b[0;32m----> 1\u001b[0;31m \u001b[0msavetxt\u001b[0m\u001b[0;34m(\u001b[0m\u001b[0;34m'Features1'\u001b[0m\u001b[0;34m)\u001b[0m\u001b[0;34m\u001b[0m\u001b[0;34m\u001b[0m\u001b[0m\n\u001b[0m",
            "\u001b[0;31mNameError\u001b[0m: name 'savetxt' is not defined"
          ]
        }
      ]
    },
    {
      "cell_type": "code",
      "source": [
        "pd.DataFrame(selected_features1).to_csv('Features', ',')"
      ],
      "metadata": {
        "id": "SnrC9J8oQ2h-"
      },
      "execution_count": null,
      "outputs": []
    },
    {
      "cell_type": "code",
      "source": [
        "# save this as a CSV\n",
        "X.loc[:, selected_features]"
      ],
      "metadata": {
        "id": "LdimAxFXNwzR"
      },
      "execution_count": null,
      "outputs": []
    },
    {
      "cell_type": "code",
      "source": [
        "def feature_selector(X, y2, model, names, _method=\"topk\", n=int(8), fit_X=False, thres = 0.1):\n",
        "  \"\"\"voting based feature selector\n",
        "  - _method: \"topk\" for top-K method (default), \"cutoff\" for cut-off based method\n",
        "  - n: number of features to be selected. only available for top-K method - default half of the total features\n",
        "  - thres: cut-off threshold (default 0.1), only availabel for cutoff method\n",
        "  - fit_X: fit_transform X or just return indices\n",
        "  TODO: include support for regression problems\n",
        "  \"\"\"\n",
        "  #### Placeholder for tests\n",
        "  # X.shape[0] == y.shape[0]\n",
        "  if names: # if given feature names\n",
        "    feature_names = np.array(names)\n",
        "  else: # otherwise use location\n",
        "    feature_names = np.array([\"X%s\" % x for x in range(len(X.shape[0]))])\n",
        "  if _method == 'topk':\n",
        "    #### np.argpartition gets the indices of the largest n element from the array in ascending order\n",
        "    #### [::-1] reverse the order\n",
        "    ############################################################################\n",
        "    #### IMPORTANT: \n",
        "    #### use `chi2` as the `score_func` when doing categorical features - values has to be non-negative\n",
        "    #### use `f_classif` as the `score_func` when doing categorical and continuous feautures\n",
        "    #### use `f_regression` as the `score_func` when doing continuous feautures\n",
        "    ############################################################################\n",
        "    corr_features = list(np.argpartition(SelectKBest(score_func=f_classif, k=n).fit(X,y).scores_, -n)[-n:][::-1])\n",
        "    #### binary masking on features, use np.where() to get the indices of selected\n",
        "    rfe_features = list(np.where(RFE(model, n_features_to_select=n, step=1).fit(X, y).support_)[0])\n",
        "    #### argsort get sorted indices by values, ::-1] reverse the asceding order\n",
        "    ridge_features = list(np.argsort(Ridge(alpha=1.0).fit(X, y).coef_)[-n:][::-1])\n",
        "    #### using ExtraTree\n",
        "    extratree_features = list(np.argsort(ExtraTreesClassifier().fit(X, y).feature_importances_)[-n:][::-1])\n",
        "    ### using Random Forest:\n",
        "    rf_features = list(np.argsort(RandomForestClassifier().fit(X, y).feature_importances_)[-n:][::-1])\n",
        "    print(\"Using the Top-K method: \")\n",
        "    print(\"Selected features by correlation: \", feature_names[corr_features])\n",
        "    print(\"Selected features by RFE: \", feature_names[rfe_features])\n",
        "    print(\"Selected features by Ridge coefficients: \", feature_names[ridge_features])\n",
        "    print(\"Selected features by Extra Tree feature importance: \", feature_names[extratree_features])\n",
        "    print(\"Selected features by Random Forest feature importance: \", feature_names[rf_features])\n",
        "\n",
        "  elif _method == 'cutoff':\n",
        "    corr_features, rfe_features = list(), list() #### N/A\n",
        "    ridge_features = list(np.where(Ridge(alpha=1.0).fit(X, y).coef_ > thres)[0])\n",
        "    extratree_features = list(np.where(ExtraTreesClassifier().fit(X, y).feature_importances_ > thres)[0])\n",
        "    rf_features = list(np.where(RandomForestClassifier().fit(X, y).feature_importances_ > thres)[0])\n",
        "    print(\"Using the Cutoff method: \")\n",
        "    # print(\"Selected features by correlation: \", feature_names[corr_features])\n",
        "    # print(\"Selected features by RFE: \", feature_names[rfe_features])\n",
        "    print(\"Selected features by Ridge coefficients: \", feature_names[ridge_features])\n",
        "    print(\"Selected features by Extra Tree feature importance: \", feature_names[extratree_features])\n",
        "    print(\"Selected features by Random Forest feature importance: \", feature_names[rf_features])\n",
        "  else:\n",
        "    return(\"Only Top-K and Cutoff methods are currently supported!\")\n",
        "\n",
        "  ######################################\n",
        "  #### combine results using voting ####\n",
        "  ######################################\n",
        "  counted = Counter(np.concatenate((corr_features, rfe_features, ridge_features, extratree_features, rf_features), axis=None)).most_common(n)\n",
        "\n",
        "  #### list of tuples (feature_index, votes)\n",
        "  counted.sort(key = lambda x: x[1], reverse=True)\n",
        "  final_select_series = pd.Series({feature_names[f]:c for f,c in counted}).sort_values(ascending=False)\n",
        "  selected_idx = sorted([f for f,c in counted])\n",
        "  assert len(selected_idx) == n\n",
        "  print(final_select_series)\n",
        "  if fit_X:\n",
        "    return(X[:,selected_idx])\n",
        "  else:\n",
        "    return(feature_names[selected_idx])"
      ],
      "metadata": {
        "id": "yHkqotd4Prj5"
      },
      "execution_count": null,
      "outputs": []
    },
    {
      "cell_type": "code",
      "source": [
        "selected_features2 = feature_selector(X, y2, model=RandomForestClassifier(), names=names, fit_X=False)\n",
        "selected_features2"
      ],
      "metadata": {
        "id": "zbEC5aAvn3tI"
      },
      "execution_count": null,
      "outputs": []
    },
    {
      "cell_type": "code",
      "source": [
        "pd.DataFrame(selected_features2).to_csv('Features 2', ',')"
      ],
      "metadata": {
        "id": "5B_40Bo8SyfM"
      },
      "execution_count": null,
      "outputs": []
    }
  ]
}