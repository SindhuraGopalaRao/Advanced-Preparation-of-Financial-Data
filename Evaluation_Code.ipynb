{
  "nbformat": 4,
  "nbformat_minor": 0,
  "metadata": {
    "colab": {
      "provenance": []
    },
    "kernelspec": {
      "name": "python3",
      "display_name": "Python 3"
    }
  },
  "cells": [
    {
      "cell_type": "markdown",
      "source": [
        "# DATA 6545 Project 1 Evaluation Code\n",
        "- ver. 1.1\n",
        "Developed by: Dr. Jie Tao\n",
        "\n",
        "This is the sample evaluation code provided for your project 1. \n",
        "- You should evaluated your processed data using this code whenever possible, and record the results;\n",
        "- Do not modify this code here - create a __copy__ if you decide to do so.\n",
        "- Note that due to randomness, although I will use the same code to evaluate your final submissions, the results might be slightly different."
      ],
      "metadata": {
        "id": "XW7Z70Sm-JfX"
      }
    },
    {
      "cell_type": "code",
      "metadata": {
        "id": "RnOZqEmD5d7F"
      },
      "source": [
        "# import required package for data ingestion\n",
        "import pandas as pd\n",
        "import numpy as np\n",
        "\n",
        "# import required packages for splitting data\n",
        "from sklearn import model_selection\n",
        "from sklearn.model_selection import cross_val_score\n",
        "from sklearn.model_selection import train_test_split\n",
        "\n",
        "# import required packages for evaluating models\n",
        "from sklearn import metrics\n",
        "from sklearn.metrics import confusion_matrix\n",
        "from sklearn.metrics import classification_report\n",
        "from sklearn.metrics import roc_auc_score\n",
        "from sklearn.metrics import accuracy_score\n",
        "from sklearn.metrics import precision_recall_fscore_support\n",
        "\n",
        "# import `logistic regression` model\n",
        "from sklearn.linear_model import LogisticRegression\n",
        "\n",
        "# balance the data\n",
        "from imblearn.over_sampling import SMOTE"
      ],
      "execution_count": null,
      "outputs": []
    },
    {
      "cell_type": "markdown",
      "metadata": {
        "id": "6xbYWNKw5zKL"
      },
      "source": [
        "## Mount Google Drive"
      ]
    },
    {
      "cell_type": "code",
      "metadata": {
        "id": "LOYSdKlVjlK-",
        "colab": {
          "base_uri": "https://localhost:8080/"
        },
        "outputId": "628210e5-b82b-4a8c-e67e-6ec122406697"
      },
      "source": [
        "from google.colab import drive\n",
        "drive.mount('/content/drive')"
      ],
      "execution_count": null,
      "outputs": [
        {
          "output_type": "stream",
          "name": "stdout",
          "text": [
            "Drive already mounted at /content/drive; to attempt to forcibly remount, call drive.mount(\"/content/drive\", force_remount=True).\n"
          ]
        }
      ]
    },
    {
      "cell_type": "markdown",
      "metadata": {
        "id": "mnZxCHyFjlxc"
      },
      "source": [
        "# Read in the Data"
      ]
    },
    {
      "cell_type": "code",
      "metadata": {
        "colab": {
          "base_uri": "https://localhost:8080/",
          "height": 206
        },
        "id": "M3u3DDft5yEY",
        "outputId": "025a4058-6797-4ccd-be99-f493beba4c9d"
      },
      "source": [
        "#### you should change data_path to point to your OWN data file\n",
        "data_path = '/content/drive/MyDrive/Colab Notebooks/data/Process 3A.csv'\n",
        "data_df = pd.read_csv(data_path, index_col=0)\n",
        "data_df.head()"
      ],
      "execution_count": null,
      "outputs": [
        {
          "output_type": "execute_result",
          "data": {
            "text/plain": [
              "   T2_prime  T3_prime  S2_prime  Positive_EPS_Dummy  Pre_IPO_Price_Revision  \\\n",
              "0  0.054250  0.908876  0.009199                 1.0                     0.0   \n",
              "1  0.051395  0.898724  0.011105                 0.0                     1.0   \n",
              "2  0.061764  0.909350  0.006271                 0.0                     1.0   \n",
              "3  0.061630  0.917060  0.007144                 0.0                     1.0   \n",
              "4  0.048550  0.888469  0.010047                 1.0                     0.0   \n",
              "\n",
              "   Post_IPO_Initial_Return  \n",
              "0                      1.0  \n",
              "1                      0.0  \n",
              "2                      0.0  \n",
              "3                      1.0  \n",
              "4                      1.0  "
            ],
            "text/html": [
              "\n",
              "  <div id=\"df-7169ee15-6955-4354-9892-61a78a402df4\">\n",
              "    <div class=\"colab-df-container\">\n",
              "      <div>\n",
              "<style scoped>\n",
              "    .dataframe tbody tr th:only-of-type {\n",
              "        vertical-align: middle;\n",
              "    }\n",
              "\n",
              "    .dataframe tbody tr th {\n",
              "        vertical-align: top;\n",
              "    }\n",
              "\n",
              "    .dataframe thead th {\n",
              "        text-align: right;\n",
              "    }\n",
              "</style>\n",
              "<table border=\"1\" class=\"dataframe\">\n",
              "  <thead>\n",
              "    <tr style=\"text-align: right;\">\n",
              "      <th></th>\n",
              "      <th>T2_prime</th>\n",
              "      <th>T3_prime</th>\n",
              "      <th>S2_prime</th>\n",
              "      <th>Positive_EPS_Dummy</th>\n",
              "      <th>Pre_IPO_Price_Revision</th>\n",
              "      <th>Post_IPO_Initial_Return</th>\n",
              "    </tr>\n",
              "  </thead>\n",
              "  <tbody>\n",
              "    <tr>\n",
              "      <th>0</th>\n",
              "      <td>0.054250</td>\n",
              "      <td>0.908876</td>\n",
              "      <td>0.009199</td>\n",
              "      <td>1.0</td>\n",
              "      <td>0.0</td>\n",
              "      <td>1.0</td>\n",
              "    </tr>\n",
              "    <tr>\n",
              "      <th>1</th>\n",
              "      <td>0.051395</td>\n",
              "      <td>0.898724</td>\n",
              "      <td>0.011105</td>\n",
              "      <td>0.0</td>\n",
              "      <td>1.0</td>\n",
              "      <td>0.0</td>\n",
              "    </tr>\n",
              "    <tr>\n",
              "      <th>2</th>\n",
              "      <td>0.061764</td>\n",
              "      <td>0.909350</td>\n",
              "      <td>0.006271</td>\n",
              "      <td>0.0</td>\n",
              "      <td>1.0</td>\n",
              "      <td>0.0</td>\n",
              "    </tr>\n",
              "    <tr>\n",
              "      <th>3</th>\n",
              "      <td>0.061630</td>\n",
              "      <td>0.917060</td>\n",
              "      <td>0.007144</td>\n",
              "      <td>0.0</td>\n",
              "      <td>1.0</td>\n",
              "      <td>1.0</td>\n",
              "    </tr>\n",
              "    <tr>\n",
              "      <th>4</th>\n",
              "      <td>0.048550</td>\n",
              "      <td>0.888469</td>\n",
              "      <td>0.010047</td>\n",
              "      <td>1.0</td>\n",
              "      <td>0.0</td>\n",
              "      <td>1.0</td>\n",
              "    </tr>\n",
              "  </tbody>\n",
              "</table>\n",
              "</div>\n",
              "      <button class=\"colab-df-convert\" onclick=\"convertToInteractive('df-7169ee15-6955-4354-9892-61a78a402df4')\"\n",
              "              title=\"Convert this dataframe to an interactive table.\"\n",
              "              style=\"display:none;\">\n",
              "        \n",
              "  <svg xmlns=\"http://www.w3.org/2000/svg\" height=\"24px\"viewBox=\"0 0 24 24\"\n",
              "       width=\"24px\">\n",
              "    <path d=\"M0 0h24v24H0V0z\" fill=\"none\"/>\n",
              "    <path d=\"M18.56 5.44l.94 2.06.94-2.06 2.06-.94-2.06-.94-.94-2.06-.94 2.06-2.06.94zm-11 1L8.5 8.5l.94-2.06 2.06-.94-2.06-.94L8.5 2.5l-.94 2.06-2.06.94zm10 10l.94 2.06.94-2.06 2.06-.94-2.06-.94-.94-2.06-.94 2.06-2.06.94z\"/><path d=\"M17.41 7.96l-1.37-1.37c-.4-.4-.92-.59-1.43-.59-.52 0-1.04.2-1.43.59L10.3 9.45l-7.72 7.72c-.78.78-.78 2.05 0 2.83L4 21.41c.39.39.9.59 1.41.59.51 0 1.02-.2 1.41-.59l7.78-7.78 2.81-2.81c.8-.78.8-2.07 0-2.86zM5.41 20L4 18.59l7.72-7.72 1.47 1.35L5.41 20z\"/>\n",
              "  </svg>\n",
              "      </button>\n",
              "      \n",
              "  <style>\n",
              "    .colab-df-container {\n",
              "      display:flex;\n",
              "      flex-wrap:wrap;\n",
              "      gap: 12px;\n",
              "    }\n",
              "\n",
              "    .colab-df-convert {\n",
              "      background-color: #E8F0FE;\n",
              "      border: none;\n",
              "      border-radius: 50%;\n",
              "      cursor: pointer;\n",
              "      display: none;\n",
              "      fill: #1967D2;\n",
              "      height: 32px;\n",
              "      padding: 0 0 0 0;\n",
              "      width: 32px;\n",
              "    }\n",
              "\n",
              "    .colab-df-convert:hover {\n",
              "      background-color: #E2EBFA;\n",
              "      box-shadow: 0px 1px 2px rgba(60, 64, 67, 0.3), 0px 1px 3px 1px rgba(60, 64, 67, 0.15);\n",
              "      fill: #174EA6;\n",
              "    }\n",
              "\n",
              "    [theme=dark] .colab-df-convert {\n",
              "      background-color: #3B4455;\n",
              "      fill: #D2E3FC;\n",
              "    }\n",
              "\n",
              "    [theme=dark] .colab-df-convert:hover {\n",
              "      background-color: #434B5C;\n",
              "      box-shadow: 0px 1px 3px 1px rgba(0, 0, 0, 0.15);\n",
              "      filter: drop-shadow(0px 1px 2px rgba(0, 0, 0, 0.3));\n",
              "      fill: #FFFFFF;\n",
              "    }\n",
              "  </style>\n",
              "\n",
              "      <script>\n",
              "        const buttonEl =\n",
              "          document.querySelector('#df-7169ee15-6955-4354-9892-61a78a402df4 button.colab-df-convert');\n",
              "        buttonEl.style.display =\n",
              "          google.colab.kernel.accessAllowed ? 'block' : 'none';\n",
              "\n",
              "        async function convertToInteractive(key) {\n",
              "          const element = document.querySelector('#df-7169ee15-6955-4354-9892-61a78a402df4');\n",
              "          const dataTable =\n",
              "            await google.colab.kernel.invokeFunction('convertToInteractive',\n",
              "                                                     [key], {});\n",
              "          if (!dataTable) return;\n",
              "\n",
              "          const docLinkHtml = 'Like what you see? Visit the ' +\n",
              "            '<a target=\"_blank\" href=https://colab.research.google.com/notebooks/data_table.ipynb>data table notebook</a>'\n",
              "            + ' to learn more about interactive tables.';\n",
              "          element.innerHTML = '';\n",
              "          dataTable['output_type'] = 'display_data';\n",
              "          await google.colab.output.renderOutput(dataTable, element);\n",
              "          const docLink = document.createElement('div');\n",
              "          docLink.innerHTML = docLinkHtml;\n",
              "          element.appendChild(docLink);\n",
              "        }\n",
              "      </script>\n",
              "    </div>\n",
              "  </div>\n",
              "  "
            ]
          },
          "metadata": {},
          "execution_count": 113
        }
      ]
    },
    {
      "cell_type": "code",
      "metadata": {
        "id": "Q44cYXdIHeFH",
        "colab": {
          "base_uri": "https://localhost:8080/"
        },
        "outputId": "70c51b08-4336-434e-dd08-6bd1a4f568d0"
      },
      "source": [
        "# get a list of feature names\n",
        "data_df.columns"
      ],
      "execution_count": null,
      "outputs": [
        {
          "output_type": "execute_result",
          "data": {
            "text/plain": [
              "Index(['T2_prime', 'T3_prime', 'S2_prime', 'Positive_EPS_Dummy',\n",
              "       'Pre_IPO_Price_Revision', 'Post_IPO_Initial_Return'],\n",
              "      dtype='object')"
            ]
          },
          "metadata": {},
          "execution_count": 114
        }
      ]
    },
    {
      "cell_type": "markdown",
      "source": [
        "### NOTE:\n",
        "\n",
        "1. This code only include 1 target here - you can only evaluate 1 target at a time. If you want to evaluate another target, define another `y`.\n",
        "2. It is the norm you arrange your features as *continuous*, *categorical*, and *target* features. If you do not do it this way, you should use indexing similar to below:\n",
        "```python\n",
        "y = data_df['Y']\n",
        "X = data_df.drop['Y']\n",
        "```"
      ],
      "metadata": {
        "id": "KgmuloTm_Q_U"
      }
    },
    {
      "cell_type": "code",
      "metadata": {
        "id": "Uglsb0kb6b9V"
      },
      "source": [
        "# define features and target\n",
        "X = data_df.iloc[:,:-1].values\n",
        "y = data_df.iloc[:,-1].values\n",
        "# if you want a secondary target\n",
        "### y1 = ..."
      ],
      "execution_count": null,
      "outputs": []
    },
    {
      "cell_type": "code",
      "source": [
        "### y should be binary\n",
        "assert len(np.unique(y)) == 2"
      ],
      "metadata": {
        "id": "u9mqaGvdCuwY"
      },
      "execution_count": null,
      "outputs": []
    },
    {
      "cell_type": "code",
      "metadata": {
        "id": "Yu_Ertg4iUvM",
        "colab": {
          "base_uri": "https://localhost:8080/"
        },
        "outputId": "a0d78d5e-4e51-4979-efb4-611c3ae5739b"
      },
      "source": [
        "X.shape, y.shape"
      ],
      "execution_count": null,
      "outputs": [
        {
          "output_type": "execute_result",
          "data": {
            "text/plain": [
              "((660, 5), (660,))"
            ]
          },
          "metadata": {},
          "execution_count": 117
        }
      ]
    },
    {
      "cell_type": "code",
      "metadata": {
        "id": "R1Q8Mj5Jw6HM"
      },
      "source": [
        "# resample/balance the data\n",
        "# note although we do not balance data this way, \n",
        "# this works the best for this project\n",
        "sm = SMOTE(random_state = 2022) \n",
        "X_res, y_res = sm.fit_resample(X, y) "
      ],
      "execution_count": null,
      "outputs": []
    },
    {
      "cell_type": "code",
      "metadata": {
        "id": "QlYrikK6zyX9",
        "colab": {
          "base_uri": "https://localhost:8080/"
        },
        "outputId": "a3446116-2fc8-49af-de5d-ef30f4f6ad03"
      },
      "source": [
        "X_res.shape, y_res.shape"
      ],
      "execution_count": null,
      "outputs": [
        {
          "output_type": "execute_result",
          "data": {
            "text/plain": [
              "((922, 5), (922,))"
            ]
          },
          "metadata": {},
          "execution_count": 119
        }
      ]
    },
    {
      "cell_type": "code",
      "metadata": {
        "id": "_KrNbSsN-3Gf"
      },
      "source": [
        "# define the model\n",
        "clf = LogisticRegression(max_iter=2000)"
      ],
      "execution_count": null,
      "outputs": []
    },
    {
      "cell_type": "markdown",
      "metadata": {
        "id": "T14_ZvQ9jq6V"
      },
      "source": [
        "# Evaluation"
      ]
    },
    {
      "cell_type": "code",
      "metadata": {
        "id": "5knJfcA6_NfK"
      },
      "source": [
        "def my_eval(X, y, classifer = clf, k=10, scoring = 'f1'):\n",
        "  '''\n",
        "  return evaluation results (f1-score or ROC_AUC). \n",
        "  Built in k-fold evaluation.\n",
        "  INPUTS:\n",
        "  ----\n",
        "  - X: features; DataFrame or Numpy ndarray;\n",
        "  - y: target; DataFrame or Numpy ndarray;\n",
        "  - classifier: any sklearn (or its add-on) based classifier\n",
        "  - k: number of folds in cross validation\n",
        "  - scoring: evaluation metric ('f1' default or 'roc_auc')\n",
        "  OUTPUT:\n",
        "  ----\n",
        "  bias/variance score of selected metric. Both lower the better\n",
        "  - bias: mean of the metric over cross validation, measure the accruracy\n",
        "  - variance: std.ev. of the metric, measure the consistency.\n",
        "  '''\n",
        "  scores = []\n",
        "  for i in range(100):\n",
        "    #### generate random numbers to shuffle the data for training and test\n",
        "    np.random.seed(2021)\n",
        "    random_int = np.random.randint(0,3000)\n",
        "    #### create cross validation folds\n",
        "    kfold = model_selection.KFold(n_splits=k, random_state=random_int, shuffle=True)\n",
        "    #### record the score\n",
        "    score = model_selection.cross_val_score(clf, X=X, y=y, cv=kfold, scoring=scoring)\n",
        "    scores.append(score)\n",
        "  scores = np.array(scores)\n",
        "  #### we need to calculate the bias (average score) and viariance (std)\n",
        "  bias, variance = 1 - round(scores.mean(),4), round(scores.std(),4)\n",
        "  return(bias, variance)"
      ],
      "execution_count": null,
      "outputs": []
    },
    {
      "cell_type": "code",
      "metadata": {
        "id": "yK_3NJj5AULg",
        "colab": {
          "base_uri": "https://localhost:8080/"
        },
        "outputId": "2ab76b07-8da7-4d5f-8e37-ea99af8b49ff"
      },
      "source": [
        "# getting averaged f1_score from 10-fold CV (default)\n",
        "my_eval(X_res, y_res, clf, 10)"
      ],
      "execution_count": null,
      "outputs": [
        {
          "output_type": "execute_result",
          "data": {
            "text/plain": [
              "(0.3882, 0.045)"
            ]
          },
          "metadata": {},
          "execution_count": 122
        }
      ]
    },
    {
      "cell_type": "code",
      "metadata": {
        "id": "BnXTWPeQEEIt",
        "colab": {
          "base_uri": "https://localhost:8080/"
        },
        "outputId": "c4fe696f-2b93-406c-f370-319aff6226b7"
      },
      "source": [
        "# getting averaged ROC_AUC from 10-fold CV\n",
        "my_eval(X_res, y_res, clf, 10, 'roc_auc')"
      ],
      "execution_count": null,
      "outputs": [
        {
          "output_type": "execute_result",
          "data": {
            "text/plain": [
              "(0.3748, 0.0504)"
            ]
          },
          "metadata": {},
          "execution_count": 123
        }
      ]
    },
    {
      "cell_type": "code",
      "metadata": {
        "id": "McFdDxQVEQpv"
      },
      "source": [],
      "execution_count": null,
      "outputs": []
    }
  ]
}