{
  "nbformat": 4,
  "nbformat_minor": 0,
  "metadata": {
    "colab": {
      "provenance": []
    },
    "kernelspec": {
      "name": "python3",
      "display_name": "Python 3"
    },
    "language_info": {
      "name": "python"
    }
  },
  "cells": [
    {
      "cell_type": "markdown",
      "source": [
        "# **DATA 6545 Course Project 1: Advanced Preparation of Financial Data**\n",
        "\n",
        "## **Overview of the Project:** \n",
        "\n",
        "Understanding pricing strategies in the context of the Initial Public Offering (IPO) process has been receiving much attention. Most prior studies have however focused on information sources from post issuance periods, and understanding such strategies from the management’s perspective during the IPO process is still an open research issue. In this study, we analyze the inter-relationships between the management’s confidence (through the proxy of sentiments expressed in textual contents in the Management’s Discussion & Analysis (MD&A) sections in the prospectus) and the pre-/post-IPO valuations.\n",
        "\n",
        "The client is seeking advanced and novel methods to **prepare the collected data, for further predictive analysis of the “underpricing” phenomenon**. You will mainly focus on the data understanding and data preparation phases in the CRISP-DM model. Advanced preparation and modeling techniques will be needed for extra points.\n",
        "\n",
        "\n",
        "\n",
        "### **Research Question:**\n",
        "\n",
        "The overarching research question is **“ How to predict the IPO underpricing phenomena?** ” In this competition, your main purpose is to prepare the data for predictive models answering the overarching research question. You can also come up with additional RQs such as \"what are the determinants of the PO underpricing phenomena?\""
      ],
      "metadata": {
        "id": "SRlrIUeVG_sH"
      }
    },
    {
      "cell_type": "markdown",
      "source": [
        "***State assumptiomns in the code ***"
      ],
      "metadata": {
        "id": "n8unnzUzu4WR"
      }
    },
    {
      "cell_type": "markdown",
      "source": [
        "#**Dataset Overview**\n",
        "\n",
        "Loading data and establishing new column names/values"
      ],
      "metadata": {
        "id": "y6DYoRtiLwxX"
      }
    },
    {
      "cell_type": "code",
      "source": [
        "# importing requried python packages\n",
        "import pandas as pd\n",
        "import numpy as np\n",
        "import matplotlib.pyplot as plt\n",
        "%matplotlib inline\n",
        "from scipy import stats\n",
        "from sklearn.preprocessing import PowerTransformer\n",
        "import scipy\n",
        "import seaborn as sns "
      ],
      "metadata": {
        "id": "_sqST_h-HAMS"
      },
      "execution_count": null,
      "outputs": []
    },
    {
      "cell_type": "code",
      "source": [
        "colnames_dict = {\n",
        "    'P(IPO)':'offer_price',\n",
        "    'P(H)': 'price_range_higher_bound',\n",
        "    'P(L)': 'price_range_lower_bound',\n",
        "    'P(1Day)':'first_day_trading_price',\n",
        "    'C1':'days',\n",
        "    'C2':'top_tier_dummy',\n",
        "    'C3':'earnings_per_share',\n",
        "    'C4':'prior_nasdaq_15day_returns',\n",
        "    'C5':'outstanding_shares',\n",
        "    'C6':'offering_shares',\n",
        "    'C7':'sales',\n",
        "    'T1':'num_of_sentences',\n",
        "    'T2':'num_of_words',\n",
        "    'T3':'num_of_real_words',\n",
        "    'T4':'num_of_long_sentences',\n",
        "    'T5':'num_of_long_words',\n",
        "    'S1':'num_of_positive_words',\n",
        "    'S2':'num_of_negative_words',\n",
        "    'S3':'num_of_uncertain_words',\n",
        "    'I1':'ticker',\n",
        "    'I2':'company_name',\n",
        "    'I3':'std_industry_classifier'\n",
        "  }"
      ],
      "metadata": {
        "id": "U7wXkTrTIaIR"
      },
      "execution_count": null,
      "outputs": []
    },
    {
      "cell_type": "code",
      "source": [
        "# Reads the data from a github repository and stores it in a dataframe.\n",
        "url = \"https://github.com/SindhuraGopalaRao/Advanced-Preparation-of-Financial-Data/blob/main/Competition1_raw_data.xlsx?raw=true\"\n",
        "ipo_df = pd.read_excel(url)\n",
        "\n",
        "ipo_df.rename(columns=colnames_dict,inplace=True)"
      ],
      "metadata": {
        "id": "LYrN5Om0U4-B"
      },
      "execution_count": null,
      "outputs": []
    },
    {
      "cell_type": "code",
      "source": [
        "# Understanding the data and datatypes for the features\n",
        "ipo_df.head()"
      ],
      "metadata": {
        "colab": {
          "base_uri": "https://localhost:8080/",
          "height": 456
        },
        "id": "yjDS3kIIgmlb",
        "outputId": "48495cfd-8de0-488e-8faa-3703bac7a78f"
      },
      "execution_count": null,
      "outputs": [
        {
          "output_type": "execute_result",
          "data": {
            "text/plain": [
              "  ticker                        company_name std_industry_classifier  \\\n",
              "0   AATI  ADVANCED ANALOGIC TECHNOLOGIES INC                  3674.0   \n",
              "1   ABPI     ACCENTIA BIOPHARMACEUTICALS INC                  2834.0   \n",
              "2   ACAD          ACADIA PHARMACEUTICALS INC                  2834.0   \n",
              "3   ACHN       ACHILLION PHARMACEUTICALS INC                  2834.0   \n",
              "4   ACLI     AMERICAN COMMERCIAL LINES INC.                   4492.0   \n",
              "\n",
              "  offer_price price_range_higher_bound price_range_lower_bound  \\\n",
              "0        10.0                      9.5                     8.5   \n",
              "1         8.0                     10.0                     8.0   \n",
              "2         7.0                     14.0                    12.0   \n",
              "3        11.5                     16.0                    14.0   \n",
              "4        21.0                     21.0                    19.0   \n",
              "\n",
              "  first_day_trading_price   days top_tier_dummy earnings_per_share  ...  \\\n",
              "0                   11.87  122.0            1.0               3.43  ...   \n",
              "1                    7.25  259.0            0.0              -1.62  ...   \n",
              "2                     6.7   90.0            1.0              -1.24  ...   \n",
              "3                   12.39  209.0            1.0              -0.91  ...   \n",
              "4               56.599998   80.0            1.0               0.07  ...   \n",
              "\n",
              "  offering_shares    sales num_of_sentences num_of_words num_of_real_words  \\\n",
              "0      10600000.0   51.345            470.0      12719.0           11560.0   \n",
              "1       2400000.0   25.936            791.0      21792.0           19585.0   \n",
              "2       5000000.0    7.378            201.0       5262.0            4785.0   \n",
              "3       4500000.0    8.526            328.0       8259.0            7574.0   \n",
              "4       8250000.0  632.298            572.0      14830.0           13176.0   \n",
              "\n",
              "  num_of_long_sentences num_of_long_words num_of_positive_words  \\\n",
              "0                 301.0             690.0                  62.0   \n",
              "1                 510.0            1120.0                  71.0   \n",
              "2                 128.0             325.0                  61.0   \n",
              "3                 177.0             509.0                  80.0   \n",
              "4                 336.0             720.0                  67.0   \n",
              "\n",
              "  num_of_negative_words num_of_uncertain_words  \n",
              "0                 117.0                  139.0  \n",
              "1                 242.0                  237.0  \n",
              "2                  33.0                   60.0  \n",
              "3                  59.0                  110.0  \n",
              "4                 149.0                  167.0  \n",
              "\n",
              "[5 rows x 22 columns]"
            ],
            "text/html": [
              "\n",
              "  <div id=\"df-4bd06ddf-4d6c-421c-b163-b0a77ba722b8\">\n",
              "    <div class=\"colab-df-container\">\n",
              "      <div>\n",
              "<style scoped>\n",
              "    .dataframe tbody tr th:only-of-type {\n",
              "        vertical-align: middle;\n",
              "    }\n",
              "\n",
              "    .dataframe tbody tr th {\n",
              "        vertical-align: top;\n",
              "    }\n",
              "\n",
              "    .dataframe thead th {\n",
              "        text-align: right;\n",
              "    }\n",
              "</style>\n",
              "<table border=\"1\" class=\"dataframe\">\n",
              "  <thead>\n",
              "    <tr style=\"text-align: right;\">\n",
              "      <th></th>\n",
              "      <th>ticker</th>\n",
              "      <th>company_name</th>\n",
              "      <th>std_industry_classifier</th>\n",
              "      <th>offer_price</th>\n",
              "      <th>price_range_higher_bound</th>\n",
              "      <th>price_range_lower_bound</th>\n",
              "      <th>first_day_trading_price</th>\n",
              "      <th>days</th>\n",
              "      <th>top_tier_dummy</th>\n",
              "      <th>earnings_per_share</th>\n",
              "      <th>...</th>\n",
              "      <th>offering_shares</th>\n",
              "      <th>sales</th>\n",
              "      <th>num_of_sentences</th>\n",
              "      <th>num_of_words</th>\n",
              "      <th>num_of_real_words</th>\n",
              "      <th>num_of_long_sentences</th>\n",
              "      <th>num_of_long_words</th>\n",
              "      <th>num_of_positive_words</th>\n",
              "      <th>num_of_negative_words</th>\n",
              "      <th>num_of_uncertain_words</th>\n",
              "    </tr>\n",
              "  </thead>\n",
              "  <tbody>\n",
              "    <tr>\n",
              "      <th>0</th>\n",
              "      <td>AATI</td>\n",
              "      <td>ADVANCED ANALOGIC TECHNOLOGIES INC</td>\n",
              "      <td>3674.0</td>\n",
              "      <td>10.0</td>\n",
              "      <td>9.5</td>\n",
              "      <td>8.5</td>\n",
              "      <td>11.87</td>\n",
              "      <td>122.0</td>\n",
              "      <td>1.0</td>\n",
              "      <td>3.43</td>\n",
              "      <td>...</td>\n",
              "      <td>10600000.0</td>\n",
              "      <td>51.345</td>\n",
              "      <td>470.0</td>\n",
              "      <td>12719.0</td>\n",
              "      <td>11560.0</td>\n",
              "      <td>301.0</td>\n",
              "      <td>690.0</td>\n",
              "      <td>62.0</td>\n",
              "      <td>117.0</td>\n",
              "      <td>139.0</td>\n",
              "    </tr>\n",
              "    <tr>\n",
              "      <th>1</th>\n",
              "      <td>ABPI</td>\n",
              "      <td>ACCENTIA BIOPHARMACEUTICALS INC</td>\n",
              "      <td>2834.0</td>\n",
              "      <td>8.0</td>\n",
              "      <td>10.0</td>\n",
              "      <td>8.0</td>\n",
              "      <td>7.25</td>\n",
              "      <td>259.0</td>\n",
              "      <td>0.0</td>\n",
              "      <td>-1.62</td>\n",
              "      <td>...</td>\n",
              "      <td>2400000.0</td>\n",
              "      <td>25.936</td>\n",
              "      <td>791.0</td>\n",
              "      <td>21792.0</td>\n",
              "      <td>19585.0</td>\n",
              "      <td>510.0</td>\n",
              "      <td>1120.0</td>\n",
              "      <td>71.0</td>\n",
              "      <td>242.0</td>\n",
              "      <td>237.0</td>\n",
              "    </tr>\n",
              "    <tr>\n",
              "      <th>2</th>\n",
              "      <td>ACAD</td>\n",
              "      <td>ACADIA PHARMACEUTICALS INC</td>\n",
              "      <td>2834.0</td>\n",
              "      <td>7.0</td>\n",
              "      <td>14.0</td>\n",
              "      <td>12.0</td>\n",
              "      <td>6.7</td>\n",
              "      <td>90.0</td>\n",
              "      <td>1.0</td>\n",
              "      <td>-1.24</td>\n",
              "      <td>...</td>\n",
              "      <td>5000000.0</td>\n",
              "      <td>7.378</td>\n",
              "      <td>201.0</td>\n",
              "      <td>5262.0</td>\n",
              "      <td>4785.0</td>\n",
              "      <td>128.0</td>\n",
              "      <td>325.0</td>\n",
              "      <td>61.0</td>\n",
              "      <td>33.0</td>\n",
              "      <td>60.0</td>\n",
              "    </tr>\n",
              "    <tr>\n",
              "      <th>3</th>\n",
              "      <td>ACHN</td>\n",
              "      <td>ACHILLION PHARMACEUTICALS INC</td>\n",
              "      <td>2834.0</td>\n",
              "      <td>11.5</td>\n",
              "      <td>16.0</td>\n",
              "      <td>14.0</td>\n",
              "      <td>12.39</td>\n",
              "      <td>209.0</td>\n",
              "      <td>1.0</td>\n",
              "      <td>-0.91</td>\n",
              "      <td>...</td>\n",
              "      <td>4500000.0</td>\n",
              "      <td>8.526</td>\n",
              "      <td>328.0</td>\n",
              "      <td>8259.0</td>\n",
              "      <td>7574.0</td>\n",
              "      <td>177.0</td>\n",
              "      <td>509.0</td>\n",
              "      <td>80.0</td>\n",
              "      <td>59.0</td>\n",
              "      <td>110.0</td>\n",
              "    </tr>\n",
              "    <tr>\n",
              "      <th>4</th>\n",
              "      <td>ACLI</td>\n",
              "      <td>AMERICAN COMMERCIAL LINES INC.</td>\n",
              "      <td>4492.0</td>\n",
              "      <td>21.0</td>\n",
              "      <td>21.0</td>\n",
              "      <td>19.0</td>\n",
              "      <td>56.599998</td>\n",
              "      <td>80.0</td>\n",
              "      <td>1.0</td>\n",
              "      <td>0.07</td>\n",
              "      <td>...</td>\n",
              "      <td>8250000.0</td>\n",
              "      <td>632.298</td>\n",
              "      <td>572.0</td>\n",
              "      <td>14830.0</td>\n",
              "      <td>13176.0</td>\n",
              "      <td>336.0</td>\n",
              "      <td>720.0</td>\n",
              "      <td>67.0</td>\n",
              "      <td>149.0</td>\n",
              "      <td>167.0</td>\n",
              "    </tr>\n",
              "  </tbody>\n",
              "</table>\n",
              "<p>5 rows × 22 columns</p>\n",
              "</div>\n",
              "      <button class=\"colab-df-convert\" onclick=\"convertToInteractive('df-4bd06ddf-4d6c-421c-b163-b0a77ba722b8')\"\n",
              "              title=\"Convert this dataframe to an interactive table.\"\n",
              "              style=\"display:none;\">\n",
              "        \n",
              "  <svg xmlns=\"http://www.w3.org/2000/svg\" height=\"24px\"viewBox=\"0 0 24 24\"\n",
              "       width=\"24px\">\n",
              "    <path d=\"M0 0h24v24H0V0z\" fill=\"none\"/>\n",
              "    <path d=\"M18.56 5.44l.94 2.06.94-2.06 2.06-.94-2.06-.94-.94-2.06-.94 2.06-2.06.94zm-11 1L8.5 8.5l.94-2.06 2.06-.94-2.06-.94L8.5 2.5l-.94 2.06-2.06.94zm10 10l.94 2.06.94-2.06 2.06-.94-2.06-.94-.94-2.06-.94 2.06-2.06.94z\"/><path d=\"M17.41 7.96l-1.37-1.37c-.4-.4-.92-.59-1.43-.59-.52 0-1.04.2-1.43.59L10.3 9.45l-7.72 7.72c-.78.78-.78 2.05 0 2.83L4 21.41c.39.39.9.59 1.41.59.51 0 1.02-.2 1.41-.59l7.78-7.78 2.81-2.81c.8-.78.8-2.07 0-2.86zM5.41 20L4 18.59l7.72-7.72 1.47 1.35L5.41 20z\"/>\n",
              "  </svg>\n",
              "      </button>\n",
              "      \n",
              "  <style>\n",
              "    .colab-df-container {\n",
              "      display:flex;\n",
              "      flex-wrap:wrap;\n",
              "      gap: 12px;\n",
              "    }\n",
              "\n",
              "    .colab-df-convert {\n",
              "      background-color: #E8F0FE;\n",
              "      border: none;\n",
              "      border-radius: 50%;\n",
              "      cursor: pointer;\n",
              "      display: none;\n",
              "      fill: #1967D2;\n",
              "      height: 32px;\n",
              "      padding: 0 0 0 0;\n",
              "      width: 32px;\n",
              "    }\n",
              "\n",
              "    .colab-df-convert:hover {\n",
              "      background-color: #E2EBFA;\n",
              "      box-shadow: 0px 1px 2px rgba(60, 64, 67, 0.3), 0px 1px 3px 1px rgba(60, 64, 67, 0.15);\n",
              "      fill: #174EA6;\n",
              "    }\n",
              "\n",
              "    [theme=dark] .colab-df-convert {\n",
              "      background-color: #3B4455;\n",
              "      fill: #D2E3FC;\n",
              "    }\n",
              "\n",
              "    [theme=dark] .colab-df-convert:hover {\n",
              "      background-color: #434B5C;\n",
              "      box-shadow: 0px 1px 3px 1px rgba(0, 0, 0, 0.15);\n",
              "      filter: drop-shadow(0px 1px 2px rgba(0, 0, 0, 0.3));\n",
              "      fill: #FFFFFF;\n",
              "    }\n",
              "  </style>\n",
              "\n",
              "      <script>\n",
              "        const buttonEl =\n",
              "          document.querySelector('#df-4bd06ddf-4d6c-421c-b163-b0a77ba722b8 button.colab-df-convert');\n",
              "        buttonEl.style.display =\n",
              "          google.colab.kernel.accessAllowed ? 'block' : 'none';\n",
              "\n",
              "        async function convertToInteractive(key) {\n",
              "          const element = document.querySelector('#df-4bd06ddf-4d6c-421c-b163-b0a77ba722b8');\n",
              "          const dataTable =\n",
              "            await google.colab.kernel.invokeFunction('convertToInteractive',\n",
              "                                                     [key], {});\n",
              "          if (!dataTable) return;\n",
              "\n",
              "          const docLinkHtml = 'Like what you see? Visit the ' +\n",
              "            '<a target=\"_blank\" href=https://colab.research.google.com/notebooks/data_table.ipynb>data table notebook</a>'\n",
              "            + ' to learn more about interactive tables.';\n",
              "          element.innerHTML = '';\n",
              "          dataTable['output_type'] = 'display_data';\n",
              "          await google.colab.output.renderOutput(dataTable, element);\n",
              "          const docLink = document.createElement('div');\n",
              "          docLink.innerHTML = docLinkHtml;\n",
              "          element.appendChild(docLink);\n",
              "        }\n",
              "      </script>\n",
              "    </div>\n",
              "  </div>\n",
              "  "
            ]
          },
          "metadata": {},
          "execution_count": 4
        }
      ]
    },
    {
      "cell_type": "markdown",
      "source": [
        "#**Converting Data Types 1**\n",
        "\n",
        "Changing the data types of the inital columns in the dataframe"
      ],
      "metadata": {
        "id": "OusqlaJMywpd"
      }
    },
    {
      "cell_type": "code",
      "source": [
        "# convert data types to float\n",
        "to_float = ['offer_price','price_range_higher_bound', 'price_range_lower_bound', 'first_day_trading_price', 'days', 'top_tier_dummy', 'earnings_per_share', 'prior_nasdaq_15day_returns', 'outstanding_shares', 'offering_shares', 'sales', 'num_of_sentences', 'num_of_words', 'num_of_real_words', 'num_of_long_sentences', 'num_of_long_words', 'num_of_positive_words', 'num_of_negative_words', 'num_of_uncertain_words']\n",
        "#Does NOT include Std Industry Classifier \n",
        "for column in to_float:\n",
        "    ipo_df[column]=pd.to_numeric(ipo_df[column], errors='coerce')\n",
        "ipo_df.dtypes"
      ],
      "metadata": {
        "colab": {
          "base_uri": "https://localhost:8080/"
        },
        "id": "J3fKf00JVXbK",
        "outputId": "cdd56420-dd05-422f-835a-3f773e25a616"
      },
      "execution_count": null,
      "outputs": [
        {
          "output_type": "execute_result",
          "data": {
            "text/plain": [
              "ticker                         object\n",
              "company_name                   object\n",
              "std_industry_classifier        object\n",
              "offer_price                   float64\n",
              "price_range_higher_bound      float64\n",
              "price_range_lower_bound       float64\n",
              "first_day_trading_price       float64\n",
              "days                          float64\n",
              "top_tier_dummy                float64\n",
              "earnings_per_share            float64\n",
              "prior_nasdaq_15day_returns    float64\n",
              "outstanding_shares            float64\n",
              "offering_shares               float64\n",
              "sales                         float64\n",
              "num_of_sentences              float64\n",
              "num_of_words                  float64\n",
              "num_of_real_words             float64\n",
              "num_of_long_sentences         float64\n",
              "num_of_long_words             float64\n",
              "num_of_positive_words         float64\n",
              "num_of_negative_words         float64\n",
              "num_of_uncertain_words        float64\n",
              "dtype: object"
            ]
          },
          "metadata": {},
          "execution_count": 5
        }
      ]
    },
    {
      "cell_type": "code",
      "source": [
        "# counting how many NaN values in each column\n",
        "ipo_df.isna().sum()"
      ],
      "metadata": {
        "colab": {
          "base_uri": "https://localhost:8080/"
        },
        "id": "h4zA6LQB4Wct",
        "outputId": "f4106af5-0c03-459a-9df1-f92eea3a90ec"
      },
      "execution_count": null,
      "outputs": [
        {
          "output_type": "execute_result",
          "data": {
            "text/plain": [
              "ticker                         0\n",
              "company_name                   0\n",
              "std_industry_classifier        0\n",
              "offer_price                    5\n",
              "price_range_higher_bound      10\n",
              "price_range_lower_bound       10\n",
              "first_day_trading_price       22\n",
              "days                          22\n",
              "top_tier_dummy                22\n",
              "earnings_per_share            36\n",
              "prior_nasdaq_15day_returns    22\n",
              "outstanding_shares             6\n",
              "offering_shares                6\n",
              "sales                         72\n",
              "num_of_sentences               1\n",
              "num_of_words                   1\n",
              "num_of_real_words              1\n",
              "num_of_long_sentences          1\n",
              "num_of_long_words              1\n",
              "num_of_positive_words          1\n",
              "num_of_negative_words          1\n",
              "num_of_uncertain_words         1\n",
              "dtype: int64"
            ]
          },
          "metadata": {},
          "execution_count": 6
        }
      ]
    },
    {
      "cell_type": "markdown",
      "source": [
        "#Setting Rules for columns\n",
        "Creating the structure for what each column can or cannot be in there\n",
        "\n",
        "\n",
        "\n",
        "*   Columns that can have no negative values\n",
        "*   Columns that can only be 0 or 1\n",
        "*   Columns that cannot be negative OR 0\n",
        "*   Specific relations to columns (one cannot be greater than the other, etc.)\n",
        "\n",
        "\n",
        "\n"
      ],
      "metadata": {
        "id": "PejPbFub4Iau"
      }
    },
    {
      "cell_type": "code",
      "source": [
        "## T1, T2, C5 - they have to be greater than 0\n",
        "greater_zero = ['num_of_sentences','num_of_words','outstanding_shares']\n",
        "\n",
        "def pos_col_nan(df, col_names):\n",
        "  for col_name in col_names:\n",
        "    df[col_name] = np.where(df[col_name]>0, df[col_name], np.nan) #can be done with 3 functions or do 1 one function with the if criteria\n",
        "  return df\n",
        "\n",
        "ipo_df = pos_col_nan(ipo_df, greater_zero)"
      ],
      "metadata": {
        "id": "08SBkE4njQxr"
      },
      "execution_count": null,
      "outputs": []
    },
    {
      "cell_type": "code",
      "source": [
        "#column names that have rule of no negative/zero values\n",
        "col_names_p =['offer_price','days','offering_shares','sales', 'num_of_real_words','num_of_long_sentences','num_of_long_words','num_of_positive_words','num_of_negative_words','num_of_uncertain_words',] #currently has c values, others would need to be added\n",
        "\n",
        "def pos_col_nan(df, col_names):\n",
        "  for col_name in col_names:\n",
        "    df[col_name] = np.where(df[col_name]>=0, df[col_name], np.nan) #can be done with 3 functions or do 1 one function with the if criteria\n",
        "  return df\n",
        "\n",
        "ipo_df = pos_col_nan(ipo_df, col_names_p)"
      ],
      "metadata": {
        "id": "GGd7T_76FtNt"
      },
      "execution_count": null,
      "outputs": []
    },
    {
      "cell_type": "code",
      "source": [
        "# understanding the basic information of the data\n",
        "\n",
        "def all_about_data(ipo_df):\n",
        "    print(\"Some basic information about the data:\\n\")\n",
        "\n",
        "    #shape of the dataframe\n",
        "    print(\"Number of rows:\",ipo_df.shape[0])\n",
        "    print(\"Number of columns:\",ipo_df.shape[1])\n",
        "\n",
        "    #List column names\n",
        "    print(\"\\nColumn Names:\")\n",
        "    print(ipo_df.columns)\n",
        "\n",
        "    #data types for each column in the dataframe \n",
        "    print(\"\\nDatatype of each columns:\")\n",
        "    print(\"Dataypes:\",ipo_df.dtypes)\n",
        "\n",
        "    #summary stats\n",
        "    print(\"\\nSummary Stats:\")\n",
        "    print(ipo_df.describe())\n",
        "\n",
        "    #missing value inspection \n",
        "    print(\"\\nMissing Values:\")\n",
        "    print(ipo_df.isna().sum())\n",
        "\n",
        "all_about_data(ipo_df)"
      ],
      "metadata": {
        "id": "s-hbVdvr6i9e",
        "outputId": "a8efb25e-febf-4c6d-c600-068efeac2c17",
        "colab": {
          "base_uri": "https://localhost:8080/"
        }
      },
      "execution_count": null,
      "outputs": [
        {
          "output_type": "stream",
          "name": "stdout",
          "text": [
            "Some basic information about the data:\n",
            "\n",
            "Number of rows: 682\n",
            "Number of columns: 22\n",
            "\n",
            "Column Names:\n",
            "Index(['ticker', 'company_name', 'std_industry_classifier', 'offer_price',\n",
            "       'price_range_higher_bound', 'price_range_lower_bound',\n",
            "       'first_day_trading_price', 'days', 'top_tier_dummy',\n",
            "       'earnings_per_share', 'prior_nasdaq_15day_returns',\n",
            "       'outstanding_shares', 'offering_shares', 'sales', 'num_of_sentences',\n",
            "       'num_of_words', 'num_of_real_words', 'num_of_long_sentences',\n",
            "       'num_of_long_words', 'num_of_positive_words', 'num_of_negative_words',\n",
            "       'num_of_uncertain_words'],\n",
            "      dtype='object')\n",
            "\n",
            "Datatype of each columns:\n",
            "Dataypes: ticker                         object\n",
            "company_name                   object\n",
            "std_industry_classifier        object\n",
            "offer_price                   float64\n",
            "price_range_higher_bound      float64\n",
            "price_range_lower_bound       float64\n",
            "first_day_trading_price       float64\n",
            "days                          float64\n",
            "top_tier_dummy                float64\n",
            "earnings_per_share            float64\n",
            "prior_nasdaq_15day_returns    float64\n",
            "outstanding_shares            float64\n",
            "offering_shares               float64\n",
            "sales                         float64\n",
            "num_of_sentences              float64\n",
            "num_of_words                  float64\n",
            "num_of_real_words             float64\n",
            "num_of_long_sentences         float64\n",
            "num_of_long_words             float64\n",
            "num_of_positive_words         float64\n",
            "num_of_negative_words         float64\n",
            "num_of_uncertain_words        float64\n",
            "dtype: object\n",
            "\n",
            "Summary Stats:\n",
            "       offer_price  price_range_higher_bound  price_range_lower_bound  \\\n",
            "count   677.000000                672.000000               672.000000   \n",
            "mean     13.837666                 15.481190                13.515045   \n",
            "std       6.053731                  6.653429                 5.835646   \n",
            "min       3.000000                  0.000000                 3.000000   \n",
            "25%      10.000000                 12.500000                11.000000   \n",
            "50%      13.500000                 15.000000                13.000000   \n",
            "75%      17.000000                 17.000000                15.000000   \n",
            "max      85.000000                135.000000               108.000000   \n",
            "\n",
            "       first_day_trading_price         days  top_tier_dummy  \\\n",
            "count               660.000000   660.000000      660.000000   \n",
            "mean                 25.934766   149.728788        0.859091   \n",
            "std                  73.234948   152.817467        0.348192   \n",
            "min                   0.000000    10.000000        0.000000   \n",
            "25%                  11.000000    85.000000        1.000000   \n",
            "50%                  14.845000   107.000000        1.000000   \n",
            "75%                  20.485000   155.250000        1.000000   \n",
            "max                1159.200562  2087.000000        1.000000   \n",
            "\n",
            "       earnings_per_share  prior_nasdaq_15day_returns  outstanding_shares  \\\n",
            "count          646.000000                  660.000000        6.760000e+02   \n",
            "mean             1.788904                    0.007282        4.935776e+07   \n",
            "std            162.666532                    0.033318        1.043764e+08   \n",
            "min           -786.239000                   -0.162352        3.693227e+06   \n",
            "25%             -0.852500                   -0.013927        1.871417e+07   \n",
            "50%              0.010000                    0.009125        2.740018e+07   \n",
            "75%              0.470000                    0.031571        4.980786e+07   \n",
            "max           3864.500000                    0.092896        2.138085e+09   \n",
            "\n",
            "       offering_shares         sales  num_of_sentences  num_of_words  \\\n",
            "count     6.760000e+02    610.000000        681.000000    679.000000   \n",
            "mean      1.241519e+07    500.459962        465.634361  12796.187040   \n",
            "std       2.512855e+07   1648.337634        175.741647   5413.375602   \n",
            "min       5.250000e+05      0.074000        132.000000    527.000000   \n",
            "25%       5.000000e+06     37.245750        351.000000   9205.500000   \n",
            "50%       7.398704e+06    103.833000        444.000000  12049.000000   \n",
            "75%       1.200000e+07    331.138000        551.000000  15242.500000   \n",
            "max       4.212336e+08  30683.000000       1750.000000  49056.000000   \n",
            "\n",
            "       num_of_real_words  num_of_long_sentences  num_of_long_words  \\\n",
            "count         681.000000             681.000000         680.000000   \n",
            "mean        11395.844347             294.353891         680.220588   \n",
            "std          4839.670179             121.532637         472.540888   \n",
            "min             0.000000               0.000000         167.000000   \n",
            "25%          8162.000000             213.000000         462.750000   \n",
            "50%         10785.000000             279.000000         624.500000   \n",
            "75%         13760.000000             354.000000         795.000000   \n",
            "max         43952.000000            1058.000000       10277.000000   \n",
            "\n",
            "       num_of_positive_words  num_of_negative_words  num_of_uncertain_words  \n",
            "count             680.000000             681.000000              681.000000  \n",
            "mean               68.523529             120.104258              144.759178  \n",
            "std                39.034361              84.828959               69.276285  \n",
            "min                 5.000000              20.000000               26.000000  \n",
            "25%                45.000000              73.000000              100.000000  \n",
            "50%                60.000000             100.000000              134.000000  \n",
            "75%                85.000000             142.000000              173.000000  \n",
            "max               309.000000             944.000000              883.000000  \n",
            "\n",
            "Missing Values:\n",
            "ticker                         0\n",
            "company_name                   0\n",
            "std_industry_classifier        0\n",
            "offer_price                    5\n",
            "price_range_higher_bound      10\n",
            "price_range_lower_bound       10\n",
            "first_day_trading_price       22\n",
            "days                          22\n",
            "top_tier_dummy                22\n",
            "earnings_per_share            36\n",
            "prior_nasdaq_15day_returns    22\n",
            "outstanding_shares             6\n",
            "offering_shares                6\n",
            "sales                         72\n",
            "num_of_sentences               1\n",
            "num_of_words                   3\n",
            "num_of_real_words              1\n",
            "num_of_long_sentences          1\n",
            "num_of_long_words              2\n",
            "num_of_positive_words          2\n",
            "num_of_negative_words          1\n",
            "num_of_uncertain_words         1\n",
            "dtype: int64\n"
          ]
        }
      ]
    },
    {
      "cell_type": "code",
      "source": [
        "# replacing '-' with NaN\n",
        "ipo_df.replace(to_replace=\"-\", value=np.nan, inplace=True)"
      ],
      "metadata": {
        "id": "9nVDe-IT48Nu"
      },
      "execution_count": null,
      "outputs": []
    },
    {
      "cell_type": "code",
      "source": [
        "# visualizing the missing values\n",
        "missing_val = ipo_df.isna().sum()\n",
        "missing_val = missing_val[missing_val > 0]\n",
        "missing_val.sort_values(inplace=True)\n",
        "missing_val.plot.bar()\n",
        "\n",
        "plt.title('Missing Values in the dataset')\n",
        "plt.xlabel('Feature')\n",
        "plt.ylabel('Count of Missing Value')"
      ],
      "metadata": {
        "colab": {
          "base_uri": "https://localhost:8080/",
          "height": 445
        },
        "id": "dwlxIs01hGC1",
        "outputId": "d130ccb7-d256-4e91-e344-8305804a8955"
      },
      "execution_count": null,
      "outputs": [
        {
          "output_type": "execute_result",
          "data": {
            "text/plain": [
              "Text(0, 0.5, 'Count of Missing Value')"
            ]
          },
          "metadata": {},
          "execution_count": 11
        },
        {
          "output_type": "display_data",
          "data": {
            "text/plain": [
              "<Figure size 432x288 with 1 Axes>"
            ],
            "image/png": "[encoded data removed]"
          },
          "metadata": {
            "needs_background": "light"
          }
        }
      ]
    },
    {
      "cell_type": "code",
      "source": [
        "#check data with a row that you know has significant values missing\n",
        "ipo_df.loc[[10]]"
      ],
      "metadata": {
        "id": "pfJ-Bgh55GGU",
        "outputId": "e5c25f9c-0bd1-4c21-b08d-b32fa2ddd394",
        "colab": {
          "base_uri": "https://localhost:8080/",
          "height": 209
        }
      },
      "execution_count": null,
      "outputs": [
        {
          "output_type": "execute_result",
          "data": {
            "text/plain": [
              "   ticker                company_name std_industry_classifier  offer_price  \\\n",
              "10   ADKU  ADCARE HEALTH SYSTEMS, INC                     NaN          NaN   \n",
              "\n",
              "    price_range_higher_bound  price_range_lower_bound  \\\n",
              "10                       NaN                      NaN   \n",
              "\n",
              "    first_day_trading_price  days  top_tier_dummy  earnings_per_share  ...  \\\n",
              "10                      NaN   NaN             NaN                 NaN  ...   \n",
              "\n",
              "    offering_shares  sales  num_of_sentences  num_of_words  num_of_real_words  \\\n",
              "10              NaN    NaN             332.0        7534.0             6747.0   \n",
              "\n",
              "    num_of_long_sentences  num_of_long_words  num_of_positive_words  \\\n",
              "10                  169.0              263.0                   51.0   \n",
              "\n",
              "    num_of_negative_words  num_of_uncertain_words  \n",
              "10                   65.0                    74.0  \n",
              "\n",
              "[1 rows x 22 columns]"
            ],
            "text/html": [
              "\n",
              "  <div id=\"df-291f3f56-f2de-434f-a406-285562a27e88\">\n",
              "    <div class=\"colab-df-container\">\n",
              "      <div>\n",
              "<style scoped>\n",
              "    .dataframe tbody tr th:only-of-type {\n",
              "        vertical-align: middle;\n",
              "    }\n",
              "\n",
              "    .dataframe tbody tr th {\n",
              "        vertical-align: top;\n",
              "    }\n",
              "\n",
              "    .dataframe thead th {\n",
              "        text-align: right;\n",
              "    }\n",
              "</style>\n",
              "<table border=\"1\" class=\"dataframe\">\n",
              "  <thead>\n",
              "    <tr style=\"text-align: right;\">\n",
              "      <th></th>\n",
              "      <th>ticker</th>\n",
              "      <th>company_name</th>\n",
              "      <th>std_industry_classifier</th>\n",
              "      <th>offer_price</th>\n",
              "      <th>price_range_higher_bound</th>\n",
              "      <th>price_range_lower_bound</th>\n",
              "      <th>first_day_trading_price</th>\n",
              "      <th>days</th>\n",
              "      <th>top_tier_dummy</th>\n",
              "      <th>earnings_per_share</th>\n",
              "      <th>...</th>\n",
              "      <th>offering_shares</th>\n",
              "      <th>sales</th>\n",
              "      <th>num_of_sentences</th>\n",
              "      <th>num_of_words</th>\n",
              "      <th>num_of_real_words</th>\n",
              "      <th>num_of_long_sentences</th>\n",
              "      <th>num_of_long_words</th>\n",
              "      <th>num_of_positive_words</th>\n",
              "      <th>num_of_negative_words</th>\n",
              "      <th>num_of_uncertain_words</th>\n",
              "    </tr>\n",
              "  </thead>\n",
              "  <tbody>\n",
              "    <tr>\n",
              "      <th>10</th>\n",
              "      <td>ADKU</td>\n",
              "      <td>ADCARE HEALTH SYSTEMS, INC</td>\n",
              "      <td>NaN</td>\n",
              "      <td>NaN</td>\n",
              "      <td>NaN</td>\n",
              "      <td>NaN</td>\n",
              "      <td>NaN</td>\n",
              "      <td>NaN</td>\n",
              "      <td>NaN</td>\n",
              "      <td>NaN</td>\n",
              "      <td>...</td>\n",
              "      <td>NaN</td>\n",
              "      <td>NaN</td>\n",
              "      <td>332.0</td>\n",
              "      <td>7534.0</td>\n",
              "      <td>6747.0</td>\n",
              "      <td>169.0</td>\n",
              "      <td>263.0</td>\n",
              "      <td>51.0</td>\n",
              "      <td>65.0</td>\n",
              "      <td>74.0</td>\n",
              "    </tr>\n",
              "  </tbody>\n",
              "</table>\n",
              "<p>1 rows × 22 columns</p>\n",
              "</div>\n",
              "      <button class=\"colab-df-convert\" onclick=\"convertToInteractive('df-291f3f56-f2de-434f-a406-285562a27e88')\"\n",
              "              title=\"Convert this dataframe to an interactive table.\"\n",
              "              style=\"display:none;\">\n",
              "        \n",
              "  <svg xmlns=\"http://www.w3.org/2000/svg\" height=\"24px\"viewBox=\"0 0 24 24\"\n",
              "       width=\"24px\">\n",
              "    <path d=\"M0 0h24v24H0V0z\" fill=\"none\"/>\n",
              "    <path d=\"M18.56 5.44l.94 2.06.94-2.06 2.06-.94-2.06-.94-.94-2.06-.94 2.06-2.06.94zm-11 1L8.5 8.5l.94-2.06 2.06-.94-2.06-.94L8.5 2.5l-.94 2.06-2.06.94zm10 10l.94 2.06.94-2.06 2.06-.94-2.06-.94-.94-2.06-.94 2.06-2.06.94z\"/><path d=\"M17.41 7.96l-1.37-1.37c-.4-.4-.92-.59-1.43-.59-.52 0-1.04.2-1.43.59L10.3 9.45l-7.72 7.72c-.78.78-.78 2.05 0 2.83L4 21.41c.39.39.9.59 1.41.59.51 0 1.02-.2 1.41-.59l7.78-7.78 2.81-2.81c.8-.78.8-2.07 0-2.86zM5.41 20L4 18.59l7.72-7.72 1.47 1.35L5.41 20z\"/>\n",
              "  </svg>\n",
              "      </button>\n",
              "      \n",
              "  <style>\n",
              "    .colab-df-container {\n",
              "      display:flex;\n",
              "      flex-wrap:wrap;\n",
              "      gap: 12px;\n",
              "    }\n",
              "\n",
              "    .colab-df-convert {\n",
              "      background-color: #E8F0FE;\n",
              "      border: none;\n",
              "      border-radius: 50%;\n",
              "      cursor: pointer;\n",
              "      display: none;\n",
              "      fill: #1967D2;\n",
              "      height: 32px;\n",
              "      padding: 0 0 0 0;\n",
              "      width: 32px;\n",
              "    }\n",
              "\n",
              "    .colab-df-convert:hover {\n",
              "      background-color: #E2EBFA;\n",
              "      box-shadow: 0px 1px 2px rgba(60, 64, 67, 0.3), 0px 1px 3px 1px rgba(60, 64, 67, 0.15);\n",
              "      fill: #174EA6;\n",
              "    }\n",
              "\n",
              "    [theme=dark] .colab-df-convert {\n",
              "      background-color: #3B4455;\n",
              "      fill: #D2E3FC;\n",
              "    }\n",
              "\n",
              "    [theme=dark] .colab-df-convert:hover {\n",
              "      background-color: #434B5C;\n",
              "      box-shadow: 0px 1px 3px 1px rgba(0, 0, 0, 0.15);\n",
              "      filter: drop-shadow(0px 1px 2px rgba(0, 0, 0, 0.3));\n",
              "      fill: #FFFFFF;\n",
              "    }\n",
              "  </style>\n",
              "\n",
              "      <script>\n",
              "        const buttonEl =\n",
              "          document.querySelector('#df-291f3f56-f2de-434f-a406-285562a27e88 button.colab-df-convert');\n",
              "        buttonEl.style.display =\n",
              "          google.colab.kernel.accessAllowed ? 'block' : 'none';\n",
              "\n",
              "        async function convertToInteractive(key) {\n",
              "          const element = document.querySelector('#df-291f3f56-f2de-434f-a406-285562a27e88');\n",
              "          const dataTable =\n",
              "            await google.colab.kernel.invokeFunction('convertToInteractive',\n",
              "                                                     [key], {});\n",
              "          if (!dataTable) return;\n",
              "\n",
              "          const docLinkHtml = 'Like what you see? Visit the ' +\n",
              "            '<a target=\"_blank\" href=https://colab.research.google.com/notebooks/data_table.ipynb>data table notebook</a>'\n",
              "            + ' to learn more about interactive tables.';\n",
              "          element.innerHTML = '';\n",
              "          dataTable['output_type'] = 'display_data';\n",
              "          await google.colab.output.renderOutput(dataTable, element);\n",
              "          const docLink = document.createElement('div');\n",
              "          docLink.innerHTML = docLinkHtml;\n",
              "          element.appendChild(docLink);\n",
              "        }\n",
              "      </script>\n",
              "    </div>\n",
              "  </div>\n",
              "  "
            ]
          },
          "metadata": {},
          "execution_count": 12
        }
      ]
    },
    {
      "cell_type": "markdown",
      "source": [
        "#**Imputation/standardization**\n",
        "*   Choosing which companies to drop for future analysis\n",
        "*   List item\n",
        "\n",
        "*   Replacing all NAN values with Mean or Mode\n",
        "*   Checking skewness and distribution of variables \n",
        "\n",
        "\n",
        "\n",
        "\n",
        "\n",
        "\n"
      ],
      "metadata": {
        "id": "g9-uFVhK518G"
      }
    },
    {
      "cell_type": "code",
      "source": [
        "# drop first_day_trading_price (i.e,P(1Day)) values that has missing data. since this is used for as target variable (no impute on missing data). \n",
        "\n",
        "ipo_df = ipo_df.dropna(subset=['first_day_trading_price'])\n",
        "#Shape of the dataset now (should have dropped 22 rows to now be 660)\n",
        "ipo_df.shape"
      ],
      "metadata": {
        "id": "bSKAE4RK8NoE",
        "colab": {
          "base_uri": "https://localhost:8080/"
        },
        "outputId": "476cac91-2792-47a0-8b1b-8672d56621ba"
      },
      "execution_count": null,
      "outputs": [
        {
          "output_type": "execute_result",
          "data": {
            "text/plain": [
              "(660, 22)"
            ]
          },
          "metadata": {},
          "execution_count": 13
        }
      ]
    },
    {
      "cell_type": "code",
      "source": [
        "#median for each column\n",
        "ipo_df.median().round(2)"
      ],
      "metadata": {
        "colab": {
          "base_uri": "https://localhost:8080/"
        },
        "id": "rFIqPsH3UbAu",
        "outputId": "88a5cbc9-cb38-47c0-d0ec-c124cda223f3"
      },
      "execution_count": null,
      "outputs": [
        {
          "output_type": "stream",
          "name": "stderr",
          "text": [
            "<ipython-input-14-df4d53a405d1>:2: FutureWarning: Dropping of nuisance columns in DataFrame reductions (with 'numeric_only=None') is deprecated; in a future version this will raise TypeError.  Select only valid columns before calling the reduction.\n",
            "  ipo_df.median().round(2)\n"
          ]
        },
        {
          "output_type": "execute_result",
          "data": {
            "text/plain": [
              "offer_price                         13.75\n",
              "price_range_higher_bound            15.50\n",
              "price_range_lower_bound             13.00\n",
              "first_day_trading_price             14.85\n",
              "days                               107.00\n",
              "top_tier_dummy                       1.00\n",
              "earnings_per_share                   0.00\n",
              "prior_nasdaq_15day_returns           0.01\n",
              "outstanding_shares            27454378.00\n",
              "offering_shares                7500000.00\n",
              "sales                              107.46\n",
              "num_of_sentences                   446.00\n",
              "num_of_words                     12128.00\n",
              "num_of_real_words                10829.50\n",
              "num_of_long_sentences              280.00\n",
              "num_of_long_words                  627.00\n",
              "num_of_positive_words               60.00\n",
              "num_of_negative_words              101.50\n",
              "num_of_uncertain_words             135.00\n",
              "dtype: float64"
            ]
          },
          "metadata": {},
          "execution_count": 14
        }
      ]
    },
    {
      "cell_type": "code",
      "source": [
        "#replacing null values in columns USING MEDIAN AND MODE (will have to be adjusted depending on the decision in \"Added Columns\")\n",
        "#try before the calculations so\n",
        "\n",
        "ipo_df['offer_price'].fillna(ipo_df['offer_price'].median(), inplace=True)\n",
        "ipo_df['price_range_higher_bound'].fillna(ipo_df['price_range_higher_bound'].median(), inplace=True)\n",
        "ipo_df['price_range_lower_bound'].fillna(ipo_df['price_range_lower_bound'].median(), inplace=True)\n",
        "ipo_df['first_day_trading_price'].fillna(ipo_df['first_day_trading_price'].median(), inplace=True)\n",
        "ipo_df['days'].fillna(ipo_df['days'].median(), inplace=True)\n",
        "ipo_df['top_tier_dummy'].fillna(ipo_df['top_tier_dummy'].mode()[0], inplace=True)\n",
        "ipo_df['earnings_per_share'].fillna(ipo_df['earnings_per_share'].median(), inplace=True)\n",
        "ipo_df['prior_nasdaq_15day_returns'].fillna(ipo_df['prior_nasdaq_15day_returns'].median(), inplace=True)\n",
        "ipo_df['outstanding_shares'].fillna(ipo_df['outstanding_shares'].median(), inplace=True)\n",
        "ipo_df['offering_shares'].fillna(ipo_df['offering_shares'].median(), inplace=True)\n",
        "ipo_df['sales'].fillna(ipo_df['sales'].median(), inplace=True)\n",
        "ipo_df['num_of_sentences'].fillna(ipo_df['num_of_sentences'].median(), inplace=True)\n",
        "ipo_df['num_of_words'].fillna(ipo_df['num_of_words'].median(), inplace=True)\n",
        "ipo_df['num_of_real_words'].fillna(ipo_df['num_of_real_words'].median(), inplace=True)\n",
        "ipo_df['num_of_long_sentences'].fillna(ipo_df['num_of_long_sentences'].median(), inplace=True)\n",
        "ipo_df['num_of_long_words'].fillna(ipo_df['num_of_long_words'].median(), inplace=True)\n",
        "ipo_df['num_of_positive_words'].fillna(ipo_df['num_of_positive_words'].median(), inplace=True)\n",
        "ipo_df['num_of_negative_words'].fillna(ipo_df['num_of_negative_words'].median(), inplace=True)\n",
        "ipo_df['num_of_uncertain_words'].fillna(ipo_df['num_of_uncertain_words'].median(), inplace=True)\n"
      ],
      "metadata": {
        "id": "EkDzv8NBNPvp"
      },
      "execution_count": null,
      "outputs": []
    },
    {
      "cell_type": "code",
      "source": [
        "# checking to make sure there are no NaN values\n",
        "ipo_df.isna().sum()"
      ],
      "metadata": {
        "colab": {
          "base_uri": "https://localhost:8080/"
        },
        "id": "lnY1jNtVqoUU",
        "outputId": "c70f9f93-023b-40cc-ab03-eea079e4a6cc"
      },
      "execution_count": null,
      "outputs": [
        {
          "output_type": "execute_result",
          "data": {
            "text/plain": [
              "ticker                        0\n",
              "company_name                  0\n",
              "std_industry_classifier       0\n",
              "offer_price                   0\n",
              "price_range_higher_bound      0\n",
              "price_range_lower_bound       0\n",
              "first_day_trading_price       0\n",
              "days                          0\n",
              "top_tier_dummy                0\n",
              "earnings_per_share            0\n",
              "prior_nasdaq_15day_returns    0\n",
              "outstanding_shares            0\n",
              "offering_shares               0\n",
              "sales                         0\n",
              "num_of_sentences              0\n",
              "num_of_words                  0\n",
              "num_of_real_words             0\n",
              "num_of_long_sentences         0\n",
              "num_of_long_words             0\n",
              "num_of_positive_words         0\n",
              "num_of_negative_words         0\n",
              "num_of_uncertain_words        0\n",
              "dtype: int64"
            ]
          },
          "metadata": {},
          "execution_count": 16
        }
      ]
    },
    {
      "cell_type": "markdown",
      "source": [
        "# Binning"
      ],
      "metadata": {
        "id": "B-SN-uF2BRNc"
      }
    },
    {
      "cell_type": "code",
      "source": [
        "#Turning off the warning\n",
        "pd.set_option('mode.chained_assignment', None)"
      ],
      "metadata": {
        "id": "GjnlcslWHIG6"
      },
      "execution_count": null,
      "outputs": []
    },
    {
      "cell_type": "code",
      "source": [
        "# Convert std_industry_classifier to string     \n",
        "ipo_df['std_industry_classifier'] = ipo_df['std_industry_classifier'].astype(str)\n",
        "\n",
        "### Assumption : assuming that the first value in the column for the std_industry_classifier is the one to be considered\n",
        "# Get the first number from the 'std_industry_classifier' column\n",
        "ipo_df['std_industry_classifier'] = ipo_df['std_industry_classifier'].str.split(',').str[0]\n",
        "\n",
        "# Print dataframe\n",
        "ipo_df.head()"
      ],
      "metadata": {
        "colab": {
          "base_uri": "https://localhost:8080/",
          "height": 456
        },
        "id": "wujoJAoODm_K",
        "outputId": "4cfbcc72-a9e3-4f86-f762-44e61377faaf"
      },
      "execution_count": null,
      "outputs": [
        {
          "output_type": "execute_result",
          "data": {
            "text/plain": [
              "  ticker                        company_name std_industry_classifier  \\\n",
              "0   AATI  ADVANCED ANALOGIC TECHNOLOGIES INC                  3674.0   \n",
              "1   ABPI     ACCENTIA BIOPHARMACEUTICALS INC                  2834.0   \n",
              "2   ACAD          ACADIA PHARMACEUTICALS INC                  2834.0   \n",
              "3   ACHN       ACHILLION PHARMACEUTICALS INC                  2834.0   \n",
              "4   ACLI     AMERICAN COMMERCIAL LINES INC.                   4492.0   \n",
              "\n",
              "   offer_price  price_range_higher_bound  price_range_lower_bound  \\\n",
              "0         10.0                       9.5                      8.5   \n",
              "1          8.0                      10.0                      8.0   \n",
              "2          7.0                      14.0                     12.0   \n",
              "3         11.5                      16.0                     14.0   \n",
              "4         21.0                      21.0                     19.0   \n",
              "\n",
              "   first_day_trading_price   days  top_tier_dummy  earnings_per_share  ...  \\\n",
              "0                11.870000  122.0             1.0                3.43  ...   \n",
              "1                 7.250000  259.0             0.0               -1.62  ...   \n",
              "2                 6.700000   90.0             1.0               -1.24  ...   \n",
              "3                12.390000  209.0             1.0               -0.91  ...   \n",
              "4                56.599998   80.0             1.0                0.07  ...   \n",
              "\n",
              "   offering_shares    sales  num_of_sentences  num_of_words  \\\n",
              "0       10600000.0   51.345             470.0       12719.0   \n",
              "1        2400000.0   25.936             791.0       21792.0   \n",
              "2        5000000.0    7.378             201.0        5262.0   \n",
              "3        4500000.0    8.526             328.0        8259.0   \n",
              "4        8250000.0  632.298             572.0       14830.0   \n",
              "\n",
              "   num_of_real_words  num_of_long_sentences  num_of_long_words  \\\n",
              "0            11560.0                  301.0              690.0   \n",
              "1            19585.0                  510.0             1120.0   \n",
              "2             4785.0                  128.0              325.0   \n",
              "3             7574.0                  177.0              509.0   \n",
              "4            13176.0                  336.0              720.0   \n",
              "\n",
              "   num_of_positive_words  num_of_negative_words  num_of_uncertain_words  \n",
              "0                   62.0                  117.0                   139.0  \n",
              "1                   71.0                  242.0                   237.0  \n",
              "2                   61.0                   33.0                    60.0  \n",
              "3                   80.0                   59.0                   110.0  \n",
              "4                   67.0                  149.0                   167.0  \n",
              "\n",
              "[5 rows x 22 columns]"
            ],
            "text/html": [
              "\n",
              "  <div id=\"df-c0680ed7-83bd-4657-abe1-a7cc20d3888f\">\n",
              "    <div class=\"colab-df-container\">\n",
              "      <div>\n",
              "<style scoped>\n",
              "    .dataframe tbody tr th:only-of-type {\n",
              "        vertical-align: middle;\n",
              "    }\n",
              "\n",
              "    .dataframe tbody tr th {\n",
              "        vertical-align: top;\n",
              "    }\n",
              "\n",
              "    .dataframe thead th {\n",
              "        text-align: right;\n",
              "    }\n",
              "</style>\n",
              "<table border=\"1\" class=\"dataframe\">\n",
              "  <thead>\n",
              "    <tr style=\"text-align: right;\">\n",
              "      <th></th>\n",
              "      <th>ticker</th>\n",
              "      <th>company_name</th>\n",
              "      <th>std_industry_classifier</th>\n",
              "      <th>offer_price</th>\n",
              "      <th>price_range_higher_bound</th>\n",
              "      <th>price_range_lower_bound</th>\n",
              "      <th>first_day_trading_price</th>\n",
              "      <th>days</th>\n",
              "      <th>top_tier_dummy</th>\n",
              "      <th>earnings_per_share</th>\n",
              "      <th>...</th>\n",
              "      <th>offering_shares</th>\n",
              "      <th>sales</th>\n",
              "      <th>num_of_sentences</th>\n",
              "      <th>num_of_words</th>\n",
              "      <th>num_of_real_words</th>\n",
              "      <th>num_of_long_sentences</th>\n",
              "      <th>num_of_long_words</th>\n",
              "      <th>num_of_positive_words</th>\n",
              "      <th>num_of_negative_words</th>\n",
              "      <th>num_of_uncertain_words</th>\n",
              "    </tr>\n",
              "  </thead>\n",
              "  <tbody>\n",
              "    <tr>\n",
              "      <th>0</th>\n",
              "      <td>AATI</td>\n",
              "      <td>ADVANCED ANALOGIC TECHNOLOGIES INC</td>\n",
              "      <td>3674.0</td>\n",
              "      <td>10.0</td>\n",
              "      <td>9.5</td>\n",
              "      <td>8.5</td>\n",
              "      <td>11.870000</td>\n",
              "      <td>122.0</td>\n",
              "      <td>1.0</td>\n",
              "      <td>3.43</td>\n",
              "      <td>...</td>\n",
              "      <td>10600000.0</td>\n",
              "      <td>51.345</td>\n",
              "      <td>470.0</td>\n",
              "      <td>12719.0</td>\n",
              "      <td>11560.0</td>\n",
              "      <td>301.0</td>\n",
              "      <td>690.0</td>\n",
              "      <td>62.0</td>\n",
              "      <td>117.0</td>\n",
              "      <td>139.0</td>\n",
              "    </tr>\n",
              "    <tr>\n",
              "      <th>1</th>\n",
              "      <td>ABPI</td>\n",
              "      <td>ACCENTIA BIOPHARMACEUTICALS INC</td>\n",
              "      <td>2834.0</td>\n",
              "      <td>8.0</td>\n",
              "      <td>10.0</td>\n",
              "      <td>8.0</td>\n",
              "      <td>7.250000</td>\n",
              "      <td>259.0</td>\n",
              "      <td>0.0</td>\n",
              "      <td>-1.62</td>\n",
              "      <td>...</td>\n",
              "      <td>2400000.0</td>\n",
              "      <td>25.936</td>\n",
              "      <td>791.0</td>\n",
              "      <td>21792.0</td>\n",
              "      <td>19585.0</td>\n",
              "      <td>510.0</td>\n",
              "      <td>1120.0</td>\n",
              "      <td>71.0</td>\n",
              "      <td>242.0</td>\n",
              "      <td>237.0</td>\n",
              "    </tr>\n",
              "    <tr>\n",
              "      <th>2</th>\n",
              "      <td>ACAD</td>\n",
              "      <td>ACADIA PHARMACEUTICALS INC</td>\n",
              "      <td>2834.0</td>\n",
              "      <td>7.0</td>\n",
              "      <td>14.0</td>\n",
              "      <td>12.0</td>\n",
              "      <td>6.700000</td>\n",
              "      <td>90.0</td>\n",
              "      <td>1.0</td>\n",
              "      <td>-1.24</td>\n",
              "      <td>...</td>\n",
              "      <td>5000000.0</td>\n",
              "      <td>7.378</td>\n",
              "      <td>201.0</td>\n",
              "      <td>5262.0</td>\n",
              "      <td>4785.0</td>\n",
              "      <td>128.0</td>\n",
              "      <td>325.0</td>\n",
              "      <td>61.0</td>\n",
              "      <td>33.0</td>\n",
              "      <td>60.0</td>\n",
              "    </tr>\n",
              "    <tr>\n",
              "      <th>3</th>\n",
              "      <td>ACHN</td>\n",
              "      <td>ACHILLION PHARMACEUTICALS INC</td>\n",
              "      <td>2834.0</td>\n",
              "      <td>11.5</td>\n",
              "      <td>16.0</td>\n",
              "      <td>14.0</td>\n",
              "      <td>12.390000</td>\n",
              "      <td>209.0</td>\n",
              "      <td>1.0</td>\n",
              "      <td>-0.91</td>\n",
              "      <td>...</td>\n",
              "      <td>4500000.0</td>\n",
              "      <td>8.526</td>\n",
              "      <td>328.0</td>\n",
              "      <td>8259.0</td>\n",
              "      <td>7574.0</td>\n",
              "      <td>177.0</td>\n",
              "      <td>509.0</td>\n",
              "      <td>80.0</td>\n",
              "      <td>59.0</td>\n",
              "      <td>110.0</td>\n",
              "    </tr>\n",
              "    <tr>\n",
              "      <th>4</th>\n",
              "      <td>ACLI</td>\n",
              "      <td>AMERICAN COMMERCIAL LINES INC.</td>\n",
              "      <td>4492.0</td>\n",
              "      <td>21.0</td>\n",
              "      <td>21.0</td>\n",
              "      <td>19.0</td>\n",
              "      <td>56.599998</td>\n",
              "      <td>80.0</td>\n",
              "      <td>1.0</td>\n",
              "      <td>0.07</td>\n",
              "      <td>...</td>\n",
              "      <td>8250000.0</td>\n",
              "      <td>632.298</td>\n",
              "      <td>572.0</td>\n",
              "      <td>14830.0</td>\n",
              "      <td>13176.0</td>\n",
              "      <td>336.0</td>\n",
              "      <td>720.0</td>\n",
              "      <td>67.0</td>\n",
              "      <td>149.0</td>\n",
              "      <td>167.0</td>\n",
              "    </tr>\n",
              "  </tbody>\n",
              "</table>\n",
              "<p>5 rows × 22 columns</p>\n",
              "</div>\n",
              "      <button class=\"colab-df-convert\" onclick=\"convertToInteractive('df-c0680ed7-83bd-4657-abe1-a7cc20d3888f')\"\n",
              "              title=\"Convert this dataframe to an interactive table.\"\n",
              "              style=\"display:none;\">\n",
              "        \n",
              "  <svg xmlns=\"http://www.w3.org/2000/svg\" height=\"24px\"viewBox=\"0 0 24 24\"\n",
              "       width=\"24px\">\n",
              "    <path d=\"M0 0h24v24H0V0z\" fill=\"none\"/>\n",
              "    <path d=\"M18.56 5.44l.94 2.06.94-2.06 2.06-.94-2.06-.94-.94-2.06-.94 2.06-2.06.94zm-11 1L8.5 8.5l.94-2.06 2.06-.94-2.06-.94L8.5 2.5l-.94 2.06-2.06.94zm10 10l.94 2.06.94-2.06 2.06-.94-2.06-.94-.94-2.06-.94 2.06-2.06.94z\"/><path d=\"M17.41 7.96l-1.37-1.37c-.4-.4-.92-.59-1.43-.59-.52 0-1.04.2-1.43.59L10.3 9.45l-7.72 7.72c-.78.78-.78 2.05 0 2.83L4 21.41c.39.39.9.59 1.41.59.51 0 1.02-.2 1.41-.59l7.78-7.78 2.81-2.81c.8-.78.8-2.07 0-2.86zM5.41 20L4 18.59l7.72-7.72 1.47 1.35L5.41 20z\"/>\n",
              "  </svg>\n",
              "      </button>\n",
              "      \n",
              "  <style>\n",
              "    .colab-df-container {\n",
              "      display:flex;\n",
              "      flex-wrap:wrap;\n",
              "      gap: 12px;\n",
              "    }\n",
              "\n",
              "    .colab-df-convert {\n",
              "      background-color: #E8F0FE;\n",
              "      border: none;\n",
              "      border-radius: 50%;\n",
              "      cursor: pointer;\n",
              "      display: none;\n",
              "      fill: #1967D2;\n",
              "      height: 32px;\n",
              "      padding: 0 0 0 0;\n",
              "      width: 32px;\n",
              "    }\n",
              "\n",
              "    .colab-df-convert:hover {\n",
              "      background-color: #E2EBFA;\n",
              "      box-shadow: 0px 1px 2px rgba(60, 64, 67, 0.3), 0px 1px 3px 1px rgba(60, 64, 67, 0.15);\n",
              "      fill: #174EA6;\n",
              "    }\n",
              "\n",
              "    [theme=dark] .colab-df-convert {\n",
              "      background-color: #3B4455;\n",
              "      fill: #D2E3FC;\n",
              "    }\n",
              "\n",
              "    [theme=dark] .colab-df-convert:hover {\n",
              "      background-color: #434B5C;\n",
              "      box-shadow: 0px 1px 3px 1px rgba(0, 0, 0, 0.15);\n",
              "      filter: drop-shadow(0px 1px 2px rgba(0, 0, 0, 0.3));\n",
              "      fill: #FFFFFF;\n",
              "    }\n",
              "  </style>\n",
              "\n",
              "      <script>\n",
              "        const buttonEl =\n",
              "          document.querySelector('#df-c0680ed7-83bd-4657-abe1-a7cc20d3888f button.colab-df-convert');\n",
              "        buttonEl.style.display =\n",
              "          google.colab.kernel.accessAllowed ? 'block' : 'none';\n",
              "\n",
              "        async function convertToInteractive(key) {\n",
              "          const element = document.querySelector('#df-c0680ed7-83bd-4657-abe1-a7cc20d3888f');\n",
              "          const dataTable =\n",
              "            await google.colab.kernel.invokeFunction('convertToInteractive',\n",
              "                                                     [key], {});\n",
              "          if (!dataTable) return;\n",
              "\n",
              "          const docLinkHtml = 'Like what you see? Visit the ' +\n",
              "            '<a target=\"_blank\" href=https://colab.research.google.com/notebooks/data_table.ipynb>data table notebook</a>'\n",
              "            + ' to learn more about interactive tables.';\n",
              "          element.innerHTML = '';\n",
              "          dataTable['output_type'] = 'display_data';\n",
              "          await google.colab.output.renderOutput(dataTable, element);\n",
              "          const docLink = document.createElement('div');\n",
              "          docLink.innerHTML = docLinkHtml;\n",
              "          element.appendChild(docLink);\n",
              "        }\n",
              "      </script>\n",
              "    </div>\n",
              "  </div>\n",
              "  "
            ]
          },
          "metadata": {},
          "execution_count": 18
        }
      ]
    },
    {
      "cell_type": "code",
      "source": [
        "# Standard Industry Classifier(I3) classified by SIC code\n",
        "\n",
        "def classification(sic_code):\n",
        "    \n",
        "    if sic_code < 999:\n",
        "        return \"Agriculture,Forestry,Fishing\"\n",
        "    elif sic_code >= 1000 and sic_code <= 1499:\n",
        "        return \"Mining\"\n",
        "    elif sic_code >= 1500 and sic_code <= 1799:\n",
        "        return \"Construction\"\n",
        "    elif sic_code >= 2000 and sic_code <= 3999:\n",
        "        return \"Manufacturing\"\n",
        "    elif sic_code >= 4000 and sic_code <= 4999:\n",
        "        return \"Transportation,Communications,Electric,gas,Sanitary\" \n",
        "    elif sic_code >= 5000 and sic_code <= 5199:\n",
        "        return \"Wholesale Trade\"\n",
        "    elif sic_code >= 5200 and sic_code <= 5999:\n",
        "        return \"Retail Trade\"\n",
        "    elif sic_code >= 6000 and sic_code <= 6799:\n",
        "        return \"Finance,Insurance,RealEstate\"\n",
        "    elif sic_code >= 7000 and sic_code <= 8999:\n",
        "        return \"Services\"\n",
        "    elif sic_code >= 9100 and sic_code <= 9799:\n",
        "        return 'Public Administration'\n",
        "    elif sic_code >= 9800:\n",
        "        return \"Nonclassifiable\""
      ],
      "metadata": {
        "id": "d0gylvXqDp36"
      },
      "execution_count": null,
      "outputs": []
    },
    {
      "cell_type": "code",
      "source": [
        "# converting std_industry_classifier column to float datatype\n",
        "ipo_df['std_industry_classifier'] = ipo_df['std_industry_classifier'].astype(float)"
      ],
      "metadata": {
        "id": "iaRzNc-YDsgA"
      },
      "execution_count": null,
      "outputs": []
    },
    {
      "cell_type": "code",
      "source": [
        "ipo_df['std_industry_classifier'] = ipo_df['std_industry_classifier'].apply(lambda x: classification(x))"
      ],
      "metadata": {
        "id": "0rinqQcpDulO"
      },
      "execution_count": null,
      "outputs": []
    },
    {
      "cell_type": "code",
      "source": [
        "# further group the above classified group into Manufacturing, Services and Others to reduce the number of features.\n",
        "\n",
        "#binning all the values except manufacturing and Services into 'Other'\n",
        "ipo_df['std_industry_classifier'] = ipo_df['std_industry_classifier'].replace(['Transportation,Communications,Electric,gas,Sanitary','Retail Trade','Mining', 'Wholesale Trade', 'Finance,Insurance,RealEstate', \n",
        "                                            'Agriculture,Forestry,Fishing', 'Nonclassifiable','Construction'],'Other')\n",
        "\n"
      ],
      "metadata": {
        "id": "mJfLAFCID1CV"
      },
      "execution_count": null,
      "outputs": []
    },
    {
      "cell_type": "code",
      "source": [
        "#Create 3 bins for std_industry_classifier - Manufacturing = 1, Services=2, and Other=3\n",
        "ipo_df['std_industry_classifier'] = ipo_df['std_industry_classifier'].replace({'Manufacturing': 1, 'Services': 2, 'Other': 3})\n",
        "\n",
        "ipo_df['Manufacturing'] = np.where(ipo_df['std_industry_classifier'] ==1, 1, 0)\n",
        "ipo_df['Services'] = np.where(ipo_df['std_industry_classifier'] ==2, 1, 0)\n",
        "ipo_df['Other'] = np.where(ipo_df['std_industry_classifier'] ==3, 1, 0)\n",
        "\n",
        "ipo_df.head(10)"
      ],
      "metadata": {
        "colab": {
          "base_uri": "https://localhost:8080/",
          "height": 664
        },
        "id": "u7e_Ns3LD20i",
        "outputId": "bf911830-5551-4524-9426-08a58209803a"
      },
      "execution_count": null,
      "outputs": [
        {
          "output_type": "execute_result",
          "data": {
            "text/plain": [
              "  ticker                        company_name  std_industry_classifier  \\\n",
              "0   AATI  ADVANCED ANALOGIC TECHNOLOGIES INC                        1   \n",
              "1   ABPI     ACCENTIA BIOPHARMACEUTICALS INC                        1   \n",
              "2   ACAD          ACADIA PHARMACEUTICALS INC                        1   \n",
              "3   ACHN       ACHILLION PHARMACEUTICALS INC                        1   \n",
              "4   ACLI     AMERICAN COMMERCIAL LINES INC.                         3   \n",
              "5   ACOM                  Ancestry.com Inc.                         2   \n",
              "6   ACOR             ACORDA THERAPEUTICS INC                        1   \n",
              "7   ACRX          ACELRX PHARMACEUTICALS INC                        1   \n",
              "8   ACTV                  ACTIVE NETWORK INC                        2   \n",
              "9    ACW                       ACCURIDE CORP                        1   \n",
              "\n",
              "   offer_price  price_range_higher_bound  price_range_lower_bound  \\\n",
              "0         10.0                       9.5                      8.5   \n",
              "1          8.0                      10.0                      8.0   \n",
              "2          7.0                      14.0                     12.0   \n",
              "3         11.5                      16.0                     14.0   \n",
              "4         21.0                      21.0                     19.0   \n",
              "5         13.5                      14.5                     12.5   \n",
              "6          6.0                      13.0                     11.0   \n",
              "7          5.0                      14.0                     12.0   \n",
              "8         15.0                      18.0                     16.0   \n",
              "9          9.0                      19.0                     17.0   \n",
              "\n",
              "   first_day_trading_price   days  top_tier_dummy  earnings_per_share  ...  \\\n",
              "0                11.870000  122.0             1.0                3.43  ...   \n",
              "1                 7.250000  259.0             0.0               -1.62  ...   \n",
              "2                 6.700000   90.0             1.0               -1.24  ...   \n",
              "3                12.390000  209.0             1.0               -0.91  ...   \n",
              "4                56.599998   80.0             1.0                0.07  ...   \n",
              "5                14.200000   94.0             1.0                0.06  ...   \n",
              "6                 6.720000  128.0             1.0               -1.87  ...   \n",
              "7                 4.550000   91.0             0.0               -0.74  ...   \n",
              "8                15.900000  100.0             1.0               -0.51  ...   \n",
              "9                 0.000000  106.0             1.0                1.49  ...   \n",
              "\n",
              "   num_of_words  num_of_real_words  num_of_long_sentences  num_of_long_words  \\\n",
              "0       12719.0            11560.0                  301.0              690.0   \n",
              "1       21792.0            19585.0                  510.0             1120.0   \n",
              "2        5262.0             4785.0                  128.0              325.0   \n",
              "3        8259.0             7574.0                  177.0              509.0   \n",
              "4       14830.0            13176.0                  336.0              720.0   \n",
              "5       17999.0            13934.0                  328.0              815.0   \n",
              "6       15758.0            13953.0                  379.0              698.0   \n",
              "7       11226.0            10056.0                  276.0              627.0   \n",
              "8       14813.0            13463.0                  335.0              917.0   \n",
              "9        9134.0             8107.0                  198.0              459.0   \n",
              "\n",
              "   num_of_positive_words  num_of_negative_words  num_of_uncertain_words  \\\n",
              "0                   62.0                  117.0                   139.0   \n",
              "1                   71.0                  242.0                   237.0   \n",
              "2                   61.0                   33.0                    60.0   \n",
              "3                   80.0                   59.0                   110.0   \n",
              "4                   67.0                  149.0                   167.0   \n",
              "5                   62.0                   96.0                   181.0   \n",
              "6                   82.0                  106.0                   135.0   \n",
              "7                   55.0                  120.0                   122.0   \n",
              "8                   58.0                  124.0                   234.0   \n",
              "9                   81.0                   90.0                   147.0   \n",
              "\n",
              "   Manufacturing  Services  Other  \n",
              "0              1         0      0  \n",
              "1              1         0      0  \n",
              "2              1         0      0  \n",
              "3              1         0      0  \n",
              "4              0         0      1  \n",
              "5              0         1      0  \n",
              "6              1         0      0  \n",
              "7              1         0      0  \n",
              "8              0         1      0  \n",
              "9              1         0      0  \n",
              "\n",
              "[10 rows x 25 columns]"
            ],
            "text/html": [
              "\n",
              "  <div id=\"df-b528f12f-65b2-4422-a6a4-dc93f1f5bcd0\">\n",
              "    <div class=\"colab-df-container\">\n",
              "      <div>\n",
              "<style scoped>\n",
              "    .dataframe tbody tr th:only-of-type {\n",
              "        vertical-align: middle;\n",
              "    }\n",
              "\n",
              "    .dataframe tbody tr th {\n",
              "        vertical-align: top;\n",
              "    }\n",
              "\n",
              "    .dataframe thead th {\n",
              "        text-align: right;\n",
              "    }\n",
              "</style>\n",
              "<table border=\"1\" class=\"dataframe\">\n",
              "  <thead>\n",
              "    <tr style=\"text-align: right;\">\n",
              "      <th></th>\n",
              "      <th>ticker</th>\n",
              "      <th>company_name</th>\n",
              "      <th>std_industry_classifier</th>\n",
              "      <th>offer_price</th>\n",
              "      <th>price_range_higher_bound</th>\n",
              "      <th>price_range_lower_bound</th>\n",
              "      <th>first_day_trading_price</th>\n",
              "      <th>days</th>\n",
              "      <th>top_tier_dummy</th>\n",
              "      <th>earnings_per_share</th>\n",
              "      <th>...</th>\n",
              "      <th>num_of_words</th>\n",
              "      <th>num_of_real_words</th>\n",
              "      <th>num_of_long_sentences</th>\n",
              "      <th>num_of_long_words</th>\n",
              "      <th>num_of_positive_words</th>\n",
              "      <th>num_of_negative_words</th>\n",
              "      <th>num_of_uncertain_words</th>\n",
              "      <th>Manufacturing</th>\n",
              "      <th>Services</th>\n",
              "      <th>Other</th>\n",
              "    </tr>\n",
              "  </thead>\n",
              "  <tbody>\n",
              "    <tr>\n",
              "      <th>0</th>\n",
              "      <td>AATI</td>\n",
              "      <td>ADVANCED ANALOGIC TECHNOLOGIES INC</td>\n",
              "      <td>1</td>\n",
              "      <td>10.0</td>\n",
              "      <td>9.5</td>\n",
              "      <td>8.5</td>\n",
              "      <td>11.870000</td>\n",
              "      <td>122.0</td>\n",
              "      <td>1.0</td>\n",
              "      <td>3.43</td>\n",
              "      <td>...</td>\n",
              "      <td>12719.0</td>\n",
              "      <td>11560.0</td>\n",
              "      <td>301.0</td>\n",
              "      <td>690.0</td>\n",
              "      <td>62.0</td>\n",
              "      <td>117.0</td>\n",
              "      <td>139.0</td>\n",
              "      <td>1</td>\n",
              "      <td>0</td>\n",
              "      <td>0</td>\n",
              "    </tr>\n",
              "    <tr>\n",
              "      <th>1</th>\n",
              "      <td>ABPI</td>\n",
              "      <td>ACCENTIA BIOPHARMACEUTICALS INC</td>\n",
              "      <td>1</td>\n",
              "      <td>8.0</td>\n",
              "      <td>10.0</td>\n",
              "      <td>8.0</td>\n",
              "      <td>7.250000</td>\n",
              "      <td>259.0</td>\n",
              "      <td>0.0</td>\n",
              "      <td>-1.62</td>\n",
              "      <td>...</td>\n",
              "      <td>21792.0</td>\n",
              "      <td>19585.0</td>\n",
              "      <td>510.0</td>\n",
              "      <td>1120.0</td>\n",
              "      <td>71.0</td>\n",
              "      <td>242.0</td>\n",
              "      <td>237.0</td>\n",
              "      <td>1</td>\n",
              "      <td>0</td>\n",
              "      <td>0</td>\n",
              "    </tr>\n",
              "    <tr>\n",
              "      <th>2</th>\n",
              "      <td>ACAD</td>\n",
              "      <td>ACADIA PHARMACEUTICALS INC</td>\n",
              "      <td>1</td>\n",
              "      <td>7.0</td>\n",
              "      <td>14.0</td>\n",
              "      <td>12.0</td>\n",
              "      <td>6.700000</td>\n",
              "      <td>90.0</td>\n",
              "      <td>1.0</td>\n",
              "      <td>-1.24</td>\n",
              "      <td>...</td>\n",
              "      <td>5262.0</td>\n",
              "      <td>4785.0</td>\n",
              "      <td>128.0</td>\n",
              "      <td>325.0</td>\n",
              "      <td>61.0</td>\n",
              "      <td>33.0</td>\n",
              "      <td>60.0</td>\n",
              "      <td>1</td>\n",
              "      <td>0</td>\n",
              "      <td>0</td>\n",
              "    </tr>\n",
              "    <tr>\n",
              "      <th>3</th>\n",
              "      <td>ACHN</td>\n",
              "      <td>ACHILLION PHARMACEUTICALS INC</td>\n",
              "      <td>1</td>\n",
              "      <td>11.5</td>\n",
              "      <td>16.0</td>\n",
              "      <td>14.0</td>\n",
              "      <td>12.390000</td>\n",
              "      <td>209.0</td>\n",
              "      <td>1.0</td>\n",
              "      <td>-0.91</td>\n",
              "      <td>...</td>\n",
              "      <td>8259.0</td>\n",
              "      <td>7574.0</td>\n",
              "      <td>177.0</td>\n",
              "      <td>509.0</td>\n",
              "      <td>80.0</td>\n",
              "      <td>59.0</td>\n",
              "      <td>110.0</td>\n",
              "      <td>1</td>\n",
              "      <td>0</td>\n",
              "      <td>0</td>\n",
              "    </tr>\n",
              "    <tr>\n",
              "      <th>4</th>\n",
              "      <td>ACLI</td>\n",
              "      <td>AMERICAN COMMERCIAL LINES INC.</td>\n",
              "      <td>3</td>\n",
              "      <td>21.0</td>\n",
              "      <td>21.0</td>\n",
              "      <td>19.0</td>\n",
              "      <td>56.599998</td>\n",
              "      <td>80.0</td>\n",
              "      <td>1.0</td>\n",
              "      <td>0.07</td>\n",
              "      <td>...</td>\n",
              "      <td>14830.0</td>\n",
              "      <td>13176.0</td>\n",
              "      <td>336.0</td>\n",
              "      <td>720.0</td>\n",
              "      <td>67.0</td>\n",
              "      <td>149.0</td>\n",
              "      <td>167.0</td>\n",
              "      <td>0</td>\n",
              "      <td>0</td>\n",
              "      <td>1</td>\n",
              "    </tr>\n",
              "    <tr>\n",
              "      <th>5</th>\n",
              "      <td>ACOM</td>\n",
              "      <td>Ancestry.com Inc.</td>\n",
              "      <td>2</td>\n",
              "      <td>13.5</td>\n",
              "      <td>14.5</td>\n",
              "      <td>12.5</td>\n",
              "      <td>14.200000</td>\n",
              "      <td>94.0</td>\n",
              "      <td>1.0</td>\n",
              "      <td>0.06</td>\n",
              "      <td>...</td>\n",
              "      <td>17999.0</td>\n",
              "      <td>13934.0</td>\n",
              "      <td>328.0</td>\n",
              "      <td>815.0</td>\n",
              "      <td>62.0</td>\n",
              "      <td>96.0</td>\n",
              "      <td>181.0</td>\n",
              "      <td>0</td>\n",
              "      <td>1</td>\n",
              "      <td>0</td>\n",
              "    </tr>\n",
              "    <tr>\n",
              "      <th>6</th>\n",
              "      <td>ACOR</td>\n",
              "      <td>ACORDA THERAPEUTICS INC</td>\n",
              "      <td>1</td>\n",
              "      <td>6.0</td>\n",
              "      <td>13.0</td>\n",
              "      <td>11.0</td>\n",
              "      <td>6.720000</td>\n",
              "      <td>128.0</td>\n",
              "      <td>1.0</td>\n",
              "      <td>-1.87</td>\n",
              "      <td>...</td>\n",
              "      <td>15758.0</td>\n",
              "      <td>13953.0</td>\n",
              "      <td>379.0</td>\n",
              "      <td>698.0</td>\n",
              "      <td>82.0</td>\n",
              "      <td>106.0</td>\n",
              "      <td>135.0</td>\n",
              "      <td>1</td>\n",
              "      <td>0</td>\n",
              "      <td>0</td>\n",
              "    </tr>\n",
              "    <tr>\n",
              "      <th>7</th>\n",
              "      <td>ACRX</td>\n",
              "      <td>ACELRX PHARMACEUTICALS INC</td>\n",
              "      <td>1</td>\n",
              "      <td>5.0</td>\n",
              "      <td>14.0</td>\n",
              "      <td>12.0</td>\n",
              "      <td>4.550000</td>\n",
              "      <td>91.0</td>\n",
              "      <td>0.0</td>\n",
              "      <td>-0.74</td>\n",
              "      <td>...</td>\n",
              "      <td>11226.0</td>\n",
              "      <td>10056.0</td>\n",
              "      <td>276.0</td>\n",
              "      <td>627.0</td>\n",
              "      <td>55.0</td>\n",
              "      <td>120.0</td>\n",
              "      <td>122.0</td>\n",
              "      <td>1</td>\n",
              "      <td>0</td>\n",
              "      <td>0</td>\n",
              "    </tr>\n",
              "    <tr>\n",
              "      <th>8</th>\n",
              "      <td>ACTV</td>\n",
              "      <td>ACTIVE NETWORK INC</td>\n",
              "      <td>2</td>\n",
              "      <td>15.0</td>\n",
              "      <td>18.0</td>\n",
              "      <td>16.0</td>\n",
              "      <td>15.900000</td>\n",
              "      <td>100.0</td>\n",
              "      <td>1.0</td>\n",
              "      <td>-0.51</td>\n",
              "      <td>...</td>\n",
              "      <td>14813.0</td>\n",
              "      <td>13463.0</td>\n",
              "      <td>335.0</td>\n",
              "      <td>917.0</td>\n",
              "      <td>58.0</td>\n",
              "      <td>124.0</td>\n",
              "      <td>234.0</td>\n",
              "      <td>0</td>\n",
              "      <td>1</td>\n",
              "      <td>0</td>\n",
              "    </tr>\n",
              "    <tr>\n",
              "      <th>9</th>\n",
              "      <td>ACW</td>\n",
              "      <td>ACCURIDE CORP</td>\n",
              "      <td>1</td>\n",
              "      <td>9.0</td>\n",
              "      <td>19.0</td>\n",
              "      <td>17.0</td>\n",
              "      <td>0.000000</td>\n",
              "      <td>106.0</td>\n",
              "      <td>1.0</td>\n",
              "      <td>1.49</td>\n",
              "      <td>...</td>\n",
              "      <td>9134.0</td>\n",
              "      <td>8107.0</td>\n",
              "      <td>198.0</td>\n",
              "      <td>459.0</td>\n",
              "      <td>81.0</td>\n",
              "      <td>90.0</td>\n",
              "      <td>147.0</td>\n",
              "      <td>1</td>\n",
              "      <td>0</td>\n",
              "      <td>0</td>\n",
              "    </tr>\n",
              "  </tbody>\n",
              "</table>\n",
              "<p>10 rows × 25 columns</p>\n",
              "</div>\n",
              "      <button class=\"colab-df-convert\" onclick=\"convertToInteractive('df-b528f12f-65b2-4422-a6a4-dc93f1f5bcd0')\"\n",
              "              title=\"Convert this dataframe to an interactive table.\"\n",
              "              style=\"display:none;\">\n",
              "        \n",
              "  <svg xmlns=\"http://www.w3.org/2000/svg\" height=\"24px\"viewBox=\"0 0 24 24\"\n",
              "       width=\"24px\">\n",
              "    <path d=\"M0 0h24v24H0V0z\" fill=\"none\"/>\n",
              "    <path d=\"M18.56 5.44l.94 2.06.94-2.06 2.06-.94-2.06-.94-.94-2.06-.94 2.06-2.06.94zm-11 1L8.5 8.5l.94-2.06 2.06-.94-2.06-.94L8.5 2.5l-.94 2.06-2.06.94zm10 10l.94 2.06.94-2.06 2.06-.94-2.06-.94-.94-2.06-.94 2.06-2.06.94z\"/><path d=\"M17.41 7.96l-1.37-1.37c-.4-.4-.92-.59-1.43-.59-.52 0-1.04.2-1.43.59L10.3 9.45l-7.72 7.72c-.78.78-.78 2.05 0 2.83L4 21.41c.39.39.9.59 1.41.59.51 0 1.02-.2 1.41-.59l7.78-7.78 2.81-2.81c.8-.78.8-2.07 0-2.86zM5.41 20L4 18.59l7.72-7.72 1.47 1.35L5.41 20z\"/>\n",
              "  </svg>\n",
              "      </button>\n",
              "      \n",
              "  <style>\n",
              "    .colab-df-container {\n",
              "      display:flex;\n",
              "      flex-wrap:wrap;\n",
              "      gap: 12px;\n",
              "    }\n",
              "\n",
              "    .colab-df-convert {\n",
              "      background-color: #E8F0FE;\n",
              "      border: none;\n",
              "      border-radius: 50%;\n",
              "      cursor: pointer;\n",
              "      display: none;\n",
              "      fill: #1967D2;\n",
              "      height: 32px;\n",
              "      padding: 0 0 0 0;\n",
              "      width: 32px;\n",
              "    }\n",
              "\n",
              "    .colab-df-convert:hover {\n",
              "      background-color: #E2EBFA;\n",
              "      box-shadow: 0px 1px 2px rgba(60, 64, 67, 0.3), 0px 1px 3px 1px rgba(60, 64, 67, 0.15);\n",
              "      fill: #174EA6;\n",
              "    }\n",
              "\n",
              "    [theme=dark] .colab-df-convert {\n",
              "      background-color: #3B4455;\n",
              "      fill: #D2E3FC;\n",
              "    }\n",
              "\n",
              "    [theme=dark] .colab-df-convert:hover {\n",
              "      background-color: #434B5C;\n",
              "      box-shadow: 0px 1px 3px 1px rgba(0, 0, 0, 0.15);\n",
              "      filter: drop-shadow(0px 1px 2px rgba(0, 0, 0, 0.3));\n",
              "      fill: #FFFFFF;\n",
              "    }\n",
              "  </style>\n",
              "\n",
              "      <script>\n",
              "        const buttonEl =\n",
              "          document.querySelector('#df-b528f12f-65b2-4422-a6a4-dc93f1f5bcd0 button.colab-df-convert');\n",
              "        buttonEl.style.display =\n",
              "          google.colab.kernel.accessAllowed ? 'block' : 'none';\n",
              "\n",
              "        async function convertToInteractive(key) {\n",
              "          const element = document.querySelector('#df-b528f12f-65b2-4422-a6a4-dc93f1f5bcd0');\n",
              "          const dataTable =\n",
              "            await google.colab.kernel.invokeFunction('convertToInteractive',\n",
              "                                                     [key], {});\n",
              "          if (!dataTable) return;\n",
              "\n",
              "          const docLinkHtml = 'Like what you see? Visit the ' +\n",
              "            '<a target=\"_blank\" href=https://colab.research.google.com/notebooks/data_table.ipynb>data table notebook</a>'\n",
              "            + ' to learn more about interactive tables.';\n",
              "          element.innerHTML = '';\n",
              "          dataTable['output_type'] = 'display_data';\n",
              "          await google.colab.output.renderOutput(dataTable, element);\n",
              "          const docLink = document.createElement('div');\n",
              "          docLink.innerHTML = docLinkHtml;\n",
              "          element.appendChild(docLink);\n",
              "        }\n",
              "      </script>\n",
              "    </div>\n",
              "  </div>\n",
              "  "
            ]
          },
          "metadata": {},
          "execution_count": 23
        }
      ]
    },
    {
      "cell_type": "code",
      "source": [
        "# visualizing the distribution of stdandard industry classifier \n",
        "ipo_df['std_industry_classifier'].hist()\n",
        "plt.title(\"Distribution of Standard Industry Classifier\")\n",
        "plt.xlabel(\"Industry Classifier\")\n",
        "plt.ylabel(\"Count\")"
      ],
      "metadata": {
        "colab": {
          "base_uri": "https://localhost:8080/",
          "height": 313
        },
        "id": "e0e35WMvD47l",
        "outputId": "b2658f2a-9c20-402d-fdc7-bbc22274d6f7"
      },
      "execution_count": null,
      "outputs": [
        {
          "output_type": "execute_result",
          "data": {
            "text/plain": [
              "Text(0, 0.5, 'Count')"
            ]
          },
          "metadata": {},
          "execution_count": 24
        },
        {
          "output_type": "display_data",
          "data": {
            "text/plain": [
              "<Figure size 432x288 with 1 Axes>"
            ],
            "image/png": "[encoded data removed]"
          },
          "metadata": {
            "needs_background": "light"
          }
        }
      ]
    },
    {
      "cell_type": "code",
      "source": [
        "#export SIC binning to csv file\n",
        "ipo_df.to_csv('SIC_Binning', ',')"
      ],
      "metadata": {
        "id": "gFNr4m0gD7Zd"
      },
      "execution_count": null,
      "outputs": []
    },
    {
      "cell_type": "markdown",
      "source": [
        "#**Adding Columns**\n",
        "\n",
        "Adding new columns and calculations. \n",
        "\n",
        "\n"
      ],
      "metadata": {
        "id": "XNGdMJOywRam"
      }
    },
    {
      "cell_type": "code",
      "source": [
        "#creating target variables\n",
        "\n",
        "ipo_df['Avg_Price'] = (ipo_df['price_range_higher_bound'] + ipo_df['price_range_lower_bound']) / 2\n",
        "\n",
        "#calculating Y1 - Set to 1 if P(IPO) < P(mid), where P(mid) = (P(H)+P(L))/2, otherwise 0\n",
        "ipo_df['Pre_IPO_Price_Revision'] = np.where(ipo_df['offer_price'] < ipo_df['Avg_Price'],1,0)\n",
        "\n",
        "#calculating Y2 - Set to 1 if P(IPO) < P(1Day), otherwise 0\n",
        "ipo_df['Post_IPO_Initial_Return'] = np.where(ipo_df['offer_price'] < ipo_df['first_day_trading_price'],1,0)\n",
        "\n",
        "#calculating C3' - Dummy variable set to 1 if C3 is positive at the time of the IPO, otherwise 0\n",
        "ipo_df[\"Positive_EPS_Dummy\"] = np.where(ipo_df['earnings_per_share'] > 0, 1, 0)\n",
        "\n",
        "#calculating C5' - C5’ = C5/C6 \n",
        "ipo_df[\"Share_Overhang\"] = ipo_df['outstanding_shares'] / ipo_df['offering_shares']\n",
        "\n",
        "#calculating C6 - Set to (P(IPO) – P(mid))/P(mid) x 100%, if P(IPO) > P(mid), otherwise 0 \n",
        "ipo_df[\"Up_Revision\"] = np.where(ipo_df['offer_price'] > ipo_df['Avg_Price'], ((ipo_df['offer_price'] - ipo_df['Avg_Price']) / ipo_df['Avg_Price']) * 100,0)"
      ],
      "metadata": {
        "id": "15PXDMLkSVfB"
      },
      "execution_count": null,
      "outputs": []
    },
    {
      "cell_type": "code",
      "source": [
        "# ratio of long sentences - T4/T1 as T1_prime\n",
        "ipo_df['T1_prime'] = ipo_df['num_of_long_sentences'] / ipo_df['num_of_sentences']\n",
        "\n",
        "# ratio of long words - T2_prime\n",
        "ipo_df['T2_prime'] = ipo_df['num_of_long_words'] / ipo_df['num_of_words']\n",
        "\n",
        "# ratio of real words - T3_prime\n",
        "ipo_df['T3_prime'] = ipo_df['num_of_real_words'] / ipo_df['num_of_words']\n",
        "\n",
        "# ratio of positive words - S1/T2 as S1_prime\n",
        "ipo_df['S1_prime'] = ipo_df['num_of_positive_words'] / ipo_df['num_of_words']\n",
        "\n",
        "# ratio of negative words - S2_prime\n",
        "ipo_df['S2_prime'] = ipo_df['num_of_negative_words'] / ipo_df['num_of_words']\n",
        "\n",
        "# ratio of uncertain words - S3_prime\n",
        "ipo_df['S3_prime'] = ipo_df['num_of_uncertain_words'] / ipo_df['num_of_words']\n",
        "\n",
        "print(ipo_df[['T1_prime', 'T2_prime', 'T3_prime', 'S1_prime', 'S2_prime','S3_prime']])"
      ],
      "metadata": {
        "colab": {
          "base_uri": "https://localhost:8080/"
        },
        "id": "XJBIkl066VSo",
        "outputId": "3b105bb9-4b6f-4ed9-fca9-d3aa10af3ee6"
      },
      "execution_count": null,
      "outputs": [
        {
          "output_type": "stream",
          "name": "stdout",
          "text": [
            "     T1_prime  T2_prime  T3_prime  S1_prime  S2_prime  S3_prime\n",
            "0    0.640426  0.054250  0.908876  0.004875  0.009199  0.010929\n",
            "1    0.644753  0.051395  0.898724  0.003258  0.011105  0.010876\n",
            "2    0.636816  0.061764  0.909350  0.011593  0.006271  0.011403\n",
            "3    0.539634  0.061630  0.917060  0.009686  0.007144  0.013319\n",
            "4    0.587413  0.048550  0.888469  0.004518  0.010047  0.011261\n",
            "..        ...       ...       ...       ...       ...       ...\n",
            "677  0.612663  0.050603  0.920952  0.006512  0.007935  0.012950\n",
            "678  0.647177  0.056770  0.906227  0.005069  0.009124  0.012527\n",
            "679  0.647761  0.047976  0.889600  0.004191  0.009044  0.009926\n",
            "680  0.710938  0.043178  0.909412  0.006773  0.005362  0.014110\n",
            "681  0.670702  0.054545  0.904288  0.008062  0.008834  0.013551\n",
            "\n",
            "[660 rows x 6 columns]\n"
          ]
        }
      ]
    },
    {
      "cell_type": "code",
      "source": [
        "ipo_df.columns"
      ],
      "metadata": {
        "id": "5r2ahFADYARr",
        "colab": {
          "base_uri": "https://localhost:8080/"
        },
        "outputId": "cb40dfca-5aef-4974-9a47-ddc60d12e794"
      },
      "execution_count": null,
      "outputs": [
        {
          "output_type": "execute_result",
          "data": {
            "text/plain": [
              "Index(['ticker', 'company_name', 'std_industry_classifier', 'offer_price',\n",
              "       'price_range_higher_bound', 'price_range_lower_bound',\n",
              "       'first_day_trading_price', 'days', 'top_tier_dummy',\n",
              "       'earnings_per_share', 'prior_nasdaq_15day_returns',\n",
              "       'outstanding_shares', 'offering_shares', 'sales', 'num_of_sentences',\n",
              "       'num_of_words', 'num_of_real_words', 'num_of_long_sentences',\n",
              "       'num_of_long_words', 'num_of_positive_words', 'num_of_negative_words',\n",
              "       'num_of_uncertain_words', 'Manufacturing', 'Services', 'Other',\n",
              "       'Avg_Price', 'Pre_IPO_Price_Revision', 'Post_IPO_Initial_Return',\n",
              "       'Positive_EPS_Dummy', 'Share_Overhang', 'Up_Revision', 'T1_prime',\n",
              "       'T2_prime', 'T3_prime', 'S1_prime', 'S2_prime', 'S3_prime'],\n",
              "      dtype='object')"
            ]
          },
          "metadata": {},
          "execution_count": 28
        }
      ]
    },
    {
      "cell_type": "code",
      "source": [
        "ipo_df= ipo_df.drop(['offer_price',\n",
        "       'price_range_higher_bound', 'price_range_lower_bound',\n",
        "       'first_day_trading_price','Avg_Price', 'earnings_per_share', 'outstanding_shares', 'offering_shares','num_of_sentences',\n",
        "       'num_of_words', 'num_of_real_words', 'num_of_long_sentences',\n",
        "       'num_of_long_words', 'num_of_positive_words', 'num_of_negative_words',\n",
        "       'num_of_uncertain_words' ],axis=1)"
      ],
      "metadata": {
        "id": "L-QH5fWJZ_Lm"
      },
      "execution_count": null,
      "outputs": []
    },
    {
      "cell_type": "markdown",
      "source": [
        "# Creation of Different Variables (Cont., Cat., Target) and Graphs"
      ],
      "metadata": {
        "id": "Dhsd3pjHKJ72"
      }
    },
    {
      "cell_type": "code",
      "source": [
        "num_cols = ['days', 'prior_nasdaq_15day_returns', 'sales', 'Share_Overhang', 'Up_Revision', 'T1_prime', 'T2_prime', 'T3_prime', 'S1_prime', 'S2_prime', 'S3_prime']"
      ],
      "metadata": {
        "id": "Hggj0j_b6e3U"
      },
      "execution_count": null,
      "outputs": []
    },
    {
      "cell_type": "code",
      "source": [
        "num_cols2 = ['days', 'prior_nasdaq_15day_returns', 'sales', 'Share_Overhang', 'T1_prime', 'T2_prime', 'T3_prime', 'S1_prime', 'S2_prime', 'S3_prime']"
      ],
      "metadata": {
        "id": "dBMnyuCnwpgB"
      },
      "execution_count": null,
      "outputs": []
    },
    {
      "cell_type": "code",
      "source": [
        "ipo_df_cont = ipo_df.loc[:, num_cols]\n",
        "ipo_df_cont.head()"
      ],
      "metadata": {
        "colab": {
          "base_uri": "https://localhost:8080/",
          "height": 206
        },
        "id": "bK_wM9K0qA6X",
        "outputId": "9e23a164-2542-4351-80f6-4ca898443d31"
      },
      "execution_count": null,
      "outputs": [
        {
          "output_type": "execute_result",
          "data": {
            "text/plain": [
              "    days  prior_nasdaq_15day_returns    sales  Share_Overhang  Up_Revision  \\\n",
              "0  122.0                    0.029074   51.345        3.864345    11.111111   \n",
              "1  259.0                   -0.013352   25.936       12.028832     0.000000   \n",
              "2   90.0                    0.020715    7.378        3.369134     0.000000   \n",
              "3  209.0                    0.020023    8.526        3.299697     0.000000   \n",
              "4   80.0                   -0.034895  632.298        3.726269     5.000000   \n",
              "\n",
              "   T1_prime  T2_prime  T3_prime  S1_prime  S2_prime  S3_prime  \n",
              "0  0.640426  0.054250  0.908876  0.004875  0.009199  0.010929  \n",
              "1  0.644753  0.051395  0.898724  0.003258  0.011105  0.010876  \n",
              "2  0.636816  0.061764  0.909350  0.011593  0.006271  0.011403  \n",
              "3  0.539634  0.061630  0.917060  0.009686  0.007144  0.013319  \n",
              "4  0.587413  0.048550  0.888469  0.004518  0.010047  0.011261  "
            ],
            "text/html": [
              "\n",
              "  <div id=\"df-3ca65276-53d8-450e-9343-9d69aac256cf\">\n",
              "    <div class=\"colab-df-container\">\n",
              "      <div>\n",
              "<style scoped>\n",
              "    .dataframe tbody tr th:only-of-type {\n",
              "        vertical-align: middle;\n",
              "    }\n",
              "\n",
              "    .dataframe tbody tr th {\n",
              "        vertical-align: top;\n",
              "    }\n",
              "\n",
              "    .dataframe thead th {\n",
              "        text-align: right;\n",
              "    }\n",
              "</style>\n",
              "<table border=\"1\" class=\"dataframe\">\n",
              "  <thead>\n",
              "    <tr style=\"text-align: right;\">\n",
              "      <th></th>\n",
              "      <th>days</th>\n",
              "      <th>prior_nasdaq_15day_returns</th>\n",
              "      <th>sales</th>\n",
              "      <th>Share_Overhang</th>\n",
              "      <th>Up_Revision</th>\n",
              "      <th>T1_prime</th>\n",
              "      <th>T2_prime</th>\n",
              "      <th>T3_prime</th>\n",
              "      <th>S1_prime</th>\n",
              "      <th>S2_prime</th>\n",
              "      <th>S3_prime</th>\n",
              "    </tr>\n",
              "  </thead>\n",
              "  <tbody>\n",
              "    <tr>\n",
              "      <th>0</th>\n",
              "      <td>122.0</td>\n",
              "      <td>0.029074</td>\n",
              "      <td>51.345</td>\n",
              "      <td>3.864345</td>\n",
              "      <td>11.111111</td>\n",
              "      <td>0.640426</td>\n",
              "      <td>0.054250</td>\n",
              "      <td>0.908876</td>\n",
              "      <td>0.004875</td>\n",
              "      <td>0.009199</td>\n",
              "      <td>0.010929</td>\n",
              "    </tr>\n",
              "    <tr>\n",
              "      <th>1</th>\n",
              "      <td>259.0</td>\n",
              "      <td>-0.013352</td>\n",
              "      <td>25.936</td>\n",
              "      <td>12.028832</td>\n",
              "      <td>0.000000</td>\n",
              "      <td>0.644753</td>\n",
              "      <td>0.051395</td>\n",
              "      <td>0.898724</td>\n",
              "      <td>0.003258</td>\n",
              "      <td>0.011105</td>\n",
              "      <td>0.010876</td>\n",
              "    </tr>\n",
              "    <tr>\n",
              "      <th>2</th>\n",
              "      <td>90.0</td>\n",
              "      <td>0.020715</td>\n",
              "      <td>7.378</td>\n",
              "      <td>3.369134</td>\n",
              "      <td>0.000000</td>\n",
              "      <td>0.636816</td>\n",
              "      <td>0.061764</td>\n",
              "      <td>0.909350</td>\n",
              "      <td>0.011593</td>\n",
              "      <td>0.006271</td>\n",
              "      <td>0.011403</td>\n",
              "    </tr>\n",
              "    <tr>\n",
              "      <th>3</th>\n",
              "      <td>209.0</td>\n",
              "      <td>0.020023</td>\n",
              "      <td>8.526</td>\n",
              "      <td>3.299697</td>\n",
              "      <td>0.000000</td>\n",
              "      <td>0.539634</td>\n",
              "      <td>0.061630</td>\n",
              "      <td>0.917060</td>\n",
              "      <td>0.009686</td>\n",
              "      <td>0.007144</td>\n",
              "      <td>0.013319</td>\n",
              "    </tr>\n",
              "    <tr>\n",
              "      <th>4</th>\n",
              "      <td>80.0</td>\n",
              "      <td>-0.034895</td>\n",
              "      <td>632.298</td>\n",
              "      <td>3.726269</td>\n",
              "      <td>5.000000</td>\n",
              "      <td>0.587413</td>\n",
              "      <td>0.048550</td>\n",
              "      <td>0.888469</td>\n",
              "      <td>0.004518</td>\n",
              "      <td>0.010047</td>\n",
              "      <td>0.011261</td>\n",
              "    </tr>\n",
              "  </tbody>\n",
              "</table>\n",
              "</div>\n",
              "      <button class=\"colab-df-convert\" onclick=\"convertToInteractive('df-3ca65276-53d8-450e-9343-9d69aac256cf')\"\n",
              "              title=\"Convert this dataframe to an interactive table.\"\n",
              "              style=\"display:none;\">\n",
              "        \n",
              "  <svg xmlns=\"http://www.w3.org/2000/svg\" height=\"24px\"viewBox=\"0 0 24 24\"\n",
              "       width=\"24px\">\n",
              "    <path d=\"M0 0h24v24H0V0z\" fill=\"none\"/>\n",
              "    <path d=\"M18.56 5.44l.94 2.06.94-2.06 2.06-.94-2.06-.94-.94-2.06-.94 2.06-2.06.94zm-11 1L8.5 8.5l.94-2.06 2.06-.94-2.06-.94L8.5 2.5l-.94 2.06-2.06.94zm10 10l.94 2.06.94-2.06 2.06-.94-2.06-.94-.94-2.06-.94 2.06-2.06.94z\"/><path d=\"M17.41 7.96l-1.37-1.37c-.4-.4-.92-.59-1.43-.59-.52 0-1.04.2-1.43.59L10.3 9.45l-7.72 7.72c-.78.78-.78 2.05 0 2.83L4 21.41c.39.39.9.59 1.41.59.51 0 1.02-.2 1.41-.59l7.78-7.78 2.81-2.81c.8-.78.8-2.07 0-2.86zM5.41 20L4 18.59l7.72-7.72 1.47 1.35L5.41 20z\"/>\n",
              "  </svg>\n",
              "      </button>\n",
              "      \n",
              "  <style>\n",
              "    .colab-df-container {\n",
              "      display:flex;\n",
              "      flex-wrap:wrap;\n",
              "      gap: 12px;\n",
              "    }\n",
              "\n",
              "    .colab-df-convert {\n",
              "      background-color: #E8F0FE;\n",
              "      border: none;\n",
              "      border-radius: 50%;\n",
              "      cursor: pointer;\n",
              "      display: none;\n",
              "      fill: #1967D2;\n",
              "      height: 32px;\n",
              "      padding: 0 0 0 0;\n",
              "      width: 32px;\n",
              "    }\n",
              "\n",
              "    .colab-df-convert:hover {\n",
              "      background-color: #E2EBFA;\n",
              "      box-shadow: 0px 1px 2px rgba(60, 64, 67, 0.3), 0px 1px 3px 1px rgba(60, 64, 67, 0.15);\n",
              "      fill: #174EA6;\n",
              "    }\n",
              "\n",
              "    [theme=dark] .colab-df-convert {\n",
              "      background-color: #3B4455;\n",
              "      fill: #D2E3FC;\n",
              "    }\n",
              "\n",
              "    [theme=dark] .colab-df-convert:hover {\n",
              "      background-color: #434B5C;\n",
              "      box-shadow: 0px 1px 3px 1px rgba(0, 0, 0, 0.15);\n",
              "      filter: drop-shadow(0px 1px 2px rgba(0, 0, 0, 0.3));\n",
              "      fill: #FFFFFF;\n",
              "    }\n",
              "  </style>\n",
              "\n",
              "      <script>\n",
              "        const buttonEl =\n",
              "          document.querySelector('#df-3ca65276-53d8-450e-9343-9d69aac256cf button.colab-df-convert');\n",
              "        buttonEl.style.display =\n",
              "          google.colab.kernel.accessAllowed ? 'block' : 'none';\n",
              "\n",
              "        async function convertToInteractive(key) {\n",
              "          const element = document.querySelector('#df-3ca65276-53d8-450e-9343-9d69aac256cf');\n",
              "          const dataTable =\n",
              "            await google.colab.kernel.invokeFunction('convertToInteractive',\n",
              "                                                     [key], {});\n",
              "          if (!dataTable) return;\n",
              "\n",
              "          const docLinkHtml = 'Like what you see? Visit the ' +\n",
              "            '<a target=\"_blank\" href=https://colab.research.google.com/notebooks/data_table.ipynb>data table notebook</a>'\n",
              "            + ' to learn more about interactive tables.';\n",
              "          element.innerHTML = '';\n",
              "          dataTable['output_type'] = 'display_data';\n",
              "          await google.colab.output.renderOutput(dataTable, element);\n",
              "          const docLink = document.createElement('div');\n",
              "          docLink.innerHTML = docLinkHtml;\n",
              "          element.appendChild(docLink);\n",
              "        }\n",
              "      </script>\n",
              "    </div>\n",
              "  </div>\n",
              "  "
            ]
          },
          "metadata": {},
          "execution_count": 32
        }
      ]
    },
    {
      "cell_type": "code",
      "source": [
        "ipo_df_cont2 = ipo_df.loc[:, num_cols2]\n",
        "ipo_df_cont2"
      ],
      "metadata": {
        "colab": {
          "base_uri": "https://localhost:8080/",
          "height": 423
        },
        "id": "i7A-SP6pwtCl",
        "outputId": "ce08cebb-6b33-41c9-cf80-c8fa0dd4b328"
      },
      "execution_count": null,
      "outputs": [
        {
          "output_type": "execute_result",
          "data": {
            "text/plain": [
              "      days  prior_nasdaq_15day_returns     sales  Share_Overhang  T1_prime  \\\n",
              "0    122.0                    0.029074    51.345        3.864345  0.640426   \n",
              "1    259.0                   -0.013352    25.936       12.028832  0.644753   \n",
              "2     90.0                    0.020715     7.378        3.369134  0.636816   \n",
              "3    209.0                    0.020023     8.526        3.299697  0.539634   \n",
              "4     80.0                   -0.034895   632.298        3.726269  0.587413   \n",
              "..     ...                         ...       ...             ...       ...   \n",
              "677  317.0                    0.004670   186.101        3.963872  0.612663   \n",
              "678   98.0                    0.058689    25.461        4.679726  0.647177   \n",
              "679  112.0                    0.030425    55.431        3.673544  0.647761   \n",
              "680   78.0                    0.032284   117.857        4.217684  0.710938   \n",
              "681  281.0                    0.024687  1469.574        3.240507  0.670702   \n",
              "\n",
              "     T2_prime  T3_prime  S1_prime  S2_prime  S3_prime  \n",
              "0    0.054250  0.908876  0.004875  0.009199  0.010929  \n",
              "1    0.051395  0.898724  0.003258  0.011105  0.010876  \n",
              "2    0.061764  0.909350  0.011593  0.006271  0.011403  \n",
              "3    0.061630  0.917060  0.009686  0.007144  0.013319  \n",
              "4    0.048550  0.888469  0.004518  0.010047  0.011261  \n",
              "..        ...       ...       ...       ...       ...  \n",
              "677  0.050603  0.920952  0.006512  0.007935  0.012950  \n",
              "678  0.056770  0.906227  0.005069  0.009124  0.012527  \n",
              "679  0.047976  0.889600  0.004191  0.009044  0.009926  \n",
              "680  0.043178  0.909412  0.006773  0.005362  0.014110  \n",
              "681  0.054545  0.904288  0.008062  0.008834  0.013551  \n",
              "\n",
              "[660 rows x 10 columns]"
            ],
            "text/html": [
              "\n",
              "  <div id=\"df-4aa8d92e-bfb9-465e-9715-f20165fd1483\">\n",
              "    <div class=\"colab-df-container\">\n",
              "      <div>\n",
              "<style scoped>\n",
              "    .dataframe tbody tr th:only-of-type {\n",
              "        vertical-align: middle;\n",
              "    }\n",
              "\n",
              "    .dataframe tbody tr th {\n",
              "        vertical-align: top;\n",
              "    }\n",
              "\n",
              "    .dataframe thead th {\n",
              "        text-align: right;\n",
              "    }\n",
              "</style>\n",
              "<table border=\"1\" class=\"dataframe\">\n",
              "  <thead>\n",
              "    <tr style=\"text-align: right;\">\n",
              "      <th></th>\n",
              "      <th>days</th>\n",
              "      <th>prior_nasdaq_15day_returns</th>\n",
              "      <th>sales</th>\n",
              "      <th>Share_Overhang</th>\n",
              "      <th>T1_prime</th>\n",
              "      <th>T2_prime</th>\n",
              "      <th>T3_prime</th>\n",
              "      <th>S1_prime</th>\n",
              "      <th>S2_prime</th>\n",
              "      <th>S3_prime</th>\n",
              "    </tr>\n",
              "  </thead>\n",
              "  <tbody>\n",
              "    <tr>\n",
              "      <th>0</th>\n",
              "      <td>122.0</td>\n",
              "      <td>0.029074</td>\n",
              "      <td>51.345</td>\n",
              "      <td>3.864345</td>\n",
              "      <td>0.640426</td>\n",
              "      <td>0.054250</td>\n",
              "      <td>0.908876</td>\n",
              "      <td>0.004875</td>\n",
              "      <td>0.009199</td>\n",
              "      <td>0.010929</td>\n",
              "    </tr>\n",
              "    <tr>\n",
              "      <th>1</th>\n",
              "      <td>259.0</td>\n",
              "      <td>-0.013352</td>\n",
              "      <td>25.936</td>\n",
              "      <td>12.028832</td>\n",
              "      <td>0.644753</td>\n",
              "      <td>0.051395</td>\n",
              "      <td>0.898724</td>\n",
              "      <td>0.003258</td>\n",
              "      <td>0.011105</td>\n",
              "      <td>0.010876</td>\n",
              "    </tr>\n",
              "    <tr>\n",
              "      <th>2</th>\n",
              "      <td>90.0</td>\n",
              "      <td>0.020715</td>\n",
              "      <td>7.378</td>\n",
              "      <td>3.369134</td>\n",
              "      <td>0.636816</td>\n",
              "      <td>0.061764</td>\n",
              "      <td>0.909350</td>\n",
              "      <td>0.011593</td>\n",
              "      <td>0.006271</td>\n",
              "      <td>0.011403</td>\n",
              "    </tr>\n",
              "    <tr>\n",
              "      <th>3</th>\n",
              "      <td>209.0</td>\n",
              "      <td>0.020023</td>\n",
              "      <td>8.526</td>\n",
              "      <td>3.299697</td>\n",
              "      <td>0.539634</td>\n",
              "      <td>0.061630</td>\n",
              "      <td>0.917060</td>\n",
              "      <td>0.009686</td>\n",
              "      <td>0.007144</td>\n",
              "      <td>0.013319</td>\n",
              "    </tr>\n",
              "    <tr>\n",
              "      <th>4</th>\n",
              "      <td>80.0</td>\n",
              "      <td>-0.034895</td>\n",
              "      <td>632.298</td>\n",
              "      <td>3.726269</td>\n",
              "      <td>0.587413</td>\n",
              "      <td>0.048550</td>\n",
              "      <td>0.888469</td>\n",
              "      <td>0.004518</td>\n",
              "      <td>0.010047</td>\n",
              "      <td>0.011261</td>\n",
              "    </tr>\n",
              "    <tr>\n",
              "      <th>...</th>\n",
              "      <td>...</td>\n",
              "      <td>...</td>\n",
              "      <td>...</td>\n",
              "      <td>...</td>\n",
              "      <td>...</td>\n",
              "      <td>...</td>\n",
              "      <td>...</td>\n",
              "      <td>...</td>\n",
              "      <td>...</td>\n",
              "      <td>...</td>\n",
              "    </tr>\n",
              "    <tr>\n",
              "      <th>677</th>\n",
              "      <td>317.0</td>\n",
              "      <td>0.004670</td>\n",
              "      <td>186.101</td>\n",
              "      <td>3.963872</td>\n",
              "      <td>0.612663</td>\n",
              "      <td>0.050603</td>\n",
              "      <td>0.920952</td>\n",
              "      <td>0.006512</td>\n",
              "      <td>0.007935</td>\n",
              "      <td>0.012950</td>\n",
              "    </tr>\n",
              "    <tr>\n",
              "      <th>678</th>\n",
              "      <td>98.0</td>\n",
              "      <td>0.058689</td>\n",
              "      <td>25.461</td>\n",
              "      <td>4.679726</td>\n",
              "      <td>0.647177</td>\n",
              "      <td>0.056770</td>\n",
              "      <td>0.906227</td>\n",
              "      <td>0.005069</td>\n",
              "      <td>0.009124</td>\n",
              "      <td>0.012527</td>\n",
              "    </tr>\n",
              "    <tr>\n",
              "      <th>679</th>\n",
              "      <td>112.0</td>\n",
              "      <td>0.030425</td>\n",
              "      <td>55.431</td>\n",
              "      <td>3.673544</td>\n",
              "      <td>0.647761</td>\n",
              "      <td>0.047976</td>\n",
              "      <td>0.889600</td>\n",
              "      <td>0.004191</td>\n",
              "      <td>0.009044</td>\n",
              "      <td>0.009926</td>\n",
              "    </tr>\n",
              "    <tr>\n",
              "      <th>680</th>\n",
              "      <td>78.0</td>\n",
              "      <td>0.032284</td>\n",
              "      <td>117.857</td>\n",
              "      <td>4.217684</td>\n",
              "      <td>0.710938</td>\n",
              "      <td>0.043178</td>\n",
              "      <td>0.909412</td>\n",
              "      <td>0.006773</td>\n",
              "      <td>0.005362</td>\n",
              "      <td>0.014110</td>\n",
              "    </tr>\n",
              "    <tr>\n",
              "      <th>681</th>\n",
              "      <td>281.0</td>\n",
              "      <td>0.024687</td>\n",
              "      <td>1469.574</td>\n",
              "      <td>3.240507</td>\n",
              "      <td>0.670702</td>\n",
              "      <td>0.054545</td>\n",
              "      <td>0.904288</td>\n",
              "      <td>0.008062</td>\n",
              "      <td>0.008834</td>\n",
              "      <td>0.013551</td>\n",
              "    </tr>\n",
              "  </tbody>\n",
              "</table>\n",
              "<p>660 rows × 10 columns</p>\n",
              "</div>\n",
              "      <button class=\"colab-df-convert\" onclick=\"convertToInteractive('df-4aa8d92e-bfb9-465e-9715-f20165fd1483')\"\n",
              "              title=\"Convert this dataframe to an interactive table.\"\n",
              "              style=\"display:none;\">\n",
              "        \n",
              "  <svg xmlns=\"http://www.w3.org/2000/svg\" height=\"24px\"viewBox=\"0 0 24 24\"\n",
              "       width=\"24px\">\n",
              "    <path d=\"M0 0h24v24H0V0z\" fill=\"none\"/>\n",
              "    <path d=\"M18.56 5.44l.94 2.06.94-2.06 2.06-.94-2.06-.94-.94-2.06-.94 2.06-2.06.94zm-11 1L8.5 8.5l.94-2.06 2.06-.94-2.06-.94L8.5 2.5l-.94 2.06-2.06.94zm10 10l.94 2.06.94-2.06 2.06-.94-2.06-.94-.94-2.06-.94 2.06-2.06.94z\"/><path d=\"M17.41 7.96l-1.37-1.37c-.4-.4-.92-.59-1.43-.59-.52 0-1.04.2-1.43.59L10.3 9.45l-7.72 7.72c-.78.78-.78 2.05 0 2.83L4 21.41c.39.39.9.59 1.41.59.51 0 1.02-.2 1.41-.59l7.78-7.78 2.81-2.81c.8-.78.8-2.07 0-2.86zM5.41 20L4 18.59l7.72-7.72 1.47 1.35L5.41 20z\"/>\n",
              "  </svg>\n",
              "      </button>\n",
              "      \n",
              "  <style>\n",
              "    .colab-df-container {\n",
              "      display:flex;\n",
              "      flex-wrap:wrap;\n",
              "      gap: 12px;\n",
              "    }\n",
              "\n",
              "    .colab-df-convert {\n",
              "      background-color: #E8F0FE;\n",
              "      border: none;\n",
              "      border-radius: 50%;\n",
              "      cursor: pointer;\n",
              "      display: none;\n",
              "      fill: #1967D2;\n",
              "      height: 32px;\n",
              "      padding: 0 0 0 0;\n",
              "      width: 32px;\n",
              "    }\n",
              "\n",
              "    .colab-df-convert:hover {\n",
              "      background-color: #E2EBFA;\n",
              "      box-shadow: 0px 1px 2px rgba(60, 64, 67, 0.3), 0px 1px 3px 1px rgba(60, 64, 67, 0.15);\n",
              "      fill: #174EA6;\n",
              "    }\n",
              "\n",
              "    [theme=dark] .colab-df-convert {\n",
              "      background-color: #3B4455;\n",
              "      fill: #D2E3FC;\n",
              "    }\n",
              "\n",
              "    [theme=dark] .colab-df-convert:hover {\n",
              "      background-color: #434B5C;\n",
              "      box-shadow: 0px 1px 3px 1px rgba(0, 0, 0, 0.15);\n",
              "      filter: drop-shadow(0px 1px 2px rgba(0, 0, 0, 0.3));\n",
              "      fill: #FFFFFF;\n",
              "    }\n",
              "  </style>\n",
              "\n",
              "      <script>\n",
              "        const buttonEl =\n",
              "          document.querySelector('#df-4aa8d92e-bfb9-465e-9715-f20165fd1483 button.colab-df-convert');\n",
              "        buttonEl.style.display =\n",
              "          google.colab.kernel.accessAllowed ? 'block' : 'none';\n",
              "\n",
              "        async function convertToInteractive(key) {\n",
              "          const element = document.querySelector('#df-4aa8d92e-bfb9-465e-9715-f20165fd1483');\n",
              "          const dataTable =\n",
              "            await google.colab.kernel.invokeFunction('convertToInteractive',\n",
              "                                                     [key], {});\n",
              "          if (!dataTable) return;\n",
              "\n",
              "          const docLinkHtml = 'Like what you see? Visit the ' +\n",
              "            '<a target=\"_blank\" href=https://colab.research.google.com/notebooks/data_table.ipynb>data table notebook</a>'\n",
              "            + ' to learn more about interactive tables.';\n",
              "          element.innerHTML = '';\n",
              "          dataTable['output_type'] = 'display_data';\n",
              "          await google.colab.output.renderOutput(dataTable, element);\n",
              "          const docLink = document.createElement('div');\n",
              "          docLink.innerHTML = docLinkHtml;\n",
              "          element.appendChild(docLink);\n",
              "        }\n",
              "      </script>\n",
              "    </div>\n",
              "  </div>\n",
              "  "
            ]
          },
          "metadata": {},
          "execution_count": 33
        }
      ]
    },
    {
      "cell_type": "code",
      "source": [
        "ipo_df_cont.boxplot(column = 'sales')"
      ],
      "metadata": {
        "colab": {
          "base_uri": "https://localhost:8080/",
          "height": 283
        },
        "id": "R6bUBf5Y0V16",
        "outputId": "92aa5545-82db-4c33-a676-929f7f867b8d"
      },
      "execution_count": null,
      "outputs": [
        {
          "output_type": "execute_result",
          "data": {
            "text/plain": [
              "<AxesSubplot:>"
            ]
          },
          "metadata": {},
          "execution_count": 34
        },
        {
          "output_type": "display_data",
          "data": {
            "text/plain": [
              "<Figure size 432x288 with 1 Axes>"
            ],
            "image/png": "[encoded data removed]"
          },
          "metadata": {
            "needs_background": "light"
          }
        }
      ]
    },
    {
      "cell_type": "code",
      "source": [
        "ipo_df_cont.boxplot(column = 'prior_nasdaq_15day_returns')"
      ],
      "metadata": {
        "colab": {
          "base_uri": "https://localhost:8080/",
          "height": 284
        },
        "id": "pZUki1wXH_Me",
        "outputId": "dba04af4-9858-431e-898a-dfb8d4ee9568"
      },
      "execution_count": null,
      "outputs": [
        {
          "output_type": "execute_result",
          "data": {
            "text/plain": [
              "<AxesSubplot:>"
            ]
          },
          "metadata": {},
          "execution_count": 35
        },
        {
          "output_type": "display_data",
          "data": {
            "text/plain": [
              "<Figure size 432x288 with 1 Axes>"
            ],
            "image/png": "[encoded data removed]"
          },
          "metadata": {
            "needs_background": "light"
          }
        }
      ]
    },
    {
      "cell_type": "code",
      "source": [
        "ipo_df_cont.boxplot(column = ['Share_Overhang', 'Up_Revision'])"
      ],
      "metadata": {
        "colab": {
          "base_uri": "https://localhost:8080/",
          "height": 284
        },
        "id": "edelrSJhzzZp",
        "outputId": "b4c358c8-ef34-4d7e-ed13-8b3ed78a30d9"
      },
      "execution_count": null,
      "outputs": [
        {
          "output_type": "execute_result",
          "data": {
            "text/plain": [
              "<AxesSubplot:>"
            ]
          },
          "metadata": {},
          "execution_count": 36
        },
        {
          "output_type": "display_data",
          "data": {
            "text/plain": [
              "<Figure size 432x288 with 1 Axes>"
            ],
            "image/png": "[encoded data removed]"
          },
          "metadata": {
            "needs_background": "light"
          }
        }
      ]
    },
    {
      "cell_type": "code",
      "source": [
        "ipo_df_cont.boxplot(column = ['T1_prime', 'T2_prime', 'T3_prime'])"
      ],
      "metadata": {
        "colab": {
          "base_uri": "https://localhost:8080/",
          "height": 284
        },
        "id": "n2QCSYTyzuy2",
        "outputId": "129603c1-4a8b-43fe-bc2c-524cb04d0b08"
      },
      "execution_count": null,
      "outputs": [
        {
          "output_type": "execute_result",
          "data": {
            "text/plain": [
              "<AxesSubplot:>"
            ]
          },
          "metadata": {},
          "execution_count": 37
        },
        {
          "output_type": "display_data",
          "data": {
            "text/plain": [
              "<Figure size 432x288 with 1 Axes>"
            ],
            "image/png": "[encoded data removed]"
          },
          "metadata": {
            "needs_background": "light"
          }
        }
      ]
    },
    {
      "cell_type": "code",
      "source": [
        "ipo_df_cont.boxplot(column = ['S1_prime', 'S2_prime', 'S3_prime'])"
      ],
      "metadata": {
        "colab": {
          "base_uri": "https://localhost:8080/",
          "height": 284
        },
        "id": "CpCUfDbMzH8_",
        "outputId": "ccae8a17-47bf-4a46-9a81-42f593ff62a1"
      },
      "execution_count": null,
      "outputs": [
        {
          "output_type": "execute_result",
          "data": {
            "text/plain": [
              "<AxesSubplot:>"
            ]
          },
          "metadata": {},
          "execution_count": 38
        },
        {
          "output_type": "display_data",
          "data": {
            "text/plain": [
              "<Figure size 432x288 with 1 Axes>"
            ],
            "image/png": "[encoded data removed]"
          },
          "metadata": {
            "needs_background": "light"
          }
        }
      ]
    },
    {
      "cell_type": "code",
      "source": [
        "ipo_df_cat = ipo_df.loc[:, ipo_df.columns[~ipo_df.columns.isin(num_cols)]]\n",
        "ipo_df_cat.head()"
      ],
      "metadata": {
        "colab": {
          "base_uri": "https://localhost:8080/",
          "height": 206
        },
        "id": "40DJ6Zchqlwn",
        "outputId": "db7e4047-a168-48a0-f9e6-d440eaea42c6"
      },
      "execution_count": null,
      "outputs": [
        {
          "output_type": "execute_result",
          "data": {
            "text/plain": [
              "  ticker                        company_name  std_industry_classifier  \\\n",
              "0   AATI  ADVANCED ANALOGIC TECHNOLOGIES INC                        1   \n",
              "1   ABPI     ACCENTIA BIOPHARMACEUTICALS INC                        1   \n",
              "2   ACAD          ACADIA PHARMACEUTICALS INC                        1   \n",
              "3   ACHN       ACHILLION PHARMACEUTICALS INC                        1   \n",
              "4   ACLI     AMERICAN COMMERCIAL LINES INC.                         3   \n",
              "\n",
              "   top_tier_dummy  Manufacturing  Services  Other  Pre_IPO_Price_Revision  \\\n",
              "0             1.0              1         0      0                       0   \n",
              "1             0.0              1         0      0                       1   \n",
              "2             1.0              1         0      0                       1   \n",
              "3             1.0              1         0      0                       1   \n",
              "4             1.0              0         0      1                       0   \n",
              "\n",
              "   Post_IPO_Initial_Return  Positive_EPS_Dummy  \n",
              "0                        1                   1  \n",
              "1                        0                   0  \n",
              "2                        0                   0  \n",
              "3                        1                   0  \n",
              "4                        1                   1  "
            ],
            "text/html": [
              "\n",
              "  <div id=\"df-e00cb682-74eb-46fa-b1ec-0d5a7dc95ea2\">\n",
              "    <div class=\"colab-df-container\">\n",
              "      <div>\n",
              "<style scoped>\n",
              "    .dataframe tbody tr th:only-of-type {\n",
              "        vertical-align: middle;\n",
              "    }\n",
              "\n",
              "    .dataframe tbody tr th {\n",
              "        vertical-align: top;\n",
              "    }\n",
              "\n",
              "    .dataframe thead th {\n",
              "        text-align: right;\n",
              "    }\n",
              "</style>\n",
              "<table border=\"1\" class=\"dataframe\">\n",
              "  <thead>\n",
              "    <tr style=\"text-align: right;\">\n",
              "      <th></th>\n",
              "      <th>ticker</th>\n",
              "      <th>company_name</th>\n",
              "      <th>std_industry_classifier</th>\n",
              "      <th>top_tier_dummy</th>\n",
              "      <th>Manufacturing</th>\n",
              "      <th>Services</th>\n",
              "      <th>Other</th>\n",
              "      <th>Pre_IPO_Price_Revision</th>\n",
              "      <th>Post_IPO_Initial_Return</th>\n",
              "      <th>Positive_EPS_Dummy</th>\n",
              "    </tr>\n",
              "  </thead>\n",
              "  <tbody>\n",
              "    <tr>\n",
              "      <th>0</th>\n",
              "      <td>AATI</td>\n",
              "      <td>ADVANCED ANALOGIC TECHNOLOGIES INC</td>\n",
              "      <td>1</td>\n",
              "      <td>1.0</td>\n",
              "      <td>1</td>\n",
              "      <td>0</td>\n",
              "      <td>0</td>\n",
              "      <td>0</td>\n",
              "      <td>1</td>\n",
              "      <td>1</td>\n",
              "    </tr>\n",
              "    <tr>\n",
              "      <th>1</th>\n",
              "      <td>ABPI</td>\n",
              "      <td>ACCENTIA BIOPHARMACEUTICALS INC</td>\n",
              "      <td>1</td>\n",
              "      <td>0.0</td>\n",
              "      <td>1</td>\n",
              "      <td>0</td>\n",
              "      <td>0</td>\n",
              "      <td>1</td>\n",
              "      <td>0</td>\n",
              "      <td>0</td>\n",
              "    </tr>\n",
              "    <tr>\n",
              "      <th>2</th>\n",
              "      <td>ACAD</td>\n",
              "      <td>ACADIA PHARMACEUTICALS INC</td>\n",
              "      <td>1</td>\n",
              "      <td>1.0</td>\n",
              "      <td>1</td>\n",
              "      <td>0</td>\n",
              "      <td>0</td>\n",
              "      <td>1</td>\n",
              "      <td>0</td>\n",
              "      <td>0</td>\n",
              "    </tr>\n",
              "    <tr>\n",
              "      <th>3</th>\n",
              "      <td>ACHN</td>\n",
              "      <td>ACHILLION PHARMACEUTICALS INC</td>\n",
              "      <td>1</td>\n",
              "      <td>1.0</td>\n",
              "      <td>1</td>\n",
              "      <td>0</td>\n",
              "      <td>0</td>\n",
              "      <td>1</td>\n",
              "      <td>1</td>\n",
              "      <td>0</td>\n",
              "    </tr>\n",
              "    <tr>\n",
              "      <th>4</th>\n",
              "      <td>ACLI</td>\n",
              "      <td>AMERICAN COMMERCIAL LINES INC.</td>\n",
              "      <td>3</td>\n",
              "      <td>1.0</td>\n",
              "      <td>0</td>\n",
              "      <td>0</td>\n",
              "      <td>1</td>\n",
              "      <td>0</td>\n",
              "      <td>1</td>\n",
              "      <td>1</td>\n",
              "    </tr>\n",
              "  </tbody>\n",
              "</table>\n",
              "</div>\n",
              "      <button class=\"colab-df-convert\" onclick=\"convertToInteractive('df-e00cb682-74eb-46fa-b1ec-0d5a7dc95ea2')\"\n",
              "              title=\"Convert this dataframe to an interactive table.\"\n",
              "              style=\"display:none;\">\n",
              "        \n",
              "  <svg xmlns=\"http://www.w3.org/2000/svg\" height=\"24px\"viewBox=\"0 0 24 24\"\n",
              "       width=\"24px\">\n",
              "    <path d=\"M0 0h24v24H0V0z\" fill=\"none\"/>\n",
              "    <path d=\"M18.56 5.44l.94 2.06.94-2.06 2.06-.94-2.06-.94-.94-2.06-.94 2.06-2.06.94zm-11 1L8.5 8.5l.94-2.06 2.06-.94-2.06-.94L8.5 2.5l-.94 2.06-2.06.94zm10 10l.94 2.06.94-2.06 2.06-.94-2.06-.94-.94-2.06-.94 2.06-2.06.94z\"/><path d=\"M17.41 7.96l-1.37-1.37c-.4-.4-.92-.59-1.43-.59-.52 0-1.04.2-1.43.59L10.3 9.45l-7.72 7.72c-.78.78-.78 2.05 0 2.83L4 21.41c.39.39.9.59 1.41.59.51 0 1.02-.2 1.41-.59l7.78-7.78 2.81-2.81c.8-.78.8-2.07 0-2.86zM5.41 20L4 18.59l7.72-7.72 1.47 1.35L5.41 20z\"/>\n",
              "  </svg>\n",
              "      </button>\n",
              "      \n",
              "  <style>\n",
              "    .colab-df-container {\n",
              "      display:flex;\n",
              "      flex-wrap:wrap;\n",
              "      gap: 12px;\n",
              "    }\n",
              "\n",
              "    .colab-df-convert {\n",
              "      background-color: #E8F0FE;\n",
              "      border: none;\n",
              "      border-radius: 50%;\n",
              "      cursor: pointer;\n",
              "      display: none;\n",
              "      fill: #1967D2;\n",
              "      height: 32px;\n",
              "      padding: 0 0 0 0;\n",
              "      width: 32px;\n",
              "    }\n",
              "\n",
              "    .colab-df-convert:hover {\n",
              "      background-color: #E2EBFA;\n",
              "      box-shadow: 0px 1px 2px rgba(60, 64, 67, 0.3), 0px 1px 3px 1px rgba(60, 64, 67, 0.15);\n",
              "      fill: #174EA6;\n",
              "    }\n",
              "\n",
              "    [theme=dark] .colab-df-convert {\n",
              "      background-color: #3B4455;\n",
              "      fill: #D2E3FC;\n",
              "    }\n",
              "\n",
              "    [theme=dark] .colab-df-convert:hover {\n",
              "      background-color: #434B5C;\n",
              "      box-shadow: 0px 1px 3px 1px rgba(0, 0, 0, 0.15);\n",
              "      filter: drop-shadow(0px 1px 2px rgba(0, 0, 0, 0.3));\n",
              "      fill: #FFFFFF;\n",
              "    }\n",
              "  </style>\n",
              "\n",
              "      <script>\n",
              "        const buttonEl =\n",
              "          document.querySelector('#df-e00cb682-74eb-46fa-b1ec-0d5a7dc95ea2 button.colab-df-convert');\n",
              "        buttonEl.style.display =\n",
              "          google.colab.kernel.accessAllowed ? 'block' : 'none';\n",
              "\n",
              "        async function convertToInteractive(key) {\n",
              "          const element = document.querySelector('#df-e00cb682-74eb-46fa-b1ec-0d5a7dc95ea2');\n",
              "          const dataTable =\n",
              "            await google.colab.kernel.invokeFunction('convertToInteractive',\n",
              "                                                     [key], {});\n",
              "          if (!dataTable) return;\n",
              "\n",
              "          const docLinkHtml = 'Like what you see? Visit the ' +\n",
              "            '<a target=\"_blank\" href=https://colab.research.google.com/notebooks/data_table.ipynb>data table notebook</a>'\n",
              "            + ' to learn more about interactive tables.';\n",
              "          element.innerHTML = '';\n",
              "          dataTable['output_type'] = 'display_data';\n",
              "          await google.colab.output.renderOutput(dataTable, element);\n",
              "          const docLink = document.createElement('div');\n",
              "          docLink.innerHTML = docLinkHtml;\n",
              "          element.appendChild(docLink);\n",
              "        }\n",
              "      </script>\n",
              "    </div>\n",
              "  </div>\n",
              "  "
            ]
          },
          "metadata": {},
          "execution_count": 39
        }
      ]
    },
    {
      "cell_type": "code",
      "source": [
        "ipo_df_cat.hist()"
      ],
      "metadata": {
        "colab": {
          "base_uri": "https://localhost:8080/",
          "height": 447
        },
        "id": "qg2D0T0nzAvi",
        "outputId": "3bec8299-01c3-4790-aca3-0c219462c1cd"
      },
      "execution_count": null,
      "outputs": [
        {
          "output_type": "execute_result",
          "data": {
            "text/plain": [
              "array([[<AxesSubplot:title={'center':'std_industry_classifier'}>,\n",
              "        <AxesSubplot:title={'center':'top_tier_dummy'}>,\n",
              "        <AxesSubplot:title={'center':'Manufacturing'}>],\n",
              "       [<AxesSubplot:title={'center':'Services'}>,\n",
              "        <AxesSubplot:title={'center':'Other'}>,\n",
              "        <AxesSubplot:title={'center':'Pre_IPO_Price_Revision'}>],\n",
              "       [<AxesSubplot:title={'center':'Post_IPO_Initial_Return'}>,\n",
              "        <AxesSubplot:title={'center':'Positive_EPS_Dummy'}>,\n",
              "        <AxesSubplot:>]], dtype=object)"
            ]
          },
          "metadata": {},
          "execution_count": 40
        },
        {
          "output_type": "display_data",
          "data": {
            "text/plain": [
              "<Figure size 432x288 with 9 Axes>"
            ],
            "image/png": "[encoded data removed]"
          },
          "metadata": {
            "needs_background": "light"
          }
        }
      ]
    },
    {
      "cell_type": "code",
      "source": [
        "ipo_df_target = ipo_df.loc[:, ['Pre_IPO_Price_Revision','Post_IPO_Initial_Return']]\n",
        "ipo_df_target.head()"
      ],
      "metadata": {
        "colab": {
          "base_uri": "https://localhost:8080/",
          "height": 206
        },
        "id": "JmML7onUt1Sf",
        "outputId": "25604b74-e163-4744-b02b-81d5fcc20cbf"
      },
      "execution_count": null,
      "outputs": [
        {
          "output_type": "execute_result",
          "data": {
            "text/plain": [
              "   Pre_IPO_Price_Revision  Post_IPO_Initial_Return\n",
              "0                       0                        1\n",
              "1                       1                        0\n",
              "2                       1                        0\n",
              "3                       1                        1\n",
              "4                       0                        1"
            ],
            "text/html": [
              "\n",
              "  <div id=\"df-151cc2c3-5f2a-4143-9877-207f79039e01\">\n",
              "    <div class=\"colab-df-container\">\n",
              "      <div>\n",
              "<style scoped>\n",
              "    .dataframe tbody tr th:only-of-type {\n",
              "        vertical-align: middle;\n",
              "    }\n",
              "\n",
              "    .dataframe tbody tr th {\n",
              "        vertical-align: top;\n",
              "    }\n",
              "\n",
              "    .dataframe thead th {\n",
              "        text-align: right;\n",
              "    }\n",
              "</style>\n",
              "<table border=\"1\" class=\"dataframe\">\n",
              "  <thead>\n",
              "    <tr style=\"text-align: right;\">\n",
              "      <th></th>\n",
              "      <th>Pre_IPO_Price_Revision</th>\n",
              "      <th>Post_IPO_Initial_Return</th>\n",
              "    </tr>\n",
              "  </thead>\n",
              "  <tbody>\n",
              "    <tr>\n",
              "      <th>0</th>\n",
              "      <td>0</td>\n",
              "      <td>1</td>\n",
              "    </tr>\n",
              "    <tr>\n",
              "      <th>1</th>\n",
              "      <td>1</td>\n",
              "      <td>0</td>\n",
              "    </tr>\n",
              "    <tr>\n",
              "      <th>2</th>\n",
              "      <td>1</td>\n",
              "      <td>0</td>\n",
              "    </tr>\n",
              "    <tr>\n",
              "      <th>3</th>\n",
              "      <td>1</td>\n",
              "      <td>1</td>\n",
              "    </tr>\n",
              "    <tr>\n",
              "      <th>4</th>\n",
              "      <td>0</td>\n",
              "      <td>1</td>\n",
              "    </tr>\n",
              "  </tbody>\n",
              "</table>\n",
              "</div>\n",
              "      <button class=\"colab-df-convert\" onclick=\"convertToInteractive('df-151cc2c3-5f2a-4143-9877-207f79039e01')\"\n",
              "              title=\"Convert this dataframe to an interactive table.\"\n",
              "              style=\"display:none;\">\n",
              "        \n",
              "  <svg xmlns=\"http://www.w3.org/2000/svg\" height=\"24px\"viewBox=\"0 0 24 24\"\n",
              "       width=\"24px\">\n",
              "    <path d=\"M0 0h24v24H0V0z\" fill=\"none\"/>\n",
              "    <path d=\"M18.56 5.44l.94 2.06.94-2.06 2.06-.94-2.06-.94-.94-2.06-.94 2.06-2.06.94zm-11 1L8.5 8.5l.94-2.06 2.06-.94-2.06-.94L8.5 2.5l-.94 2.06-2.06.94zm10 10l.94 2.06.94-2.06 2.06-.94-2.06-.94-.94-2.06-.94 2.06-2.06.94z\"/><path d=\"M17.41 7.96l-1.37-1.37c-.4-.4-.92-.59-1.43-.59-.52 0-1.04.2-1.43.59L10.3 9.45l-7.72 7.72c-.78.78-.78 2.05 0 2.83L4 21.41c.39.39.9.59 1.41.59.51 0 1.02-.2 1.41-.59l7.78-7.78 2.81-2.81c.8-.78.8-2.07 0-2.86zM5.41 20L4 18.59l7.72-7.72 1.47 1.35L5.41 20z\"/>\n",
              "  </svg>\n",
              "      </button>\n",
              "      \n",
              "  <style>\n",
              "    .colab-df-container {\n",
              "      display:flex;\n",
              "      flex-wrap:wrap;\n",
              "      gap: 12px;\n",
              "    }\n",
              "\n",
              "    .colab-df-convert {\n",
              "      background-color: #E8F0FE;\n",
              "      border: none;\n",
              "      border-radius: 50%;\n",
              "      cursor: pointer;\n",
              "      display: none;\n",
              "      fill: #1967D2;\n",
              "      height: 32px;\n",
              "      padding: 0 0 0 0;\n",
              "      width: 32px;\n",
              "    }\n",
              "\n",
              "    .colab-df-convert:hover {\n",
              "      background-color: #E2EBFA;\n",
              "      box-shadow: 0px 1px 2px rgba(60, 64, 67, 0.3), 0px 1px 3px 1px rgba(60, 64, 67, 0.15);\n",
              "      fill: #174EA6;\n",
              "    }\n",
              "\n",
              "    [theme=dark] .colab-df-convert {\n",
              "      background-color: #3B4455;\n",
              "      fill: #D2E3FC;\n",
              "    }\n",
              "\n",
              "    [theme=dark] .colab-df-convert:hover {\n",
              "      background-color: #434B5C;\n",
              "      box-shadow: 0px 1px 3px 1px rgba(0, 0, 0, 0.15);\n",
              "      filter: drop-shadow(0px 1px 2px rgba(0, 0, 0, 0.3));\n",
              "      fill: #FFFFFF;\n",
              "    }\n",
              "  </style>\n",
              "\n",
              "      <script>\n",
              "        const buttonEl =\n",
              "          document.querySelector('#df-151cc2c3-5f2a-4143-9877-207f79039e01 button.colab-df-convert');\n",
              "        buttonEl.style.display =\n",
              "          google.colab.kernel.accessAllowed ? 'block' : 'none';\n",
              "\n",
              "        async function convertToInteractive(key) {\n",
              "          const element = document.querySelector('#df-151cc2c3-5f2a-4143-9877-207f79039e01');\n",
              "          const dataTable =\n",
              "            await google.colab.kernel.invokeFunction('convertToInteractive',\n",
              "                                                     [key], {});\n",
              "          if (!dataTable) return;\n",
              "\n",
              "          const docLinkHtml = 'Like what you see? Visit the ' +\n",
              "            '<a target=\"_blank\" href=https://colab.research.google.com/notebooks/data_table.ipynb>data table notebook</a>'\n",
              "            + ' to learn more about interactive tables.';\n",
              "          element.innerHTML = '';\n",
              "          dataTable['output_type'] = 'display_data';\n",
              "          await google.colab.output.renderOutput(dataTable, element);\n",
              "          const docLink = document.createElement('div');\n",
              "          docLink.innerHTML = docLinkHtml;\n",
              "          element.appendChild(docLink);\n",
              "        }\n",
              "      </script>\n",
              "    </div>\n",
              "  </div>\n",
              "  "
            ]
          },
          "metadata": {},
          "execution_count": 41
        }
      ]
    },
    {
      "cell_type": "code",
      "source": [
        "ipo_df_target.boxplot(column = 'Pre_IPO_Price_Revision')"
      ],
      "metadata": {
        "colab": {
          "base_uri": "https://localhost:8080/",
          "height": 284
        },
        "id": "KhFclpKjIJ27",
        "outputId": "47efffb8-56c6-4ed2-b445-69837f2d1db5"
      },
      "execution_count": null,
      "outputs": [
        {
          "output_type": "execute_result",
          "data": {
            "text/plain": [
              "<AxesSubplot:>"
            ]
          },
          "metadata": {},
          "execution_count": 42
        },
        {
          "output_type": "display_data",
          "data": {
            "text/plain": [
              "<Figure size 432x288 with 1 Axes>"
            ],
            "image/png": "[encoded data removed]"
          },
          "metadata": {
            "needs_background": "light"
          }
        }
      ]
    },
    {
      "cell_type": "code",
      "source": [
        "ipo_df_target.boxplot(column = 'Post_IPO_Initial_Return')"
      ],
      "metadata": {
        "colab": {
          "base_uri": "https://localhost:8080/",
          "height": 284
        },
        "id": "eAgbhbYkIdGH",
        "outputId": "9239826a-ade3-437f-c59e-6cefa41da528"
      },
      "execution_count": null,
      "outputs": [
        {
          "output_type": "execute_result",
          "data": {
            "text/plain": [
              "<AxesSubplot:>"
            ]
          },
          "metadata": {},
          "execution_count": 43
        },
        {
          "output_type": "display_data",
          "data": {
            "text/plain": [
              "<Figure size 432x288 with 1 Axes>"
            ],
            "image/png": "[encoded data removed]"
          },
          "metadata": {
            "needs_background": "light"
          }
        }
      ]
    },
    {
      "cell_type": "code",
      "source": [
        "ipo_df_cat = ipo_df_cat.drop(['Pre_IPO_Price_Revision','Post_IPO_Initial_Return', 'ticker', 'company_name'], axis=1)\n",
        "ipo_df_cat.head()"
      ],
      "metadata": {
        "colab": {
          "base_uri": "https://localhost:8080/",
          "height": 206
        },
        "id": "6KGF179_uOM8",
        "outputId": "dd276754-827e-4b2d-9f0a-28b16b6b8baa"
      },
      "execution_count": null,
      "outputs": [
        {
          "output_type": "execute_result",
          "data": {
            "text/plain": [
              "   std_industry_classifier  top_tier_dummy  Manufacturing  Services  Other  \\\n",
              "0                        1             1.0              1         0      0   \n",
              "1                        1             0.0              1         0      0   \n",
              "2                        1             1.0              1         0      0   \n",
              "3                        1             1.0              1         0      0   \n",
              "4                        3             1.0              0         0      1   \n",
              "\n",
              "   Positive_EPS_Dummy  \n",
              "0                   1  \n",
              "1                   0  \n",
              "2                   0  \n",
              "3                   0  \n",
              "4                   1  "
            ],
            "text/html": [
              "\n",
              "  <div id=\"df-26210161-abce-4a40-9e1f-c60b20ebd59a\">\n",
              "    <div class=\"colab-df-container\">\n",
              "      <div>\n",
              "<style scoped>\n",
              "    .dataframe tbody tr th:only-of-type {\n",
              "        vertical-align: middle;\n",
              "    }\n",
              "\n",
              "    .dataframe tbody tr th {\n",
              "        vertical-align: top;\n",
              "    }\n",
              "\n",
              "    .dataframe thead th {\n",
              "        text-align: right;\n",
              "    }\n",
              "</style>\n",
              "<table border=\"1\" class=\"dataframe\">\n",
              "  <thead>\n",
              "    <tr style=\"text-align: right;\">\n",
              "      <th></th>\n",
              "      <th>std_industry_classifier</th>\n",
              "      <th>top_tier_dummy</th>\n",
              "      <th>Manufacturing</th>\n",
              "      <th>Services</th>\n",
              "      <th>Other</th>\n",
              "      <th>Positive_EPS_Dummy</th>\n",
              "    </tr>\n",
              "  </thead>\n",
              "  <tbody>\n",
              "    <tr>\n",
              "      <th>0</th>\n",
              "      <td>1</td>\n",
              "      <td>1.0</td>\n",
              "      <td>1</td>\n",
              "      <td>0</td>\n",
              "      <td>0</td>\n",
              "      <td>1</td>\n",
              "    </tr>\n",
              "    <tr>\n",
              "      <th>1</th>\n",
              "      <td>1</td>\n",
              "      <td>0.0</td>\n",
              "      <td>1</td>\n",
              "      <td>0</td>\n",
              "      <td>0</td>\n",
              "      <td>0</td>\n",
              "    </tr>\n",
              "    <tr>\n",
              "      <th>2</th>\n",
              "      <td>1</td>\n",
              "      <td>1.0</td>\n",
              "      <td>1</td>\n",
              "      <td>0</td>\n",
              "      <td>0</td>\n",
              "      <td>0</td>\n",
              "    </tr>\n",
              "    <tr>\n",
              "      <th>3</th>\n",
              "      <td>1</td>\n",
              "      <td>1.0</td>\n",
              "      <td>1</td>\n",
              "      <td>0</td>\n",
              "      <td>0</td>\n",
              "      <td>0</td>\n",
              "    </tr>\n",
              "    <tr>\n",
              "      <th>4</th>\n",
              "      <td>3</td>\n",
              "      <td>1.0</td>\n",
              "      <td>0</td>\n",
              "      <td>0</td>\n",
              "      <td>1</td>\n",
              "      <td>1</td>\n",
              "    </tr>\n",
              "  </tbody>\n",
              "</table>\n",
              "</div>\n",
              "      <button class=\"colab-df-convert\" onclick=\"convertToInteractive('df-26210161-abce-4a40-9e1f-c60b20ebd59a')\"\n",
              "              title=\"Convert this dataframe to an interactive table.\"\n",
              "              style=\"display:none;\">\n",
              "        \n",
              "  <svg xmlns=\"http://www.w3.org/2000/svg\" height=\"24px\"viewBox=\"0 0 24 24\"\n",
              "       width=\"24px\">\n",
              "    <path d=\"M0 0h24v24H0V0z\" fill=\"none\"/>\n",
              "    <path d=\"M18.56 5.44l.94 2.06.94-2.06 2.06-.94-2.06-.94-.94-2.06-.94 2.06-2.06.94zm-11 1L8.5 8.5l.94-2.06 2.06-.94-2.06-.94L8.5 2.5l-.94 2.06-2.06.94zm10 10l.94 2.06.94-2.06 2.06-.94-2.06-.94-.94-2.06-.94 2.06-2.06.94z\"/><path d=\"M17.41 7.96l-1.37-1.37c-.4-.4-.92-.59-1.43-.59-.52 0-1.04.2-1.43.59L10.3 9.45l-7.72 7.72c-.78.78-.78 2.05 0 2.83L4 21.41c.39.39.9.59 1.41.59.51 0 1.02-.2 1.41-.59l7.78-7.78 2.81-2.81c.8-.78.8-2.07 0-2.86zM5.41 20L4 18.59l7.72-7.72 1.47 1.35L5.41 20z\"/>\n",
              "  </svg>\n",
              "      </button>\n",
              "      \n",
              "  <style>\n",
              "    .colab-df-container {\n",
              "      display:flex;\n",
              "      flex-wrap:wrap;\n",
              "      gap: 12px;\n",
              "    }\n",
              "\n",
              "    .colab-df-convert {\n",
              "      background-color: #E8F0FE;\n",
              "      border: none;\n",
              "      border-radius: 50%;\n",
              "      cursor: pointer;\n",
              "      display: none;\n",
              "      fill: #1967D2;\n",
              "      height: 32px;\n",
              "      padding: 0 0 0 0;\n",
              "      width: 32px;\n",
              "    }\n",
              "\n",
              "    .colab-df-convert:hover {\n",
              "      background-color: #E2EBFA;\n",
              "      box-shadow: 0px 1px 2px rgba(60, 64, 67, 0.3), 0px 1px 3px 1px rgba(60, 64, 67, 0.15);\n",
              "      fill: #174EA6;\n",
              "    }\n",
              "\n",
              "    [theme=dark] .colab-df-convert {\n",
              "      background-color: #3B4455;\n",
              "      fill: #D2E3FC;\n",
              "    }\n",
              "\n",
              "    [theme=dark] .colab-df-convert:hover {\n",
              "      background-color: #434B5C;\n",
              "      box-shadow: 0px 1px 3px 1px rgba(0, 0, 0, 0.15);\n",
              "      filter: drop-shadow(0px 1px 2px rgba(0, 0, 0, 0.3));\n",
              "      fill: #FFFFFF;\n",
              "    }\n",
              "  </style>\n",
              "\n",
              "      <script>\n",
              "        const buttonEl =\n",
              "          document.querySelector('#df-26210161-abce-4a40-9e1f-c60b20ebd59a button.colab-df-convert');\n",
              "        buttonEl.style.display =\n",
              "          google.colab.kernel.accessAllowed ? 'block' : 'none';\n",
              "\n",
              "        async function convertToInteractive(key) {\n",
              "          const element = document.querySelector('#df-26210161-abce-4a40-9e1f-c60b20ebd59a');\n",
              "          const dataTable =\n",
              "            await google.colab.kernel.invokeFunction('convertToInteractive',\n",
              "                                                     [key], {});\n",
              "          if (!dataTable) return;\n",
              "\n",
              "          const docLinkHtml = 'Like what you see? Visit the ' +\n",
              "            '<a target=\"_blank\" href=https://colab.research.google.com/notebooks/data_table.ipynb>data table notebook</a>'\n",
              "            + ' to learn more about interactive tables.';\n",
              "          element.innerHTML = '';\n",
              "          dataTable['output_type'] = 'display_data';\n",
              "          await google.colab.output.renderOutput(dataTable, element);\n",
              "          const docLink = document.createElement('div');\n",
              "          docLink.innerHTML = docLinkHtml;\n",
              "          element.appendChild(docLink);\n",
              "        }\n",
              "      </script>\n",
              "    </div>\n",
              "  </div>\n",
              "  "
            ]
          },
          "metadata": {},
          "execution_count": 44
        }
      ]
    },
    {
      "cell_type": "markdown",
      "source": [
        "# Process Work 3A\n",
        "1. IQR\n",
        "2. Left Skewed/Right Skewed\n",
        "2. Z-score"
      ],
      "metadata": {
        "id": "2rvFqqxA6byd"
      }
    },
    {
      "cell_type": "code",
      "source": [
        "def iqr(df):\n",
        "    for col in df.columns:\n",
        "        Q1 = df[col].quantile(0.25)\n",
        "        Q3 = df[col].quantile(0.75)\n",
        "        IQR = Q3 - Q1\n",
        "        S = 1.5*IQR\n",
        "        LB = Q1 - S\n",
        "        UB = Q3 + S\n",
        "        df.loc[df[col] > UB,col] = UB\n",
        "        df.loc[df[col] < LB,col] = LB\n",
        "        print(IQR)\n",
        "    return df\n",
        "\n",
        "iqr = iqr(ipo_df_cont)"
      ],
      "metadata": {
        "id": "1Hfd8D7o_SGw",
        "colab": {
          "base_uri": "https://localhost:8080/"
        },
        "outputId": "12184746-2820-46b2-c969-e813e7202d66"
      },
      "execution_count": null,
      "outputs": [
        {
          "output_type": "stream",
          "name": "stdout",
          "text": [
            "70.25\n",
            "0.045497759459585375\n",
            "259.30600000000004\n",
            "2.0072816467802106\n",
            "7.6923076923076925\n",
            "0.09413142722907841\n",
            "0.008927834879127343\n",
            "0.026275949727473935\n",
            "0.0021222036137135214\n",
            "0.0035551764241401043\n",
            "0.0032689900306991197\n"
          ]
        }
      ]
    },
    {
      "cell_type": "code",
      "source": [
        "### left-skewed \n",
        "  ### mean < median \n",
        "### right-skewed\n",
        "  ### mean > median\n",
        "def skew(df):\n",
        "  for col in df:\n",
        "    if df[col].mean() > df[col].median():\n",
        "      print(col,': right-skewed')\n",
        "    else:\n",
        "      print(col,': left-skewed')\n",
        "\n",
        "left_right = skew(ipo_df_cont)"
      ],
      "metadata": {
        "id": "0WOcZ83b6kOR",
        "outputId": "7d234b08-d628-45c6-e6cb-dc9f222368a9",
        "colab": {
          "base_uri": "https://localhost:8080/"
        }
      },
      "execution_count": null,
      "outputs": [
        {
          "output_type": "stream",
          "name": "stdout",
          "text": [
            "days : right-skewed\n",
            "prior_nasdaq_15day_returns : left-skewed\n",
            "sales : right-skewed\n",
            "Share_Overhang : right-skewed\n",
            "Up_Revision : right-skewed\n",
            "T1_prime : left-skewed\n",
            "T2_prime : right-skewed\n",
            "T3_prime : left-skewed\n",
            "S1_prime : right-skewed\n",
            "S2_prime : right-skewed\n",
            "S3_prime : right-skewed\n"
          ]
        }
      ]
    },
    {
      "cell_type": "code",
      "source": [
        "### z-score\n",
        "  ### (value-mean)/std\n",
        "\n",
        "def zscore(df):\n",
        "  for col in df:\n",
        "    eq = (df[col]-df[col].mean())/df[col].std()\n",
        "    print(eq)\n",
        "\n",
        "z_score = zscore(ipo_df_cont)\n",
        "z_score"
      ],
      "metadata": {
        "id": "6lOlLWA86zpR",
        "colab": {
          "base_uri": "https://localhost:8080/"
        },
        "outputId": "68b53495-3c36-49b1-c265-4b128e7a81cf"
      },
      "execution_count": null,
      "outputs": [
        {
          "output_type": "stream",
          "name": "stdout",
          "text": [
            "0     -0.076635\n",
            "1      2.060825\n",
            "2     -0.575896\n",
            "3      1.280730\n",
            "4     -0.731915\n",
            "         ...   \n",
            "677    2.086178\n",
            "678   -0.451081\n",
            "679   -0.232655\n",
            "680   -0.763119\n",
            "681    2.086178\n",
            "Name: days, Length: 660, dtype: float64\n",
            "0      0.660653\n",
            "1     -0.634511\n",
            "2      0.405464\n",
            "3      0.384343\n",
            "4     -1.292171\n",
            "         ...   \n",
            "677   -0.084364\n",
            "678    1.564718\n",
            "679    0.701897\n",
            "680    0.758648\n",
            "681    0.526731\n",
            "Name: prior_nasdaq_15day_returns, Length: 660, dtype: float64\n",
            "0     -0.686787\n",
            "1     -0.796227\n",
            "2     -0.876160\n",
            "3     -0.871215\n",
            "4      1.815471\n",
            "         ...   \n",
            "677   -0.106371\n",
            "678   -0.798273\n",
            "679   -0.669188\n",
            "680   -0.400309\n",
            "681    2.062810\n",
            "Name: sales, Length: 660, dtype: float64\n",
            "0     -0.088266\n",
            "1      2.341657\n",
            "2     -0.388761\n",
            "3     -0.430895\n",
            "4     -0.172051\n",
            "         ...   \n",
            "677   -0.027873\n",
            "678    0.406508\n",
            "679   -0.204044\n",
            "680    0.126140\n",
            "681   -0.466811\n",
            "Name: Share_Overhang, Length: 660, dtype: float64\n",
            "0      1.049105\n",
            "1     -0.678520\n",
            "2     -0.678520\n",
            "3     -0.678520\n",
            "4      0.098911\n",
            "         ...   \n",
            "677    2.311599\n",
            "678   -0.678520\n",
            "679   -0.678520\n",
            "680    2.236846\n",
            "681    0.358055\n",
            "Name: Up_Revision, Length: 660, dtype: float64\n",
            "0      0.175415\n",
            "1      0.237312\n",
            "2      0.123791\n",
            "3     -1.266068\n",
            "4     -0.582757\n",
            "         ...   \n",
            "677   -0.221636\n",
            "678    0.271978\n",
            "679    0.280327\n",
            "680    1.183852\n",
            "681    0.608421\n",
            "Name: T1_prime, Length: 660, dtype: float64\n",
            "0      0.302687\n",
            "1     -0.117925\n",
            "2      1.409869\n",
            "3      1.390147\n",
            "4     -0.537098\n",
            "         ...   \n",
            "677   -0.234686\n",
            "678    0.674139\n",
            "679   -0.621684\n",
            "680   -1.328740\n",
            "681    0.346289\n",
            "Name: T2_prime, Length: 660, dtype: float64\n",
            "0      0.655653\n",
            "1      0.193261\n",
            "2      0.677222\n",
            "3      1.028388\n",
            "4     -0.273813\n",
            "         ...   \n",
            "677    1.205653\n",
            "678    0.534996\n",
            "679   -0.222331\n",
            "680    0.680025\n",
            "681    0.446673\n",
            "Name: T3_prime, Length: 660, dtype: float64\n",
            "0     -0.250151\n",
            "1     -1.228539\n",
            "2      2.512834\n",
            "3      2.512834\n",
            "4     -0.466058\n",
            "         ...   \n",
            "677    0.741156\n",
            "678   -0.132617\n",
            "679   -0.663880\n",
            "680    0.898823\n",
            "681    1.678851\n",
            "Name: S1_prime, Length: 660, dtype: float64\n",
            "0      0.080530\n",
            "1      0.773970\n",
            "2     -0.984447\n",
            "3     -0.667098\n",
            "4      0.389157\n",
            "         ...   \n",
            "677   -0.379340\n",
            "678    0.053242\n",
            "679    0.024124\n",
            "680   -1.315295\n",
            "681   -0.052332\n",
            "Name: S2_prime, Length: 660, dtype: float64\n",
            "0     -0.196850\n",
            "1     -0.217837\n",
            "2     -0.009100\n",
            "3      0.749980\n",
            "4     -0.065171\n",
            "         ...   \n",
            "677    0.603918\n",
            "678    0.436393\n",
            "679   -0.593930\n",
            "680    1.063523\n",
            "681    0.841798\n",
            "Name: S3_prime, Length: 660, dtype: float64\n"
          ]
        }
      ]
    },
    {
      "cell_type": "code",
      "source": [
        "###Min-max normalization is a technique used to transform data values into a range between 0 and 1\n",
        "\n",
        "from sklearn.preprocessing import MinMaxScaler\n",
        "\n",
        "def minmax(df):\n",
        "    num_cols = [col for col in df if df[col].dtype != object]\n",
        "    #df = df[num_cols].replace([np.inf, -np.inf], np.nan).dropna(axis=1)\n",
        "    # create scaler\n",
        "    scaler = MinMaxScaler()\n",
        "    df_scaled = scaler.fit_transform(df)\n",
        "    df_scaled = pd.DataFrame(df_scaled, columns=df.columns)\n",
        "    return df_scaled\n",
        "\n",
        "min_max = minmax(ipo_df_cont)\n",
        "min_max"
      ],
      "metadata": {
        "id": "QZhEy300G1Fu",
        "colab": {
          "base_uri": "https://localhost:8080/",
          "height": 423
        },
        "outputId": "7e95d8b5-1629-42ba-bf5b-a0bb8f0d27df"
      },
      "execution_count": null,
      "outputs": [
        {
          "output_type": "execute_result",
          "data": {
            "text/plain": [
              "         days  prior_nasdaq_15day_returns     sales  Share_Overhang  \\\n",
              "0    0.446883                    0.635450  0.074344        0.472094   \n",
              "1    0.993516                    0.393113  0.037500        1.000000   \n",
              "2    0.319202                    0.587702  0.010591        0.406811   \n",
              "3    0.794015                    0.583750  0.012256        0.397658   \n",
              "4    0.279302                    0.270058  0.916733        0.453892   \n",
              "..        ...                         ...       ...             ...   \n",
              "655  1.000000                    0.496050  0.269742        0.485215   \n",
              "656  0.351122                    0.804609  0.036811        0.579585   \n",
              "657  0.406983                    0.643167  0.080268        0.446942   \n",
              "658  0.271322                    0.653786  0.170787        0.518675   \n",
              "659  1.000000                    0.610392  1.000000        0.389855   \n",
              "\n",
              "     Up_Revision  T1_prime  T2_prime  T3_prime  S1_prime  S2_prime  S3_prime  \n",
              "0       0.577778  0.534607  0.562279  0.617232  0.417518  0.514293  0.450884  \n",
              "1       0.000000  0.546102  0.482346  0.520640  0.211258  0.653417  0.446620  \n",
              "2       0.000000  0.525021  0.772690  0.621738  1.000000  0.300628  0.489029  \n",
              "3       0.000000  0.266919  0.768942  0.695095  1.000000  0.364297  0.643249  \n",
              "4       0.260000  0.393812  0.402686  0.423070  0.372002  0.576213  0.477637  \n",
              "..           ...       ...       ...       ...       ...       ...       ...  \n",
              "655     1.000000  0.460874  0.460156  0.732125  0.626502  0.422030  0.613574  \n",
              "656     0.000000  0.552539  0.632871  0.592028  0.442297  0.508818  0.579538  \n",
              "657     0.000000  0.554090  0.386611  0.433825  0.330298  0.502977  0.370210  \n",
              "658     0.975000  0.721877  0.252241  0.622324  0.659741  0.234251  0.706950  \n",
              "659     0.346667  0.615018  0.570566  0.573577  0.824183  0.487637  0.661903  \n",
              "\n",
              "[660 rows x 11 columns]"
            ],
            "text/html": [
              "\n",
              "  <div id=\"df-6f238476-10b9-4daa-87aa-56813b3c2e0a\">\n",
              "    <div class=\"colab-df-container\">\n",
              "      <div>\n",
              "<style scoped>\n",
              "    .dataframe tbody tr th:only-of-type {\n",
              "        vertical-align: middle;\n",
              "    }\n",
              "\n",
              "    .dataframe tbody tr th {\n",
              "        vertical-align: top;\n",
              "    }\n",
              "\n",
              "    .dataframe thead th {\n",
              "        text-align: right;\n",
              "    }\n",
              "</style>\n",
              "<table border=\"1\" class=\"dataframe\">\n",
              "  <thead>\n",
              "    <tr style=\"text-align: right;\">\n",
              "      <th></th>\n",
              "      <th>days</th>\n",
              "      <th>prior_nasdaq_15day_returns</th>\n",
              "      <th>sales</th>\n",
              "      <th>Share_Overhang</th>\n",
              "      <th>Up_Revision</th>\n",
              "      <th>T1_prime</th>\n",
              "      <th>T2_prime</th>\n",
              "      <th>T3_prime</th>\n",
              "      <th>S1_prime</th>\n",
              "      <th>S2_prime</th>\n",
              "      <th>S3_prime</th>\n",
              "    </tr>\n",
              "  </thead>\n",
              "  <tbody>\n",
              "    <tr>\n",
              "      <th>0</th>\n",
              "      <td>0.446883</td>\n",
              "      <td>0.635450</td>\n",
              "      <td>0.074344</td>\n",
              "      <td>0.472094</td>\n",
              "      <td>0.577778</td>\n",
              "      <td>0.534607</td>\n",
              "      <td>0.562279</td>\n",
              "      <td>0.617232</td>\n",
              "      <td>0.417518</td>\n",
              "      <td>0.514293</td>\n",
              "      <td>0.450884</td>\n",
              "    </tr>\n",
              "    <tr>\n",
              "      <th>1</th>\n",
              "      <td>0.993516</td>\n",
              "      <td>0.393113</td>\n",
              "      <td>0.037500</td>\n",
              "      <td>1.000000</td>\n",
              "      <td>0.000000</td>\n",
              "      <td>0.546102</td>\n",
              "      <td>0.482346</td>\n",
              "      <td>0.520640</td>\n",
              "      <td>0.211258</td>\n",
              "      <td>0.653417</td>\n",
              "      <td>0.446620</td>\n",
              "    </tr>\n",
              "    <tr>\n",
              "      <th>2</th>\n",
              "      <td>0.319202</td>\n",
              "      <td>0.587702</td>\n",
              "      <td>0.010591</td>\n",
              "      <td>0.406811</td>\n",
              "      <td>0.000000</td>\n",
              "      <td>0.525021</td>\n",
              "      <td>0.772690</td>\n",
              "      <td>0.621738</td>\n",
              "      <td>1.000000</td>\n",
              "      <td>0.300628</td>\n",
              "      <td>0.489029</td>\n",
              "    </tr>\n",
              "    <tr>\n",
              "      <th>3</th>\n",
              "      <td>0.794015</td>\n",
              "      <td>0.583750</td>\n",
              "      <td>0.012256</td>\n",
              "      <td>0.397658</td>\n",
              "      <td>0.000000</td>\n",
              "      <td>0.266919</td>\n",
              "      <td>0.768942</td>\n",
              "      <td>0.695095</td>\n",
              "      <td>1.000000</td>\n",
              "      <td>0.364297</td>\n",
              "      <td>0.643249</td>\n",
              "    </tr>\n",
              "    <tr>\n",
              "      <th>4</th>\n",
              "      <td>0.279302</td>\n",
              "      <td>0.270058</td>\n",
              "      <td>0.916733</td>\n",
              "      <td>0.453892</td>\n",
              "      <td>0.260000</td>\n",
              "      <td>0.393812</td>\n",
              "      <td>0.402686</td>\n",
              "      <td>0.423070</td>\n",
              "      <td>0.372002</td>\n",
              "      <td>0.576213</td>\n",
              "      <td>0.477637</td>\n",
              "    </tr>\n",
              "    <tr>\n",
              "      <th>...</th>\n",
              "      <td>...</td>\n",
              "      <td>...</td>\n",
              "      <td>...</td>\n",
              "      <td>...</td>\n",
              "      <td>...</td>\n",
              "      <td>...</td>\n",
              "      <td>...</td>\n",
              "      <td>...</td>\n",
              "      <td>...</td>\n",
              "      <td>...</td>\n",
              "      <td>...</td>\n",
              "    </tr>\n",
              "    <tr>\n",
              "      <th>655</th>\n",
              "      <td>1.000000</td>\n",
              "      <td>0.496050</td>\n",
              "      <td>0.269742</td>\n",
              "      <td>0.485215</td>\n",
              "      <td>1.000000</td>\n",
              "      <td>0.460874</td>\n",
              "      <td>0.460156</td>\n",
              "      <td>0.732125</td>\n",
              "      <td>0.626502</td>\n",
              "      <td>0.422030</td>\n",
              "      <td>0.613574</td>\n",
              "    </tr>\n",
              "    <tr>\n",
              "      <th>656</th>\n",
              "      <td>0.351122</td>\n",
              "      <td>0.804609</td>\n",
              "      <td>0.036811</td>\n",
              "      <td>0.579585</td>\n",
              "      <td>0.000000</td>\n",
              "      <td>0.552539</td>\n",
              "      <td>0.632871</td>\n",
              "      <td>0.592028</td>\n",
              "      <td>0.442297</td>\n",
              "      <td>0.508818</td>\n",
              "      <td>0.579538</td>\n",
              "    </tr>\n",
              "    <tr>\n",
              "      <th>657</th>\n",
              "      <td>0.406983</td>\n",
              "      <td>0.643167</td>\n",
              "      <td>0.080268</td>\n",
              "      <td>0.446942</td>\n",
              "      <td>0.000000</td>\n",
              "      <td>0.554090</td>\n",
              "      <td>0.386611</td>\n",
              "      <td>0.433825</td>\n",
              "      <td>0.330298</td>\n",
              "      <td>0.502977</td>\n",
              "      <td>0.370210</td>\n",
              "    </tr>\n",
              "    <tr>\n",
              "      <th>658</th>\n",
              "      <td>0.271322</td>\n",
              "      <td>0.653786</td>\n",
              "      <td>0.170787</td>\n",
              "      <td>0.518675</td>\n",
              "      <td>0.975000</td>\n",
              "      <td>0.721877</td>\n",
              "      <td>0.252241</td>\n",
              "      <td>0.622324</td>\n",
              "      <td>0.659741</td>\n",
              "      <td>0.234251</td>\n",
              "      <td>0.706950</td>\n",
              "    </tr>\n",
              "    <tr>\n",
              "      <th>659</th>\n",
              "      <td>1.000000</td>\n",
              "      <td>0.610392</td>\n",
              "      <td>1.000000</td>\n",
              "      <td>0.389855</td>\n",
              "      <td>0.346667</td>\n",
              "      <td>0.615018</td>\n",
              "      <td>0.570566</td>\n",
              "      <td>0.573577</td>\n",
              "      <td>0.824183</td>\n",
              "      <td>0.487637</td>\n",
              "      <td>0.661903</td>\n",
              "    </tr>\n",
              "  </tbody>\n",
              "</table>\n",
              "<p>660 rows × 11 columns</p>\n",
              "</div>\n",
              "      <button class=\"colab-df-convert\" onclick=\"convertToInteractive('df-6f238476-10b9-4daa-87aa-56813b3c2e0a')\"\n",
              "              title=\"Convert this dataframe to an interactive table.\"\n",
              "              style=\"display:none;\">\n",
              "        \n",
              "  <svg xmlns=\"http://www.w3.org/2000/svg\" height=\"24px\"viewBox=\"0 0 24 24\"\n",
              "       width=\"24px\">\n",
              "    <path d=\"M0 0h24v24H0V0z\" fill=\"none\"/>\n",
              "    <path d=\"M18.56 5.44l.94 2.06.94-2.06 2.06-.94-2.06-.94-.94-2.06-.94 2.06-2.06.94zm-11 1L8.5 8.5l.94-2.06 2.06-.94-2.06-.94L8.5 2.5l-.94 2.06-2.06.94zm10 10l.94 2.06.94-2.06 2.06-.94-2.06-.94-.94-2.06-.94 2.06-2.06.94z\"/><path d=\"M17.41 7.96l-1.37-1.37c-.4-.4-.92-.59-1.43-.59-.52 0-1.04.2-1.43.59L10.3 9.45l-7.72 7.72c-.78.78-.78 2.05 0 2.83L4 21.41c.39.39.9.59 1.41.59.51 0 1.02-.2 1.41-.59l7.78-7.78 2.81-2.81c.8-.78.8-2.07 0-2.86zM5.41 20L4 18.59l7.72-7.72 1.47 1.35L5.41 20z\"/>\n",
              "  </svg>\n",
              "      </button>\n",
              "      \n",
              "  <style>\n",
              "    .colab-df-container {\n",
              "      display:flex;\n",
              "      flex-wrap:wrap;\n",
              "      gap: 12px;\n",
              "    }\n",
              "\n",
              "    .colab-df-convert {\n",
              "      background-color: #E8F0FE;\n",
              "      border: none;\n",
              "      border-radius: 50%;\n",
              "      cursor: pointer;\n",
              "      display: none;\n",
              "      fill: #1967D2;\n",
              "      height: 32px;\n",
              "      padding: 0 0 0 0;\n",
              "      width: 32px;\n",
              "    }\n",
              "\n",
              "    .colab-df-convert:hover {\n",
              "      background-color: #E2EBFA;\n",
              "      box-shadow: 0px 1px 2px rgba(60, 64, 67, 0.3), 0px 1px 3px 1px rgba(60, 64, 67, 0.15);\n",
              "      fill: #174EA6;\n",
              "    }\n",
              "\n",
              "    [theme=dark] .colab-df-convert {\n",
              "      background-color: #3B4455;\n",
              "      fill: #D2E3FC;\n",
              "    }\n",
              "\n",
              "    [theme=dark] .colab-df-convert:hover {\n",
              "      background-color: #434B5C;\n",
              "      box-shadow: 0px 1px 3px 1px rgba(0, 0, 0, 0.15);\n",
              "      filter: drop-shadow(0px 1px 2px rgba(0, 0, 0, 0.3));\n",
              "      fill: #FFFFFF;\n",
              "    }\n",
              "  </style>\n",
              "\n",
              "      <script>\n",
              "        const buttonEl =\n",
              "          document.querySelector('#df-6f238476-10b9-4daa-87aa-56813b3c2e0a button.colab-df-convert');\n",
              "        buttonEl.style.display =\n",
              "          google.colab.kernel.accessAllowed ? 'block' : 'none';\n",
              "\n",
              "        async function convertToInteractive(key) {\n",
              "          const element = document.querySelector('#df-6f238476-10b9-4daa-87aa-56813b3c2e0a');\n",
              "          const dataTable =\n",
              "            await google.colab.kernel.invokeFunction('convertToInteractive',\n",
              "                                                     [key], {});\n",
              "          if (!dataTable) return;\n",
              "\n",
              "          const docLinkHtml = 'Like what you see? Visit the ' +\n",
              "            '<a target=\"_blank\" href=https://colab.research.google.com/notebooks/data_table.ipynb>data table notebook</a>'\n",
              "            + ' to learn more about interactive tables.';\n",
              "          element.innerHTML = '';\n",
              "          dataTable['output_type'] = 'display_data';\n",
              "          await google.colab.output.renderOutput(dataTable, element);\n",
              "          const docLink = document.createElement('div');\n",
              "          docLink.innerHTML = docLinkHtml;\n",
              "          element.appendChild(docLink);\n",
              "        }\n",
              "      </script>\n",
              "    </div>\n",
              "  </div>\n",
              "  "
            ]
          },
          "metadata": {},
          "execution_count": 48
        }
      ]
    },
    {
      "cell_type": "markdown",
      "source": [
        "# Skewness Transformation and Post Graphs"
      ],
      "metadata": {
        "id": "2udLdrPhJ_3h"
      }
    },
    {
      "cell_type": "code",
      "source": [
        "# save this as a new variable \n",
        "pt = PowerTransformer()\n",
        "skew_cont = pt.fit_transform(ipo_df_cont)\n",
        "skew_cont"
      ],
      "metadata": {
        "id": "HEwznsMYIhKD",
        "colab": {
          "base_uri": "https://localhost:8080/"
        },
        "outputId": "b9cd2ff6-afe8-4ef2-fe84-8ee4d6d37413"
      },
      "execution_count": null,
      "outputs": [
        {
          "output_type": "execute_result",
          "data": {
            "text/plain": [
              "array([[ 0.0751656 ,  0.63452193, -0.54397101, ..., -0.15015278,\n",
              "         0.22031437, -0.11830048],\n",
              "       [ 1.78457188, -0.67774386, -0.92284592, ..., -1.35843738,\n",
              "         0.86793412, -0.14051452],\n",
              "       [-0.48264754,  0.35925121, -1.47258382, ...,  2.08689537,\n",
              "        -1.04773943,  0.07688852],\n",
              "       ...,\n",
              "       [-0.08856698,  0.67981338, -0.49766435, ..., -0.6275518 ,\n",
              "         0.16203007, -0.55255537],\n",
              "       [-0.7224394 ,  0.74250187,  0.00329729, ...,  0.95708529,\n",
              "        -1.52331258,  1.07856781],\n",
              "       [ 1.80102407,  0.48900103,  1.55253744, ...,  1.55616882,\n",
              "         0.08157676,  0.88640415]])"
            ]
          },
          "metadata": {},
          "execution_count": 49
        }
      ]
    },
    {
      "cell_type": "markdown",
      "source": [
        "***For the `.skew()` method, if:***\n",
        "\n",
        "-**If the skewness is between -0.5 and 0.5, the data are fairly symmetrical;**\n",
        "\n",
        "\n",
        "**- If the skewness is between -1 and — 0.5 or between 0.5 and 1, the data are** **moderately skewed**\n",
        "\n",
        "\n",
        "**-If the skewness is less than -1 or greater than 1, the data are highly skewed**"
      ],
      "metadata": {
        "id": "I-GFwnisxNnE"
      }
    },
    {
      "cell_type": "code",
      "source": [
        "ipo_df_cont.skew()"
      ],
      "metadata": {
        "colab": {
          "base_uri": "https://localhost:8080/"
        },
        "id": "RZlw63szw2Cq",
        "outputId": "48464e2d-bd1a-4b32-aad2-751742f4c915"
      },
      "execution_count": null,
      "outputs": [
        {
          "output_type": "execute_result",
          "data": {
            "text/plain": [
              "days                          0.836620\n",
              "prior_nasdaq_15day_returns   -0.314465\n",
              "sales                         1.177072\n",
              "Share_Overhang                0.724354\n",
              "Up_Revision                   1.201653\n",
              "T1_prime                     -0.073967\n",
              "T2_prime                      0.108610\n",
              "T3_prime                     -0.545971\n",
              "S1_prime                      0.611473\n",
              "S2_prime                      0.694781\n",
              "S3_prime                      0.480411\n",
              "dtype: float64"
            ]
          },
          "metadata": {},
          "execution_count": 50
        }
      ]
    },
    {
      "cell_type": "code",
      "source": [
        "ipo_df_cont.boxplot(column = 'sales')"
      ],
      "metadata": {
        "colab": {
          "base_uri": "https://localhost:8080/",
          "height": 283
        },
        "id": "qaOi4aPs0OzE",
        "outputId": "cc25092f-eca3-4ec2-b3b1-3947691fbec3"
      },
      "execution_count": null,
      "outputs": [
        {
          "output_type": "execute_result",
          "data": {
            "text/plain": [
              "<AxesSubplot:>"
            ]
          },
          "metadata": {},
          "execution_count": 51
        },
        {
          "output_type": "display_data",
          "data": {
            "text/plain": [
              "<Figure size 432x288 with 1 Axes>"
            ],
            "image/png": "[encoded data removed]"
          },
          "metadata": {
            "needs_background": "light"
          }
        }
      ]
    },
    {
      "cell_type": "code",
      "source": [
        "ipo_df_cont.boxplot(column = 'prior_nasdaq_15day_returns')"
      ],
      "metadata": {
        "colab": {
          "base_uri": "https://localhost:8080/",
          "height": 286
        },
        "id": "0xMXFi36I4gx",
        "outputId": "d3098ec7-7ab6-4900-be42-61307960cd58"
      },
      "execution_count": null,
      "outputs": [
        {
          "output_type": "execute_result",
          "data": {
            "text/plain": [
              "<AxesSubplot:>"
            ]
          },
          "metadata": {},
          "execution_count": 52
        },
        {
          "output_type": "display_data",
          "data": {
            "text/plain": [
              "<Figure size 432x288 with 1 Axes>"
            ],
            "image/png": "[encoded data removed]"
          },
          "metadata": {
            "needs_background": "light"
          }
        }
      ]
    },
    {
      "cell_type": "code",
      "source": [
        "ipo_df_cont.boxplot(column = [ 'Share_Overhang', 'Up_Revision'])"
      ],
      "metadata": {
        "colab": {
          "base_uri": "https://localhost:8080/",
          "height": 286
        },
        "id": "a-8Fcxwo0FEe",
        "outputId": "3da24faf-07ac-4af3-e6db-5fc65dd7a354"
      },
      "execution_count": null,
      "outputs": [
        {
          "output_type": "execute_result",
          "data": {
            "text/plain": [
              "<AxesSubplot:>"
            ]
          },
          "metadata": {},
          "execution_count": 53
        },
        {
          "output_type": "display_data",
          "data": {
            "text/plain": [
              "<Figure size 432x288 with 1 Axes>"
            ],
            "image/png": "[encoded data removed]"
          },
          "metadata": {
            "needs_background": "light"
          }
        }
      ]
    },
    {
      "cell_type": "code",
      "source": [
        "ipo_df_cont.boxplot(column = ['T1_prime', 'T2_prime', 'T3_prime'])"
      ],
      "metadata": {
        "colab": {
          "base_uri": "https://localhost:8080/",
          "height": 284
        },
        "id": "NwoYeBMQJQ3I",
        "outputId": "8e0fd2d3-77fd-4f2b-d100-943aa3dd67d4"
      },
      "execution_count": null,
      "outputs": [
        {
          "output_type": "execute_result",
          "data": {
            "text/plain": [
              "<AxesSubplot:>"
            ]
          },
          "metadata": {},
          "execution_count": 54
        },
        {
          "output_type": "display_data",
          "data": {
            "text/plain": [
              "<Figure size 432x288 with 1 Axes>"
            ],
            "image/png": "[encoded data removed]"
          },
          "metadata": {
            "needs_background": "light"
          }
        }
      ]
    },
    {
      "cell_type": "code",
      "source": [
        "ipo_df_cont.boxplot(column = ['S1_prime', 'S2_prime', 'S3_prime'])"
      ],
      "metadata": {
        "colab": {
          "base_uri": "https://localhost:8080/",
          "height": 284
        },
        "id": "0NNsvxQYJRYF",
        "outputId": "11b2e662-f650-4e76-bdcb-1cca67683199"
      },
      "execution_count": null,
      "outputs": [
        {
          "output_type": "execute_result",
          "data": {
            "text/plain": [
              "<AxesSubplot:>"
            ]
          },
          "metadata": {},
          "execution_count": 55
        },
        {
          "output_type": "display_data",
          "data": {
            "text/plain": [
              "<Figure size 432x288 with 1 Axes>"
            ],
            "image/png": "[encoded data removed]"
          },
          "metadata": {
            "needs_background": "light"
          }
        }
      ]
    },
    {
      "cell_type": "code",
      "source": [
        "ipo_df_cat.hist()"
      ],
      "metadata": {
        "colab": {
          "base_uri": "https://localhost:8080/",
          "height": 410
        },
        "id": "Buu4Hr1qJaBV",
        "outputId": "93b3032a-73f1-41cd-80c5-29a2f2693f6f"
      },
      "execution_count": null,
      "outputs": [
        {
          "output_type": "execute_result",
          "data": {
            "text/plain": [
              "array([[<AxesSubplot:title={'center':'std_industry_classifier'}>,\n",
              "        <AxesSubplot:title={'center':'top_tier_dummy'}>],\n",
              "       [<AxesSubplot:title={'center':'Manufacturing'}>,\n",
              "        <AxesSubplot:title={'center':'Services'}>],\n",
              "       [<AxesSubplot:title={'center':'Other'}>,\n",
              "        <AxesSubplot:title={'center':'Positive_EPS_Dummy'}>]],\n",
              "      dtype=object)"
            ]
          },
          "metadata": {},
          "execution_count": 56
        },
        {
          "output_type": "display_data",
          "data": {
            "text/plain": [
              "<Figure size 432x288 with 6 Axes>"
            ],
            "image/png": "[encoded data removed]"
          },
          "metadata": {
            "needs_background": "light"
          }
        }
      ]
    },
    {
      "cell_type": "code",
      "source": [
        "ipo_df_target.boxplot(column = 'Pre_IPO_Price_Revision')"
      ],
      "metadata": {
        "colab": {
          "base_uri": "https://localhost:8080/",
          "height": 284
        },
        "id": "tfGyUI2SJUQV",
        "outputId": "e8ee7a09-69d1-4987-e310-603bb629b39c"
      },
      "execution_count": null,
      "outputs": [
        {
          "output_type": "execute_result",
          "data": {
            "text/plain": [
              "<AxesSubplot:>"
            ]
          },
          "metadata": {},
          "execution_count": 57
        },
        {
          "output_type": "display_data",
          "data": {
            "text/plain": [
              "<Figure size 432x288 with 1 Axes>"
            ],
            "image/png": "[encoded data removed]"
          },
          "metadata": {
            "needs_background": "light"
          }
        }
      ]
    },
    {
      "cell_type": "code",
      "source": [
        "ipo_df_target.boxplot(column = 'Post_IPO_Initial_Return')"
      ],
      "metadata": {
        "colab": {
          "base_uri": "https://localhost:8080/",
          "height": 284
        },
        "id": "6H9k0CBIJXo_",
        "outputId": "24fb1a5c-8466-4105-ba5e-0dfc8731026d"
      },
      "execution_count": null,
      "outputs": [
        {
          "output_type": "execute_result",
          "data": {
            "text/plain": [
              "<AxesSubplot:>"
            ]
          },
          "metadata": {},
          "execution_count": 58
        },
        {
          "output_type": "display_data",
          "data": {
            "text/plain": [
              "<Figure size 432x288 with 1 Axes>"
            ],
            "image/png": "[encoded data removed]"
          },
          "metadata": {
            "needs_background": "light"
          }
        }
      ]
    },
    {
      "cell_type": "code",
      "source": [
        "# Log transformation of 'days'\n",
        "days_log = np.log(ipo_df['days'])\n",
        "days_log.skew()"
      ],
      "metadata": {
        "colab": {
          "base_uri": "https://localhost:8080/"
        },
        "id": "bd5qqoM_Kb_k",
        "outputId": "e9820470-a4f6-421b-80e2-d7fe446c3f64"
      },
      "execution_count": null,
      "outputs": [
        {
          "output_type": "execute_result",
          "data": {
            "text/plain": [
              "0.13206924296483574"
            ]
          },
          "metadata": {},
          "execution_count": 59
        }
      ]
    },
    {
      "cell_type": "code",
      "source": [
        "# Log Transformation of 'sales'\n",
        "sales_abs = ipo_df_cont['sales'] + abs(ipo_df_cont['sales'].min()) +1\n",
        "sales_log = np.log(sales_abs)\n",
        "sales_log.skew()"
      ],
      "metadata": {
        "colab": {
          "base_uri": "https://localhost:8080/"
        },
        "id": "-S5dIw15K9Oa",
        "outputId": "bfc13f2f-68d5-4611-dbd6-b2b159e2b993"
      },
      "execution_count": null,
      "outputs": [
        {
          "output_type": "execute_result",
          "data": {
            "text/plain": [
              "-0.8044187468055405"
            ]
          },
          "metadata": {},
          "execution_count": 60
        }
      ]
    },
    {
      "cell_type": "code",
      "source": [
        "# Log Transformation of C6 prime - 'Up_Revision'\n",
        "up_one = ipo_df_cont['Up_Revision'] + 1\n",
        "up_log = np.log(up_one)\n",
        "up_log.skew()"
      ],
      "metadata": {
        "colab": {
          "base_uri": "https://localhost:8080/"
        },
        "id": "6GQ9SM0RLtK0",
        "outputId": "a86ffde8-5071-4a48-e772-cc8fce7fc47d"
      },
      "execution_count": null,
      "outputs": [
        {
          "output_type": "execute_result",
          "data": {
            "text/plain": [
              "0.6436265932144004"
            ]
          },
          "metadata": {},
          "execution_count": 61
        }
      ]
    },
    {
      "cell_type": "code",
      "source": [
        "# to merge OHE and Process\n",
        "ipo_df_merge = pd.concat([ipo_df_target, ipo_df_cat, ipo_df_cont], axis =1) \n",
        "ipo_df_merge.head()"
      ],
      "metadata": {
        "colab": {
          "base_uri": "https://localhost:8080/",
          "height": 270
        },
        "id": "WpjgSDoRPg1r",
        "outputId": "c17f3892-a527-454a-af6e-a4634a129eb8"
      },
      "execution_count": null,
      "outputs": [
        {
          "output_type": "execute_result",
          "data": {
            "text/plain": [
              "   Pre_IPO_Price_Revision  Post_IPO_Initial_Return  std_industry_classifier  \\\n",
              "0                       0                        1                        1   \n",
              "1                       1                        0                        1   \n",
              "2                       1                        0                        1   \n",
              "3                       1                        1                        1   \n",
              "4                       0                        1                        3   \n",
              "\n",
              "   top_tier_dummy  Manufacturing  Services  Other  Positive_EPS_Dummy   days  \\\n",
              "0             1.0              1         0      0                   1  122.0   \n",
              "1             0.0              1         0      0                   0  259.0   \n",
              "2             1.0              1         0      0                   0   90.0   \n",
              "3             1.0              1         0      0                   0  209.0   \n",
              "4             1.0              0         0      1                   1   80.0   \n",
              "\n",
              "   prior_nasdaq_15day_returns    sales  Share_Overhang  Up_Revision  T1_prime  \\\n",
              "0                    0.029074   51.345        3.864345    11.111111  0.640426   \n",
              "1                   -0.013352   25.936        7.868826     0.000000  0.644753   \n",
              "2                    0.020715    7.378        3.369134     0.000000  0.636816   \n",
              "3                    0.020023    8.526        3.299697     0.000000  0.539634   \n",
              "4                   -0.034895  632.298        3.726269     5.000000  0.587413   \n",
              "\n",
              "   T2_prime  T3_prime  S1_prime  S2_prime  S3_prime  \n",
              "0  0.054250  0.908876  0.004875  0.009199  0.010929  \n",
              "1  0.051395  0.898724  0.003258  0.011105  0.010876  \n",
              "2  0.061764  0.909350  0.009440  0.006271  0.011403  \n",
              "3  0.061630  0.917060  0.009440  0.007144  0.013319  \n",
              "4  0.048550  0.888469  0.004518  0.010047  0.011261  "
            ],
            "text/html": [
              "\n",
              "  <div id=\"df-8835f5aa-e498-4254-92be-fa4f20ec760d\">\n",
              "    <div class=\"colab-df-container\">\n",
              "      <div>\n",
              "<style scoped>\n",
              "    .dataframe tbody tr th:only-of-type {\n",
              "        vertical-align: middle;\n",
              "    }\n",
              "\n",
              "    .dataframe tbody tr th {\n",
              "        vertical-align: top;\n",
              "    }\n",
              "\n",
              "    .dataframe thead th {\n",
              "        text-align: right;\n",
              "    }\n",
              "</style>\n",
              "<table border=\"1\" class=\"dataframe\">\n",
              "  <thead>\n",
              "    <tr style=\"text-align: right;\">\n",
              "      <th></th>\n",
              "      <th>Pre_IPO_Price_Revision</th>\n",
              "      <th>Post_IPO_Initial_Return</th>\n",
              "      <th>std_industry_classifier</th>\n",
              "      <th>top_tier_dummy</th>\n",
              "      <th>Manufacturing</th>\n",
              "      <th>Services</th>\n",
              "      <th>Other</th>\n",
              "      <th>Positive_EPS_Dummy</th>\n",
              "      <th>days</th>\n",
              "      <th>prior_nasdaq_15day_returns</th>\n",
              "      <th>sales</th>\n",
              "      <th>Share_Overhang</th>\n",
              "      <th>Up_Revision</th>\n",
              "      <th>T1_prime</th>\n",
              "      <th>T2_prime</th>\n",
              "      <th>T3_prime</th>\n",
              "      <th>S1_prime</th>\n",
              "      <th>S2_prime</th>\n",
              "      <th>S3_prime</th>\n",
              "    </tr>\n",
              "  </thead>\n",
              "  <tbody>\n",
              "    <tr>\n",
              "      <th>0</th>\n",
              "      <td>0</td>\n",
              "      <td>1</td>\n",
              "      <td>1</td>\n",
              "      <td>1.0</td>\n",
              "      <td>1</td>\n",
              "      <td>0</td>\n",
              "      <td>0</td>\n",
              "      <td>1</td>\n",
              "      <td>122.0</td>\n",
              "      <td>0.029074</td>\n",
              "      <td>51.345</td>\n",
              "      <td>3.864345</td>\n",
              "      <td>11.111111</td>\n",
              "      <td>0.640426</td>\n",
              "      <td>0.054250</td>\n",
              "      <td>0.908876</td>\n",
              "      <td>0.004875</td>\n",
              "      <td>0.009199</td>\n",
              "      <td>0.010929</td>\n",
              "    </tr>\n",
              "    <tr>\n",
              "      <th>1</th>\n",
              "      <td>1</td>\n",
              "      <td>0</td>\n",
              "      <td>1</td>\n",
              "      <td>0.0</td>\n",
              "      <td>1</td>\n",
              "      <td>0</td>\n",
              "      <td>0</td>\n",
              "      <td>0</td>\n",
              "      <td>259.0</td>\n",
              "      <td>-0.013352</td>\n",
              "      <td>25.936</td>\n",
              "      <td>7.868826</td>\n",
              "      <td>0.000000</td>\n",
              "      <td>0.644753</td>\n",
              "      <td>0.051395</td>\n",
              "      <td>0.898724</td>\n",
              "      <td>0.003258</td>\n",
              "      <td>0.011105</td>\n",
              "      <td>0.010876</td>\n",
              "    </tr>\n",
              "    <tr>\n",
              "      <th>2</th>\n",
              "      <td>1</td>\n",
              "      <td>0</td>\n",
              "      <td>1</td>\n",
              "      <td>1.0</td>\n",
              "      <td>1</td>\n",
              "      <td>0</td>\n",
              "      <td>0</td>\n",
              "      <td>0</td>\n",
              "      <td>90.0</td>\n",
              "      <td>0.020715</td>\n",
              "      <td>7.378</td>\n",
              "      <td>3.369134</td>\n",
              "      <td>0.000000</td>\n",
              "      <td>0.636816</td>\n",
              "      <td>0.061764</td>\n",
              "      <td>0.909350</td>\n",
              "      <td>0.009440</td>\n",
              "      <td>0.006271</td>\n",
              "      <td>0.011403</td>\n",
              "    </tr>\n",
              "    <tr>\n",
              "      <th>3</th>\n",
              "      <td>1</td>\n",
              "      <td>1</td>\n",
              "      <td>1</td>\n",
              "      <td>1.0</td>\n",
              "      <td>1</td>\n",
              "      <td>0</td>\n",
              "      <td>0</td>\n",
              "      <td>0</td>\n",
              "      <td>209.0</td>\n",
              "      <td>0.020023</td>\n",
              "      <td>8.526</td>\n",
              "      <td>3.299697</td>\n",
              "      <td>0.000000</td>\n",
              "      <td>0.539634</td>\n",
              "      <td>0.061630</td>\n",
              "      <td>0.917060</td>\n",
              "      <td>0.009440</td>\n",
              "      <td>0.007144</td>\n",
              "      <td>0.013319</td>\n",
              "    </tr>\n",
              "    <tr>\n",
              "      <th>4</th>\n",
              "      <td>0</td>\n",
              "      <td>1</td>\n",
              "      <td>3</td>\n",
              "      <td>1.0</td>\n",
              "      <td>0</td>\n",
              "      <td>0</td>\n",
              "      <td>1</td>\n",
              "      <td>1</td>\n",
              "      <td>80.0</td>\n",
              "      <td>-0.034895</td>\n",
              "      <td>632.298</td>\n",
              "      <td>3.726269</td>\n",
              "      <td>5.000000</td>\n",
              "      <td>0.587413</td>\n",
              "      <td>0.048550</td>\n",
              "      <td>0.888469</td>\n",
              "      <td>0.004518</td>\n",
              "      <td>0.010047</td>\n",
              "      <td>0.011261</td>\n",
              "    </tr>\n",
              "  </tbody>\n",
              "</table>\n",
              "</div>\n",
              "      <button class=\"colab-df-convert\" onclick=\"convertToInteractive('df-8835f5aa-e498-4254-92be-fa4f20ec760d')\"\n",
              "              title=\"Convert this dataframe to an interactive table.\"\n",
              "              style=\"display:none;\">\n",
              "        \n",
              "  <svg xmlns=\"http://www.w3.org/2000/svg\" height=\"24px\"viewBox=\"0 0 24 24\"\n",
              "       width=\"24px\">\n",
              "    <path d=\"M0 0h24v24H0V0z\" fill=\"none\"/>\n",
              "    <path d=\"M18.56 5.44l.94 2.06.94-2.06 2.06-.94-2.06-.94-.94-2.06-.94 2.06-2.06.94zm-11 1L8.5 8.5l.94-2.06 2.06-.94-2.06-.94L8.5 2.5l-.94 2.06-2.06.94zm10 10l.94 2.06.94-2.06 2.06-.94-2.06-.94-.94-2.06-.94 2.06-2.06.94z\"/><path d=\"M17.41 7.96l-1.37-1.37c-.4-.4-.92-.59-1.43-.59-.52 0-1.04.2-1.43.59L10.3 9.45l-7.72 7.72c-.78.78-.78 2.05 0 2.83L4 21.41c.39.39.9.59 1.41.59.51 0 1.02-.2 1.41-.59l7.78-7.78 2.81-2.81c.8-.78.8-2.07 0-2.86zM5.41 20L4 18.59l7.72-7.72 1.47 1.35L5.41 20z\"/>\n",
              "  </svg>\n",
              "      </button>\n",
              "      \n",
              "  <style>\n",
              "    .colab-df-container {\n",
              "      display:flex;\n",
              "      flex-wrap:wrap;\n",
              "      gap: 12px;\n",
              "    }\n",
              "\n",
              "    .colab-df-convert {\n",
              "      background-color: #E8F0FE;\n",
              "      border: none;\n",
              "      border-radius: 50%;\n",
              "      cursor: pointer;\n",
              "      display: none;\n",
              "      fill: #1967D2;\n",
              "      height: 32px;\n",
              "      padding: 0 0 0 0;\n",
              "      width: 32px;\n",
              "    }\n",
              "\n",
              "    .colab-df-convert:hover {\n",
              "      background-color: #E2EBFA;\n",
              "      box-shadow: 0px 1px 2px rgba(60, 64, 67, 0.3), 0px 1px 3px 1px rgba(60, 64, 67, 0.15);\n",
              "      fill: #174EA6;\n",
              "    }\n",
              "\n",
              "    [theme=dark] .colab-df-convert {\n",
              "      background-color: #3B4455;\n",
              "      fill: #D2E3FC;\n",
              "    }\n",
              "\n",
              "    [theme=dark] .colab-df-convert:hover {\n",
              "      background-color: #434B5C;\n",
              "      box-shadow: 0px 1px 3px 1px rgba(0, 0, 0, 0.15);\n",
              "      filter: drop-shadow(0px 1px 2px rgba(0, 0, 0, 0.3));\n",
              "      fill: #FFFFFF;\n",
              "    }\n",
              "  </style>\n",
              "\n",
              "      <script>\n",
              "        const buttonEl =\n",
              "          document.querySelector('#df-8835f5aa-e498-4254-92be-fa4f20ec760d button.colab-df-convert');\n",
              "        buttonEl.style.display =\n",
              "          google.colab.kernel.accessAllowed ? 'block' : 'none';\n",
              "\n",
              "        async function convertToInteractive(key) {\n",
              "          const element = document.querySelector('#df-8835f5aa-e498-4254-92be-fa4f20ec760d');\n",
              "          const dataTable =\n",
              "            await google.colab.kernel.invokeFunction('convertToInteractive',\n",
              "                                                     [key], {});\n",
              "          if (!dataTable) return;\n",
              "\n",
              "          const docLinkHtml = 'Like what you see? Visit the ' +\n",
              "            '<a target=\"_blank\" href=https://colab.research.google.com/notebooks/data_table.ipynb>data table notebook</a>'\n",
              "            + ' to learn more about interactive tables.';\n",
              "          element.innerHTML = '';\n",
              "          dataTable['output_type'] = 'display_data';\n",
              "          await google.colab.output.renderOutput(dataTable, element);\n",
              "          const docLink = document.createElement('div');\n",
              "          docLink.innerHTML = docLinkHtml;\n",
              "          element.appendChild(docLink);\n",
              "        }\n",
              "      </script>\n",
              "    </div>\n",
              "  </div>\n",
              "  "
            ]
          },
          "metadata": {},
          "execution_count": 62
        }
      ]
    },
    {
      "cell_type": "code",
      "source": [
        "ipo_df_merge.shape"
      ],
      "metadata": {
        "colab": {
          "base_uri": "https://localhost:8080/"
        },
        "id": "JldweZ3JgxA8",
        "outputId": "7170b4df-e7ee-47b2-cb50-a05d53ea175c"
      },
      "execution_count": null,
      "outputs": [
        {
          "output_type": "execute_result",
          "data": {
            "text/plain": [
              "(660, 19)"
            ]
          },
          "metadata": {},
          "execution_count": 63
        }
      ]
    },
    {
      "cell_type": "code",
      "source": [
        "#Pearson Correlation\n",
        "plt.figure(figsize=(12,12))\n",
        "cor = ipo_df_merge.corr()\n",
        "sns.heatmap(cor, annot=True, cmap=plt.cm.Reds)\n",
        "#plt.show()"
      ],
      "metadata": {
        "colab": {
          "base_uri": "https://localhost:8080/",
          "height": 854
        },
        "id": "dk1tmgLUC9Z4",
        "outputId": "908c3f4c-9c20-4a3a-9f69-2cbaa375f886"
      },
      "execution_count": null,
      "outputs": [
        {
          "output_type": "execute_result",
          "data": {
            "text/plain": [
              "<AxesSubplot:>"
            ]
          },
          "metadata": {},
          "execution_count": 64
        },
        {
          "output_type": "display_data",
          "data": {
            "text/plain": [
              "<Figure size 864x864 with 2 Axes>"
            ],
            "image/png": "[encoded data removed]"
          },
          "metadata": {
            "needs_background": "light"
          }
        }
      ]
    },
    {
      "cell_type": "markdown",
      "source": [
        "# Feature Selection Y1"
      ],
      "metadata": {
        "id": "6PN5MX7IdA64"
      }
    },
    {
      "cell_type": "code",
      "source": [
        "X = pd.concat([ipo_df_cont2, ipo_df_cat, ipo_df_target], axis =1).values"
      ],
      "metadata": {
        "id": "_WVWjKLG9VwU"
      },
      "execution_count": null,
      "outputs": []
    },
    {
      "cell_type": "code",
      "source": [
        "y = ipo_df_target['Pre_IPO_Price_Revision'].values"
      ],
      "metadata": {
        "id": "zrNRZSSrAkEk"
      },
      "execution_count": null,
      "outputs": []
    },
    {
      "cell_type": "code",
      "source": [
        "# Import the necessary libraries first\n",
        "#### Correlation method - for classification chi2 only\n",
        "from sklearn.feature_selection import SelectKBest\n",
        "from sklearn.feature_selection import chi2, f_classif\n",
        "#### RFE method - replace the model with the model you plan to use\n",
        "from sklearn.feature_selection import RFE\n",
        "# from sklearn.linear_model import LogisticRegression\n",
        "#### feature importance method\n",
        "#### this method can be used for both topK and cut-off\n",
        "from sklearn.linear_model import Ridge\n",
        "#### specifically tree-based feature importance method\n",
        "from sklearn.ensemble import RandomForestClassifier, ExtraTreesClassifier\n",
        "#### for voting\n",
        "from collections import Counter\n",
        "#### for ANOVA\n",
        "import statsmodels.formula.api as smf\n",
        "import statsmodels.stats.api as sms"
      ],
      "metadata": {
        "id": "O5aypXYpokBl"
      },
      "execution_count": null,
      "outputs": []
    },
    {
      "cell_type": "code",
      "source": [
        "names = list(pd.concat([ipo_df_cont2, ipo_df_cat, ipo_df_target], axis =1).columns)\n",
        "names"
      ],
      "metadata": {
        "colab": {
          "base_uri": "https://localhost:8080/"
        },
        "id": "pQJ0CrMl3FUs",
        "outputId": "b6dfd296-6cf6-45d7-fca2-14e7d43fbe75"
      },
      "execution_count": null,
      "outputs": [
        {
          "output_type": "execute_result",
          "data": {
            "text/plain": [
              "['days',\n",
              " 'prior_nasdaq_15day_returns',\n",
              " 'sales',\n",
              " 'Share_Overhang',\n",
              " 'T1_prime',\n",
              " 'T2_prime',\n",
              " 'T3_prime',\n",
              " 'S1_prime',\n",
              " 'S2_prime',\n",
              " 'S3_prime',\n",
              " 'std_industry_classifier',\n",
              " 'top_tier_dummy',\n",
              " 'Manufacturing',\n",
              " 'Services',\n",
              " 'Other',\n",
              " 'Positive_EPS_Dummy',\n",
              " 'Pre_IPO_Price_Revision',\n",
              " 'Post_IPO_Initial_Return']"
            ]
          },
          "metadata": {},
          "execution_count": 68
        }
      ]
    },
    {
      "cell_type": "code",
      "source": [
        "def feature_selector(X, y, model, names, _method=\"topk\", n=int(6), fit_X=False, thres = 0.1):\n",
        "  \"\"\"voting based feature selector\n",
        "  - _method: \"topk\" for top-K method (default), \"cutoff\" for cut-off based method\n",
        "  - n: number of features to be selected. only available for top-K method - default half of the total features\n",
        "  - thres: cut-off threshold (default 0.1), only availabel for cutoff method\n",
        "  - fit_X: fit_transform X or just return indices\n",
        "  TODO: include support for regression problems\n",
        "  \"\"\"\n",
        "  #### Placeholder for tests\n",
        "  # X.shape[0] == y.shape[0]\n",
        "  if names: # if given feature names\n",
        "    feature_names = np.array(names)\n",
        "  else: # otherwise use location\n",
        "    feature_names = np.array([\"X%s\" % x for x in range(len(X.shape[0]))])\n",
        "  if _method == 'topk':\n",
        "    #### np.argpartition gets the indices of the largest n element from the array in ascending order\n",
        "    #### [::-1] reverse the order\n",
        "    ############################################################################\n",
        "    #### IMPORTANT: \n",
        "    #### use `chi2` as the `score_func` when doing categorical features - values has to be non-negative\n",
        "    #### use `f_classif` as the `score_func` when doing categorical and continuous feautures\n",
        "    #### use `f_regression` as the `score_func` when doing continuous feautures\n",
        "    ############################################################################\n",
        "    corr_features = list(np.argpartition(SelectKBest(score_func=f_classif, k=n).fit(X,y).scores_, -n)[-n:][::-1])\n",
        "    #### binary masking on features, use np.where() to get the indices of selected\n",
        "    rfe_features = list(np.where(RFE(model, n_features_to_select=n, step=1).fit(X, y).support_)[0])\n",
        "    #### argsort get sorted indices by values, ::-1] reverse the asceding order\n",
        "    ridge_features = list(np.argsort(Ridge(alpha=1.0).fit(X, y).coef_)[-n:][::-1])\n",
        "    #### using ExtraTree\n",
        "    extratree_features = list(np.argsort(ExtraTreesClassifier().fit(X, y).feature_importances_)[-n:][::-1])\n",
        "    ### using Random Forest:\n",
        "    rf_features = list(np.argsort(RandomForestClassifier().fit(X, y).feature_importances_)[-n:][::-1])\n",
        "    print(\"Using the Top-K method: \")\n",
        "    print(\"Selected features by correlation: \", feature_names[corr_features])\n",
        "    print(\"Selected features by RFE: \", feature_names[rfe_features])\n",
        "    print(\"Selected features by Ridge coefficients: \", feature_names[ridge_features])\n",
        "    print(\"Selected features by Extra Tree feature importance: \", feature_names[extratree_features])\n",
        "    print(\"Selected features by Random Forest feature importance: \", feature_names[rf_features])\n",
        "\n",
        "  elif _method == 'cutoff':\n",
        "    corr_features, rfe_features = list(), list() #### N/A\n",
        "    ridge_features = list(np.where(Ridge(alpha=1.0).fit(X, y).coef_ > thres)[0])\n",
        "    extratree_features = list(np.where(ExtraTreesClassifier().fit(X, y).feature_importances_ > thres)[0])\n",
        "    rf_features = list(np.where(RandomForestClassifier().fit(X, y).feature_importances_ > thres)[0])\n",
        "    print(\"Using the Cutoff method: \")\n",
        "    # print(\"Selected features by correlation: \", feature_names[corr_features])\n",
        "    # print(\"Selected features by RFE: \", feature_names[rfe_features])\n",
        "    print(\"Selected features by Ridge coefficients: \", feature_names[ridge_features])\n",
        "    print(\"Selected features by Extra Tree feature importance: \", feature_names[extratree_features])\n",
        "    print(\"Selected features by Random Forest feature importance: \", feature_names[rf_features])\n",
        "  else:\n",
        "    return(\"Only Top-K and Cutoff methods are currently supported!\")\n",
        "\n",
        "  ######################################\n",
        "  #### combine results using voting ####\n",
        "  ######################################\n",
        "  counted = Counter(np.concatenate((corr_features, rfe_features, ridge_features, extratree_features, rf_features), axis=None)).most_common(n)\n",
        "\n",
        "  #### list of tuples (feature_index, votes)\n",
        "  counted.sort(key = lambda x: x[1], reverse=True)\n",
        "  final_select_series = pd.Series({feature_names[f]:c for f,c in counted}).sort_values(ascending=False)\n",
        "  selected_idx = sorted([f for f,c in counted])\n",
        "  assert len(selected_idx) == n\n",
        "  print(final_select_series)\n",
        "  if fit_X:\n",
        "    return(X[:,selected_idx])\n",
        "  else:\n",
        "    return(feature_names[selected_idx])"
      ],
      "metadata": {
        "id": "lGnkQV7XfCJA"
      },
      "execution_count": null,
      "outputs": []
    },
    {
      "cell_type": "code",
      "source": [
        "selected_features1 = feature_selector(X, y, model=RandomForestClassifier(), names=names, fit_X=False)\n",
        "selected_features1"
      ],
      "metadata": {
        "colab": {
          "base_uri": "https://localhost:8080/"
        },
        "id": "EKm93iph9R47",
        "outputId": "87f9cedf-b48b-4f93-c1c1-c8896a2eb1b2"
      },
      "execution_count": null,
      "outputs": [
        {
          "output_type": "stream",
          "name": "stderr",
          "text": [
            "/usr/local/lib/python3.8/dist-packages/sklearn/feature_selection/_univariate_selection.py:113: RuntimeWarning: divide by zero encountered in true_divide\n",
            "  f = msb / msw\n"
          ]
        },
        {
          "output_type": "stream",
          "name": "stdout",
          "text": [
            "Using the Top-K method: \n",
            "Selected features by correlation:  ['Post_IPO_Initial_Return' 'Pre_IPO_Price_Revision' 'S2_prime'\n",
            " 'Positive_EPS_Dummy' 'T2_prime' 'S1_prime']\n",
            "Selected features by RFE:  ['sales' 'T2_prime' 'T3_prime' 'S2_prime' 'Pre_IPO_Price_Revision'\n",
            " 'Post_IPO_Initial_Return']\n",
            "Selected features by Ridge coefficients:  ['Pre_IPO_Price_Revision' 'T1_prime' 'T2_prime' 'T3_prime' 'S2_prime'\n",
            " 'S1_prime']\n",
            "Selected features by Extra Tree feature importance:  ['Pre_IPO_Price_Revision' 'Post_IPO_Initial_Return' 'S2_prime' 'T2_prime'\n",
            " 'Positive_EPS_Dummy' 'S1_prime']\n",
            "Selected features by Random Forest feature importance:  ['Pre_IPO_Price_Revision' 'S2_prime' 'Post_IPO_Initial_Return' 'sales'\n",
            " 'T2_prime' 'prior_nasdaq_15day_returns']\n",
            "Pre_IPO_Price_Revision     5\n",
            "S2_prime                   5\n",
            "T2_prime                   5\n",
            "Post_IPO_Initial_Return    4\n",
            "S1_prime                   3\n",
            "Positive_EPS_Dummy         2\n",
            "dtype: int64\n"
          ]
        },
        {
          "output_type": "execute_result",
          "data": {
            "text/plain": [
              "array(['T2_prime', 'S1_prime', 'S2_prime', 'Positive_EPS_Dummy',\n",
              "       'Pre_IPO_Price_Revision', 'Post_IPO_Initial_Return'], dtype='<U26')"
            ]
          },
          "metadata": {},
          "execution_count": 70
        }
      ]
    },
    {
      "cell_type": "code",
      "source": [
        "X1 = pd.DataFrame(data = X, columns = names)"
      ],
      "metadata": {
        "id": "-1MkGMZN3Xp0"
      },
      "execution_count": null,
      "outputs": []
    },
    {
      "cell_type": "code",
      "source": [
        "process_3A = X1.loc[:, selected_features1]"
      ],
      "metadata": {
        "id": "hyaY11K8obgR"
      },
      "execution_count": null,
      "outputs": []
    },
    {
      "cell_type": "code",
      "source": [
        "# save this as a CSV\n",
        "process_3A.to_csv('Process 3A.csv', sep=',')"
      ],
      "metadata": {
        "id": "hRehf7TgodMN"
      },
      "execution_count": null,
      "outputs": []
    },
    {
      "cell_type": "markdown",
      "source": [
        "# Feature Selection Y2"
      ],
      "metadata": {
        "id": "Q1fYmt5YpNdx"
      }
    },
    {
      "cell_type": "code",
      "source": [
        "X = pd.concat([ipo_df_cont, ipo_df_cat, ipo_df_target], axis =1).values"
      ],
      "metadata": {
        "id": "Ppi_3B94pTos"
      },
      "execution_count": null,
      "outputs": []
    },
    {
      "cell_type": "code",
      "source": [
        "y2 = ipo_df_target['Post_IPO_Initial_Return'].values"
      ],
      "metadata": {
        "id": "uo-g5y_ypWE-"
      },
      "execution_count": null,
      "outputs": []
    },
    {
      "cell_type": "code",
      "source": [
        "names = list(pd.concat([ipo_df_cont, ipo_df_cat, ipo_df_target], axis =1).columns)\n",
        "names"
      ],
      "metadata": {
        "colab": {
          "base_uri": "https://localhost:8080/"
        },
        "id": "IadZqsnhpZJf",
        "outputId": "ee868c24-3d19-46ed-d77b-7719622ad912"
      },
      "execution_count": null,
      "outputs": [
        {
          "output_type": "execute_result",
          "data": {
            "text/plain": [
              "['days',\n",
              " 'prior_nasdaq_15day_returns',\n",
              " 'sales',\n",
              " 'Share_Overhang',\n",
              " 'Up_Revision',\n",
              " 'T1_prime',\n",
              " 'T2_prime',\n",
              " 'T3_prime',\n",
              " 'S1_prime',\n",
              " 'S2_prime',\n",
              " 'S3_prime',\n",
              " 'std_industry_classifier',\n",
              " 'top_tier_dummy',\n",
              " 'Manufacturing',\n",
              " 'Services',\n",
              " 'Other',\n",
              " 'Positive_EPS_Dummy',\n",
              " 'Pre_IPO_Price_Revision',\n",
              " 'Post_IPO_Initial_Return']"
            ]
          },
          "metadata": {},
          "execution_count": 76
        }
      ]
    },
    {
      "cell_type": "code",
      "source": [
        "def feature_selector(X, y2, model, names, _method=\"topk\", n=int(6), fit_X=False, thres = 0.1):\n",
        "  \"\"\"voting based feature selector\n",
        "  - _method: \"topk\" for top-K method (default), \"cutoff\" for cut-off based method\n",
        "  - n: number of features to be selected. only available for top-K method - default half of the total features\n",
        "  - thres: cut-off threshold (default 0.1), only availabel for cutoff method\n",
        "  - fit_X: fit_transform X or just return indices\n",
        "  TODO: include support for regression problems\n",
        "  \"\"\"\n",
        "  #### Placeholder for tests\n",
        "  # X.shape[0] == y.shape[0]\n",
        "  if names: # if given feature names\n",
        "    feature_names = np.array(names)\n",
        "  else: # otherwise use location\n",
        "    feature_names = np.array([\"X%s\" % x for x in range(len(X.shape[0]))])\n",
        "  if _method == 'topk':\n",
        "    #### np.argpartition gets the indices of the largest n element from the array in ascending order\n",
        "    #### [::-1] reverse the order\n",
        "    ############################################################################\n",
        "    #### IMPORTANT: \n",
        "    #### use `chi2` as the `score_func` when doing categorical features - values has to be non-negative\n",
        "    #### use `f_classif` as the `score_func` when doing categorical and continuous feautures\n",
        "    #### use `f_regression` as the `score_func` when doing continuous feautures\n",
        "    ############################################################################\n",
        "    corr_features = list(np.argpartition(SelectKBest(score_func=f_classif, k=n).fit(X,y).scores_, -n)[-n:][::-1])\n",
        "    #### binary masking on features, use np.where() to get the indices of selected\n",
        "    rfe_features = list(np.where(RFE(model, n_features_to_select=n, step=1).fit(X, y).support_)[0])\n",
        "    #### argsort get sorted indices by values, ::-1] reverse the asceding order\n",
        "    ridge_features = list(np.argsort(Ridge(alpha=1.0).fit(X, y).coef_)[-n:][::-1])\n",
        "    #### using ExtraTree\n",
        "    extratree_features = list(np.argsort(ExtraTreesClassifier().fit(X, y).feature_importances_)[-n:][::-1])\n",
        "    ### using Random Forest:\n",
        "    rf_features = list(np.argsort(RandomForestClassifier().fit(X, y).feature_importances_)[-n:][::-1])\n",
        "    print(\"Using the Top-K method: \")\n",
        "    print(\"Selected features by correlation: \", feature_names[corr_features])\n",
        "    print(\"Selected features by RFE: \", feature_names[rfe_features])\n",
        "    print(\"Selected features by Ridge coefficients: \", feature_names[ridge_features])\n",
        "    print(\"Selected features by Extra Tree feature importance: \", feature_names[extratree_features])\n",
        "    print(\"Selected features by Random Forest feature importance: \", feature_names[rf_features])\n",
        "\n",
        "  elif _method == 'cutoff':\n",
        "    corr_features, rfe_features = list(), list() #### N/A\n",
        "    ridge_features = list(np.where(Ridge(alpha=1.0).fit(X, y).coef_ > thres)[0])\n",
        "    extratree_features = list(np.where(ExtraTreesClassifier().fit(X, y).feature_importances_ > thres)[0])\n",
        "    rf_features = list(np.where(RandomForestClassifier().fit(X, y).feature_importances_ > thres)[0])\n",
        "    print(\"Using the Cutoff method: \")\n",
        "    # print(\"Selected features by correlation: \", feature_names[corr_features])\n",
        "    # print(\"Selected features by RFE: \", feature_names[rfe_features])\n",
        "    print(\"Selected features by Ridge coefficients: \", feature_names[ridge_features])\n",
        "    print(\"Selected features by Extra Tree feature importance: \", feature_names[extratree_features])\n",
        "    print(\"Selected features by Random Forest feature importance: \", feature_names[rf_features])\n",
        "  else:\n",
        "    return(\"Only Top-K and Cutoff methods are currently supported!\")\n",
        "\n",
        "  ######################################\n",
        "  #### combine results using voting ####\n",
        "  ######################################\n",
        "  counted = Counter(np.concatenate((corr_features, rfe_features, ridge_features, extratree_features, rf_features), axis=None)).most_common(n)\n",
        "\n",
        "  #### list of tuples (feature_index, votes)\n",
        "  counted.sort(key = lambda x: x[1], reverse=True)\n",
        "  final_select_series = pd.Series({feature_names[f]:c for f,c in counted}).sort_values(ascending=False)\n",
        "  selected_idx = sorted([f for f,c in counted])\n",
        "  assert len(selected_idx) == n\n",
        "  print(final_select_series)\n",
        "  if fit_X:\n",
        "    return(X[:,selected_idx])\n",
        "  else:\n",
        "    return(feature_names[selected_idx])"
      ],
      "metadata": {
        "id": "-vye4MOV3a1-"
      },
      "execution_count": null,
      "outputs": []
    },
    {
      "cell_type": "code",
      "source": [
        "selected_features2 = feature_selector(X, y2, model=RandomForestClassifier(), names=names, fit_X=False)\n",
        "selected_features2"
      ],
      "metadata": {
        "id": "zbEC5aAvn3tI",
        "colab": {
          "base_uri": "https://localhost:8080/"
        },
        "outputId": "f1e2ba43-9084-4a07-a0be-ffa9135c759e"
      },
      "execution_count": null,
      "outputs": [
        {
          "output_type": "stream",
          "name": "stderr",
          "text": [
            "/usr/local/lib/python3.8/dist-packages/sklearn/feature_selection/_univariate_selection.py:113: RuntimeWarning: divide by zero encountered in true_divide\n",
            "  f = msb / msw\n"
          ]
        },
        {
          "output_type": "stream",
          "name": "stdout",
          "text": [
            "Using the Top-K method: \n",
            "Selected features by correlation:  ['Post_IPO_Initial_Return' 'Pre_IPO_Price_Revision' 'Up_Revision'\n",
            " 'S2_prime' 'T2_prime' 'T3_prime']\n",
            "Selected features by RFE:  ['sales' 'Up_Revision' 'T3_prime' 'S1_prime' 'S2_prime'\n",
            " 'Pre_IPO_Price_Revision']\n",
            "Selected features by Ridge coefficients:  ['Pre_IPO_Price_Revision' 'T3_prime' 'T1_prime' 'T2_prime' 'S2_prime'\n",
            " 'S1_prime']\n",
            "Selected features by Extra Tree feature importance:  ['Pre_IPO_Price_Revision' 'Up_Revision' 'Post_IPO_Initial_Return'\n",
            " 'S2_prime' 'T2_prime' 'Positive_EPS_Dummy']\n",
            "Selected features by Random Forest feature importance:  ['Pre_IPO_Price_Revision' 'Up_Revision' 'S2_prime'\n",
            " 'Post_IPO_Initial_Return' 'sales' 'T2_prime']\n",
            "Pre_IPO_Price_Revision     5\n",
            "S2_prime                   5\n",
            "Up_Revision                4\n",
            "T2_prime                   4\n",
            "Post_IPO_Initial_Return    3\n",
            "T3_prime                   3\n",
            "dtype: int64\n"
          ]
        },
        {
          "output_type": "execute_result",
          "data": {
            "text/plain": [
              "array(['Up_Revision', 'T2_prime', 'T3_prime', 'S2_prime',\n",
              "       'Pre_IPO_Price_Revision', 'Post_IPO_Initial_Return'], dtype='<U26')"
            ]
          },
          "metadata": {},
          "execution_count": 78
        }
      ]
    },
    {
      "cell_type": "code",
      "source": [
        "# converting array to data frame\n",
        "X2 = pd.DataFrame(data = X, columns = names)"
      ],
      "metadata": {
        "id": "Ivee22pk3i7C"
      },
      "execution_count": null,
      "outputs": []
    },
    {
      "cell_type": "code",
      "source": [
        "\n",
        "process_3A2 = X2.loc[:, selected_features2]"
      ],
      "metadata": {
        "id": "NNgFX2NexWLZ"
      },
      "execution_count": null,
      "outputs": []
    },
    {
      "cell_type": "code",
      "source": [
        "# save this as a CSV\n",
        "process_3A2.to_csv('Process 3A2.csv', sep=',')"
      ],
      "metadata": {
        "id": "T5apaUn4xXi1"
      },
      "execution_count": null,
      "outputs": []
    }
  ]
}